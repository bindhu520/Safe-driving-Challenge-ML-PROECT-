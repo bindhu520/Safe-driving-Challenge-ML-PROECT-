{
  "nbformat": 4,
  "nbformat_minor": 0,
  "metadata": {
    "colab": {
      "name": "MLAll.ipynb",
      "provenance": [],
      "include_colab_link": true
    },
    "kernelspec": {
      "name": "python3",
      "display_name": "Python 3"
    }
  },
  "cells": [
    {
      "cell_type": "markdown",
      "metadata": {
        "id": "view-in-github",
        "colab_type": "text"
      },
      "source": [
        "<a href=\"https://colab.research.google.com/github/bindhu520/Safe-driving-Challenge-ML-PROECT-/blob/master/MLAll.ipynb\" target=\"_parent\"><img src=\"https://colab.research.google.com/assets/colab-badge.svg\" alt=\"Open In Colab\"/></a>"
      ]
    },
    {
      "cell_type": "code",
      "metadata": {
        "id": "JO_PE5KPrYPv"
      },
      "source": [
        "import pandas as pd\n",
        "import numpy as np\n",
        "import matplotlib.pyplot as plt\n",
        "from sklearn.decomposition import PCA\n",
        "from sklearn import preprocessing\n",
        "from sklearn.linear_model import LogisticRegressionCV\n",
        "from sklearn.naive_bayes import GaussianNB\n",
        "from sklearn.ensemble import RandomForestClassifier\n",
        "from sklearn.metrics import confusion_matrix\n",
        "from sklearn.metrics import roc_auc_score\n",
        " \n",
        "from sklearn.svm import LinearSVC # Linear Support Vector Classigication\n",
        "from sklearn.svm import NuSVC\n",
        " \n",
        "from sklearn.model_selection import GridSearchCV, StratifiedKFold, train_test_split"
      ],
      "execution_count": null,
      "outputs": []
    },
    {
      "cell_type": "code",
      "metadata": {
        "id": "4wbOBzmysEdQ"
      },
      "source": [
        "train = pd.read_csv('/content/drive/My Drive/train.csv')\n",
        "test = pd.read_csv('/content/drive/My Drive/test.csv')\n",
        "exp = pd.read_csv('/content/drive/My Drive/example_submission.csv')"
      ],
      "execution_count": null,
      "outputs": []
    },
    {
      "cell_type": "code",
      "metadata": {
        "id": "k-gzxNVdtpbI",
        "colab": {
          "base_uri": "https://localhost:8080/",
          "height": 1000
        },
        "outputId": "e2ce815e-2866-467a-9528-1c020e0494b8"
      },
      "source": [
        "train.info()\n",
        "test.info()\n",
        "train.head()"
      ],
      "execution_count": null,
      "outputs": [
        {
          "output_type": "stream",
          "text": [
            "<class 'pandas.core.frame.DataFrame'>\n",
            "RangeIndex: 604329 entries, 0 to 604328\n",
            "Data columns (total 33 columns):\n",
            " #   Column   Non-Null Count   Dtype  \n",
            "---  ------   --------------   -----  \n",
            " 0   TrialID  604329 non-null  int64  \n",
            " 1   ObsNum   604329 non-null  int64  \n",
            " 2   IsAlert  604329 non-null  int64  \n",
            " 3   P1       604329 non-null  float64\n",
            " 4   P2       604329 non-null  float64\n",
            " 5   P3       604329 non-null  int64  \n",
            " 6   P4       604329 non-null  float64\n",
            " 7   P5       604329 non-null  float64\n",
            " 8   P6       604329 non-null  int64  \n",
            " 9   P7       604329 non-null  float64\n",
            " 10  P8       604329 non-null  int64  \n",
            " 11  E1       604329 non-null  float64\n",
            " 12  E2       604329 non-null  float64\n",
            " 13  E3       604329 non-null  int64  \n",
            " 14  E4       604329 non-null  int64  \n",
            " 15  E5       604329 non-null  float64\n",
            " 16  E6       604329 non-null  int64  \n",
            " 17  E7       604329 non-null  int64  \n",
            " 18  E8       604329 non-null  int64  \n",
            " 19  E9       604329 non-null  int64  \n",
            " 20  E10      604329 non-null  int64  \n",
            " 21  E11      604329 non-null  float64\n",
            " 22  V1       604329 non-null  float64\n",
            " 23  V2       604329 non-null  float64\n",
            " 24  V3       604329 non-null  int64  \n",
            " 25  V4       604329 non-null  float64\n",
            " 26  V5       604329 non-null  int64  \n",
            " 27  V6       604329 non-null  int64  \n",
            " 28  V7       604329 non-null  int64  \n",
            " 29  V8       604329 non-null  float64\n",
            " 30  V9       604329 non-null  int64  \n",
            " 31  V10      604329 non-null  int64  \n",
            " 32  V11      604329 non-null  float64\n",
            "dtypes: float64(14), int64(19)\n",
            "memory usage: 152.2 MB\n",
            "<class 'pandas.core.frame.DataFrame'>\n",
            "RangeIndex: 120840 entries, 0 to 120839\n",
            "Data columns (total 33 columns):\n",
            " #   Column   Non-Null Count   Dtype  \n",
            "---  ------   --------------   -----  \n",
            " 0   TrialID  120840 non-null  int64  \n",
            " 1   ObsNum   120840 non-null  int64  \n",
            " 2   IsAlert  120840 non-null  object \n",
            " 3   P1       120840 non-null  float64\n",
            " 4   P2       120840 non-null  float64\n",
            " 5   P3       120840 non-null  int64  \n",
            " 6   P4       120840 non-null  float64\n",
            " 7   P5       120840 non-null  float64\n",
            " 8   P6       120840 non-null  int64  \n",
            " 9   P7       120840 non-null  float64\n",
            " 10  P8       120840 non-null  int64  \n",
            " 11  E1       120840 non-null  float64\n",
            " 12  E2       120840 non-null  float64\n",
            " 13  E3       120840 non-null  int64  \n",
            " 14  E4       120840 non-null  int64  \n",
            " 15  E5       120840 non-null  float64\n",
            " 16  E6       120840 non-null  int64  \n",
            " 17  E7       120840 non-null  int64  \n",
            " 18  E8       120840 non-null  int64  \n",
            " 19  E9       120840 non-null  int64  \n",
            " 20  E10      120840 non-null  int64  \n",
            " 21  E11      120840 non-null  float64\n",
            " 22  V1       120840 non-null  float64\n",
            " 23  V2       120840 non-null  float64\n",
            " 24  V3       120840 non-null  int64  \n",
            " 25  V4       120840 non-null  float64\n",
            " 26  V5       120840 non-null  int64  \n",
            " 27  V6       120840 non-null  int64  \n",
            " 28  V7       120840 non-null  int64  \n",
            " 29  V8       120840 non-null  float64\n",
            " 30  V9       120840 non-null  int64  \n",
            " 31  V10      120840 non-null  int64  \n",
            " 32  V11      120840 non-null  float64\n",
            "dtypes: float64(14), int64(18), object(1)\n",
            "memory usage: 30.4+ MB\n"
          ],
          "name": "stdout"
        },
        {
          "output_type": "execute_result",
          "data": {
            "text/html": [
              "<div>\n",
              "<style scoped>\n",
              "    .dataframe tbody tr th:only-of-type {\n",
              "        vertical-align: middle;\n",
              "    }\n",
              "\n",
              "    .dataframe tbody tr th {\n",
              "        vertical-align: top;\n",
              "    }\n",
              "\n",
              "    .dataframe thead th {\n",
              "        text-align: right;\n",
              "    }\n",
              "</style>\n",
              "<table border=\"1\" class=\"dataframe\">\n",
              "  <thead>\n",
              "    <tr style=\"text-align: right;\">\n",
              "      <th></th>\n",
              "      <th>TrialID</th>\n",
              "      <th>ObsNum</th>\n",
              "      <th>IsAlert</th>\n",
              "      <th>P1</th>\n",
              "      <th>P2</th>\n",
              "      <th>P3</th>\n",
              "      <th>P4</th>\n",
              "      <th>P5</th>\n",
              "      <th>P6</th>\n",
              "      <th>P7</th>\n",
              "      <th>P8</th>\n",
              "      <th>E1</th>\n",
              "      <th>E2</th>\n",
              "      <th>E3</th>\n",
              "      <th>E4</th>\n",
              "      <th>E5</th>\n",
              "      <th>E6</th>\n",
              "      <th>E7</th>\n",
              "      <th>E8</th>\n",
              "      <th>E9</th>\n",
              "      <th>E10</th>\n",
              "      <th>E11</th>\n",
              "      <th>V1</th>\n",
              "      <th>V2</th>\n",
              "      <th>V3</th>\n",
              "      <th>V4</th>\n",
              "      <th>V5</th>\n",
              "      <th>V6</th>\n",
              "      <th>V7</th>\n",
              "      <th>V8</th>\n",
              "      <th>V9</th>\n",
              "      <th>V10</th>\n",
              "      <th>V11</th>\n",
              "    </tr>\n",
              "  </thead>\n",
              "  <tbody>\n",
              "    <tr>\n",
              "      <th>0</th>\n",
              "      <td>0</td>\n",
              "      <td>0</td>\n",
              "      <td>0</td>\n",
              "      <td>34.7406</td>\n",
              "      <td>9.84593</td>\n",
              "      <td>1400</td>\n",
              "      <td>42.8571</td>\n",
              "      <td>0.290601</td>\n",
              "      <td>572</td>\n",
              "      <td>104.895</td>\n",
              "      <td>0</td>\n",
              "      <td>0.0</td>\n",
              "      <td>0.0</td>\n",
              "      <td>1</td>\n",
              "      <td>-20</td>\n",
              "      <td>0.015875</td>\n",
              "      <td>324</td>\n",
              "      <td>1</td>\n",
              "      <td>1</td>\n",
              "      <td>1</td>\n",
              "      <td>57</td>\n",
              "      <td>0.0</td>\n",
              "      <td>101.96</td>\n",
              "      <td>0.175</td>\n",
              "      <td>752</td>\n",
              "      <td>5.99375</td>\n",
              "      <td>0</td>\n",
              "      <td>2005</td>\n",
              "      <td>0</td>\n",
              "      <td>13.4</td>\n",
              "      <td>0</td>\n",
              "      <td>4</td>\n",
              "      <td>14.8004</td>\n",
              "    </tr>\n",
              "    <tr>\n",
              "      <th>1</th>\n",
              "      <td>0</td>\n",
              "      <td>1</td>\n",
              "      <td>0</td>\n",
              "      <td>34.4215</td>\n",
              "      <td>13.41120</td>\n",
              "      <td>1400</td>\n",
              "      <td>42.8571</td>\n",
              "      <td>0.290601</td>\n",
              "      <td>572</td>\n",
              "      <td>104.895</td>\n",
              "      <td>0</td>\n",
              "      <td>0.0</td>\n",
              "      <td>0.0</td>\n",
              "      <td>1</td>\n",
              "      <td>-20</td>\n",
              "      <td>0.015875</td>\n",
              "      <td>324</td>\n",
              "      <td>1</td>\n",
              "      <td>1</td>\n",
              "      <td>1</td>\n",
              "      <td>57</td>\n",
              "      <td>0.0</td>\n",
              "      <td>101.98</td>\n",
              "      <td>0.455</td>\n",
              "      <td>752</td>\n",
              "      <td>5.99375</td>\n",
              "      <td>0</td>\n",
              "      <td>2007</td>\n",
              "      <td>0</td>\n",
              "      <td>13.4</td>\n",
              "      <td>0</td>\n",
              "      <td>4</td>\n",
              "      <td>14.7729</td>\n",
              "    </tr>\n",
              "    <tr>\n",
              "      <th>2</th>\n",
              "      <td>0</td>\n",
              "      <td>2</td>\n",
              "      <td>0</td>\n",
              "      <td>34.3447</td>\n",
              "      <td>15.18520</td>\n",
              "      <td>1400</td>\n",
              "      <td>42.8571</td>\n",
              "      <td>0.290601</td>\n",
              "      <td>576</td>\n",
              "      <td>104.167</td>\n",
              "      <td>0</td>\n",
              "      <td>0.0</td>\n",
              "      <td>0.0</td>\n",
              "      <td>1</td>\n",
              "      <td>-20</td>\n",
              "      <td>0.015875</td>\n",
              "      <td>324</td>\n",
              "      <td>1</td>\n",
              "      <td>1</td>\n",
              "      <td>1</td>\n",
              "      <td>57</td>\n",
              "      <td>0.0</td>\n",
              "      <td>101.97</td>\n",
              "      <td>0.280</td>\n",
              "      <td>752</td>\n",
              "      <td>5.99375</td>\n",
              "      <td>0</td>\n",
              "      <td>2011</td>\n",
              "      <td>0</td>\n",
              "      <td>13.4</td>\n",
              "      <td>0</td>\n",
              "      <td>4</td>\n",
              "      <td>14.7736</td>\n",
              "    </tr>\n",
              "    <tr>\n",
              "      <th>3</th>\n",
              "      <td>0</td>\n",
              "      <td>3</td>\n",
              "      <td>0</td>\n",
              "      <td>34.3421</td>\n",
              "      <td>8.84696</td>\n",
              "      <td>1400</td>\n",
              "      <td>42.8571</td>\n",
              "      <td>0.290601</td>\n",
              "      <td>576</td>\n",
              "      <td>104.167</td>\n",
              "      <td>0</td>\n",
              "      <td>0.0</td>\n",
              "      <td>0.0</td>\n",
              "      <td>1</td>\n",
              "      <td>-20</td>\n",
              "      <td>0.015875</td>\n",
              "      <td>324</td>\n",
              "      <td>1</td>\n",
              "      <td>1</td>\n",
              "      <td>1</td>\n",
              "      <td>57</td>\n",
              "      <td>0.0</td>\n",
              "      <td>101.99</td>\n",
              "      <td>0.070</td>\n",
              "      <td>752</td>\n",
              "      <td>5.99375</td>\n",
              "      <td>0</td>\n",
              "      <td>2015</td>\n",
              "      <td>0</td>\n",
              "      <td>13.4</td>\n",
              "      <td>0</td>\n",
              "      <td>4</td>\n",
              "      <td>14.7667</td>\n",
              "    </tr>\n",
              "    <tr>\n",
              "      <th>4</th>\n",
              "      <td>0</td>\n",
              "      <td>4</td>\n",
              "      <td>0</td>\n",
              "      <td>34.3322</td>\n",
              "      <td>14.69940</td>\n",
              "      <td>1400</td>\n",
              "      <td>42.8571</td>\n",
              "      <td>0.290601</td>\n",
              "      <td>576</td>\n",
              "      <td>104.167</td>\n",
              "      <td>0</td>\n",
              "      <td>0.0</td>\n",
              "      <td>0.0</td>\n",
              "      <td>1</td>\n",
              "      <td>-20</td>\n",
              "      <td>0.015875</td>\n",
              "      <td>324</td>\n",
              "      <td>1</td>\n",
              "      <td>1</td>\n",
              "      <td>1</td>\n",
              "      <td>57</td>\n",
              "      <td>0.0</td>\n",
              "      <td>102.07</td>\n",
              "      <td>0.175</td>\n",
              "      <td>752</td>\n",
              "      <td>5.99375</td>\n",
              "      <td>0</td>\n",
              "      <td>2017</td>\n",
              "      <td>0</td>\n",
              "      <td>13.4</td>\n",
              "      <td>0</td>\n",
              "      <td>4</td>\n",
              "      <td>14.7757</td>\n",
              "    </tr>\n",
              "  </tbody>\n",
              "</table>\n",
              "</div>"
            ],
            "text/plain": [
              "   TrialID  ObsNum  IsAlert       P1        P2  ...  V7    V8  V9  V10      V11\n",
              "0        0       0        0  34.7406   9.84593  ...   0  13.4   0    4  14.8004\n",
              "1        0       1        0  34.4215  13.41120  ...   0  13.4   0    4  14.7729\n",
              "2        0       2        0  34.3447  15.18520  ...   0  13.4   0    4  14.7736\n",
              "3        0       3        0  34.3421   8.84696  ...   0  13.4   0    4  14.7667\n",
              "4        0       4        0  34.3322  14.69940  ...   0  13.4   0    4  14.7757\n",
              "\n",
              "[5 rows x 33 columns]"
            ]
          },
          "metadata": {
            "tags": []
          },
          "execution_count": 186
        }
      ]
    },
    {
      "cell_type": "code",
      "metadata": {
        "id": "xJ-_hTKftuGK",
        "colab": {
          "base_uri": "https://localhost:8080/",
          "height": 34
        },
        "outputId": "109a57cc-54a3-4473-83ae-033095374b06"
      },
      "source": [
        "sum(train['IsAlert'] == 0)"
      ],
      "execution_count": null,
      "outputs": [
        {
          "output_type": "execute_result",
          "data": {
            "text/plain": [
              "254544"
            ]
          },
          "metadata": {
            "tags": []
          },
          "execution_count": 178
        }
      ]
    },
    {
      "cell_type": "markdown",
      "metadata": {
        "id": "1GCPOpPct1Mw"
      },
      "source": [
        "First Model\n",
        "\n"
      ]
    },
    {
      "cell_type": "markdown",
      "metadata": {
        "id": "__V3mWqWt-G7"
      },
      "source": [
        "Data preprocessing"
      ]
    },
    {
      "cell_type": "code",
      "metadata": {
        "id": "WyIhl9Mtt9xD"
      },
      "source": [
        "new_df = pd.DataFrame() "
      ],
      "execution_count": null,
      "outputs": []
    },
    {
      "cell_type": "code",
      "metadata": {
        "id": "jN4hRMGct5cv",
        "colab": {
          "base_uri": "https://localhost:8080/",
          "height": 50
        },
        "outputId": "ee2b7d15-5a9a-4f6e-9744-b0a1318a29ea"
      },
      "source": [
        "noalert = train.index[train['IsAlert'] == 0]\n",
        "turnnoalert = train.iloc[noalert-1][train['IsAlert'] == 1]"
      ],
      "execution_count": null,
      "outputs": [
        {
          "output_type": "stream",
          "text": [
            "/usr/local/lib/python3.6/dist-packages/ipykernel_launcher.py:2: UserWarning: Boolean Series key will be reindexed to match DataFrame index.\n",
            "  \n"
          ],
          "name": "stderr"
        }
      ]
    },
    {
      "cell_type": "code",
      "metadata": {
        "id": "EMtXaP53uJpB"
      },
      "source": [
        "for i in turnnoalert.index: # Return 500ms before and after the moment\n",
        "    new_df = new_df.append(train[i-5:i+6])"
      ],
      "execution_count": null,
      "outputs": []
    },
    {
      "cell_type": "code",
      "metadata": {
        "id": "OQkpSJL_ue1Z"
      },
      "source": [
        "new_df = new_df.drop_duplicates() "
      ],
      "execution_count": null,
      "outputs": []
    },
    {
      "cell_type": "code",
      "metadata": {
        "id": "o2uUsJUuug9f",
        "colab": {
          "base_uri": "https://localhost:8080/",
          "height": 422
        },
        "outputId": "9e356be3-9bb6-4efb-ed18-450f3232b7a0"
      },
      "source": [
        "new_df"
      ],
      "execution_count": null,
      "outputs": [
        {
          "output_type": "execute_result",
          "data": {
            "text/html": [
              "<div>\n",
              "<style scoped>\n",
              "    .dataframe tbody tr th:only-of-type {\n",
              "        vertical-align: middle;\n",
              "    }\n",
              "\n",
              "    .dataframe tbody tr th {\n",
              "        vertical-align: top;\n",
              "    }\n",
              "\n",
              "    .dataframe thead th {\n",
              "        text-align: right;\n",
              "    }\n",
              "</style>\n",
              "<table border=\"1\" class=\"dataframe\">\n",
              "  <thead>\n",
              "    <tr style=\"text-align: right;\">\n",
              "      <th></th>\n",
              "      <th>TrialID</th>\n",
              "      <th>ObsNum</th>\n",
              "      <th>IsAlert</th>\n",
              "      <th>P1</th>\n",
              "      <th>P2</th>\n",
              "      <th>P3</th>\n",
              "      <th>P4</th>\n",
              "      <th>P5</th>\n",
              "      <th>P6</th>\n",
              "      <th>P7</th>\n",
              "      <th>P8</th>\n",
              "      <th>E1</th>\n",
              "      <th>E2</th>\n",
              "      <th>E3</th>\n",
              "      <th>E4</th>\n",
              "      <th>E5</th>\n",
              "      <th>E6</th>\n",
              "      <th>E7</th>\n",
              "      <th>E8</th>\n",
              "      <th>E9</th>\n",
              "      <th>E10</th>\n",
              "      <th>E11</th>\n",
              "      <th>V1</th>\n",
              "      <th>V2</th>\n",
              "      <th>V3</th>\n",
              "      <th>V4</th>\n",
              "      <th>V5</th>\n",
              "      <th>V6</th>\n",
              "      <th>V7</th>\n",
              "      <th>V8</th>\n",
              "      <th>V9</th>\n",
              "      <th>V10</th>\n",
              "      <th>V11</th>\n",
              "    </tr>\n",
              "  </thead>\n",
              "  <tbody>\n",
              "    <tr>\n",
              "      <th>604323</th>\n",
              "      <td>510</td>\n",
              "      <td>1193</td>\n",
              "      <td>1</td>\n",
              "      <td>32.0303</td>\n",
              "      <td>7.68265</td>\n",
              "      <td>800</td>\n",
              "      <td>75.0000</td>\n",
              "      <td>0.081731</td>\n",
              "      <td>680</td>\n",
              "      <td>88.2353</td>\n",
              "      <td>0</td>\n",
              "      <td>17.807</td>\n",
              "      <td>222.11</td>\n",
              "      <td>0</td>\n",
              "      <td>0</td>\n",
              "      <td>0.016379</td>\n",
              "      <td>323</td>\n",
              "      <td>2</td>\n",
              "      <td>2</td>\n",
              "      <td>1</td>\n",
              "      <td>64</td>\n",
              "      <td>0.0</td>\n",
              "      <td>91.40</td>\n",
              "      <td>0.175</td>\n",
              "      <td>240</td>\n",
              "      <td>3.01875</td>\n",
              "      <td>0</td>\n",
              "      <td>1792</td>\n",
              "      <td>0</td>\n",
              "      <td>29.9</td>\n",
              "      <td>0</td>\n",
              "      <td>4</td>\n",
              "      <td>15.8303</td>\n",
              "    </tr>\n",
              "    <tr>\n",
              "      <th>604324</th>\n",
              "      <td>510</td>\n",
              "      <td>1194</td>\n",
              "      <td>1</td>\n",
              "      <td>32.0051</td>\n",
              "      <td>10.13240</td>\n",
              "      <td>800</td>\n",
              "      <td>75.0000</td>\n",
              "      <td>0.081731</td>\n",
              "      <td>680</td>\n",
              "      <td>88.2353</td>\n",
              "      <td>0</td>\n",
              "      <td>17.807</td>\n",
              "      <td>222.11</td>\n",
              "      <td>0</td>\n",
              "      <td>0</td>\n",
              "      <td>0.016379</td>\n",
              "      <td>322</td>\n",
              "      <td>2</td>\n",
              "      <td>2</td>\n",
              "      <td>1</td>\n",
              "      <td>64</td>\n",
              "      <td>0.0</td>\n",
              "      <td>91.51</td>\n",
              "      <td>0.280</td>\n",
              "      <td>240</td>\n",
              "      <td>3.01875</td>\n",
              "      <td>0</td>\n",
              "      <td>1801</td>\n",
              "      <td>0</td>\n",
              "      <td>30.4</td>\n",
              "      <td>0</td>\n",
              "      <td>4</td>\n",
              "      <td>15.8113</td>\n",
              "    </tr>\n",
              "    <tr>\n",
              "      <th>604325</th>\n",
              "      <td>510</td>\n",
              "      <td>1195</td>\n",
              "      <td>1</td>\n",
              "      <td>32.0393</td>\n",
              "      <td>12.45040</td>\n",
              "      <td>800</td>\n",
              "      <td>75.0000</td>\n",
              "      <td>0.081731</td>\n",
              "      <td>680</td>\n",
              "      <td>88.2353</td>\n",
              "      <td>0</td>\n",
              "      <td>17.807</td>\n",
              "      <td>222.11</td>\n",
              "      <td>0</td>\n",
              "      <td>0</td>\n",
              "      <td>0.016379</td>\n",
              "      <td>322</td>\n",
              "      <td>2</td>\n",
              "      <td>2</td>\n",
              "      <td>1</td>\n",
              "      <td>64</td>\n",
              "      <td>0.0</td>\n",
              "      <td>91.51</td>\n",
              "      <td>0.280</td>\n",
              "      <td>240</td>\n",
              "      <td>3.01875</td>\n",
              "      <td>0</td>\n",
              "      <td>1801</td>\n",
              "      <td>0</td>\n",
              "      <td>30.4</td>\n",
              "      <td>0</td>\n",
              "      <td>4</td>\n",
              "      <td>15.8018</td>\n",
              "    </tr>\n",
              "    <tr>\n",
              "      <th>604326</th>\n",
              "      <td>510</td>\n",
              "      <td>1196</td>\n",
              "      <td>1</td>\n",
              "      <td>32.0762</td>\n",
              "      <td>10.06180</td>\n",
              "      <td>800</td>\n",
              "      <td>75.0000</td>\n",
              "      <td>0.081731</td>\n",
              "      <td>680</td>\n",
              "      <td>88.2353</td>\n",
              "      <td>0</td>\n",
              "      <td>17.807</td>\n",
              "      <td>222.11</td>\n",
              "      <td>0</td>\n",
              "      <td>0</td>\n",
              "      <td>0.016379</td>\n",
              "      <td>322</td>\n",
              "      <td>2</td>\n",
              "      <td>2</td>\n",
              "      <td>1</td>\n",
              "      <td>64</td>\n",
              "      <td>0.0</td>\n",
              "      <td>91.56</td>\n",
              "      <td>0.175</td>\n",
              "      <td>240</td>\n",
              "      <td>3.01875</td>\n",
              "      <td>0</td>\n",
              "      <td>1800</td>\n",
              "      <td>0</td>\n",
              "      <td>31.3</td>\n",
              "      <td>0</td>\n",
              "      <td>4</td>\n",
              "      <td>15.8120</td>\n",
              "    </tr>\n",
              "    <tr>\n",
              "      <th>604327</th>\n",
              "      <td>510</td>\n",
              "      <td>1197</td>\n",
              "      <td>1</td>\n",
              "      <td>32.1154</td>\n",
              "      <td>17.84500</td>\n",
              "      <td>800</td>\n",
              "      <td>75.0000</td>\n",
              "      <td>0.081731</td>\n",
              "      <td>680</td>\n",
              "      <td>88.2353</td>\n",
              "      <td>0</td>\n",
              "      <td>17.807</td>\n",
              "      <td>222.11</td>\n",
              "      <td>0</td>\n",
              "      <td>0</td>\n",
              "      <td>0.016379</td>\n",
              "      <td>322</td>\n",
              "      <td>2</td>\n",
              "      <td>2</td>\n",
              "      <td>1</td>\n",
              "      <td>64</td>\n",
              "      <td>0.0</td>\n",
              "      <td>91.56</td>\n",
              "      <td>0.175</td>\n",
              "      <td>240</td>\n",
              "      <td>3.01875</td>\n",
              "      <td>0</td>\n",
              "      <td>1800</td>\n",
              "      <td>0</td>\n",
              "      <td>31.3</td>\n",
              "      <td>0</td>\n",
              "      <td>4</td>\n",
              "      <td>15.8270</td>\n",
              "    </tr>\n",
              "    <tr>\n",
              "      <th>...</th>\n",
              "      <td>...</td>\n",
              "      <td>...</td>\n",
              "      <td>...</td>\n",
              "      <td>...</td>\n",
              "      <td>...</td>\n",
              "      <td>...</td>\n",
              "      <td>...</td>\n",
              "      <td>...</td>\n",
              "      <td>...</td>\n",
              "      <td>...</td>\n",
              "      <td>...</td>\n",
              "      <td>...</td>\n",
              "      <td>...</td>\n",
              "      <td>...</td>\n",
              "      <td>...</td>\n",
              "      <td>...</td>\n",
              "      <td>...</td>\n",
              "      <td>...</td>\n",
              "      <td>...</td>\n",
              "      <td>...</td>\n",
              "      <td>...</td>\n",
              "      <td>...</td>\n",
              "      <td>...</td>\n",
              "      <td>...</td>\n",
              "      <td>...</td>\n",
              "      <td>...</td>\n",
              "      <td>...</td>\n",
              "      <td>...</td>\n",
              "      <td>...</td>\n",
              "      <td>...</td>\n",
              "      <td>...</td>\n",
              "      <td>...</td>\n",
              "      <td>...</td>\n",
              "    </tr>\n",
              "    <tr>\n",
              "      <th>604314</th>\n",
              "      <td>510</td>\n",
              "      <td>1184</td>\n",
              "      <td>0</td>\n",
              "      <td>31.9667</td>\n",
              "      <td>9.17322</td>\n",
              "      <td>688</td>\n",
              "      <td>87.2093</td>\n",
              "      <td>0.089515</td>\n",
              "      <td>684</td>\n",
              "      <td>87.7193</td>\n",
              "      <td>0</td>\n",
              "      <td>17.807</td>\n",
              "      <td>222.11</td>\n",
              "      <td>0</td>\n",
              "      <td>0</td>\n",
              "      <td>0.016379</td>\n",
              "      <td>327</td>\n",
              "      <td>2</td>\n",
              "      <td>2</td>\n",
              "      <td>1</td>\n",
              "      <td>64</td>\n",
              "      <td>0.0</td>\n",
              "      <td>90.94</td>\n",
              "      <td>0.175</td>\n",
              "      <td>240</td>\n",
              "      <td>3.01875</td>\n",
              "      <td>0</td>\n",
              "      <td>1780</td>\n",
              "      <td>0</td>\n",
              "      <td>29.5</td>\n",
              "      <td>0</td>\n",
              "      <td>4</td>\n",
              "      <td>15.8482</td>\n",
              "    </tr>\n",
              "    <tr>\n",
              "      <th>604315</th>\n",
              "      <td>510</td>\n",
              "      <td>1185</td>\n",
              "      <td>0</td>\n",
              "      <td>31.9291</td>\n",
              "      <td>15.50140</td>\n",
              "      <td>688</td>\n",
              "      <td>87.2093</td>\n",
              "      <td>0.089515</td>\n",
              "      <td>684</td>\n",
              "      <td>87.7193</td>\n",
              "      <td>0</td>\n",
              "      <td>17.807</td>\n",
              "      <td>222.11</td>\n",
              "      <td>0</td>\n",
              "      <td>0</td>\n",
              "      <td>0.016379</td>\n",
              "      <td>327</td>\n",
              "      <td>2</td>\n",
              "      <td>2</td>\n",
              "      <td>1</td>\n",
              "      <td>64</td>\n",
              "      <td>0.0</td>\n",
              "      <td>90.91</td>\n",
              "      <td>0.175</td>\n",
              "      <td>240</td>\n",
              "      <td>3.01875</td>\n",
              "      <td>0</td>\n",
              "      <td>1777</td>\n",
              "      <td>0</td>\n",
              "      <td>29.5</td>\n",
              "      <td>0</td>\n",
              "      <td>4</td>\n",
              "      <td>15.8472</td>\n",
              "    </tr>\n",
              "    <tr>\n",
              "      <th>604316</th>\n",
              "      <td>510</td>\n",
              "      <td>1186</td>\n",
              "      <td>0</td>\n",
              "      <td>31.9820</td>\n",
              "      <td>8.30669</td>\n",
              "      <td>688</td>\n",
              "      <td>87.2093</td>\n",
              "      <td>0.089515</td>\n",
              "      <td>684</td>\n",
              "      <td>87.7193</td>\n",
              "      <td>0</td>\n",
              "      <td>17.807</td>\n",
              "      <td>222.11</td>\n",
              "      <td>0</td>\n",
              "      <td>0</td>\n",
              "      <td>0.016379</td>\n",
              "      <td>327</td>\n",
              "      <td>2</td>\n",
              "      <td>2</td>\n",
              "      <td>1</td>\n",
              "      <td>64</td>\n",
              "      <td>0.0</td>\n",
              "      <td>91.00</td>\n",
              "      <td>0.280</td>\n",
              "      <td>240</td>\n",
              "      <td>3.01875</td>\n",
              "      <td>0</td>\n",
              "      <td>1795</td>\n",
              "      <td>0</td>\n",
              "      <td>29.5</td>\n",
              "      <td>0</td>\n",
              "      <td>4</td>\n",
              "      <td>15.8759</td>\n",
              "    </tr>\n",
              "    <tr>\n",
              "      <th>604317</th>\n",
              "      <td>510</td>\n",
              "      <td>1187</td>\n",
              "      <td>0</td>\n",
              "      <td>31.9516</td>\n",
              "      <td>9.91952</td>\n",
              "      <td>688</td>\n",
              "      <td>87.2093</td>\n",
              "      <td>0.089515</td>\n",
              "      <td>684</td>\n",
              "      <td>87.7193</td>\n",
              "      <td>0</td>\n",
              "      <td>17.807</td>\n",
              "      <td>222.11</td>\n",
              "      <td>0</td>\n",
              "      <td>0</td>\n",
              "      <td>0.016379</td>\n",
              "      <td>327</td>\n",
              "      <td>2</td>\n",
              "      <td>2</td>\n",
              "      <td>1</td>\n",
              "      <td>64</td>\n",
              "      <td>0.0</td>\n",
              "      <td>91.01</td>\n",
              "      <td>0.175</td>\n",
              "      <td>240</td>\n",
              "      <td>3.01875</td>\n",
              "      <td>0</td>\n",
              "      <td>1784</td>\n",
              "      <td>0</td>\n",
              "      <td>29.5</td>\n",
              "      <td>0</td>\n",
              "      <td>4</td>\n",
              "      <td>15.8589</td>\n",
              "    </tr>\n",
              "    <tr>\n",
              "      <th>604318</th>\n",
              "      <td>510</td>\n",
              "      <td>1188</td>\n",
              "      <td>1</td>\n",
              "      <td>31.9446</td>\n",
              "      <td>12.47740</td>\n",
              "      <td>688</td>\n",
              "      <td>87.2093</td>\n",
              "      <td>0.089515</td>\n",
              "      <td>684</td>\n",
              "      <td>87.7193</td>\n",
              "      <td>0</td>\n",
              "      <td>17.807</td>\n",
              "      <td>222.11</td>\n",
              "      <td>0</td>\n",
              "      <td>0</td>\n",
              "      <td>0.016379</td>\n",
              "      <td>323</td>\n",
              "      <td>2</td>\n",
              "      <td>2</td>\n",
              "      <td>1</td>\n",
              "      <td>64</td>\n",
              "      <td>0.0</td>\n",
              "      <td>91.23</td>\n",
              "      <td>0.175</td>\n",
              "      <td>240</td>\n",
              "      <td>3.01875</td>\n",
              "      <td>0</td>\n",
              "      <td>1801</td>\n",
              "      <td>0</td>\n",
              "      <td>29.5</td>\n",
              "      <td>0</td>\n",
              "      <td>4</td>\n",
              "      <td>15.8365</td>\n",
              "    </tr>\n",
              "  </tbody>\n",
              "</table>\n",
              "<p>37421 rows × 33 columns</p>\n",
              "</div>"
            ],
            "text/plain": [
              "        TrialID  ObsNum  IsAlert       P1        P2  ...  V7    V8  V9  V10      V11\n",
              "604323      510    1193        1  32.0303   7.68265  ...   0  29.9   0    4  15.8303\n",
              "604324      510    1194        1  32.0051  10.13240  ...   0  30.4   0    4  15.8113\n",
              "604325      510    1195        1  32.0393  12.45040  ...   0  30.4   0    4  15.8018\n",
              "604326      510    1196        1  32.0762  10.06180  ...   0  31.3   0    4  15.8120\n",
              "604327      510    1197        1  32.1154  17.84500  ...   0  31.3   0    4  15.8270\n",
              "...         ...     ...      ...      ...       ...  ...  ..   ...  ..  ...      ...\n",
              "604314      510    1184        0  31.9667   9.17322  ...   0  29.5   0    4  15.8482\n",
              "604315      510    1185        0  31.9291  15.50140  ...   0  29.5   0    4  15.8472\n",
              "604316      510    1186        0  31.9820   8.30669  ...   0  29.5   0    4  15.8759\n",
              "604317      510    1187        0  31.9516   9.91952  ...   0  29.5   0    4  15.8589\n",
              "604318      510    1188        1  31.9446  12.47740  ...   0  29.5   0    4  15.8365\n",
              "\n",
              "[37421 rows x 33 columns]"
            ]
          },
          "metadata": {
            "tags": []
          },
          "execution_count": 199
        }
      ]
    },
    {
      "cell_type": "markdown",
      "metadata": {
        "id": "1xFqR5J1vNj6"
      },
      "source": [
        "\n",
        "# Feature Engineering\n"
      ]
    },
    {
      "cell_type": "code",
      "metadata": {
        "id": "IbfADG7FvJXJ"
      },
      "source": [
        "pcadata = new_df.drop(columns = ['TrialID', 'ObsNum', 'IsAlert']) # Drop unneccessary columns\n"
      ],
      "execution_count": null,
      "outputs": []
    },
    {
      "cell_type": "markdown",
      "metadata": {
        "id": "8SRCkI1tvbTp"
      },
      "source": [
        "# Standarization"
      ]
    },
    {
      "cell_type": "code",
      "metadata": {
        "id": "JxCXj0ShvYCO",
        "colab": {
          "base_uri": "https://localhost:8080/",
          "height": 638
        },
        "outputId": "b7c2eaae-ccb0-4c0e-dfb9-3a75a93524c9"
      },
      "source": [
        "X_scaled = preprocessing.scale(pcadata) \n",
        "pcadata.info()\n"
      ],
      "execution_count": null,
      "outputs": [
        {
          "output_type": "stream",
          "text": [
            "<class 'pandas.core.frame.DataFrame'>\n",
            "Int64Index: 37421 entries, 604323 to 604318\n",
            "Data columns (total 30 columns):\n",
            " #   Column  Non-Null Count  Dtype  \n",
            "---  ------  --------------  -----  \n",
            " 0   P1      37421 non-null  float64\n",
            " 1   P2      37421 non-null  float64\n",
            " 2   P3      37421 non-null  int64  \n",
            " 3   P4      37421 non-null  float64\n",
            " 4   P5      37421 non-null  float64\n",
            " 5   P6      37421 non-null  int64  \n",
            " 6   P7      37421 non-null  float64\n",
            " 7   P8      37421 non-null  int64  \n",
            " 8   E1      37421 non-null  float64\n",
            " 9   E2      37421 non-null  float64\n",
            " 10  E3      37421 non-null  int64  \n",
            " 11  E4      37421 non-null  int64  \n",
            " 12  E5      37421 non-null  float64\n",
            " 13  E6      37421 non-null  int64  \n",
            " 14  E7      37421 non-null  int64  \n",
            " 15  E8      37421 non-null  int64  \n",
            " 16  E9      37421 non-null  int64  \n",
            " 17  E10     37421 non-null  int64  \n",
            " 18  E11     37421 non-null  float64\n",
            " 19  V1      37421 non-null  float64\n",
            " 20  V2      37421 non-null  float64\n",
            " 21  V3      37421 non-null  int64  \n",
            " 22  V4      37421 non-null  float64\n",
            " 23  V5      37421 non-null  int64  \n",
            " 24  V6      37421 non-null  int64  \n",
            " 25  V7      37421 non-null  int64  \n",
            " 26  V8      37421 non-null  float64\n",
            " 27  V9      37421 non-null  int64  \n",
            " 28  V10     37421 non-null  int64  \n",
            " 29  V11     37421 non-null  float64\n",
            "dtypes: float64(14), int64(16)\n",
            "memory usage: 8.9 MB\n"
          ],
          "name": "stdout"
        }
      ]
    },
    {
      "cell_type": "markdown",
      "metadata": {
        "id": "YxM8Bvd5vlCA"
      },
      "source": [
        "# Principle Component Analysis"
      ]
    },
    {
      "cell_type": "code",
      "metadata": {
        "id": "i25PG97VvhUA"
      },
      "source": [
        "pca=PCA() \n",
        "pca.fit(X_scaled) \n",
        "X_pca=pca.transform(X_scaled) "
      ],
      "execution_count": null,
      "outputs": []
    },
    {
      "cell_type": "code",
      "metadata": {
        "id": "yRcGawc2vq7h",
        "colab": {
          "base_uri": "https://localhost:8080/",
          "height": 34
        },
        "outputId": "bcc13115-5952-4438-acec-4f6796bcf41c"
      },
      "source": [
        "#let's check the shape of X_pca array\n",
        "print (\"shape of X_pca\", X_pca.shape)"
      ],
      "execution_count": null,
      "outputs": [
        {
          "output_type": "stream",
          "text": [
            "shape of X_pca (37421, 30)\n"
          ],
          "name": "stdout"
        }
      ]
    },
    {
      "cell_type": "code",
      "metadata": {
        "id": "jQaPILkvvy_I",
        "colab": {
          "base_uri": "https://localhost:8080/",
          "height": 285
        },
        "outputId": "bebf827c-e4ad-405c-b277-57eda24b3af6"
      },
      "source": [
        "#%%\n",
        "# Scree Plot\n",
        "y = pca.explained_variance_ratio_\n",
        "\n",
        "x = np.array([i for i in range(1, len(y)+1)])\n",
        "\n",
        "plt.plot(x, y, 'r-x')"
      ],
      "execution_count": null,
      "outputs": [
        {
          "output_type": "execute_result",
          "data": {
            "text/plain": [
              "[<matplotlib.lines.Line2D at 0x7f3816730828>]"
            ]
          },
          "metadata": {
            "tags": []
          },
          "execution_count": 16
        },
        {
          "output_type": "display_data",
          "data": {
            "image/png": "[encoded data removed]",
            "text/plain": [
              "<Figure size 432x288 with 1 Axes>"
            ]
          },
          "metadata": {
            "tags": [],
            "needs_background": "light"
          }
        }
      ]
    },
    {
      "cell_type": "code",
      "metadata": {
        "id": "Ue3HlW2gv569",
        "colab": {
          "base_uri": "https://localhost:8080/",
          "height": 34
        },
        "outputId": "02971c58-ae3a-4075-e6ca-4f30853fe88a"
      },
      "source": [
        "# Filter principle components\n",
        "sum(pca.explained_variance_ratio_[:14])\n",
        "X_pca = X_pca[:,:14] # Slice the first 14 features\n",
        "X_pca.shape "
      ],
      "execution_count": null,
      "outputs": [
        {
          "output_type": "execute_result",
          "data": {
            "text/plain": [
              "(37421, 14)"
            ]
          },
          "metadata": {
            "tags": []
          },
          "execution_count": 17
        }
      ]
    },
    {
      "cell_type": "code",
      "metadata": {
        "id": "ZepWA5REv-6f",
        "colab": {
          "base_uri": "https://localhost:8080/",
          "height": 235
        },
        "outputId": "c78e4a01-5220-41b4-8bf4-74e6aa7df354"
      },
      "source": [
        "X_pca # Training features\n"
      ],
      "execution_count": null,
      "outputs": [
        {
          "output_type": "execute_result",
          "data": {
            "text/plain": [
              "array([[-1.13162853,  0.31998431,  0.26156361, ...,  1.02433172,\n",
              "         0.70943025, -0.18363423],\n",
              "       [-1.19089936,  0.24896352,  0.27907797, ...,  0.74432583,\n",
              "         0.81958233, -0.25328004],\n",
              "       [-1.19688915,  0.18795301,  0.28791467, ...,  0.49758852,\n",
              "         0.90339316, -0.27264132],\n",
              "       ...,\n",
              "       [-1.15137249,  0.33964321,  0.32035685, ...,  0.96243759,\n",
              "         0.66141226, -0.15012464],\n",
              "       [-1.11689356,  0.29833156,  0.32107332, ...,  0.81488074,\n",
              "         0.71706924, -0.1312757 ],\n",
              "       [-1.14711508,  0.20941089,  0.3323469 , ...,  0.55608563,\n",
              "         0.87515175, -0.21948589]])"
            ]
          },
          "metadata": {
            "tags": []
          },
          "execution_count": 18
        }
      ]
    },
    {
      "cell_type": "code",
      "metadata": {
        "id": "foHqVyOXnUVm",
        "colab": {
          "base_uri": "https://localhost:8080/",
          "height": 218
        },
        "outputId": "164cd7f2-2d36-4bca-dad8-1a3e9755fdd6"
      },
      "source": [
        "new_df.IsAlert # Target features"
      ],
      "execution_count": null,
      "outputs": [
        {
          "output_type": "execute_result",
          "data": {
            "text/plain": [
              "604323    1\n",
              "604324    1\n",
              "604325    1\n",
              "604326    1\n",
              "604327    1\n",
              "         ..\n",
              "604314    0\n",
              "604315    0\n",
              "604316    0\n",
              "604317    0\n",
              "604318    1\n",
              "Name: IsAlert, Length: 37421, dtype: int64"
            ]
          },
          "metadata": {
            "tags": []
          },
          "execution_count": 19
        }
      ]
    },
    {
      "cell_type": "markdown",
      "metadata": {
        "id": "vicps3YIwE0e"
      },
      "source": [
        "Modeling"
      ]
    },
    {
      "cell_type": "code",
      "metadata": {
        "id": "vrMg6d2jwBJH",
        "colab": {
          "base_uri": "https://localhost:8080/",
          "height": 101
        },
        "outputId": "a7e1dd89-9aba-4250-f186-beb510b07c20"
      },
      "source": [
        "# Logistic Regression Cross Validation\n",
        "clf_CV = LogisticRegressionCV(cv=10, random_state=0, solver = 'liblinear') # Model Setting\n",
        "clf_CV.fit(X_pca, new_df.IsAlert) # Model Fitting"
      ],
      "execution_count": null,
      "outputs": [
        {
          "output_type": "execute_result",
          "data": {
            "text/plain": [
              "LogisticRegressionCV(Cs=10, class_weight=None, cv=10, dual=False,\n",
              "                     fit_intercept=True, intercept_scaling=1.0, l1_ratios=None,\n",
              "                     max_iter=100, multi_class='auto', n_jobs=None,\n",
              "                     penalty='l2', random_state=0, refit=True, scoring=None,\n",
              "                     solver='liblinear', tol=0.0001, verbose=0)"
            ]
          },
          "metadata": {
            "tags": []
          },
          "execution_count": 20
        }
      ]
    },
    {
      "cell_type": "code",
      "metadata": {
        "id": "ZE8FJmzkwQqP",
        "colab": {
          "base_uri": "https://localhost:8080/",
          "height": 34
        },
        "outputId": "87721e04-de67-470f-a7fd-77cce6769144"
      },
      "source": [
        "# Evalution\n",
        "\n",
        "clf_CV.score(X_pca, new_df.IsAlert) \n"
      ],
      "execution_count": null,
      "outputs": [
        {
          "output_type": "execute_result",
          "data": {
            "text/plain": [
              "0.6460276315437856"
            ]
          },
          "metadata": {
            "tags": []
          },
          "execution_count": 21
        }
      ]
    },
    {
      "cell_type": "code",
      "metadata": {
        "id": "7iqMsHNwwWSL",
        "colab": {
          "base_uri": "https://localhost:8080/",
          "height": 34
        },
        "outputId": "ecd7d4fa-fa5f-47b9-b28a-0301d8a14445"
      },
      "source": [
        "# Confustion matrix evaluation\n",
        "\n",
        "clf_cv_pred = clf_CV.predict(X_pca)\n",
        "len(clf_cv_pred == 1)\n",
        "#sum(clf_cv_pred == 0)"
      ],
      "execution_count": null,
      "outputs": [
        {
          "output_type": "execute_result",
          "data": {
            "text/plain": [
              "37421"
            ]
          },
          "metadata": {
            "tags": []
          },
          "execution_count": 22
        }
      ]
    },
    {
      "cell_type": "code",
      "metadata": {
        "id": "PZogenMawfNl",
        "colab": {
          "base_uri": "https://localhost:8080/",
          "height": 34
        },
        "outputId": "65a5edea-d67e-42eb-f1c3-e947ec6222e8"
      },
      "source": [
        "sum(clf_cv_pred == 0)"
      ],
      "execution_count": null,
      "outputs": [
        {
          "output_type": "execute_result",
          "data": {
            "text/plain": [
              "5276"
            ]
          },
          "metadata": {
            "tags": []
          },
          "execution_count": 23
        }
      ]
    },
    {
      "cell_type": "code",
      "metadata": {
        "id": "aRKSK_NIwmF-",
        "colab": {
          "base_uri": "https://localhost:8080/",
          "height": 50
        },
        "outputId": "6375e4a8-5f9a-4533-b8b2-5538e71bf74b"
      },
      "source": [
        "confusion_matrix(new_df.IsAlert, clf_cv_pred)\n",
        "\n"
      ],
      "execution_count": null,
      "outputs": [
        {
          "output_type": "execute_result",
          "data": {
            "text/plain": [
              "array([[ 4066, 12036],\n",
              "       [ 1210, 20109]])"
            ]
          },
          "metadata": {
            "tags": []
          },
          "execution_count": 24
        }
      ]
    },
    {
      "cell_type": "code",
      "metadata": {
        "id": "dq79gBbVnh3I",
        "colab": {
          "base_uri": "https://localhost:8080/",
          "height": 34
        },
        "outputId": "04e89fb7-1120-4f32-fa7a-d9ad5f5ba867"
      },
      "source": [
        "sum(new_df.IsAlert == 1)"
      ],
      "execution_count": null,
      "outputs": [
        {
          "output_type": "execute_result",
          "data": {
            "text/plain": [
              "21319"
            ]
          },
          "metadata": {
            "tags": []
          },
          "execution_count": 25
        }
      ]
    },
    {
      "cell_type": "code",
      "metadata": {
        "id": "0DfErzcpwrJy",
        "colab": {
          "base_uri": "https://localhost:8080/",
          "height": 34
        },
        "outputId": "2a2aa02e-9fa8-4cde-dc9d-2cef18d0c18a"
      },
      "source": [
        "roc_auc_score(new_df.IsAlert, clf_cv_pred)\n"
      ],
      "execution_count": null,
      "outputs": [
        {
          "output_type": "execute_result",
          "data": {
            "text/plain": [
              "0.5978791659850288"
            ]
          },
          "metadata": {
            "tags": []
          },
          "execution_count": 26
        }
      ]
    },
    {
      "cell_type": "markdown",
      "metadata": {
        "id": "xV24BvhWwvsq"
      },
      "source": [
        "Try Another Models"
      ]
    },
    {
      "cell_type": "markdown",
      "metadata": {
        "id": "ldzh8OEMnlhy"
      },
      "source": [
        "NAIVE-Bayes"
      ]
    },
    {
      "cell_type": "code",
      "metadata": {
        "id": "YU72rE2swybx"
      },
      "source": [
        "# Cross Validated Naive Bayes Model\n",
        "skf = StratifiedKFold(n_splits=10)\n",
        "params = {}\n",
        "nb = GaussianNB()\n",
        "gs = GridSearchCV(nb, cv=skf, param_grid=params, return_train_score=True)\n"
      ],
      "execution_count": null,
      "outputs": []
    },
    {
      "cell_type": "code",
      "metadata": {
        "id": "udeK8vpXw6ff"
      },
      "source": [
        "x_train, x_test, y_train, y_test = train_test_split(X_pca, new_df.IsAlert, random_state = 42)\n"
      ],
      "execution_count": null,
      "outputs": []
    },
    {
      "cell_type": "code",
      "metadata": {
        "id": "ucQdkXK7w_B-"
      },
      "source": [
        "gs.fit(x_train, y_train)\n",
        "gs.cv_results_\n",
        "gs.score(X_pca, new_df.IsAlert)\n",
        "gs_predict = gs.predict(X_pca)"
      ],
      "execution_count": null,
      "outputs": []
    },
    {
      "cell_type": "code",
      "metadata": {
        "id": "lCJZpz4cxBL_",
        "colab": {
          "base_uri": "https://localhost:8080/",
          "height": 50
        },
        "outputId": "854cf017-b213-4902-f6fc-e401c48967aa"
      },
      "source": [
        "confusion_matrix(new_df.IsAlert, gs_predict)\n"
      ],
      "execution_count": null,
      "outputs": [
        {
          "output_type": "execute_result",
          "data": {
            "text/plain": [
              "array([[ 4026, 12076],\n",
              "       [ 2181, 19138]])"
            ]
          },
          "metadata": {
            "tags": []
          },
          "execution_count": 30
        }
      ]
    },
    {
      "cell_type": "code",
      "metadata": {
        "id": "nb_hbHpqxH1c",
        "colab": {
          "base_uri": "https://localhost:8080/",
          "height": 34
        },
        "outputId": "097848b2-ef21-4916-ecb5-25d9cda412ca"
      },
      "source": [
        "roc_auc_score(new_df.IsAlert, gs_predict)\n",
        "#nb.fit(x_train, y_train)\n",
        "#nb.score(x_test, y_test)"
      ],
      "execution_count": null,
      "outputs": [
        {
          "output_type": "execute_result",
          "data": {
            "text/plain": [
              "0.5738639710706295"
            ]
          },
          "metadata": {
            "tags": []
          },
          "execution_count": 32
        }
      ]
    },
    {
      "cell_type": "code",
      "metadata": {
        "id": "MInr7BY9xMWF"
      },
      "source": [
        "# Cross Validated  Random Forest\n",
        "grid_forest = RandomForestClassifier(random_state = 42)\n",
        "hyperparams = [{'n_estimators':[5, 10 ,50]}]\n",
        "grid_search = GridSearchCV(grid_forest, hyperparams, cv = 10, scoring = 'neg_mean_squared_error')\n"
      ],
      "execution_count": null,
      "outputs": []
    },
    {
      "cell_type": "code",
      "metadata": {
        "id": "Zjqk8MqQxOUc",
        "colab": {
          "base_uri": "https://localhost:8080/",
          "height": 336
        },
        "outputId": "85ac348e-95fa-4f7d-9494-fc091c85067b"
      },
      "source": [
        "grid_search.fit(x_train, y_train)\n"
      ],
      "execution_count": null,
      "outputs": [
        {
          "output_type": "execute_result",
          "data": {
            "text/plain": [
              "GridSearchCV(cv=10, error_score=nan,\n",
              "             estimator=RandomForestClassifier(bootstrap=True, ccp_alpha=0.0,\n",
              "                                              class_weight=None,\n",
              "                                              criterion='gini', max_depth=None,\n",
              "                                              max_features='auto',\n",
              "                                              max_leaf_nodes=None,\n",
              "                                              max_samples=None,\n",
              "                                              min_impurity_decrease=0.0,\n",
              "                                              min_impurity_split=None,\n",
              "                                              min_samples_leaf=1,\n",
              "                                              min_samples_split=2,\n",
              "                                              min_weight_fraction_leaf=0.0,\n",
              "                                              n_estimators=100, n_jobs=None,\n",
              "                                              oob_score=False, random_state=42,\n",
              "                                              verbose=0, warm_start=False),\n",
              "             iid='deprecated', n_jobs=None,\n",
              "             param_grid=[{'n_estimators': [5, 10, 50]}],\n",
              "             pre_dispatch='2*n_jobs', refit=True, return_train_score=False,\n",
              "             scoring='neg_mean_squared_error', verbose=0)"
            ]
          },
          "metadata": {
            "tags": []
          },
          "execution_count": 34
        }
      ]
    },
    {
      "cell_type": "code",
      "metadata": {
        "id": "6guzpGANxsW9"
      },
      "source": [
        "selected_model = grid_search.best_estimator_"
      ],
      "execution_count": null,
      "outputs": []
    },
    {
      "cell_type": "code",
      "metadata": {
        "id": "BQOOflKnxzsO",
        "colab": {
          "base_uri": "https://localhost:8080/",
          "height": 50
        },
        "outputId": "49b2f489-0597-4f06-9bbd-b3b6ad6004a8"
      },
      "source": [
        "print ('Grid winner', selected_model.score(x_test, y_test))\n",
        "selected_model.score(X_pca, new_df.IsAlert)"
      ],
      "execution_count": null,
      "outputs": [
        {
          "output_type": "stream",
          "text": [
            "Grid winner 0.7658187259512612\n"
          ],
          "name": "stdout"
        },
        {
          "output_type": "execute_result",
          "data": {
            "text/plain": [
              "0.9414499879746666"
            ]
          },
          "metadata": {
            "tags": []
          },
          "execution_count": 36
        }
      ]
    },
    {
      "cell_type": "code",
      "metadata": {
        "id": "38AU2lpAx7yh"
      },
      "source": [
        "randomfpred = grid_search.predict(X_pca)\n"
      ],
      "execution_count": null,
      "outputs": []
    },
    {
      "cell_type": "code",
      "metadata": {
        "id": "VMI-ndq1oQqH",
        "colab": {
          "base_uri": "https://localhost:8080/",
          "height": 50
        },
        "outputId": "bc5edaeb-0bab-40b8-841d-e272d56a6866"
      },
      "source": [
        "confusion_matrix(new_df.IsAlert, randomfpred)"
      ],
      "execution_count": null,
      "outputs": [
        {
          "output_type": "execute_result",
          "data": {
            "text/plain": [
              "array([[14535,  1567],\n",
              "       [  624, 20695]])"
            ]
          },
          "metadata": {
            "tags": []
          },
          "execution_count": 38
        }
      ]
    },
    {
      "cell_type": "code",
      "metadata": {
        "id": "TlL1My5ryDFR",
        "colab": {
          "base_uri": "https://localhost:8080/",
          "height": 34
        },
        "outputId": "afe02f3a-c6d5-44e2-e858-cd3d085af278"
      },
      "source": [
        "roc_auc_score(new_df.IsAlert, randomfpred)"
      ],
      "execution_count": null,
      "outputs": [
        {
          "output_type": "execute_result",
          "data": {
            "text/plain": [
              "0.9367066154890232"
            ]
          },
          "metadata": {
            "tags": []
          },
          "execution_count": 39
        }
      ]
    },
    {
      "cell_type": "code",
      "metadata": {
        "id": "-cM7kxsCyJpy"
      },
      "source": [
        "import pickle\n",
        "from joblib import dump, load\n"
      ],
      "execution_count": null,
      "outputs": []
    },
    {
      "cell_type": "code",
      "metadata": {
        "id": "HKnD8zkmyLaf"
      },
      "source": [
        "dump(grid_search, 'randomforest.joblib')\n",
        "rf_2 = load('randomforest.joblib') \n",
        "rf_2.best_estimator_.score(X_pca, new_df.IsAlert)\n",
        "randomfpred_2 = rf_2.predict(X_pca)"
      ],
      "execution_count": null,
      "outputs": []
    },
    {
      "cell_type": "code",
      "metadata": {
        "id": "3H4goo5UyQ4I",
        "colab": {
          "base_uri": "https://localhost:8080/",
          "height": 50
        },
        "outputId": "dba382f4-1ab9-4152-e19b-7e88e5b459d6"
      },
      "source": [
        "confusion_matrix(new_df.IsAlert, randomfpred_2)\n"
      ],
      "execution_count": null,
      "outputs": [
        {
          "output_type": "execute_result",
          "data": {
            "text/plain": [
              "array([[14535,  1567],\n",
              "       [  624, 20695]])"
            ]
          },
          "metadata": {
            "tags": []
          },
          "execution_count": 42
        }
      ]
    },
    {
      "cell_type": "code",
      "metadata": {
        "id": "JIbF0VMQoY68",
        "colab": {
          "base_uri": "https://localhost:8080/",
          "height": 34
        },
        "outputId": "0de88ab5-c59f-42de-d592-6545440f2132"
      },
      "source": [
        "roc_auc_score(new_df.IsAlert, randomfpred_2)"
      ],
      "execution_count": null,
      "outputs": [
        {
          "output_type": "execute_result",
          "data": {
            "text/plain": [
              "0.9367066154890232"
            ]
          },
          "metadata": {
            "tags": []
          },
          "execution_count": 43
        }
      ]
    },
    {
      "cell_type": "markdown",
      "metadata": {
        "id": "Fqx9qjWRybj-"
      },
      "source": [
        "# Support Vector Machine & Neural Network"
      ]
    },
    {
      "cell_type": "code",
      "metadata": {
        "id": "CTa7312ByWGh"
      },
      "source": [
        "lisvc = LinearSVC(random_state=42, tol=1e-5)\n",
        "svcgridsearch = GridSearchCV(lisvc, cv = skf, param_grid = params, return_train_score = True)\n",
        "svcgridsearch.fit(x_train, y_train) # Failed to convergence\n"
      ],
      "execution_count": null,
      "outputs": []
    },
    {
      "cell_type": "code",
      "metadata": {
        "id": "uZ52cDL4yrSD"
      },
      "source": [
        "svcgridsearch.cv_results_\n",
        "svcgridsearch.score(X_pca, new_df.IsAlert)\n",
        "lisvc_predict = svcgridsearch.predict(X_pca)\n"
      ],
      "execution_count": null,
      "outputs": []
    },
    {
      "cell_type": "code",
      "metadata": {
        "id": "dQ6OXg-VyvmU",
        "colab": {
          "base_uri": "https://localhost:8080/",
          "height": 50
        },
        "outputId": "abd7032c-ab50-4492-9050-2fc56d7cb1c9"
      },
      "source": [
        "confusion_matrix(new_df.IsAlert, lisvc_predict)"
      ],
      "execution_count": null,
      "outputs": [
        {
          "output_type": "execute_result",
          "data": {
            "text/plain": [
              "array([[ 4008, 12094],\n",
              "       [ 1216, 20103]])"
            ]
          },
          "metadata": {
            "tags": []
          },
          "execution_count": 46
        }
      ]
    },
    {
      "cell_type": "code",
      "metadata": {
        "id": "omyMhAxXyzbD",
        "colab": {
          "base_uri": "https://localhost:8080/",
          "height": 34
        },
        "outputId": "ba8c8ba3-ffd1-46c2-93ff-3976080c200f"
      },
      "source": [
        "roc_auc_score(new_df.IsAlert, lisvc_predict)"
      ],
      "execution_count": null,
      "outputs": [
        {
          "output_type": "execute_result",
          "data": {
            "text/plain": [
              "0.595937427932066"
            ]
          },
          "metadata": {
            "tags": []
          },
          "execution_count": 47
        }
      ]
    },
    {
      "cell_type": "code",
      "metadata": {
        "id": "iXnSU1mc7dLL"
      },
      "source": [
        "#accuracy 64.43%"
      ],
      "execution_count": null,
      "outputs": []
    },
    {
      "cell_type": "markdown",
      "metadata": {
        "id": "-bmb9YOozFfK"
      },
      "source": [
        "# Epsilon - Support Vecto Regression"
      ]
    },
    {
      "cell_type": "code",
      "metadata": {
        "id": "Kj7cE2rozHgK"
      },
      "source": [
        "from sklearn.svm import SVR"
      ],
      "execution_count": null,
      "outputs": []
    },
    {
      "cell_type": "code",
      "metadata": {
        "id": "2Fkzf0tGzOFe"
      },
      "source": [
        "svr = SVR(gamma='scale', C=1.0, epsilon=0.2)"
      ],
      "execution_count": null,
      "outputs": []
    },
    {
      "cell_type": "code",
      "metadata": {
        "id": "gOVpXqoJzR1c"
      },
      "source": [
        "svrgridsearch = GridSearchCV(svr, cv = skf, param_grid = params, return_train_score = True)\n",
        "svrgridsearch.fit(x_train, y_train) "
      ],
      "execution_count": null,
      "outputs": []
    },
    {
      "cell_type": "code",
      "metadata": {
        "id": "wrG9rF-zz1_v"
      },
      "source": [
        "svrgridsearch.cv_results_\n",
        "svrgridsearch.score(X_pca, new_df.IsAlert)\n",
        "svr_predict = svrgridsearch.predict(X_pca)"
      ],
      "execution_count": null,
      "outputs": []
    },
    {
      "cell_type": "code",
      "metadata": {
        "id": "olXsmwZX47lk",
        "colab": {
          "base_uri": "https://localhost:8080/",
          "height": 50
        },
        "outputId": "c5a8376c-13a1-4f1c-9108-756dad7d1cac"
      },
      "source": [
        "svr_predict\n"
      ],
      "execution_count": null,
      "outputs": [
        {
          "output_type": "execute_result",
          "data": {
            "text/plain": [
              "array([0.76921565, 0.7748565 , 0.78159718, ..., 0.7642754 , 0.77192306,\n",
              "       0.7838266 ])"
            ]
          },
          "metadata": {
            "tags": []
          },
          "execution_count": 63
        }
      ]
    },
    {
      "cell_type": "code",
      "metadata": {
        "id": "WXjSIG9Z6C2r",
        "colab": {
          "base_uri": "https://localhost:8080/",
          "height": 34
        },
        "outputId": "1b066ca8-e7ab-4910-9330-a845492ee200"
      },
      "source": [
        "roc_auc_score(new_df.IsAlert, svr_predict)"
      ],
      "execution_count": null,
      "outputs": [
        {
          "output_type": "execute_result",
          "data": {
            "text/plain": [
              "0.7192060139804022"
            ]
          },
          "metadata": {
            "tags": []
          },
          "execution_count": 64
        }
      ]
    },
    {
      "cell_type": "markdown",
      "metadata": {
        "id": "amv0tcuK6HkR"
      },
      "source": [
        "# C - Support Vector Regression"
      ]
    },
    {
      "cell_type": "code",
      "metadata": {
        "id": "Uc4MckUR6JB6"
      },
      "source": [
        "from sklearn.svm import SVC "
      ],
      "execution_count": null,
      "outputs": []
    },
    {
      "cell_type": "code",
      "metadata": {
        "id": "6G30XBSq6M0D",
        "colab": {
          "base_uri": "https://localhost:8080/",
          "height": 202
        },
        "outputId": "efdf6a77-8218-4aa0-ba51-bb1cc8418e54"
      },
      "source": [
        "svc = SVC(gamma='auto')\n",
        "svcgridsearch = GridSearchCV(svc, cv = skf, param_grid = params, return_train_score = True)\n",
        "svcgridsearch.fit(x_train, y_train) "
      ],
      "execution_count": null,
      "outputs": [
        {
          "output_type": "execute_result",
          "data": {
            "text/plain": [
              "GridSearchCV(cv=StratifiedKFold(n_splits=10, random_state=None, shuffle=False),\n",
              "             error_score=nan,\n",
              "             estimator=SVC(C=1.0, break_ties=False, cache_size=200,\n",
              "                           class_weight=None, coef0=0.0,\n",
              "                           decision_function_shape='ovr', degree=3,\n",
              "                           gamma='auto', kernel='rbf', max_iter=-1,\n",
              "                           probability=False, random_state=None, shrinking=True,\n",
              "                           tol=0.001, verbose=False),\n",
              "             iid='deprecated', n_jobs=None, param_grid={},\n",
              "             pre_dispatch='2*n_jobs', refit=True, return_train_score=True,\n",
              "             scoring=None, verbose=0)"
            ]
          },
          "metadata": {
            "tags": []
          },
          "execution_count": 66
        }
      ]
    },
    {
      "cell_type": "code",
      "metadata": {
        "id": "GwWcAbAaBtm6"
      },
      "source": [
        "svcgridsearch.cv_results_\n",
        "svcgridsearch.score(X_pca, new_df.IsAlert)\n",
        "svc_predict = svcgridsearch.predict(X_pca)"
      ],
      "execution_count": null,
      "outputs": []
    },
    {
      "cell_type": "code",
      "metadata": {
        "id": "1NC8Sq_kGizC",
        "colab": {
          "base_uri": "https://localhost:8080/",
          "height": 50
        },
        "outputId": "f65c003c-b552-40ff-d804-9286d8593236"
      },
      "source": [
        "confusion_matrix(new_df.IsAlert, svc_predict)"
      ],
      "execution_count": null,
      "outputs": [
        {
          "output_type": "execute_result",
          "data": {
            "text/plain": [
              "array([[ 4358, 11744],\n",
              "       [  398, 20921]])"
            ]
          },
          "metadata": {
            "tags": []
          },
          "execution_count": 68
        }
      ]
    },
    {
      "cell_type": "code",
      "metadata": {
        "id": "Aj6fAQk5Gnlb",
        "colab": {
          "base_uri": "https://localhost:8080/",
          "height": 34
        },
        "outputId": "28cc565d-aa39-4b26-d216-4d222f915d53"
      },
      "source": [
        "roc_auc_score(new_df.IsAlert, svc_predict)"
      ],
      "execution_count": null,
      "outputs": [
        {
          "output_type": "execute_result",
          "data": {
            "text/plain": [
              "0.6259904078244471"
            ]
          },
          "metadata": {
            "tags": []
          },
          "execution_count": 69
        }
      ]
    },
    {
      "cell_type": "markdown",
      "metadata": {
        "id": "Lg62j9WzGuiL"
      },
      "source": [
        "# Neural Network"
      ]
    },
    {
      "cell_type": "code",
      "metadata": {
        "id": "2NMV748MGrp_"
      },
      "source": [
        "from sklearn.neural_network import MLPClassifier"
      ],
      "execution_count": null,
      "outputs": []
    },
    {
      "cell_type": "code",
      "metadata": {
        "id": "pPwhlHQ_G0xs"
      },
      "source": [
        "nn1 = MLPClassifier(solver='lbfgs', alpha=1e-5,hidden_layer_sizes=(5, 2), random_state=1)\n",
        "nngridsearch = GridSearchCV(nn1, cv = skf, param_grid = params, return_train_score = True)\n",
        "nngridsearch.fit(x_train, y_train) \n"
      ],
      "execution_count": null,
      "outputs": []
    },
    {
      "cell_type": "code",
      "metadata": {
        "id": "EqbmOFVvHEkq"
      },
      "source": [
        "nngridsearch.cv_results_\n",
        "nngridsearch.score(X_pca, new_df.IsAlert)\n",
        "nn_predict = nngridsearch.predict(X_pca)\n"
      ],
      "execution_count": null,
      "outputs": []
    },
    {
      "cell_type": "code",
      "metadata": {
        "id": "F1LR0cUxHJpD",
        "colab": {
          "base_uri": "https://localhost:8080/",
          "height": 50
        },
        "outputId": "9aa9df70-406d-4f99-ec5c-b76ed980d071"
      },
      "source": [
        "confusion_matrix(new_df.IsAlert, nn_predict)"
      ],
      "execution_count": null,
      "outputs": [
        {
          "output_type": "execute_result",
          "data": {
            "text/plain": [
              "array([[ 4205, 11897],\n",
              "       [ 1205, 20114]])"
            ]
          },
          "metadata": {
            "tags": []
          },
          "execution_count": 78
        }
      ]
    },
    {
      "cell_type": "code",
      "metadata": {
        "id": "Mm5szRSuHOAd",
        "colab": {
          "base_uri": "https://localhost:8080/",
          "height": 34
        },
        "outputId": "d7b4759a-c372-43b4-af54-ed177993cacd"
      },
      "source": [
        "roc_auc_score(new_df.IsAlert, nn_predict)"
      ],
      "execution_count": null,
      "outputs": [
        {
          "output_type": "execute_result",
          "data": {
            "text/plain": [
              "0.6023126662815139"
            ]
          },
          "metadata": {
            "tags": []
          },
          "execution_count": 79
        }
      ]
    },
    {
      "cell_type": "markdown",
      "metadata": {
        "id": "BRgfn-aAozYJ"
      },
      "source": [
        "#Model2"
      ]
    },
    {
      "cell_type": "markdown",
      "metadata": {
        "id": "O-XHQNXqo3n0"
      },
      "source": [
        "Use rolling means and std of each attribute as new features"
      ]
    },
    {
      "cell_type": "code",
      "metadata": {
        "id": "RakIjJlmojIf"
      },
      "source": [
        "train_new = pd.DataFrame() # New df\n",
        "#train_new\n",
        "for i in range(0, max(train.TrialID)+1): # Within each trial\n",
        "    temp_data = train[train['TrialID'] == i] # Create a temporary df for each trial\n",
        "    for j in list(train)[3:]: # For all the attributes of each trial\n",
        "#        print (train_2[train_2['TrialID'] == i][j])\n",
        "        temp_data['m{}'.format(j)] = train[train['TrialID'] == i][j].rolling(window = 5).mean() # Create the Rolling mean\n",
        "        temp_data['sd{}'.format(j)] = train[train['TrialID'] == i][j].rolling(window = 5).std() # Create the Rolling Std\n",
        "    train_new = train_new.append(temp_data)"
      ],
      "execution_count": null,
      "outputs": []
    },
    {
      "cell_type": "code",
      "metadata": {
        "id": "c6LIAehsqIJM"
      },
      "source": [
        "train_new = train_new.fillna(0) # Missing Value"
      ],
      "execution_count": null,
      "outputs": []
    },
    {
      "cell_type": "markdown",
      "metadata": {
        "id": "hlLGQjJ5qMVA"
      },
      "source": [
        "#Data partition"
      ]
    },
    {
      "cell_type": "code",
      "metadata": {
        "id": "Iwsx7fh5qKMm"
      },
      "source": [
        "train_new = train_new.drop(columns = ['TrialID', 'ObsNum', 'IsAlert']) # Drop unneccessary columns\n",
        "\n",
        "X_train, X_test, y_train, y_test = train_test_split(train_new, train.IsAlert, test_size = 0.2, random_state = 23)"
      ],
      "execution_count": null,
      "outputs": []
    },
    {
      "cell_type": "code",
      "metadata": {
        "id": "1F2-hLKsqVYp",
        "colab": {
          "base_uri": "https://localhost:8080/",
          "height": 422
        },
        "outputId": "ca7bfeec-a027-444f-d5f8-c2d93fc0013d"
      },
      "source": [
        "train_new"
      ],
      "execution_count": null,
      "outputs": [
        {
          "output_type": "execute_result",
          "data": {
            "text/html": [
              "<div>\n",
              "<style scoped>\n",
              "    .dataframe tbody tr th:only-of-type {\n",
              "        vertical-align: middle;\n",
              "    }\n",
              "\n",
              "    .dataframe tbody tr th {\n",
              "        vertical-align: top;\n",
              "    }\n",
              "\n",
              "    .dataframe thead th {\n",
              "        text-align: right;\n",
              "    }\n",
              "</style>\n",
              "<table border=\"1\" class=\"dataframe\">\n",
              "  <thead>\n",
              "    <tr style=\"text-align: right;\">\n",
              "      <th></th>\n",
              "      <th>P1</th>\n",
              "      <th>P2</th>\n",
              "      <th>P3</th>\n",
              "      <th>P4</th>\n",
              "      <th>P5</th>\n",
              "      <th>P6</th>\n",
              "      <th>P7</th>\n",
              "      <th>P8</th>\n",
              "      <th>E1</th>\n",
              "      <th>E2</th>\n",
              "      <th>E3</th>\n",
              "      <th>E4</th>\n",
              "      <th>E5</th>\n",
              "      <th>E6</th>\n",
              "      <th>E7</th>\n",
              "      <th>E8</th>\n",
              "      <th>E9</th>\n",
              "      <th>E10</th>\n",
              "      <th>E11</th>\n",
              "      <th>V1</th>\n",
              "      <th>V2</th>\n",
              "      <th>V3</th>\n",
              "      <th>V4</th>\n",
              "      <th>V5</th>\n",
              "      <th>V6</th>\n",
              "      <th>V7</th>\n",
              "      <th>V8</th>\n",
              "      <th>V9</th>\n",
              "      <th>V10</th>\n",
              "      <th>V11</th>\n",
              "      <th>mP1</th>\n",
              "      <th>sdP1</th>\n",
              "      <th>mP2</th>\n",
              "      <th>sdP2</th>\n",
              "      <th>mP3</th>\n",
              "      <th>sdP3</th>\n",
              "      <th>mP4</th>\n",
              "      <th>sdP4</th>\n",
              "      <th>mP5</th>\n",
              "      <th>sdP5</th>\n",
              "      <th>...</th>\n",
              "      <th>mE3</th>\n",
              "      <th>sdE3</th>\n",
              "      <th>mE4</th>\n",
              "      <th>sdE4</th>\n",
              "      <th>mE5</th>\n",
              "      <th>sdE5</th>\n",
              "      <th>mE6</th>\n",
              "      <th>sdE6</th>\n",
              "      <th>mE7</th>\n",
              "      <th>sdE7</th>\n",
              "      <th>mE8</th>\n",
              "      <th>sdE8</th>\n",
              "      <th>mE9</th>\n",
              "      <th>sdE9</th>\n",
              "      <th>mE10</th>\n",
              "      <th>sdE10</th>\n",
              "      <th>mE11</th>\n",
              "      <th>sdE11</th>\n",
              "      <th>mV1</th>\n",
              "      <th>sdV1</th>\n",
              "      <th>mV2</th>\n",
              "      <th>sdV2</th>\n",
              "      <th>mV3</th>\n",
              "      <th>sdV3</th>\n",
              "      <th>mV4</th>\n",
              "      <th>sdV4</th>\n",
              "      <th>mV5</th>\n",
              "      <th>sdV5</th>\n",
              "      <th>mV6</th>\n",
              "      <th>sdV6</th>\n",
              "      <th>mV7</th>\n",
              "      <th>sdV7</th>\n",
              "      <th>mV8</th>\n",
              "      <th>sdV8</th>\n",
              "      <th>mV9</th>\n",
              "      <th>sdV9</th>\n",
              "      <th>mV10</th>\n",
              "      <th>sdV10</th>\n",
              "      <th>mV11</th>\n",
              "      <th>sdV11</th>\n",
              "    </tr>\n",
              "  </thead>\n",
              "  <tbody>\n",
              "    <tr>\n",
              "      <th>0</th>\n",
              "      <td>34.7406</td>\n",
              "      <td>9.84593</td>\n",
              "      <td>1400</td>\n",
              "      <td>42.8571</td>\n",
              "      <td>0.290601</td>\n",
              "      <td>572</td>\n",
              "      <td>104.8950</td>\n",
              "      <td>0</td>\n",
              "      <td>0.000</td>\n",
              "      <td>0.00</td>\n",
              "      <td>1</td>\n",
              "      <td>-20</td>\n",
              "      <td>0.015875</td>\n",
              "      <td>324</td>\n",
              "      <td>1</td>\n",
              "      <td>1</td>\n",
              "      <td>1</td>\n",
              "      <td>57</td>\n",
              "      <td>0.0</td>\n",
              "      <td>101.96</td>\n",
              "      <td>0.175</td>\n",
              "      <td>752</td>\n",
              "      <td>5.99375</td>\n",
              "      <td>0</td>\n",
              "      <td>2005</td>\n",
              "      <td>0</td>\n",
              "      <td>13.4</td>\n",
              "      <td>0</td>\n",
              "      <td>4</td>\n",
              "      <td>14.8004</td>\n",
              "      <td>0.00000</td>\n",
              "      <td>0.000000</td>\n",
              "      <td>0.000000</td>\n",
              "      <td>0.000000</td>\n",
              "      <td>0.0</td>\n",
              "      <td>0.000000</td>\n",
              "      <td>0.0000</td>\n",
              "      <td>0.000000</td>\n",
              "      <td>0.000000</td>\n",
              "      <td>0.000000</td>\n",
              "      <td>...</td>\n",
              "      <td>0.0</td>\n",
              "      <td>0.000000e+00</td>\n",
              "      <td>0.0</td>\n",
              "      <td>0.0</td>\n",
              "      <td>0.000000</td>\n",
              "      <td>0.0</td>\n",
              "      <td>0.0</td>\n",
              "      <td>0.000000</td>\n",
              "      <td>0.0</td>\n",
              "      <td>0.0</td>\n",
              "      <td>0.0</td>\n",
              "      <td>0.0</td>\n",
              "      <td>0.0</td>\n",
              "      <td>0.000000e+00</td>\n",
              "      <td>0.0</td>\n",
              "      <td>0.000000</td>\n",
              "      <td>0.0</td>\n",
              "      <td>0.0</td>\n",
              "      <td>0.000</td>\n",
              "      <td>0.000000</td>\n",
              "      <td>0.000</td>\n",
              "      <td>0.000000</td>\n",
              "      <td>0.0</td>\n",
              "      <td>0.000000</td>\n",
              "      <td>0.00000</td>\n",
              "      <td>0.000000</td>\n",
              "      <td>0.0</td>\n",
              "      <td>0.000000e+00</td>\n",
              "      <td>0.0</td>\n",
              "      <td>0.000000</td>\n",
              "      <td>0.0</td>\n",
              "      <td>0.0</td>\n",
              "      <td>0.00</td>\n",
              "      <td>0.000000</td>\n",
              "      <td>0.0</td>\n",
              "      <td>0.0</td>\n",
              "      <td>0.0</td>\n",
              "      <td>0.000000e+00</td>\n",
              "      <td>0.00000</td>\n",
              "      <td>0.000000</td>\n",
              "    </tr>\n",
              "    <tr>\n",
              "      <th>1</th>\n",
              "      <td>34.4215</td>\n",
              "      <td>13.41120</td>\n",
              "      <td>1400</td>\n",
              "      <td>42.8571</td>\n",
              "      <td>0.290601</td>\n",
              "      <td>572</td>\n",
              "      <td>104.8950</td>\n",
              "      <td>0</td>\n",
              "      <td>0.000</td>\n",
              "      <td>0.00</td>\n",
              "      <td>1</td>\n",
              "      <td>-20</td>\n",
              "      <td>0.015875</td>\n",
              "      <td>324</td>\n",
              "      <td>1</td>\n",
              "      <td>1</td>\n",
              "      <td>1</td>\n",
              "      <td>57</td>\n",
              "      <td>0.0</td>\n",
              "      <td>101.98</td>\n",
              "      <td>0.455</td>\n",
              "      <td>752</td>\n",
              "      <td>5.99375</td>\n",
              "      <td>0</td>\n",
              "      <td>2007</td>\n",
              "      <td>0</td>\n",
              "      <td>13.4</td>\n",
              "      <td>0</td>\n",
              "      <td>4</td>\n",
              "      <td>14.7729</td>\n",
              "      <td>0.00000</td>\n",
              "      <td>0.000000</td>\n",
              "      <td>0.000000</td>\n",
              "      <td>0.000000</td>\n",
              "      <td>0.0</td>\n",
              "      <td>0.000000</td>\n",
              "      <td>0.0000</td>\n",
              "      <td>0.000000</td>\n",
              "      <td>0.000000</td>\n",
              "      <td>0.000000</td>\n",
              "      <td>...</td>\n",
              "      <td>0.0</td>\n",
              "      <td>0.000000e+00</td>\n",
              "      <td>0.0</td>\n",
              "      <td>0.0</td>\n",
              "      <td>0.000000</td>\n",
              "      <td>0.0</td>\n",
              "      <td>0.0</td>\n",
              "      <td>0.000000</td>\n",
              "      <td>0.0</td>\n",
              "      <td>0.0</td>\n",
              "      <td>0.0</td>\n",
              "      <td>0.0</td>\n",
              "      <td>0.0</td>\n",
              "      <td>0.000000e+00</td>\n",
              "      <td>0.0</td>\n",
              "      <td>0.000000</td>\n",
              "      <td>0.0</td>\n",
              "      <td>0.0</td>\n",
              "      <td>0.000</td>\n",
              "      <td>0.000000</td>\n",
              "      <td>0.000</td>\n",
              "      <td>0.000000</td>\n",
              "      <td>0.0</td>\n",
              "      <td>0.000000</td>\n",
              "      <td>0.00000</td>\n",
              "      <td>0.000000</td>\n",
              "      <td>0.0</td>\n",
              "      <td>0.000000e+00</td>\n",
              "      <td>0.0</td>\n",
              "      <td>0.000000</td>\n",
              "      <td>0.0</td>\n",
              "      <td>0.0</td>\n",
              "      <td>0.00</td>\n",
              "      <td>0.000000</td>\n",
              "      <td>0.0</td>\n",
              "      <td>0.0</td>\n",
              "      <td>0.0</td>\n",
              "      <td>0.000000e+00</td>\n",
              "      <td>0.00000</td>\n",
              "      <td>0.000000</td>\n",
              "    </tr>\n",
              "    <tr>\n",
              "      <th>2</th>\n",
              "      <td>34.3447</td>\n",
              "      <td>15.18520</td>\n",
              "      <td>1400</td>\n",
              "      <td>42.8571</td>\n",
              "      <td>0.290601</td>\n",
              "      <td>576</td>\n",
              "      <td>104.1670</td>\n",
              "      <td>0</td>\n",
              "      <td>0.000</td>\n",
              "      <td>0.00</td>\n",
              "      <td>1</td>\n",
              "      <td>-20</td>\n",
              "      <td>0.015875</td>\n",
              "      <td>324</td>\n",
              "      <td>1</td>\n",
              "      <td>1</td>\n",
              "      <td>1</td>\n",
              "      <td>57</td>\n",
              "      <td>0.0</td>\n",
              "      <td>101.97</td>\n",
              "      <td>0.280</td>\n",
              "      <td>752</td>\n",
              "      <td>5.99375</td>\n",
              "      <td>0</td>\n",
              "      <td>2011</td>\n",
              "      <td>0</td>\n",
              "      <td>13.4</td>\n",
              "      <td>0</td>\n",
              "      <td>4</td>\n",
              "      <td>14.7736</td>\n",
              "      <td>0.00000</td>\n",
              "      <td>0.000000</td>\n",
              "      <td>0.000000</td>\n",
              "      <td>0.000000</td>\n",
              "      <td>0.0</td>\n",
              "      <td>0.000000</td>\n",
              "      <td>0.0000</td>\n",
              "      <td>0.000000</td>\n",
              "      <td>0.000000</td>\n",
              "      <td>0.000000</td>\n",
              "      <td>...</td>\n",
              "      <td>0.0</td>\n",
              "      <td>0.000000e+00</td>\n",
              "      <td>0.0</td>\n",
              "      <td>0.0</td>\n",
              "      <td>0.000000</td>\n",
              "      <td>0.0</td>\n",
              "      <td>0.0</td>\n",
              "      <td>0.000000</td>\n",
              "      <td>0.0</td>\n",
              "      <td>0.0</td>\n",
              "      <td>0.0</td>\n",
              "      <td>0.0</td>\n",
              "      <td>0.0</td>\n",
              "      <td>0.000000e+00</td>\n",
              "      <td>0.0</td>\n",
              "      <td>0.000000</td>\n",
              "      <td>0.0</td>\n",
              "      <td>0.0</td>\n",
              "      <td>0.000</td>\n",
              "      <td>0.000000</td>\n",
              "      <td>0.000</td>\n",
              "      <td>0.000000</td>\n",
              "      <td>0.0</td>\n",
              "      <td>0.000000</td>\n",
              "      <td>0.00000</td>\n",
              "      <td>0.000000</td>\n",
              "      <td>0.0</td>\n",
              "      <td>0.000000e+00</td>\n",
              "      <td>0.0</td>\n",
              "      <td>0.000000</td>\n",
              "      <td>0.0</td>\n",
              "      <td>0.0</td>\n",
              "      <td>0.00</td>\n",
              "      <td>0.000000</td>\n",
              "      <td>0.0</td>\n",
              "      <td>0.0</td>\n",
              "      <td>0.0</td>\n",
              "      <td>0.000000e+00</td>\n",
              "      <td>0.00000</td>\n",
              "      <td>0.000000</td>\n",
              "    </tr>\n",
              "    <tr>\n",
              "      <th>3</th>\n",
              "      <td>34.3421</td>\n",
              "      <td>8.84696</td>\n",
              "      <td>1400</td>\n",
              "      <td>42.8571</td>\n",
              "      <td>0.290601</td>\n",
              "      <td>576</td>\n",
              "      <td>104.1670</td>\n",
              "      <td>0</td>\n",
              "      <td>0.000</td>\n",
              "      <td>0.00</td>\n",
              "      <td>1</td>\n",
              "      <td>-20</td>\n",
              "      <td>0.015875</td>\n",
              "      <td>324</td>\n",
              "      <td>1</td>\n",
              "      <td>1</td>\n",
              "      <td>1</td>\n",
              "      <td>57</td>\n",
              "      <td>0.0</td>\n",
              "      <td>101.99</td>\n",
              "      <td>0.070</td>\n",
              "      <td>752</td>\n",
              "      <td>5.99375</td>\n",
              "      <td>0</td>\n",
              "      <td>2015</td>\n",
              "      <td>0</td>\n",
              "      <td>13.4</td>\n",
              "      <td>0</td>\n",
              "      <td>4</td>\n",
              "      <td>14.7667</td>\n",
              "      <td>0.00000</td>\n",
              "      <td>0.000000</td>\n",
              "      <td>0.000000</td>\n",
              "      <td>0.000000</td>\n",
              "      <td>0.0</td>\n",
              "      <td>0.000000</td>\n",
              "      <td>0.0000</td>\n",
              "      <td>0.000000</td>\n",
              "      <td>0.000000</td>\n",
              "      <td>0.000000</td>\n",
              "      <td>...</td>\n",
              "      <td>0.0</td>\n",
              "      <td>0.000000e+00</td>\n",
              "      <td>0.0</td>\n",
              "      <td>0.0</td>\n",
              "      <td>0.000000</td>\n",
              "      <td>0.0</td>\n",
              "      <td>0.0</td>\n",
              "      <td>0.000000</td>\n",
              "      <td>0.0</td>\n",
              "      <td>0.0</td>\n",
              "      <td>0.0</td>\n",
              "      <td>0.0</td>\n",
              "      <td>0.0</td>\n",
              "      <td>0.000000e+00</td>\n",
              "      <td>0.0</td>\n",
              "      <td>0.000000</td>\n",
              "      <td>0.0</td>\n",
              "      <td>0.0</td>\n",
              "      <td>0.000</td>\n",
              "      <td>0.000000</td>\n",
              "      <td>0.000</td>\n",
              "      <td>0.000000</td>\n",
              "      <td>0.0</td>\n",
              "      <td>0.000000</td>\n",
              "      <td>0.00000</td>\n",
              "      <td>0.000000</td>\n",
              "      <td>0.0</td>\n",
              "      <td>0.000000e+00</td>\n",
              "      <td>0.0</td>\n",
              "      <td>0.000000</td>\n",
              "      <td>0.0</td>\n",
              "      <td>0.0</td>\n",
              "      <td>0.00</td>\n",
              "      <td>0.000000</td>\n",
              "      <td>0.0</td>\n",
              "      <td>0.0</td>\n",
              "      <td>0.0</td>\n",
              "      <td>0.000000e+00</td>\n",
              "      <td>0.00000</td>\n",
              "      <td>0.000000</td>\n",
              "    </tr>\n",
              "    <tr>\n",
              "      <th>4</th>\n",
              "      <td>34.3322</td>\n",
              "      <td>14.69940</td>\n",
              "      <td>1400</td>\n",
              "      <td>42.8571</td>\n",
              "      <td>0.290601</td>\n",
              "      <td>576</td>\n",
              "      <td>104.1670</td>\n",
              "      <td>0</td>\n",
              "      <td>0.000</td>\n",
              "      <td>0.00</td>\n",
              "      <td>1</td>\n",
              "      <td>-20</td>\n",
              "      <td>0.015875</td>\n",
              "      <td>324</td>\n",
              "      <td>1</td>\n",
              "      <td>1</td>\n",
              "      <td>1</td>\n",
              "      <td>57</td>\n",
              "      <td>0.0</td>\n",
              "      <td>102.07</td>\n",
              "      <td>0.175</td>\n",
              "      <td>752</td>\n",
              "      <td>5.99375</td>\n",
              "      <td>0</td>\n",
              "      <td>2017</td>\n",
              "      <td>0</td>\n",
              "      <td>13.4</td>\n",
              "      <td>0</td>\n",
              "      <td>4</td>\n",
              "      <td>14.7757</td>\n",
              "      <td>34.43622</td>\n",
              "      <td>0.173867</td>\n",
              "      <td>12.397738</td>\n",
              "      <td>2.881599</td>\n",
              "      <td>1400.0</td>\n",
              "      <td>0.000000</td>\n",
              "      <td>42.8571</td>\n",
              "      <td>0.000000</td>\n",
              "      <td>0.290601</td>\n",
              "      <td>0.000000</td>\n",
              "      <td>...</td>\n",
              "      <td>1.0</td>\n",
              "      <td>0.000000e+00</td>\n",
              "      <td>-20.0</td>\n",
              "      <td>0.0</td>\n",
              "      <td>0.015875</td>\n",
              "      <td>0.0</td>\n",
              "      <td>324.0</td>\n",
              "      <td>0.000000</td>\n",
              "      <td>1.0</td>\n",
              "      <td>0.0</td>\n",
              "      <td>1.0</td>\n",
              "      <td>0.0</td>\n",
              "      <td>1.0</td>\n",
              "      <td>0.000000e+00</td>\n",
              "      <td>57.0</td>\n",
              "      <td>0.000000</td>\n",
              "      <td>0.0</td>\n",
              "      <td>0.0</td>\n",
              "      <td>101.994</td>\n",
              "      <td>0.043932</td>\n",
              "      <td>0.231</td>\n",
              "      <td>0.145576</td>\n",
              "      <td>752.0</td>\n",
              "      <td>0.000000</td>\n",
              "      <td>5.99375</td>\n",
              "      <td>0.000000</td>\n",
              "      <td>0.0</td>\n",
              "      <td>0.000000e+00</td>\n",
              "      <td>2011.0</td>\n",
              "      <td>5.099020</td>\n",
              "      <td>0.0</td>\n",
              "      <td>0.0</td>\n",
              "      <td>13.40</td>\n",
              "      <td>0.000000</td>\n",
              "      <td>0.0</td>\n",
              "      <td>0.0</td>\n",
              "      <td>4.0</td>\n",
              "      <td>0.000000e+00</td>\n",
              "      <td>14.77786</td>\n",
              "      <td>0.013039</td>\n",
              "    </tr>\n",
              "    <tr>\n",
              "      <th>...</th>\n",
              "      <td>...</td>\n",
              "      <td>...</td>\n",
              "      <td>...</td>\n",
              "      <td>...</td>\n",
              "      <td>...</td>\n",
              "      <td>...</td>\n",
              "      <td>...</td>\n",
              "      <td>...</td>\n",
              "      <td>...</td>\n",
              "      <td>...</td>\n",
              "      <td>...</td>\n",
              "      <td>...</td>\n",
              "      <td>...</td>\n",
              "      <td>...</td>\n",
              "      <td>...</td>\n",
              "      <td>...</td>\n",
              "      <td>...</td>\n",
              "      <td>...</td>\n",
              "      <td>...</td>\n",
              "      <td>...</td>\n",
              "      <td>...</td>\n",
              "      <td>...</td>\n",
              "      <td>...</td>\n",
              "      <td>...</td>\n",
              "      <td>...</td>\n",
              "      <td>...</td>\n",
              "      <td>...</td>\n",
              "      <td>...</td>\n",
              "      <td>...</td>\n",
              "      <td>...</td>\n",
              "      <td>...</td>\n",
              "      <td>...</td>\n",
              "      <td>...</td>\n",
              "      <td>...</td>\n",
              "      <td>...</td>\n",
              "      <td>...</td>\n",
              "      <td>...</td>\n",
              "      <td>...</td>\n",
              "      <td>...</td>\n",
              "      <td>...</td>\n",
              "      <td>...</td>\n",
              "      <td>...</td>\n",
              "      <td>...</td>\n",
              "      <td>...</td>\n",
              "      <td>...</td>\n",
              "      <td>...</td>\n",
              "      <td>...</td>\n",
              "      <td>...</td>\n",
              "      <td>...</td>\n",
              "      <td>...</td>\n",
              "      <td>...</td>\n",
              "      <td>...</td>\n",
              "      <td>...</td>\n",
              "      <td>...</td>\n",
              "      <td>...</td>\n",
              "      <td>...</td>\n",
              "      <td>...</td>\n",
              "      <td>...</td>\n",
              "      <td>...</td>\n",
              "      <td>...</td>\n",
              "      <td>...</td>\n",
              "      <td>...</td>\n",
              "      <td>...</td>\n",
              "      <td>...</td>\n",
              "      <td>...</td>\n",
              "      <td>...</td>\n",
              "      <td>...</td>\n",
              "      <td>...</td>\n",
              "      <td>...</td>\n",
              "      <td>...</td>\n",
              "      <td>...</td>\n",
              "      <td>...</td>\n",
              "      <td>...</td>\n",
              "      <td>...</td>\n",
              "      <td>...</td>\n",
              "      <td>...</td>\n",
              "      <td>...</td>\n",
              "      <td>...</td>\n",
              "      <td>...</td>\n",
              "      <td>...</td>\n",
              "      <td>...</td>\n",
              "    </tr>\n",
              "    <tr>\n",
              "      <th>604324</th>\n",
              "      <td>32.0051</td>\n",
              "      <td>10.13240</td>\n",
              "      <td>800</td>\n",
              "      <td>75.0000</td>\n",
              "      <td>0.081731</td>\n",
              "      <td>680</td>\n",
              "      <td>88.2353</td>\n",
              "      <td>0</td>\n",
              "      <td>17.807</td>\n",
              "      <td>222.11</td>\n",
              "      <td>0</td>\n",
              "      <td>0</td>\n",
              "      <td>0.016379</td>\n",
              "      <td>322</td>\n",
              "      <td>2</td>\n",
              "      <td>2</td>\n",
              "      <td>1</td>\n",
              "      <td>64</td>\n",
              "      <td>0.0</td>\n",
              "      <td>91.51</td>\n",
              "      <td>0.280</td>\n",
              "      <td>240</td>\n",
              "      <td>3.01875</td>\n",
              "      <td>0</td>\n",
              "      <td>1801</td>\n",
              "      <td>0</td>\n",
              "      <td>30.4</td>\n",
              "      <td>0</td>\n",
              "      <td>4</td>\n",
              "      <td>15.8113</td>\n",
              "      <td>32.00594</td>\n",
              "      <td>0.015251</td>\n",
              "      <td>12.199390</td>\n",
              "      <td>4.141035</td>\n",
              "      <td>696.0</td>\n",
              "      <td>142.407865</td>\n",
              "      <td>89.4444</td>\n",
              "      <td>19.778809</td>\n",
              "      <td>0.094185</td>\n",
              "      <td>0.017054</td>\n",
              "      <td>...</td>\n",
              "      <td>0.0</td>\n",
              "      <td>6.322027e-08</td>\n",
              "      <td>0.0</td>\n",
              "      <td>0.0</td>\n",
              "      <td>0.016379</td>\n",
              "      <td>0.0</td>\n",
              "      <td>322.8</td>\n",
              "      <td>0.447214</td>\n",
              "      <td>2.0</td>\n",
              "      <td>0.0</td>\n",
              "      <td>2.0</td>\n",
              "      <td>0.0</td>\n",
              "      <td>1.0</td>\n",
              "      <td>7.450581e-09</td>\n",
              "      <td>64.0</td>\n",
              "      <td>0.000001</td>\n",
              "      <td>0.0</td>\n",
              "      <td>0.0</td>\n",
              "      <td>91.378</td>\n",
              "      <td>0.092033</td>\n",
              "      <td>0.196</td>\n",
              "      <td>0.046957</td>\n",
              "      <td>240.0</td>\n",
              "      <td>0.000041</td>\n",
              "      <td>3.01875</td>\n",
              "      <td>0.000001</td>\n",
              "      <td>0.0</td>\n",
              "      <td>1.580507e-08</td>\n",
              "      <td>1794.2</td>\n",
              "      <td>3.834058</td>\n",
              "      <td>0.0</td>\n",
              "      <td>0.0</td>\n",
              "      <td>29.84</td>\n",
              "      <td>0.371484</td>\n",
              "      <td>0.0</td>\n",
              "      <td>0.0</td>\n",
              "      <td>4.0</td>\n",
              "      <td>3.204616e-08</td>\n",
              "      <td>15.82584</td>\n",
              "      <td>0.011552</td>\n",
              "    </tr>\n",
              "    <tr>\n",
              "      <th>604325</th>\n",
              "      <td>32.0393</td>\n",
              "      <td>12.45040</td>\n",
              "      <td>800</td>\n",
              "      <td>75.0000</td>\n",
              "      <td>0.081731</td>\n",
              "      <td>680</td>\n",
              "      <td>88.2353</td>\n",
              "      <td>0</td>\n",
              "      <td>17.807</td>\n",
              "      <td>222.11</td>\n",
              "      <td>0</td>\n",
              "      <td>0</td>\n",
              "      <td>0.016379</td>\n",
              "      <td>322</td>\n",
              "      <td>2</td>\n",
              "      <td>2</td>\n",
              "      <td>1</td>\n",
              "      <td>64</td>\n",
              "      <td>0.0</td>\n",
              "      <td>91.51</td>\n",
              "      <td>0.280</td>\n",
              "      <td>240</td>\n",
              "      <td>3.01875</td>\n",
              "      <td>0</td>\n",
              "      <td>1801</td>\n",
              "      <td>0</td>\n",
              "      <td>30.4</td>\n",
              "      <td>0</td>\n",
              "      <td>4</td>\n",
              "      <td>15.8018</td>\n",
              "      <td>32.01616</td>\n",
              "      <td>0.017366</td>\n",
              "      <td>11.173110</td>\n",
              "      <td>2.933390</td>\n",
              "      <td>748.0</td>\n",
              "      <td>116.275535</td>\n",
              "      <td>82.2222</td>\n",
              "      <td>16.149330</td>\n",
              "      <td>0.087958</td>\n",
              "      <td>0.013924</td>\n",
              "      <td>...</td>\n",
              "      <td>0.0</td>\n",
              "      <td>6.322027e-08</td>\n",
              "      <td>0.0</td>\n",
              "      <td>0.0</td>\n",
              "      <td>0.016379</td>\n",
              "      <td>0.0</td>\n",
              "      <td>322.6</td>\n",
              "      <td>0.547723</td>\n",
              "      <td>2.0</td>\n",
              "      <td>0.0</td>\n",
              "      <td>2.0</td>\n",
              "      <td>0.0</td>\n",
              "      <td>1.0</td>\n",
              "      <td>7.450581e-09</td>\n",
              "      <td>64.0</td>\n",
              "      <td>0.000001</td>\n",
              "      <td>0.0</td>\n",
              "      <td>0.0</td>\n",
              "      <td>91.422</td>\n",
              "      <td>0.092033</td>\n",
              "      <td>0.217</td>\n",
              "      <td>0.057511</td>\n",
              "      <td>240.0</td>\n",
              "      <td>0.000041</td>\n",
              "      <td>3.01875</td>\n",
              "      <td>0.000001</td>\n",
              "      <td>0.0</td>\n",
              "      <td>1.580507e-08</td>\n",
              "      <td>1795.8</td>\n",
              "      <td>4.764452</td>\n",
              "      <td>0.0</td>\n",
              "      <td>0.0</td>\n",
              "      <td>30.02</td>\n",
              "      <td>0.383406</td>\n",
              "      <td>0.0</td>\n",
              "      <td>0.0</td>\n",
              "      <td>4.0</td>\n",
              "      <td>3.204616e-08</td>\n",
              "      <td>15.81866</td>\n",
              "      <td>0.013353</td>\n",
              "    </tr>\n",
              "    <tr>\n",
              "      <th>604326</th>\n",
              "      <td>32.0762</td>\n",
              "      <td>10.06180</td>\n",
              "      <td>800</td>\n",
              "      <td>75.0000</td>\n",
              "      <td>0.081731</td>\n",
              "      <td>680</td>\n",
              "      <td>88.2353</td>\n",
              "      <td>0</td>\n",
              "      <td>17.807</td>\n",
              "      <td>222.11</td>\n",
              "      <td>0</td>\n",
              "      <td>0</td>\n",
              "      <td>0.016379</td>\n",
              "      <td>322</td>\n",
              "      <td>2</td>\n",
              "      <td>2</td>\n",
              "      <td>1</td>\n",
              "      <td>64</td>\n",
              "      <td>0.0</td>\n",
              "      <td>91.56</td>\n",
              "      <td>0.175</td>\n",
              "      <td>240</td>\n",
              "      <td>3.01875</td>\n",
              "      <td>0</td>\n",
              "      <td>1800</td>\n",
              "      <td>0</td>\n",
              "      <td>31.3</td>\n",
              "      <td>0</td>\n",
              "      <td>4</td>\n",
              "      <td>15.8120</td>\n",
              "      <td>32.03048</td>\n",
              "      <td>0.030216</td>\n",
              "      <td>11.158890</td>\n",
              "      <td>2.939858</td>\n",
              "      <td>800.0</td>\n",
              "      <td>0.000000</td>\n",
              "      <td>75.0000</td>\n",
              "      <td>0.000002</td>\n",
              "      <td>0.081731</td>\n",
              "      <td>0.000000</td>\n",
              "      <td>...</td>\n",
              "      <td>0.0</td>\n",
              "      <td>6.322027e-08</td>\n",
              "      <td>0.0</td>\n",
              "      <td>0.0</td>\n",
              "      <td>0.016379</td>\n",
              "      <td>0.0</td>\n",
              "      <td>322.4</td>\n",
              "      <td>0.547723</td>\n",
              "      <td>2.0</td>\n",
              "      <td>0.0</td>\n",
              "      <td>2.0</td>\n",
              "      <td>0.0</td>\n",
              "      <td>1.0</td>\n",
              "      <td>7.450581e-09</td>\n",
              "      <td>64.0</td>\n",
              "      <td>0.000001</td>\n",
              "      <td>0.0</td>\n",
              "      <td>0.0</td>\n",
              "      <td>91.476</td>\n",
              "      <td>0.072319</td>\n",
              "      <td>0.217</td>\n",
              "      <td>0.057511</td>\n",
              "      <td>240.0</td>\n",
              "      <td>0.000041</td>\n",
              "      <td>3.01875</td>\n",
              "      <td>0.000001</td>\n",
              "      <td>0.0</td>\n",
              "      <td>1.580507e-08</td>\n",
              "      <td>1797.2</td>\n",
              "      <td>4.764452</td>\n",
              "      <td>0.0</td>\n",
              "      <td>0.0</td>\n",
              "      <td>30.38</td>\n",
              "      <td>0.571839</td>\n",
              "      <td>0.0</td>\n",
              "      <td>0.0</td>\n",
              "      <td>4.0</td>\n",
              "      <td>3.204616e-08</td>\n",
              "      <td>15.81428</td>\n",
              "      <td>0.010361</td>\n",
              "    </tr>\n",
              "    <tr>\n",
              "      <th>604327</th>\n",
              "      <td>32.1154</td>\n",
              "      <td>17.84500</td>\n",
              "      <td>800</td>\n",
              "      <td>75.0000</td>\n",
              "      <td>0.081731</td>\n",
              "      <td>680</td>\n",
              "      <td>88.2353</td>\n",
              "      <td>0</td>\n",
              "      <td>17.807</td>\n",
              "      <td>222.11</td>\n",
              "      <td>0</td>\n",
              "      <td>0</td>\n",
              "      <td>0.016379</td>\n",
              "      <td>322</td>\n",
              "      <td>2</td>\n",
              "      <td>2</td>\n",
              "      <td>1</td>\n",
              "      <td>64</td>\n",
              "      <td>0.0</td>\n",
              "      <td>91.56</td>\n",
              "      <td>0.175</td>\n",
              "      <td>240</td>\n",
              "      <td>3.01875</td>\n",
              "      <td>0</td>\n",
              "      <td>1800</td>\n",
              "      <td>0</td>\n",
              "      <td>31.3</td>\n",
              "      <td>0</td>\n",
              "      <td>4</td>\n",
              "      <td>15.8270</td>\n",
              "      <td>32.05326</td>\n",
              "      <td>0.043096</td>\n",
              "      <td>11.634450</td>\n",
              "      <td>3.859495</td>\n",
              "      <td>800.0</td>\n",
              "      <td>0.000000</td>\n",
              "      <td>75.0000</td>\n",
              "      <td>0.000002</td>\n",
              "      <td>0.081731</td>\n",
              "      <td>0.000000</td>\n",
              "      <td>...</td>\n",
              "      <td>0.0</td>\n",
              "      <td>6.322027e-08</td>\n",
              "      <td>0.0</td>\n",
              "      <td>0.0</td>\n",
              "      <td>0.016379</td>\n",
              "      <td>0.0</td>\n",
              "      <td>322.2</td>\n",
              "      <td>0.447214</td>\n",
              "      <td>2.0</td>\n",
              "      <td>0.0</td>\n",
              "      <td>2.0</td>\n",
              "      <td>0.0</td>\n",
              "      <td>1.0</td>\n",
              "      <td>7.450581e-09</td>\n",
              "      <td>64.0</td>\n",
              "      <td>0.000001</td>\n",
              "      <td>0.0</td>\n",
              "      <td>0.0</td>\n",
              "      <td>91.508</td>\n",
              "      <td>0.065345</td>\n",
              "      <td>0.217</td>\n",
              "      <td>0.057511</td>\n",
              "      <td>240.0</td>\n",
              "      <td>0.000041</td>\n",
              "      <td>3.01875</td>\n",
              "      <td>0.000001</td>\n",
              "      <td>0.0</td>\n",
              "      <td>1.580507e-08</td>\n",
              "      <td>1798.8</td>\n",
              "      <td>3.834058</td>\n",
              "      <td>0.0</td>\n",
              "      <td>0.0</td>\n",
              "      <td>30.66</td>\n",
              "      <td>0.618870</td>\n",
              "      <td>0.0</td>\n",
              "      <td>0.0</td>\n",
              "      <td>4.0</td>\n",
              "      <td>3.204616e-08</td>\n",
              "      <td>15.81648</td>\n",
              "      <td>0.011875</td>\n",
              "    </tr>\n",
              "    <tr>\n",
              "      <th>604328</th>\n",
              "      <td>32.1154</td>\n",
              "      <td>17.84500</td>\n",
              "      <td>800</td>\n",
              "      <td>75.0000</td>\n",
              "      <td>0.081731</td>\n",
              "      <td>680</td>\n",
              "      <td>88.2353</td>\n",
              "      <td>0</td>\n",
              "      <td>17.807</td>\n",
              "      <td>222.11</td>\n",
              "      <td>0</td>\n",
              "      <td>0</td>\n",
              "      <td>0.016379</td>\n",
              "      <td>322</td>\n",
              "      <td>2</td>\n",
              "      <td>2</td>\n",
              "      <td>1</td>\n",
              "      <td>64</td>\n",
              "      <td>0.0</td>\n",
              "      <td>91.56</td>\n",
              "      <td>0.175</td>\n",
              "      <td>240</td>\n",
              "      <td>3.01875</td>\n",
              "      <td>0</td>\n",
              "      <td>1800</td>\n",
              "      <td>0</td>\n",
              "      <td>31.3</td>\n",
              "      <td>0</td>\n",
              "      <td>4</td>\n",
              "      <td>15.8270</td>\n",
              "      <td>32.07028</td>\n",
              "      <td>0.048257</td>\n",
              "      <td>13.666920</td>\n",
              "      <td>3.933267</td>\n",
              "      <td>800.0</td>\n",
              "      <td>0.000000</td>\n",
              "      <td>75.0000</td>\n",
              "      <td>0.000002</td>\n",
              "      <td>0.081731</td>\n",
              "      <td>0.000000</td>\n",
              "      <td>...</td>\n",
              "      <td>0.0</td>\n",
              "      <td>6.322027e-08</td>\n",
              "      <td>0.0</td>\n",
              "      <td>0.0</td>\n",
              "      <td>0.016379</td>\n",
              "      <td>0.0</td>\n",
              "      <td>322.0</td>\n",
              "      <td>0.000022</td>\n",
              "      <td>2.0</td>\n",
              "      <td>0.0</td>\n",
              "      <td>2.0</td>\n",
              "      <td>0.0</td>\n",
              "      <td>1.0</td>\n",
              "      <td>7.450581e-09</td>\n",
              "      <td>64.0</td>\n",
              "      <td>0.000001</td>\n",
              "      <td>0.0</td>\n",
              "      <td>0.0</td>\n",
              "      <td>91.540</td>\n",
              "      <td>0.027386</td>\n",
              "      <td>0.217</td>\n",
              "      <td>0.057511</td>\n",
              "      <td>240.0</td>\n",
              "      <td>0.000041</td>\n",
              "      <td>3.01875</td>\n",
              "      <td>0.000001</td>\n",
              "      <td>0.0</td>\n",
              "      <td>1.580507e-08</td>\n",
              "      <td>1800.4</td>\n",
              "      <td>0.547723</td>\n",
              "      <td>0.0</td>\n",
              "      <td>0.0</td>\n",
              "      <td>30.94</td>\n",
              "      <td>0.492950</td>\n",
              "      <td>0.0</td>\n",
              "      <td>0.0</td>\n",
              "      <td>4.0</td>\n",
              "      <td>3.204616e-08</td>\n",
              "      <td>15.81582</td>\n",
              "      <td>0.010972</td>\n",
              "    </tr>\n",
              "  </tbody>\n",
              "</table>\n",
              "<p>604329 rows × 90 columns</p>\n",
              "</div>"
            ],
            "text/plain": [
              "             P1        P2    P3  ...         sdV10      mV11     sdV11\n",
              "0       34.7406   9.84593  1400  ...  0.000000e+00   0.00000  0.000000\n",
              "1       34.4215  13.41120  1400  ...  0.000000e+00   0.00000  0.000000\n",
              "2       34.3447  15.18520  1400  ...  0.000000e+00   0.00000  0.000000\n",
              "3       34.3421   8.84696  1400  ...  0.000000e+00   0.00000  0.000000\n",
              "4       34.3322  14.69940  1400  ...  0.000000e+00  14.77786  0.013039\n",
              "...         ...       ...   ...  ...           ...       ...       ...\n",
              "604324  32.0051  10.13240   800  ...  3.204616e-08  15.82584  0.011552\n",
              "604325  32.0393  12.45040   800  ...  3.204616e-08  15.81866  0.013353\n",
              "604326  32.0762  10.06180   800  ...  3.204616e-08  15.81428  0.010361\n",
              "604327  32.1154  17.84500   800  ...  3.204616e-08  15.81648  0.011875\n",
              "604328  32.1154  17.84500   800  ...  3.204616e-08  15.81582  0.010972\n",
              "\n",
              "[604329 rows x 90 columns]"
            ]
          },
          "metadata": {
            "tags": []
          },
          "execution_count": 55
        }
      ]
    },
    {
      "cell_type": "markdown",
      "metadata": {
        "id": "VTjaCFH8qa9d"
      },
      "source": [
        "#Random Forest"
      ]
    },
    {
      "cell_type": "code",
      "metadata": {
        "id": "uyfTX83-qXta"
      },
      "source": [
        "from sklearn.ensemble import RandomForestClassifier\n",
        "\n",
        "forest = RandomForestClassifier(n_estimators = 50, random_state = 42)\n",
        "forest.fit(X_train, y_train)"
      ],
      "execution_count": null,
      "outputs": []
    },
    {
      "cell_type": "code",
      "metadata": {
        "id": "Zx9I8PyRrTFi",
        "colab": {
          "base_uri": "https://localhost:8080/",
          "height": 34
        },
        "outputId": "e6759487-7c33-49cd-aad5-021a958f0f24"
      },
      "source": [
        "forest.score(X_test, y_test)"
      ],
      "execution_count": null,
      "outputs": [
        {
          "output_type": "execute_result",
          "data": {
            "text/plain": [
              "0.9891615508083332"
            ]
          },
          "metadata": {
            "tags": []
          },
          "execution_count": 44
        }
      ]
    },
    {
      "cell_type": "code",
      "metadata": {
        "id": "wvAz6O4SrXZF"
      },
      "source": [
        "for_predict = forest.predict(X_test)"
      ],
      "execution_count": null,
      "outputs": []
    },
    {
      "cell_type": "code",
      "metadata": {
        "id": "aofsFkB5rcOF",
        "colab": {
          "base_uri": "https://localhost:8080/",
          "height": 50
        },
        "outputId": "e9f7c074-7621-496c-a729-8b8f5647d5a2"
      },
      "source": [
        "# Confusion Matrix\n",
        "confusion_matrix(y_test, for_predict)"
      ],
      "execution_count": null,
      "outputs": [
        {
          "output_type": "execute_result",
          "data": {
            "text/plain": [
              "array([[49663,  1247],\n",
              "       [   63, 69893]])"
            ]
          },
          "metadata": {
            "tags": []
          },
          "execution_count": 46
        }
      ]
    },
    {
      "cell_type": "code",
      "metadata": {
        "id": "ezOhLeCErgdq",
        "colab": {
          "base_uri": "https://localhost:8080/",
          "height": 34
        },
        "outputId": "77434d40-427c-4062-d9d7-0c8f17b8abc0"
      },
      "source": [
        "#AUC score\n",
        "roc_auc_score(y_test, for_predict)"
      ],
      "execution_count": null,
      "outputs": [
        {
          "output_type": "execute_result",
          "data": {
            "text/plain": [
              "0.987302614234641"
            ]
          },
          "metadata": {
            "tags": []
          },
          "execution_count": 50
        }
      ]
    },
    {
      "cell_type": "code",
      "metadata": {
        "id": "7fNFo4QTrk-Z"
      },
      "source": [
        "from sklearn.linear_model import LogisticRegression"
      ],
      "execution_count": null,
      "outputs": []
    },
    {
      "cell_type": "code",
      "metadata": {
        "id": "cBvfISljrp2U"
      },
      "source": [
        "logr = LogisticRegression(random_state=0, solver='saga').fit(X_train, y_train)\n"
      ],
      "execution_count": null,
      "outputs": []
    },
    {
      "cell_type": "code",
      "metadata": {
        "id": "eXGMhfAWsL7j",
        "colab": {
          "base_uri": "https://localhost:8080/",
          "height": 34
        },
        "outputId": "a4e23fe1-4ba0-4046-80ec-49219663c5e8"
      },
      "source": [
        "logr.score(X_test, y_test)\n"
      ],
      "execution_count": null,
      "outputs": [
        {
          "output_type": "execute_result",
          "data": {
            "text/plain": [
              "0.6120745288170371"
            ]
          },
          "metadata": {
            "tags": []
          },
          "execution_count": 49
        }
      ]
    },
    {
      "cell_type": "code",
      "metadata": {
        "id": "7maghZqTsOL3"
      },
      "source": [
        "logr_pred = logr.predict(X_test)"
      ],
      "execution_count": null,
      "outputs": []
    },
    {
      "cell_type": "code",
      "metadata": {
        "id": "7X0eSL_OsRo3",
        "colab": {
          "base_uri": "https://localhost:8080/",
          "height": 50
        },
        "outputId": "39cbe1fe-3aee-4641-b1ed-97107645e8c0"
      },
      "source": [
        "confusion_matrix(y_test, logr_pred)"
      ],
      "execution_count": null,
      "outputs": [
        {
          "output_type": "execute_result",
          "data": {
            "text/plain": [
              "array([[21363, 29547],\n",
              "       [17340, 52616]])"
            ]
          },
          "metadata": {
            "tags": []
          },
          "execution_count": 55
        }
      ]
    },
    {
      "cell_type": "markdown",
      "metadata": {
        "id": "fbLRiKwh1Esq"
      },
      "source": [
        "#Naïve Bayes"
      ]
    },
    {
      "cell_type": "code",
      "metadata": {
        "id": "nDJsWIkVsVRD"
      },
      "source": [
        "from sklearn.naive_bayes import GaussianNB"
      ],
      "execution_count": null,
      "outputs": []
    },
    {
      "cell_type": "code",
      "metadata": {
        "id": "Drl7Z_Jr1LmF",
        "colab": {
          "base_uri": "https://localhost:8080/",
          "height": 34
        },
        "outputId": "669354c6-fb7c-431c-db48-1f3a39cd8ccf"
      },
      "source": [
        "nb2 = GaussianNB()\n",
        "nb2.fit(X_train, y_train)"
      ],
      "execution_count": null,
      "outputs": [
        {
          "output_type": "execute_result",
          "data": {
            "text/plain": [
              "GaussianNB(priors=None, var_smoothing=1e-09)"
            ]
          },
          "metadata": {
            "tags": []
          },
          "execution_count": 57
        }
      ]
    },
    {
      "cell_type": "code",
      "metadata": {
        "id": "q5MbcT291N1x",
        "colab": {
          "base_uri": "https://localhost:8080/",
          "height": 34
        },
        "outputId": "4e46a1d1-2673-46c8-f485-2b3248e89bcf"
      },
      "source": [
        "nb2.score(X_test, y_test)"
      ],
      "execution_count": null,
      "outputs": [
        {
          "output_type": "execute_result",
          "data": {
            "text/plain": [
              "0.6286300531166746"
            ]
          },
          "metadata": {
            "tags": []
          },
          "execution_count": 58
        }
      ]
    },
    {
      "cell_type": "code",
      "metadata": {
        "id": "HXczk_N_1RFU"
      },
      "source": [
        "nb2_pred = nb2.predict(X_test)"
      ],
      "execution_count": null,
      "outputs": []
    },
    {
      "cell_type": "code",
      "metadata": {
        "id": "L6e5Poy61VKJ",
        "colab": {
          "base_uri": "https://localhost:8080/",
          "height": 50
        },
        "outputId": "e6b9b900-69ad-40bf-a827-e5bc42ec88d8"
      },
      "source": [
        "confusion_matrix(y_test, nb2_pred)"
      ],
      "execution_count": null,
      "outputs": [
        {
          "output_type": "execute_result",
          "data": {
            "text/plain": [
              "array([[44303,  6607],\n",
              "       [38279, 31677]])"
            ]
          },
          "metadata": {
            "tags": []
          },
          "execution_count": 60
        }
      ]
    },
    {
      "cell_type": "code",
      "metadata": {
        "id": "DcxdN0eh1YQz",
        "colab": {
          "base_uri": "https://localhost:8080/",
          "height": 34
        },
        "outputId": "f5da00ea-7064-46bf-9bfb-f1d12e0ab449"
      },
      "source": [
        "roc_auc_score(y_test, nb2_pred)"
      ],
      "execution_count": null,
      "outputs": [
        {
          "output_type": "execute_result",
          "data": {
            "text/plain": [
              "0.6615175785943694"
            ]
          },
          "metadata": {
            "tags": []
          },
          "execution_count": 61
        }
      ]
    },
    {
      "cell_type": "markdown",
      "metadata": {
        "id": "ubqxipHW1jfP"
      },
      "source": [
        "#Neural Network"
      ]
    },
    {
      "cell_type": "markdown",
      "metadata": {
        "id": "pH2VJeli1qxg"
      },
      "source": [
        "With four hidden layers 90 - 70 - 50 - 30"
      ]
    },
    {
      "cell_type": "code",
      "metadata": {
        "id": "zvvu2eh11iwo"
      },
      "source": [
        "from sklearn.neural_network import MLPClassifier"
      ],
      "execution_count": null,
      "outputs": []
    },
    {
      "cell_type": "code",
      "metadata": {
        "id": "mzhIivOr1u2S"
      },
      "source": [
        "nn2 = MLPClassifier(solver='adam', alpha=1e-5,activation = 'logistic',hidden_layer_sizes=(90, 70, 50, 30), random_state=1)\n",
        "nn2.fit(X_train, y_train)"
      ],
      "execution_count": null,
      "outputs": []
    },
    {
      "cell_type": "code",
      "metadata": {
        "id": "7Z32r0SN6xRp"
      },
      "source": [
        "nn2_predict = nn2.predict(X_test)\n"
      ],
      "execution_count": null,
      "outputs": []
    },
    {
      "cell_type": "code",
      "metadata": {
        "id": "6f9ScYoE7CMQ",
        "colab": {
          "base_uri": "https://localhost:8080/",
          "height": 34
        },
        "outputId": "b5b0aad4-7940-48f2-8ac2-5ff34d840e7a"
      },
      "source": [
        "nn2.score(X_test, y_test)"
      ],
      "execution_count": null,
      "outputs": [
        {
          "output_type": "execute_result",
          "data": {
            "text/plain": [
              "0.8347922492677842"
            ]
          },
          "metadata": {
            "tags": []
          },
          "execution_count": 65
        }
      ]
    },
    {
      "cell_type": "code",
      "metadata": {
        "id": "4-kVBqBE7D6M",
        "colab": {
          "base_uri": "https://localhost:8080/",
          "height": 50
        },
        "outputId": "ccf07d26-6024-4dc0-ebd2-9c2979a04670"
      },
      "source": [
        "confusion_matrix(y_test, nn2_predict)"
      ],
      "execution_count": null,
      "outputs": [
        {
          "output_type": "execute_result",
          "data": {
            "text/plain": [
              "array([[41678,  9232],\n",
              "       [10736, 59220]])"
            ]
          },
          "metadata": {
            "tags": []
          },
          "execution_count": 66
        }
      ]
    },
    {
      "cell_type": "code",
      "metadata": {
        "id": "5dJpkdhJ7HgT",
        "colab": {
          "base_uri": "https://localhost:8080/",
          "height": 34
        },
        "outputId": "7ee95363-3531-4004-c1e1-c64614c7a7e0"
      },
      "source": [
        "roc_auc_score(y_test, nn2_predict)"
      ],
      "execution_count": null,
      "outputs": [
        {
          "output_type": "execute_result",
          "data": {
            "text/plain": [
              "0.8325962434798789"
            ]
          },
          "metadata": {
            "tags": []
          },
          "execution_count": 67
        }
      ]
    },
    {
      "cell_type": "markdown",
      "metadata": {
        "id": "nW_AgfPv7UpY"
      },
      "source": [
        "#Model & Data exportation"
      ]
    },
    {
      "cell_type": "code",
      "metadata": {
        "id": "eDZq5afc7V8t"
      },
      "source": [
        "train_new['IsAlert'] = train['IsAlert']"
      ],
      "execution_count": null,
      "outputs": []
    },
    {
      "cell_type": "code",
      "metadata": {
        "id": "b0tz6vqI7aUs"
      },
      "source": [
        "from joblib import dump, load"
      ],
      "execution_count": null,
      "outputs": []
    },
    {
      "cell_type": "code",
      "metadata": {
        "id": "TCoxu1JZ7dWZ"
      },
      "source": [
        "from google.colab import drive"
      ],
      "execution_count": null,
      "outputs": []
    },
    {
      "cell_type": "code",
      "metadata": {
        "id": "i816euux7gpE",
        "colab": {
          "base_uri": "https://localhost:8080/",
          "height": 121
        },
        "outputId": "8ce8d75a-2c2b-4c9a-9bf7-d74d25653ff1"
      },
      "source": [
        "drive.mount('/content/gdrive', force_remount=True)\n",
        "root_dir = \"/content/My Drive/\""
      ],
      "execution_count": null,
      "outputs": [
        {
          "output_type": "stream",
          "text": [
            "Go to this URL in a browser: https://accounts.google.com/o/oauth2/auth?client_id=947318989803-6bn6qk8qdgf4n4g3pfee6491hc0brc4i.apps.googleusercontent.com&redirect_uri=urn%3aietf%3awg%3aoauth%3a2.0%3aoob&response_type=code&scope=email%20https%3a%2f%2fwww.googleapis.com%2fauth%2fdocs.test%20https%3a%2f%2fwww.googleapis.com%2fauth%2fdrive%20https%3a%2f%2fwww.googleapis.com%2fauth%2fdrive.photos.readonly%20https%3a%2f%2fwww.googleapis.com%2fauth%2fpeopleapi.readonly\n",
            "\n",
            "Enter your authorization code:\n",
            "··········\n",
            "Mounted at /content/gdrive\n"
          ],
          "name": "stdout"
        }
      ]
    },
    {
      "cell_type": "code",
      "metadata": {
        "id": "_pzR08R97r4e"
      },
      "source": [
        "base_dir = root_dir + 'fastai-v3/'"
      ],
      "execution_count": null,
      "outputs": []
    },
    {
      "cell_type": "code",
      "metadata": {
        "id": "FiuEjiFJ7wV-"
      },
      "source": [
        "from pathlib import Path\n",
        "path = Path(base_dir + 'data/bears')\n",
        "dest = path/'solution.csv'\n",
        "dest.mkdir(parents=True, exist_ok=True)"
      ],
      "execution_count": null,
      "outputs": []
    },
    {
      "cell_type": "code",
      "metadata": {
        "id": "z3yHOncw71Kx"
      },
      "source": [
        "train_new.to_csv('solution.csv') # Dataset exportation"
      ],
      "execution_count": null,
      "outputs": []
    },
    {
      "cell_type": "code",
      "metadata": {
        "id": "K3kl2WwG8Oo3",
        "colab": {
          "base_uri": "https://localhost:8080/",
          "height": 34
        },
        "outputId": "8484ea4d-616f-4c67-f4f8-a91ec6cea79d"
      },
      "source": [
        "dump(forest, 'mstdforest.joblib') # Model exportation\n",
        "dump(nn2, 'mstdnn.joblib')"
      ],
      "execution_count": null,
      "outputs": [
        {
          "output_type": "execute_result",
          "data": {
            "text/plain": [
              "['mstdnn.joblib']"
            ]
          },
          "metadata": {
            "tags": []
          },
          "execution_count": 80
        }
      ]
    },
    {
      "cell_type": "code",
      "metadata": {
        "id": "v_WtlWm88kSE",
        "colab": {
          "base_uri": "https://localhost:8080/",
          "height": 50
        },
        "outputId": "5f845155-f176-4435-d920-e58a7ebaaa7d"
      },
      "source": [
        "t_sc = preprocessing.scale(train_new) \n",
        "pca_2=PCA() \n",
        "pca_2.fit(t_sc) "
      ],
      "execution_count": null,
      "outputs": [
        {
          "output_type": "execute_result",
          "data": {
            "text/plain": [
              "PCA(copy=True, iterated_power='auto', n_components=None, random_state=None,\n",
              "    svd_solver='auto', tol=0.0, whiten=False)"
            ]
          },
          "metadata": {
            "tags": []
          },
          "execution_count": 81
        }
      ]
    },
    {
      "cell_type": "code",
      "metadata": {
        "id": "cSQhMaDU8xIq"
      },
      "source": [
        "t_pca=pca_2.transform(t_sc)"
      ],
      "execution_count": null,
      "outputs": []
    },
    {
      "cell_type": "code",
      "metadata": {
        "id": "AEVzj7BD826H",
        "colab": {
          "base_uri": "https://localhost:8080/",
          "height": 285
        },
        "outputId": "b1ac2cac-2eac-4a61-8986-c01a091c1e2f"
      },
      "source": [
        "y = pca_2.explained_variance_ratio_\n",
        "\n",
        "x = np.array([i for i in range(1, len(y)+1)])\n",
        "\n",
        "plt.plot(x, y, 'r-x')"
      ],
      "execution_count": null,
      "outputs": [
        {
          "output_type": "execute_result",
          "data": {
            "text/plain": [
              "[<matplotlib.lines.Line2D at 0x7f38154e2b00>]"
            ]
          },
          "metadata": {
            "tags": []
          },
          "execution_count": 83
        },
        {
          "output_type": "display_data",
          "data": {
            "image/png": "[encoded data removed]",
            "text/plain": [
              "<Figure size 432x288 with 1 Axes>"
            ]
          },
          "metadata": {
            "tags": [],
            "needs_background": "light"
          }
        }
      ]
    },
    {
      "cell_type": "code",
      "metadata": {
        "id": "NRPLJYJO89uu",
        "colab": {
          "base_uri": "https://localhost:8080/",
          "height": 34
        },
        "outputId": "242c9791-9eef-4f8b-c2d8-038787eeec6e"
      },
      "source": [
        "sum(pca_2.explained_variance_ratio_[:30])"
      ],
      "execution_count": null,
      "outputs": [
        {
          "output_type": "execute_result",
          "data": {
            "text/plain": [
              "0.8191932024944611"
            ]
          },
          "metadata": {
            "tags": []
          },
          "execution_count": 84
        }
      ]
    },
    {
      "cell_type": "code",
      "metadata": {
        "id": "7Cff0jAD9F2b",
        "colab": {
          "base_uri": "https://localhost:8080/",
          "height": 34
        },
        "outputId": "1066be91-a18b-4947-b454-647032de5cf6"
      },
      "source": [
        "t_pca = t_pca[:,:14]\n",
        "t_pca.shape"
      ],
      "execution_count": null,
      "outputs": [
        {
          "output_type": "execute_result",
          "data": {
            "text/plain": [
              "(604329, 14)"
            ]
          },
          "metadata": {
            "tags": []
          },
          "execution_count": 85
        }
      ]
    },
    {
      "cell_type": "code",
      "metadata": {
        "id": "9htfKwfu9Y_h"
      },
      "source": [
        "import pandas as pd\n",
        "import numpy as np\n",
        "import matplotlib.pyplot as plt\n",
        "from joblib import dump, load"
      ],
      "execution_count": null,
      "outputs": []
    },
    {
      "cell_type": "code",
      "metadata": {
        "id": "3TsjVHwJ9aa0"
      },
      "source": [
        "test = pd.read_csv('/content/gdrive/My Drive/test.csv')\n",
        "sol = pd.read_csv('/content/Solution.csv')\n",
        "#exp = pd.read_csv('/content/gdrive/My Drive/example_submission.csv')\n",
        "#exp = pd.read_csv('/content/featuredtrain.csv')"
      ],
      "execution_count": null,
      "outputs": []
    },
    {
      "cell_type": "code",
      "metadata": {
        "id": "sjEW4K_T959k"
      },
      "source": [
        "from sklearn.metrics import confusion_matrix\n",
        "from sklearn.metrics import roc_auc_score\n"
      ],
      "execution_count": null,
      "outputs": []
    },
    {
      "cell_type": "code",
      "metadata": {
        "id": "IFu3sJlh99ND"
      },
      "source": [
        "# Choose the three models with the best performance\n",
        "rf_pca = load('randomforest.joblib') \n",
        "rf_mstd = load('mstdforest.joblib')\n",
        "nn_mstd = load('mstdnn.joblib')"
      ],
      "execution_count": null,
      "outputs": []
    },
    {
      "cell_type": "code",
      "metadata": {
        "id": "eeeVqBGH-Bag",
        "colab": {
          "base_uri": "https://localhost:8080/",
          "height": 34
        },
        "outputId": "00782390-cdbb-4fb1-f7e7-2abbeffdc0c6"
      },
      "source": [
        "from sklearn.decomposition import PCA\n",
        "from sklearn import preprocessing\n",
        "len(test)"
      ],
      "execution_count": null,
      "outputs": [
        {
          "output_type": "execute_result",
          "data": {
            "text/plain": [
              "120840"
            ]
          },
          "metadata": {
            "tags": []
          },
          "execution_count": 112
        }
      ]
    },
    {
      "cell_type": "code",
      "metadata": {
        "id": "-oyCMB-R-FXt"
      },
      "source": [
        "pcatest = test.drop(columns = ['TrialID', 'ObsNum', 'IsAlert']) # Drop unneccessary columns"
      ],
      "execution_count": null,
      "outputs": []
    },
    {
      "cell_type": "markdown",
      "metadata": {
        "id": "pw4gUn4n-LIq"
      },
      "source": [
        "# Standarization"
      ]
    },
    {
      "cell_type": "code",
      "metadata": {
        "id": "MQ0RylyE-I-E"
      },
      "source": [
        "test_scaled = preprocessing.scale(pcatest) \n"
      ],
      "execution_count": null,
      "outputs": []
    },
    {
      "cell_type": "markdown",
      "metadata": {
        "id": "1HnzDhSy-UWu"
      },
      "source": [
        "# Principle Component Analysis"
      ]
    },
    {
      "cell_type": "code",
      "metadata": {
        "id": "akuyMa9W-Ppp"
      },
      "source": [
        "pca=PCA() \n",
        "pca.fit(pcatest) \n",
        "test_pca=pca.transform(pcatest) \n",
        "#let's check the shape of X_pca array"
      ],
      "execution_count": null,
      "outputs": []
    },
    {
      "cell_type": "code",
      "metadata": {
        "id": "MUeDqMeG9y2r",
        "colab": {
          "base_uri": "https://localhost:8080/",
          "height": 235
        },
        "outputId": "dbc95bb6-f609-48bc-8c8a-c0395aeda100"
      },
      "source": [
        "test_pca"
      ],
      "execution_count": null,
      "outputs": [
        {
          "output_type": "execute_result",
          "data": {
            "text/plain": [
              "array([[-3.55849741e+02, -7.07435598e+01, -3.33924808e+02, ...,\n",
              "         6.81162603e-15,  3.12306515e-17, -7.10860237e-30],\n",
              "       [-3.55848992e+02, -7.07436676e+01, -3.33924144e+02, ...,\n",
              "         5.76294115e-15,  3.22775623e-17, -7.05563165e-30],\n",
              "       [-3.59829045e+02, -7.08141938e+01, -3.34356948e+02, ...,\n",
              "         8.89330106e-15,  2.57242739e-17, -6.24969976e-30],\n",
              "       ...,\n",
              "       [ 1.09702325e+03, -1.57795017e+02, -1.74826911e+02, ...,\n",
              "         3.54175190e-15,  4.30785146e-17, -8.08936902e-30],\n",
              "       [ 1.09672027e+03, -1.59842179e+02, -1.89793318e+02, ...,\n",
              "         3.19791370e-15,  4.32453812e-17, -8.04798194e-30],\n",
              "       [ 1.09672027e+03, -1.59842179e+02, -1.89793318e+02, ...,\n",
              "         3.19791370e-15,  4.32453812e-17, -8.04798194e-30]])"
            ]
          },
          "metadata": {
            "tags": []
          },
          "execution_count": 127
        }
      ]
    },
    {
      "cell_type": "code",
      "metadata": {
        "id": "qJL1x80n-crP",
        "colab": {
          "base_uri": "https://localhost:8080/",
          "height": 282
        },
        "outputId": "a7ad5917-982d-44d0-ab5b-fad365574979"
      },
      "source": [
        "# Scree Plot\n",
        "y = pca.explained_variance_ratio_\n",
        "\n",
        "x = np.array([i for i in range(1, len(y)+1)])\n",
        "\n",
        "plt.plot(x, y, 'r-x')"
      ],
      "execution_count": null,
      "outputs": [
        {
          "output_type": "execute_result",
          "data": {
            "text/plain": [
              "[<matplotlib.lines.Line2D at 0x7f38152f0630>]"
            ]
          },
          "metadata": {
            "tags": []
          },
          "execution_count": 117
        },
        {
          "output_type": "display_data",
          "data": {
            "image/png": "[encoded data removed]",
            "text/plain": [
              "<Figure size 432x288 with 1 Axes>"
            ]
          },
          "metadata": {
            "tags": [],
            "needs_background": "light"
          }
        }
      ]
    },
    {
      "cell_type": "code",
      "metadata": {
        "id": "zsgLZRjz-fMG",
        "colab": {
          "base_uri": "https://localhost:8080/",
          "height": 34
        },
        "outputId": "a0e1c801-41f4-4f16-f9d6-179191c46e40"
      },
      "source": [
        "test_pca = test_pca[:,:14] # Slice the first 14 features\n",
        "test_pca.shape "
      ],
      "execution_count": null,
      "outputs": [
        {
          "output_type": "execute_result",
          "data": {
            "text/plain": [
              "(120840, 14)"
            ]
          },
          "metadata": {
            "tags": []
          },
          "execution_count": 128
        }
      ]
    },
    {
      "cell_type": "code",
      "metadata": {
        "id": "CJMB3TCz-i-_",
        "colab": {
          "base_uri": "https://localhost:8080/",
          "height": 34
        },
        "outputId": "7b92238f-6371-4bdf-c30f-89e1bb0fc4d2"
      },
      "source": [
        "sum(pca.explained_variance_ratio_[:14])"
      ],
      "execution_count": null,
      "outputs": [
        {
          "output_type": "execute_result",
          "data": {
            "text/plain": [
              "0.9999269193884548"
            ]
          },
          "metadata": {
            "tags": []
          },
          "execution_count": 129
        }
      ]
    },
    {
      "cell_type": "code",
      "metadata": {
        "id": "g1L3N5lC-mRT",
        "colab": {
          "base_uri": "https://localhost:8080/",
          "height": 34
        },
        "outputId": "3486cb4f-2baf-4bca-96be-907c500b2e89"
      },
      "source": [
        "sum(sol['Prediction'] == 0)"
      ],
      "execution_count": null,
      "outputs": [
        {
          "output_type": "execute_result",
          "data": {
            "text/plain": [
              "29914"
            ]
          },
          "metadata": {
            "tags": []
          },
          "execution_count": 130
        }
      ]
    },
    {
      "cell_type": "code",
      "metadata": {
        "id": "yw92b8U3-4GW",
        "colab": {
          "base_uri": "https://localhost:8080/",
          "height": 235
        },
        "outputId": "ff223784-6a67-4656-81d0-ddb189fe9784"
      },
      "source": [
        "test_pca"
      ],
      "execution_count": null,
      "outputs": [
        {
          "output_type": "execute_result",
          "data": {
            "text/plain": [
              "array([[-3.55849741e+02, -7.07435598e+01, -3.33924808e+02, ...,\n",
              "         6.81162603e-15,  3.12306515e-17, -7.10860237e-30],\n",
              "       [-3.55848992e+02, -7.07436676e+01, -3.33924144e+02, ...,\n",
              "         5.76294115e-15,  3.22775623e-17, -7.05563165e-30],\n",
              "       [-3.59829045e+02, -7.08141938e+01, -3.34356948e+02, ...,\n",
              "         8.89330106e-15,  2.57242739e-17, -6.24969976e-30],\n",
              "       ...,\n",
              "       [ 1.09702325e+03, -1.57795017e+02, -1.74826911e+02, ...,\n",
              "         3.54175190e-15,  4.30785146e-17, -8.08936902e-30],\n",
              "       [ 1.09672027e+03, -1.59842179e+02, -1.89793318e+02, ...,\n",
              "         3.19791370e-15,  4.32453812e-17, -8.04798194e-30],\n",
              "       [ 1.09672027e+03, -1.59842179e+02, -1.89793318e+02, ...,\n",
              "         3.19791370e-15,  4.32453812e-17, -8.04798194e-30]])"
            ]
          },
          "metadata": {
            "tags": []
          },
          "execution_count": 120
        }
      ]
    },
    {
      "cell_type": "code",
      "metadata": {
        "id": "sp1YLI-v-6C-",
        "colab": {
          "base_uri": "https://localhost:8080/",
          "height": 218
        },
        "outputId": "27443bcd-8b5a-45a8-fa2c-b9c0436b425b"
      },
      "source": [
        "sol['Prediction']"
      ],
      "execution_count": null,
      "outputs": [
        {
          "output_type": "execute_result",
          "data": {
            "text/plain": [
              "0         1\n",
              "1         1\n",
              "2         1\n",
              "3         1\n",
              "4         1\n",
              "         ..\n",
              "120835    1\n",
              "120836    1\n",
              "120837    1\n",
              "120838    1\n",
              "120839    1\n",
              "Name: Prediction, Length: 120840, dtype: int64"
            ]
          },
          "metadata": {
            "tags": []
          },
          "execution_count": 131
        }
      ]
    },
    {
      "cell_type": "code",
      "metadata": {
        "id": "fAE-2wzV-_l7",
        "colab": {
          "base_uri": "https://localhost:8080/",
          "height": 34
        },
        "outputId": "886f6d34-9d70-427c-aa1f-5683ff106454"
      },
      "source": [
        "len(test_pca)"
      ],
      "execution_count": null,
      "outputs": [
        {
          "output_type": "execute_result",
          "data": {
            "text/plain": [
              "120840"
            ]
          },
          "metadata": {
            "tags": []
          },
          "execution_count": 122
        }
      ]
    },
    {
      "cell_type": "markdown",
      "metadata": {
        "id": "wAfFJpm4_Gfv"
      },
      "source": [
        "# Evaluate the first model"
      ]
    },
    {
      "cell_type": "code",
      "metadata": {
        "id": "tLUziy_b_Env",
        "colab": {
          "base_uri": "https://localhost:8080/",
          "height": 34
        },
        "outputId": "d6f1c6a1-bcd3-4841-d363-13e4de3cb5ef"
      },
      "source": [
        "rf_pca.best_estimator_.score(test_pca, sol['Prediction'])\n"
      ],
      "execution_count": null,
      "outputs": [
        {
          "output_type": "execute_result",
          "data": {
            "text/plain": [
              "0.412785501489573"
            ]
          },
          "metadata": {
            "tags": []
          },
          "execution_count": 184
        }
      ]
    },
    {
      "cell_type": "code",
      "metadata": {
        "id": "TuIBL2LR_MBy"
      },
      "source": [
        "randomfpred = rf_pca.predict(test_pca)"
      ],
      "execution_count": null,
      "outputs": []
    },
    {
      "cell_type": "code",
      "metadata": {
        "id": "Q21G5Ijw_QoL",
        "colab": {
          "base_uri": "https://localhost:8080/",
          "height": 50
        },
        "outputId": "25a0e4e9-61d7-440c-a0e7-ee2ec143431f"
      },
      "source": [
        "confusion_matrix(sol['Prediction'], randomfpred)"
      ],
      "execution_count": null,
      "outputs": [
        {
          "output_type": "execute_result",
          "data": {
            "text/plain": [
              "array([[22571,  7343],\n",
              "       [63616, 27310]])"
            ]
          },
          "metadata": {
            "tags": []
          },
          "execution_count": 134
        }
      ]
    },
    {
      "cell_type": "code",
      "metadata": {
        "id": "6z4JOMro_V8g",
        "colab": {
          "base_uri": "https://localhost:8080/",
          "height": 34
        },
        "outputId": "d883dc29-3ad9-4600-f472-f2843bd52a24"
      },
      "source": [
        "roc_auc_score(sol['Prediction'], randomfpred)"
      ],
      "execution_count": null,
      "outputs": [
        {
          "output_type": "execute_result",
          "data": {
            "text/plain": [
              "0.5274418928995834"
            ]
          },
          "metadata": {
            "tags": []
          },
          "execution_count": 136
        }
      ]
    },
    {
      "cell_type": "markdown",
      "metadata": {
        "id": "uqOOeLZYAZkT"
      },
      "source": [
        "# Feature Engineering"
      ]
    },
    {
      "cell_type": "code",
      "metadata": {
        "id": "Yr_ccp1vAZK2"
      },
      "source": [
        "test_new = pd.DataFrame() # New df"
      ],
      "execution_count": null,
      "outputs": []
    },
    {
      "cell_type": "code",
      "metadata": {
        "id": "FXKC5zHoAd6o",
        "colab": {
          "base_uri": "https://localhost:8080/",
          "height": 218
        },
        "outputId": "dbd46bfe-6a6a-41ff-ddca-13814210e665"
      },
      "source": [
        "#train_new\n",
        "for i in range(0, max(test.TrialID)+1): # Within each trial\n",
        "    temp_data = test[test['TrialID'] == i] # Create a temporary df for each trial\n",
        "    for j in list(test)[3:]: # For all the attributes of each trial\n",
        "#        print (train_2[train_2['TrialID'] == i][j])\n",
        "        temp_data['m{}'.format(j)] = test[test['TrialID'] == i][j].rolling(window = 5).mean() # Create the Rolling mean\n",
        "        temp_data['sd{}'.format(j)] = test[test['TrialID'] == i][j].rolling(window = 5).std() # Create the Rolling Std\n",
        "    test_new = test_new.append(temp_data)\n",
        "    "
      ],
      "execution_count": null,
      "outputs": [
        {
          "output_type": "stream",
          "text": [
            "/usr/local/lib/python3.6/dist-packages/ipykernel_launcher.py:6: SettingWithCopyWarning: \n",
            "A value is trying to be set on a copy of a slice from a DataFrame.\n",
            "Try using .loc[row_indexer,col_indexer] = value instead\n",
            "\n",
            "See the caveats in the documentation: https://pandas.pydata.org/pandas-docs/stable/user_guide/indexing.html#returning-a-view-versus-a-copy\n",
            "  \n",
            "/usr/local/lib/python3.6/dist-packages/ipykernel_launcher.py:7: SettingWithCopyWarning: \n",
            "A value is trying to be set on a copy of a slice from a DataFrame.\n",
            "Try using .loc[row_indexer,col_indexer] = value instead\n",
            "\n",
            "See the caveats in the documentation: https://pandas.pydata.org/pandas-docs/stable/user_guide/indexing.html#returning-a-view-versus-a-copy\n",
            "  import sys\n"
          ],
          "name": "stderr"
        }
      ]
    },
    {
      "cell_type": "code",
      "metadata": {
        "id": "-5WUNyHrBI_Q",
        "colab": {
          "base_uri": "https://localhost:8080/",
          "height": 320
        },
        "outputId": "b015147c-97fb-4245-c028-76a008140090"
      },
      "source": [
        "test_new = test_new.fillna(0) # Missing Value\n",
        "test_new = test_new.drop(columns = ['TrialID', 'ObsNum', 'IsAlert']) # Drop unneccessary columns\n"
      ],
      "execution_count": null,
      "outputs": [
        {
          "output_type": "error",
          "ename": "KeyError",
          "evalue": "ignored",
          "traceback": [
            "\u001b[0;31m---------------------------------------------------------------------------\u001b[0m",
            "\u001b[0;31mKeyError\u001b[0m                                  Traceback (most recent call last)",
            "\u001b[0;32m<ipython-input-174-237f5e3654ef>\u001b[0m in \u001b[0;36m<module>\u001b[0;34m()\u001b[0m\n\u001b[1;32m      1\u001b[0m \u001b[0mtest_new\u001b[0m \u001b[0;34m=\u001b[0m \u001b[0mtest_new\u001b[0m\u001b[0;34m.\u001b[0m\u001b[0mfillna\u001b[0m\u001b[0;34m(\u001b[0m\u001b[0;36m0\u001b[0m\u001b[0;34m)\u001b[0m \u001b[0;31m# Missing Value\u001b[0m\u001b[0;34m\u001b[0m\u001b[0;34m\u001b[0m\u001b[0m\n\u001b[0;32m----> 2\u001b[0;31m \u001b[0mtest_new\u001b[0m \u001b[0;34m=\u001b[0m \u001b[0mtest_new\u001b[0m\u001b[0;34m.\u001b[0m\u001b[0mdrop\u001b[0m\u001b[0;34m(\u001b[0m\u001b[0mcolumns\u001b[0m \u001b[0;34m=\u001b[0m \u001b[0;34m[\u001b[0m\u001b[0;34m'TrialID'\u001b[0m\u001b[0;34m,\u001b[0m \u001b[0;34m'ObsNum'\u001b[0m\u001b[0;34m,\u001b[0m \u001b[0;34m'IsAlert'\u001b[0m\u001b[0;34m]\u001b[0m\u001b[0;34m)\u001b[0m \u001b[0;31m# Drop unneccessary columns\u001b[0m\u001b[0;34m\u001b[0m\u001b[0;34m\u001b[0m\u001b[0m\n\u001b[0m",
            "\u001b[0;32m/usr/local/lib/python3.6/dist-packages/pandas/core/frame.py\u001b[0m in \u001b[0;36mdrop\u001b[0;34m(self, labels, axis, index, columns, level, inplace, errors)\u001b[0m\n\u001b[1;32m   3995\u001b[0m             \u001b[0mlevel\u001b[0m\u001b[0;34m=\u001b[0m\u001b[0mlevel\u001b[0m\u001b[0;34m,\u001b[0m\u001b[0;34m\u001b[0m\u001b[0;34m\u001b[0m\u001b[0m\n\u001b[1;32m   3996\u001b[0m             \u001b[0minplace\u001b[0m\u001b[0;34m=\u001b[0m\u001b[0minplace\u001b[0m\u001b[0;34m,\u001b[0m\u001b[0;34m\u001b[0m\u001b[0;34m\u001b[0m\u001b[0m\n\u001b[0;32m-> 3997\u001b[0;31m             \u001b[0merrors\u001b[0m\u001b[0;34m=\u001b[0m\u001b[0merrors\u001b[0m\u001b[0;34m,\u001b[0m\u001b[0;34m\u001b[0m\u001b[0;34m\u001b[0m\u001b[0m\n\u001b[0m\u001b[1;32m   3998\u001b[0m         )\n\u001b[1;32m   3999\u001b[0m \u001b[0;34m\u001b[0m\u001b[0m\n",
            "\u001b[0;32m/usr/local/lib/python3.6/dist-packages/pandas/core/generic.py\u001b[0m in \u001b[0;36mdrop\u001b[0;34m(self, labels, axis, index, columns, level, inplace, errors)\u001b[0m\n\u001b[1;32m   3934\u001b[0m         \u001b[0;32mfor\u001b[0m \u001b[0maxis\u001b[0m\u001b[0;34m,\u001b[0m \u001b[0mlabels\u001b[0m \u001b[0;32min\u001b[0m \u001b[0maxes\u001b[0m\u001b[0;34m.\u001b[0m\u001b[0mitems\u001b[0m\u001b[0;34m(\u001b[0m\u001b[0;34m)\u001b[0m\u001b[0;34m:\u001b[0m\u001b[0;34m\u001b[0m\u001b[0;34m\u001b[0m\u001b[0m\n\u001b[1;32m   3935\u001b[0m             \u001b[0;32mif\u001b[0m \u001b[0mlabels\u001b[0m \u001b[0;32mis\u001b[0m \u001b[0;32mnot\u001b[0m \u001b[0;32mNone\u001b[0m\u001b[0;34m:\u001b[0m\u001b[0;34m\u001b[0m\u001b[0;34m\u001b[0m\u001b[0m\n\u001b[0;32m-> 3936\u001b[0;31m                 \u001b[0mobj\u001b[0m \u001b[0;34m=\u001b[0m \u001b[0mobj\u001b[0m\u001b[0;34m.\u001b[0m\u001b[0m_drop_axis\u001b[0m\u001b[0;34m(\u001b[0m\u001b[0mlabels\u001b[0m\u001b[0;34m,\u001b[0m \u001b[0maxis\u001b[0m\u001b[0;34m,\u001b[0m \u001b[0mlevel\u001b[0m\u001b[0;34m=\u001b[0m\u001b[0mlevel\u001b[0m\u001b[0;34m,\u001b[0m \u001b[0merrors\u001b[0m\u001b[0;34m=\u001b[0m\u001b[0merrors\u001b[0m\u001b[0;34m)\u001b[0m\u001b[0;34m\u001b[0m\u001b[0;34m\u001b[0m\u001b[0m\n\u001b[0m\u001b[1;32m   3937\u001b[0m \u001b[0;34m\u001b[0m\u001b[0m\n\u001b[1;32m   3938\u001b[0m         \u001b[0;32mif\u001b[0m \u001b[0minplace\u001b[0m\u001b[0;34m:\u001b[0m\u001b[0;34m\u001b[0m\u001b[0;34m\u001b[0m\u001b[0m\n",
            "\u001b[0;32m/usr/local/lib/python3.6/dist-packages/pandas/core/generic.py\u001b[0m in \u001b[0;36m_drop_axis\u001b[0;34m(self, labels, axis, level, errors)\u001b[0m\n\u001b[1;32m   3968\u001b[0m                 \u001b[0mnew_axis\u001b[0m \u001b[0;34m=\u001b[0m \u001b[0maxis\u001b[0m\u001b[0;34m.\u001b[0m\u001b[0mdrop\u001b[0m\u001b[0;34m(\u001b[0m\u001b[0mlabels\u001b[0m\u001b[0;34m,\u001b[0m \u001b[0mlevel\u001b[0m\u001b[0;34m=\u001b[0m\u001b[0mlevel\u001b[0m\u001b[0;34m,\u001b[0m \u001b[0merrors\u001b[0m\u001b[0;34m=\u001b[0m\u001b[0merrors\u001b[0m\u001b[0;34m)\u001b[0m\u001b[0;34m\u001b[0m\u001b[0;34m\u001b[0m\u001b[0m\n\u001b[1;32m   3969\u001b[0m             \u001b[0;32melse\u001b[0m\u001b[0;34m:\u001b[0m\u001b[0;34m\u001b[0m\u001b[0;34m\u001b[0m\u001b[0m\n\u001b[0;32m-> 3970\u001b[0;31m                 \u001b[0mnew_axis\u001b[0m \u001b[0;34m=\u001b[0m \u001b[0maxis\u001b[0m\u001b[0;34m.\u001b[0m\u001b[0mdrop\u001b[0m\u001b[0;34m(\u001b[0m\u001b[0mlabels\u001b[0m\u001b[0;34m,\u001b[0m \u001b[0merrors\u001b[0m\u001b[0;34m=\u001b[0m\u001b[0merrors\u001b[0m\u001b[0;34m)\u001b[0m\u001b[0;34m\u001b[0m\u001b[0;34m\u001b[0m\u001b[0m\n\u001b[0m\u001b[1;32m   3971\u001b[0m             \u001b[0mresult\u001b[0m \u001b[0;34m=\u001b[0m \u001b[0mself\u001b[0m\u001b[0;34m.\u001b[0m\u001b[0mreindex\u001b[0m\u001b[0;34m(\u001b[0m\u001b[0;34m**\u001b[0m\u001b[0;34m{\u001b[0m\u001b[0maxis_name\u001b[0m\u001b[0;34m:\u001b[0m \u001b[0mnew_axis\u001b[0m\u001b[0;34m}\u001b[0m\u001b[0;34m)\u001b[0m\u001b[0;34m\u001b[0m\u001b[0;34m\u001b[0m\u001b[0m\n\u001b[1;32m   3972\u001b[0m \u001b[0;34m\u001b[0m\u001b[0m\n",
            "\u001b[0;32m/usr/local/lib/python3.6/dist-packages/pandas/core/indexes/base.py\u001b[0m in \u001b[0;36mdrop\u001b[0;34m(self, labels, errors)\u001b[0m\n\u001b[1;32m   5016\u001b[0m         \u001b[0;32mif\u001b[0m \u001b[0mmask\u001b[0m\u001b[0;34m.\u001b[0m\u001b[0many\u001b[0m\u001b[0;34m(\u001b[0m\u001b[0;34m)\u001b[0m\u001b[0;34m:\u001b[0m\u001b[0;34m\u001b[0m\u001b[0;34m\u001b[0m\u001b[0m\n\u001b[1;32m   5017\u001b[0m             \u001b[0;32mif\u001b[0m \u001b[0merrors\u001b[0m \u001b[0;34m!=\u001b[0m \u001b[0;34m\"ignore\"\u001b[0m\u001b[0;34m:\u001b[0m\u001b[0;34m\u001b[0m\u001b[0;34m\u001b[0m\u001b[0m\n\u001b[0;32m-> 5018\u001b[0;31m                 \u001b[0;32mraise\u001b[0m \u001b[0mKeyError\u001b[0m\u001b[0;34m(\u001b[0m\u001b[0;34mf\"{labels[mask]} not found in axis\"\u001b[0m\u001b[0;34m)\u001b[0m\u001b[0;34m\u001b[0m\u001b[0;34m\u001b[0m\u001b[0m\n\u001b[0m\u001b[1;32m   5019\u001b[0m             \u001b[0mindexer\u001b[0m \u001b[0;34m=\u001b[0m \u001b[0mindexer\u001b[0m\u001b[0;34m[\u001b[0m\u001b[0;34m~\u001b[0m\u001b[0mmask\u001b[0m\u001b[0;34m]\u001b[0m\u001b[0;34m\u001b[0m\u001b[0;34m\u001b[0m\u001b[0m\n\u001b[1;32m   5020\u001b[0m         \u001b[0;32mreturn\u001b[0m \u001b[0mself\u001b[0m\u001b[0;34m.\u001b[0m\u001b[0mdelete\u001b[0m\u001b[0;34m(\u001b[0m\u001b[0mindexer\u001b[0m\u001b[0;34m)\u001b[0m\u001b[0;34m\u001b[0m\u001b[0;34m\u001b[0m\u001b[0m\n",
            "\u001b[0;31mKeyError\u001b[0m: \"['TrialID' 'ObsNum' 'IsAlert'] not found in axis\""
          ]
        }
      ]
    },
    {
      "cell_type": "code",
      "metadata": {
        "id": "anQWZYjwBVuO",
        "colab": {
          "base_uri": "https://localhost:8080/",
          "height": 422
        },
        "outputId": "0a248598-611f-41c3-b359-5e084560a276"
      },
      "source": [
        "test_new"
      ],
      "execution_count": null,
      "outputs": [
        {
          "output_type": "execute_result",
          "data": {
            "text/html": [
              "<div>\n",
              "<style scoped>\n",
              "    .dataframe tbody tr th:only-of-type {\n",
              "        vertical-align: middle;\n",
              "    }\n",
              "\n",
              "    .dataframe tbody tr th {\n",
              "        vertical-align: top;\n",
              "    }\n",
              "\n",
              "    .dataframe thead th {\n",
              "        text-align: right;\n",
              "    }\n",
              "</style>\n",
              "<table border=\"1\" class=\"dataframe\">\n",
              "  <thead>\n",
              "    <tr style=\"text-align: right;\">\n",
              "      <th></th>\n",
              "      <th>P1</th>\n",
              "      <th>P2</th>\n",
              "      <th>P3</th>\n",
              "      <th>P4</th>\n",
              "      <th>P5</th>\n",
              "      <th>P6</th>\n",
              "      <th>P7</th>\n",
              "      <th>P8</th>\n",
              "      <th>E1</th>\n",
              "      <th>E2</th>\n",
              "      <th>E3</th>\n",
              "      <th>E4</th>\n",
              "      <th>E5</th>\n",
              "      <th>E6</th>\n",
              "      <th>E7</th>\n",
              "      <th>E8</th>\n",
              "      <th>E9</th>\n",
              "      <th>E10</th>\n",
              "      <th>E11</th>\n",
              "      <th>V1</th>\n",
              "      <th>V2</th>\n",
              "      <th>V3</th>\n",
              "      <th>V4</th>\n",
              "      <th>V5</th>\n",
              "      <th>V6</th>\n",
              "      <th>V7</th>\n",
              "      <th>V8</th>\n",
              "      <th>V9</th>\n",
              "      <th>V10</th>\n",
              "      <th>V11</th>\n",
              "      <th>mP1</th>\n",
              "      <th>sdP1</th>\n",
              "      <th>mP2</th>\n",
              "      <th>sdP2</th>\n",
              "      <th>mP3</th>\n",
              "      <th>sdP3</th>\n",
              "      <th>mP4</th>\n",
              "      <th>sdP4</th>\n",
              "      <th>mP5</th>\n",
              "      <th>sdP5</th>\n",
              "      <th>...</th>\n",
              "      <th>mE3</th>\n",
              "      <th>sdE3</th>\n",
              "      <th>mE4</th>\n",
              "      <th>sdE4</th>\n",
              "      <th>mE5</th>\n",
              "      <th>sdE5</th>\n",
              "      <th>mE6</th>\n",
              "      <th>sdE6</th>\n",
              "      <th>mE7</th>\n",
              "      <th>sdE7</th>\n",
              "      <th>mE8</th>\n",
              "      <th>sdE8</th>\n",
              "      <th>mE9</th>\n",
              "      <th>sdE9</th>\n",
              "      <th>mE10</th>\n",
              "      <th>sdE10</th>\n",
              "      <th>mE11</th>\n",
              "      <th>sdE11</th>\n",
              "      <th>mV1</th>\n",
              "      <th>sdV1</th>\n",
              "      <th>mV2</th>\n",
              "      <th>sdV2</th>\n",
              "      <th>mV3</th>\n",
              "      <th>sdV3</th>\n",
              "      <th>mV4</th>\n",
              "      <th>sdV4</th>\n",
              "      <th>mV5</th>\n",
              "      <th>sdV5</th>\n",
              "      <th>mV6</th>\n",
              "      <th>sdV6</th>\n",
              "      <th>mV7</th>\n",
              "      <th>sdV7</th>\n",
              "      <th>mV8</th>\n",
              "      <th>sdV8</th>\n",
              "      <th>mV9</th>\n",
              "      <th>sdV9</th>\n",
              "      <th>mV10</th>\n",
              "      <th>sdV10</th>\n",
              "      <th>mV11</th>\n",
              "      <th>sdV11</th>\n",
              "    </tr>\n",
              "  </thead>\n",
              "  <tbody>\n",
              "    <tr>\n",
              "      <th>0</th>\n",
              "      <td>38.4294</td>\n",
              "      <td>10.94350</td>\n",
              "      <td>1000</td>\n",
              "      <td>60.0000</td>\n",
              "      <td>0.302277</td>\n",
              "      <td>508</td>\n",
              "      <td>118.1100</td>\n",
              "      <td>0</td>\n",
              "      <td>0.000</td>\n",
              "      <td>0.000</td>\n",
              "      <td>4</td>\n",
              "      <td>4</td>\n",
              "      <td>0.015434</td>\n",
              "      <td>328</td>\n",
              "      <td>1</td>\n",
              "      <td>1</td>\n",
              "      <td>1</td>\n",
              "      <td>64</td>\n",
              "      <td>0.0</td>\n",
              "      <td>108.57</td>\n",
              "      <td>0.00</td>\n",
              "      <td>255</td>\n",
              "      <td>4.50625</td>\n",
              "      <td>0</td>\n",
              "      <td>2127</td>\n",
              "      <td>0</td>\n",
              "      <td>17.6</td>\n",
              "      <td>0</td>\n",
              "      <td>4</td>\n",
              "      <td>16.1937</td>\n",
              "      <td>0.00000</td>\n",
              "      <td>0.000000</td>\n",
              "      <td>0.000000</td>\n",
              "      <td>0.000000</td>\n",
              "      <td>0.0</td>\n",
              "      <td>0.000000</td>\n",
              "      <td>0.00000</td>\n",
              "      <td>0.000000</td>\n",
              "      <td>0.000000</td>\n",
              "      <td>0.000000e+00</td>\n",
              "      <td>...</td>\n",
              "      <td>0.0</td>\n",
              "      <td>0.0</td>\n",
              "      <td>0.0</td>\n",
              "      <td>0.000000</td>\n",
              "      <td>0.000000</td>\n",
              "      <td>0.000000e+00</td>\n",
              "      <td>0.0</td>\n",
              "      <td>0.0</td>\n",
              "      <td>0.0</td>\n",
              "      <td>0.0</td>\n",
              "      <td>0.0</td>\n",
              "      <td>0.0</td>\n",
              "      <td>0.0</td>\n",
              "      <td>0.0</td>\n",
              "      <td>0.0</td>\n",
              "      <td>0.000000</td>\n",
              "      <td>0.0</td>\n",
              "      <td>0.0</td>\n",
              "      <td>0.000</td>\n",
              "      <td>0.000000</td>\n",
              "      <td>0.000</td>\n",
              "      <td>0.000000e+00</td>\n",
              "      <td>0.0</td>\n",
              "      <td>0.000000</td>\n",
              "      <td>0.00000</td>\n",
              "      <td>0.0</td>\n",
              "      <td>0.0</td>\n",
              "      <td>0.0</td>\n",
              "      <td>0.0</td>\n",
              "      <td>0.000000</td>\n",
              "      <td>0.0</td>\n",
              "      <td>0.0</td>\n",
              "      <td>0.0</td>\n",
              "      <td>0.0</td>\n",
              "      <td>0.0</td>\n",
              "      <td>0.0</td>\n",
              "      <td>0.0</td>\n",
              "      <td>0.0</td>\n",
              "      <td>0.00000</td>\n",
              "      <td>0.000000</td>\n",
              "    </tr>\n",
              "    <tr>\n",
              "      <th>1</th>\n",
              "      <td>38.3609</td>\n",
              "      <td>15.32120</td>\n",
              "      <td>1000</td>\n",
              "      <td>60.0000</td>\n",
              "      <td>0.302277</td>\n",
              "      <td>508</td>\n",
              "      <td>118.1100</td>\n",
              "      <td>0</td>\n",
              "      <td>0.000</td>\n",
              "      <td>0.000</td>\n",
              "      <td>4</td>\n",
              "      <td>4</td>\n",
              "      <td>0.015434</td>\n",
              "      <td>328</td>\n",
              "      <td>1</td>\n",
              "      <td>1</td>\n",
              "      <td>1</td>\n",
              "      <td>64</td>\n",
              "      <td>0.0</td>\n",
              "      <td>108.57</td>\n",
              "      <td>0.00</td>\n",
              "      <td>255</td>\n",
              "      <td>4.50625</td>\n",
              "      <td>0</td>\n",
              "      <td>2127</td>\n",
              "      <td>0</td>\n",
              "      <td>17.6</td>\n",
              "      <td>0</td>\n",
              "      <td>4</td>\n",
              "      <td>16.1744</td>\n",
              "      <td>0.00000</td>\n",
              "      <td>0.000000</td>\n",
              "      <td>0.000000</td>\n",
              "      <td>0.000000</td>\n",
              "      <td>0.0</td>\n",
              "      <td>0.000000</td>\n",
              "      <td>0.00000</td>\n",
              "      <td>0.000000</td>\n",
              "      <td>0.000000</td>\n",
              "      <td>0.000000e+00</td>\n",
              "      <td>...</td>\n",
              "      <td>0.0</td>\n",
              "      <td>0.0</td>\n",
              "      <td>0.0</td>\n",
              "      <td>0.000000</td>\n",
              "      <td>0.000000</td>\n",
              "      <td>0.000000e+00</td>\n",
              "      <td>0.0</td>\n",
              "      <td>0.0</td>\n",
              "      <td>0.0</td>\n",
              "      <td>0.0</td>\n",
              "      <td>0.0</td>\n",
              "      <td>0.0</td>\n",
              "      <td>0.0</td>\n",
              "      <td>0.0</td>\n",
              "      <td>0.0</td>\n",
              "      <td>0.000000</td>\n",
              "      <td>0.0</td>\n",
              "      <td>0.0</td>\n",
              "      <td>0.000</td>\n",
              "      <td>0.000000</td>\n",
              "      <td>0.000</td>\n",
              "      <td>0.000000e+00</td>\n",
              "      <td>0.0</td>\n",
              "      <td>0.000000</td>\n",
              "      <td>0.00000</td>\n",
              "      <td>0.0</td>\n",
              "      <td>0.0</td>\n",
              "      <td>0.0</td>\n",
              "      <td>0.0</td>\n",
              "      <td>0.000000</td>\n",
              "      <td>0.0</td>\n",
              "      <td>0.0</td>\n",
              "      <td>0.0</td>\n",
              "      <td>0.0</td>\n",
              "      <td>0.0</td>\n",
              "      <td>0.0</td>\n",
              "      <td>0.0</td>\n",
              "      <td>0.0</td>\n",
              "      <td>0.00000</td>\n",
              "      <td>0.000000</td>\n",
              "    </tr>\n",
              "    <tr>\n",
              "      <th>2</th>\n",
              "      <td>38.2342</td>\n",
              "      <td>11.51400</td>\n",
              "      <td>1000</td>\n",
              "      <td>60.0000</td>\n",
              "      <td>0.302277</td>\n",
              "      <td>508</td>\n",
              "      <td>118.1100</td>\n",
              "      <td>0</td>\n",
              "      <td>0.000</td>\n",
              "      <td>0.000</td>\n",
              "      <td>4</td>\n",
              "      <td>8</td>\n",
              "      <td>0.015938</td>\n",
              "      <td>328</td>\n",
              "      <td>1</td>\n",
              "      <td>1</td>\n",
              "      <td>1</td>\n",
              "      <td>65</td>\n",
              "      <td>0.0</td>\n",
              "      <td>108.65</td>\n",
              "      <td>0.07</td>\n",
              "      <td>255</td>\n",
              "      <td>4.50625</td>\n",
              "      <td>0</td>\n",
              "      <td>2131</td>\n",
              "      <td>0</td>\n",
              "      <td>17.6</td>\n",
              "      <td>0</td>\n",
              "      <td>4</td>\n",
              "      <td>16.1602</td>\n",
              "      <td>0.00000</td>\n",
              "      <td>0.000000</td>\n",
              "      <td>0.000000</td>\n",
              "      <td>0.000000</td>\n",
              "      <td>0.0</td>\n",
              "      <td>0.000000</td>\n",
              "      <td>0.00000</td>\n",
              "      <td>0.000000</td>\n",
              "      <td>0.000000</td>\n",
              "      <td>0.000000e+00</td>\n",
              "      <td>...</td>\n",
              "      <td>0.0</td>\n",
              "      <td>0.0</td>\n",
              "      <td>0.0</td>\n",
              "      <td>0.000000</td>\n",
              "      <td>0.000000</td>\n",
              "      <td>0.000000e+00</td>\n",
              "      <td>0.0</td>\n",
              "      <td>0.0</td>\n",
              "      <td>0.0</td>\n",
              "      <td>0.0</td>\n",
              "      <td>0.0</td>\n",
              "      <td>0.0</td>\n",
              "      <td>0.0</td>\n",
              "      <td>0.0</td>\n",
              "      <td>0.0</td>\n",
              "      <td>0.000000</td>\n",
              "      <td>0.0</td>\n",
              "      <td>0.0</td>\n",
              "      <td>0.000</td>\n",
              "      <td>0.000000</td>\n",
              "      <td>0.000</td>\n",
              "      <td>0.000000e+00</td>\n",
              "      <td>0.0</td>\n",
              "      <td>0.000000</td>\n",
              "      <td>0.00000</td>\n",
              "      <td>0.0</td>\n",
              "      <td>0.0</td>\n",
              "      <td>0.0</td>\n",
              "      <td>0.0</td>\n",
              "      <td>0.000000</td>\n",
              "      <td>0.0</td>\n",
              "      <td>0.0</td>\n",
              "      <td>0.0</td>\n",
              "      <td>0.0</td>\n",
              "      <td>0.0</td>\n",
              "      <td>0.0</td>\n",
              "      <td>0.0</td>\n",
              "      <td>0.0</td>\n",
              "      <td>0.00000</td>\n",
              "      <td>0.000000</td>\n",
              "    </tr>\n",
              "    <tr>\n",
              "      <th>3</th>\n",
              "      <td>37.9304</td>\n",
              "      <td>12.26150</td>\n",
              "      <td>1000</td>\n",
              "      <td>60.0000</td>\n",
              "      <td>0.302277</td>\n",
              "      <td>508</td>\n",
              "      <td>118.1100</td>\n",
              "      <td>0</td>\n",
              "      <td>0.000</td>\n",
              "      <td>0.000</td>\n",
              "      <td>4</td>\n",
              "      <td>8</td>\n",
              "      <td>0.015938</td>\n",
              "      <td>328</td>\n",
              "      <td>1</td>\n",
              "      <td>1</td>\n",
              "      <td>1</td>\n",
              "      <td>65</td>\n",
              "      <td>0.0</td>\n",
              "      <td>108.65</td>\n",
              "      <td>0.07</td>\n",
              "      <td>255</td>\n",
              "      <td>4.50625</td>\n",
              "      <td>0</td>\n",
              "      <td>2131</td>\n",
              "      <td>0</td>\n",
              "      <td>17.6</td>\n",
              "      <td>0</td>\n",
              "      <td>4</td>\n",
              "      <td>16.1725</td>\n",
              "      <td>0.00000</td>\n",
              "      <td>0.000000</td>\n",
              "      <td>0.000000</td>\n",
              "      <td>0.000000</td>\n",
              "      <td>0.0</td>\n",
              "      <td>0.000000</td>\n",
              "      <td>0.00000</td>\n",
              "      <td>0.000000</td>\n",
              "      <td>0.000000</td>\n",
              "      <td>0.000000e+00</td>\n",
              "      <td>...</td>\n",
              "      <td>0.0</td>\n",
              "      <td>0.0</td>\n",
              "      <td>0.0</td>\n",
              "      <td>0.000000</td>\n",
              "      <td>0.000000</td>\n",
              "      <td>0.000000e+00</td>\n",
              "      <td>0.0</td>\n",
              "      <td>0.0</td>\n",
              "      <td>0.0</td>\n",
              "      <td>0.0</td>\n",
              "      <td>0.0</td>\n",
              "      <td>0.0</td>\n",
              "      <td>0.0</td>\n",
              "      <td>0.0</td>\n",
              "      <td>0.0</td>\n",
              "      <td>0.000000</td>\n",
              "      <td>0.0</td>\n",
              "      <td>0.0</td>\n",
              "      <td>0.000</td>\n",
              "      <td>0.000000</td>\n",
              "      <td>0.000</td>\n",
              "      <td>0.000000e+00</td>\n",
              "      <td>0.0</td>\n",
              "      <td>0.000000</td>\n",
              "      <td>0.00000</td>\n",
              "      <td>0.0</td>\n",
              "      <td>0.0</td>\n",
              "      <td>0.0</td>\n",
              "      <td>0.0</td>\n",
              "      <td>0.000000</td>\n",
              "      <td>0.0</td>\n",
              "      <td>0.0</td>\n",
              "      <td>0.0</td>\n",
              "      <td>0.0</td>\n",
              "      <td>0.0</td>\n",
              "      <td>0.0</td>\n",
              "      <td>0.0</td>\n",
              "      <td>0.0</td>\n",
              "      <td>0.00000</td>\n",
              "      <td>0.000000</td>\n",
              "    </tr>\n",
              "    <tr>\n",
              "      <th>4</th>\n",
              "      <td>37.8085</td>\n",
              "      <td>12.36660</td>\n",
              "      <td>1000</td>\n",
              "      <td>60.0000</td>\n",
              "      <td>0.302277</td>\n",
              "      <td>504</td>\n",
              "      <td>119.0480</td>\n",
              "      <td>0</td>\n",
              "      <td>0.000</td>\n",
              "      <td>0.000</td>\n",
              "      <td>4</td>\n",
              "      <td>8</td>\n",
              "      <td>0.015938</td>\n",
              "      <td>328</td>\n",
              "      <td>1</td>\n",
              "      <td>1</td>\n",
              "      <td>1</td>\n",
              "      <td>65</td>\n",
              "      <td>0.0</td>\n",
              "      <td>108.57</td>\n",
              "      <td>0.00</td>\n",
              "      <td>255</td>\n",
              "      <td>4.50625</td>\n",
              "      <td>0</td>\n",
              "      <td>2136</td>\n",
              "      <td>0</td>\n",
              "      <td>17.6</td>\n",
              "      <td>0</td>\n",
              "      <td>4</td>\n",
              "      <td>16.1459</td>\n",
              "      <td>38.15268</td>\n",
              "      <td>0.271313</td>\n",
              "      <td>12.481360</td>\n",
              "      <td>1.690192</td>\n",
              "      <td>1000.0</td>\n",
              "      <td>0.000000</td>\n",
              "      <td>60.00000</td>\n",
              "      <td>0.000000</td>\n",
              "      <td>0.302277</td>\n",
              "      <td>0.000000e+00</td>\n",
              "      <td>...</td>\n",
              "      <td>4.0</td>\n",
              "      <td>0.0</td>\n",
              "      <td>6.4</td>\n",
              "      <td>2.190890</td>\n",
              "      <td>0.015736</td>\n",
              "      <td>2.760522e-04</td>\n",
              "      <td>328.0</td>\n",
              "      <td>0.0</td>\n",
              "      <td>1.0</td>\n",
              "      <td>0.0</td>\n",
              "      <td>1.0</td>\n",
              "      <td>0.0</td>\n",
              "      <td>1.0</td>\n",
              "      <td>0.0</td>\n",
              "      <td>64.6</td>\n",
              "      <td>0.547723</td>\n",
              "      <td>0.0</td>\n",
              "      <td>0.0</td>\n",
              "      <td>108.602</td>\n",
              "      <td>0.043818</td>\n",
              "      <td>0.028</td>\n",
              "      <td>3.834058e-02</td>\n",
              "      <td>255.0</td>\n",
              "      <td>0.000000</td>\n",
              "      <td>4.50625</td>\n",
              "      <td>0.0</td>\n",
              "      <td>0.0</td>\n",
              "      <td>0.0</td>\n",
              "      <td>2130.4</td>\n",
              "      <td>3.714835</td>\n",
              "      <td>0.0</td>\n",
              "      <td>0.0</td>\n",
              "      <td>17.6</td>\n",
              "      <td>0.0</td>\n",
              "      <td>0.0</td>\n",
              "      <td>0.0</td>\n",
              "      <td>4.0</td>\n",
              "      <td>0.0</td>\n",
              "      <td>16.16934</td>\n",
              "      <td>0.017762</td>\n",
              "    </tr>\n",
              "    <tr>\n",
              "      <th>...</th>\n",
              "      <td>...</td>\n",
              "      <td>...</td>\n",
              "      <td>...</td>\n",
              "      <td>...</td>\n",
              "      <td>...</td>\n",
              "      <td>...</td>\n",
              "      <td>...</td>\n",
              "      <td>...</td>\n",
              "      <td>...</td>\n",
              "      <td>...</td>\n",
              "      <td>...</td>\n",
              "      <td>...</td>\n",
              "      <td>...</td>\n",
              "      <td>...</td>\n",
              "      <td>...</td>\n",
              "      <td>...</td>\n",
              "      <td>...</td>\n",
              "      <td>...</td>\n",
              "      <td>...</td>\n",
              "      <td>...</td>\n",
              "      <td>...</td>\n",
              "      <td>...</td>\n",
              "      <td>...</td>\n",
              "      <td>...</td>\n",
              "      <td>...</td>\n",
              "      <td>...</td>\n",
              "      <td>...</td>\n",
              "      <td>...</td>\n",
              "      <td>...</td>\n",
              "      <td>...</td>\n",
              "      <td>...</td>\n",
              "      <td>...</td>\n",
              "      <td>...</td>\n",
              "      <td>...</td>\n",
              "      <td>...</td>\n",
              "      <td>...</td>\n",
              "      <td>...</td>\n",
              "      <td>...</td>\n",
              "      <td>...</td>\n",
              "      <td>...</td>\n",
              "      <td>...</td>\n",
              "      <td>...</td>\n",
              "      <td>...</td>\n",
              "      <td>...</td>\n",
              "      <td>...</td>\n",
              "      <td>...</td>\n",
              "      <td>...</td>\n",
              "      <td>...</td>\n",
              "      <td>...</td>\n",
              "      <td>...</td>\n",
              "      <td>...</td>\n",
              "      <td>...</td>\n",
              "      <td>...</td>\n",
              "      <td>...</td>\n",
              "      <td>...</td>\n",
              "      <td>...</td>\n",
              "      <td>...</td>\n",
              "      <td>...</td>\n",
              "      <td>...</td>\n",
              "      <td>...</td>\n",
              "      <td>...</td>\n",
              "      <td>...</td>\n",
              "      <td>...</td>\n",
              "      <td>...</td>\n",
              "      <td>...</td>\n",
              "      <td>...</td>\n",
              "      <td>...</td>\n",
              "      <td>...</td>\n",
              "      <td>...</td>\n",
              "      <td>...</td>\n",
              "      <td>...</td>\n",
              "      <td>...</td>\n",
              "      <td>...</td>\n",
              "      <td>...</td>\n",
              "      <td>...</td>\n",
              "      <td>...</td>\n",
              "      <td>...</td>\n",
              "      <td>...</td>\n",
              "      <td>...</td>\n",
              "      <td>...</td>\n",
              "      <td>...</td>\n",
              "    </tr>\n",
              "    <tr>\n",
              "      <th>120835</th>\n",
              "      <td>37.3798</td>\n",
              "      <td>17.40260</td>\n",
              "      <td>892</td>\n",
              "      <td>67.2646</td>\n",
              "      <td>0.131030</td>\n",
              "      <td>752</td>\n",
              "      <td>79.7872</td>\n",
              "      <td>0</td>\n",
              "      <td>0.068</td>\n",
              "      <td>214.033</td>\n",
              "      <td>0</td>\n",
              "      <td>0</td>\n",
              "      <td>0.015875</td>\n",
              "      <td>366</td>\n",
              "      <td>0</td>\n",
              "      <td>0</td>\n",
              "      <td>1</td>\n",
              "      <td>71</td>\n",
              "      <td>0.0</td>\n",
              "      <td>0.00</td>\n",
              "      <td>-0.07</td>\n",
              "      <td>255</td>\n",
              "      <td>0.00000</td>\n",
              "      <td>0</td>\n",
              "      <td>658</td>\n",
              "      <td>0</td>\n",
              "      <td>0.0</td>\n",
              "      <td>0</td>\n",
              "      <td>1</td>\n",
              "      <td>16.6850</td>\n",
              "      <td>37.45590</td>\n",
              "      <td>0.050866</td>\n",
              "      <td>14.453510</td>\n",
              "      <td>5.615060</td>\n",
              "      <td>1061.6</td>\n",
              "      <td>232.234364</td>\n",
              "      <td>58.59584</td>\n",
              "      <td>11.870188</td>\n",
              "      <td>0.123246</td>\n",
              "      <td>1.065868e-02</td>\n",
              "      <td>...</td>\n",
              "      <td>0.0</td>\n",
              "      <td>0.0</td>\n",
              "      <td>0.0</td>\n",
              "      <td>0.000002</td>\n",
              "      <td>0.015900</td>\n",
              "      <td>3.450652e-05</td>\n",
              "      <td>366.0</td>\n",
              "      <td>0.0</td>\n",
              "      <td>0.0</td>\n",
              "      <td>0.0</td>\n",
              "      <td>0.0</td>\n",
              "      <td>0.0</td>\n",
              "      <td>1.0</td>\n",
              "      <td>0.0</td>\n",
              "      <td>71.0</td>\n",
              "      <td>0.000000</td>\n",
              "      <td>0.0</td>\n",
              "      <td>0.0</td>\n",
              "      <td>0.000</td>\n",
              "      <td>0.000000</td>\n",
              "      <td>-0.070</td>\n",
              "      <td>2.870529e-09</td>\n",
              "      <td>246.0</td>\n",
              "      <td>8.215838</td>\n",
              "      <td>0.00000</td>\n",
              "      <td>0.0</td>\n",
              "      <td>0.0</td>\n",
              "      <td>0.0</td>\n",
              "      <td>663.6</td>\n",
              "      <td>4.159327</td>\n",
              "      <td>0.0</td>\n",
              "      <td>0.0</td>\n",
              "      <td>0.0</td>\n",
              "      <td>0.0</td>\n",
              "      <td>0.0</td>\n",
              "      <td>0.0</td>\n",
              "      <td>1.0</td>\n",
              "      <td>0.0</td>\n",
              "      <td>16.69732</td>\n",
              "      <td>0.007396</td>\n",
              "    </tr>\n",
              "    <tr>\n",
              "      <th>120836</th>\n",
              "      <td>37.1653</td>\n",
              "      <td>5.37419</td>\n",
              "      <td>892</td>\n",
              "      <td>67.2646</td>\n",
              "      <td>0.131030</td>\n",
              "      <td>752</td>\n",
              "      <td>79.7872</td>\n",
              "      <td>0</td>\n",
              "      <td>0.068</td>\n",
              "      <td>214.033</td>\n",
              "      <td>0</td>\n",
              "      <td>0</td>\n",
              "      <td>0.015875</td>\n",
              "      <td>366</td>\n",
              "      <td>0</td>\n",
              "      <td>0</td>\n",
              "      <td>1</td>\n",
              "      <td>71</td>\n",
              "      <td>0.0</td>\n",
              "      <td>0.00</td>\n",
              "      <td>-0.07</td>\n",
              "      <td>255</td>\n",
              "      <td>0.00000</td>\n",
              "      <td>0</td>\n",
              "      <td>657</td>\n",
              "      <td>0</td>\n",
              "      <td>0.0</td>\n",
              "      <td>0</td>\n",
              "      <td>1</td>\n",
              "      <td>16.6840</td>\n",
              "      <td>37.39966</td>\n",
              "      <td>0.140441</td>\n",
              "      <td>13.132988</td>\n",
              "      <td>6.958748</td>\n",
              "      <td>976.8</td>\n",
              "      <td>189.618564</td>\n",
              "      <td>62.93022</td>\n",
              "      <td>9.691968</td>\n",
              "      <td>0.127138</td>\n",
              "      <td>8.702777e-03</td>\n",
              "      <td>...</td>\n",
              "      <td>0.0</td>\n",
              "      <td>0.0</td>\n",
              "      <td>0.0</td>\n",
              "      <td>0.000002</td>\n",
              "      <td>0.015888</td>\n",
              "      <td>2.817446e-05</td>\n",
              "      <td>366.0</td>\n",
              "      <td>0.0</td>\n",
              "      <td>0.0</td>\n",
              "      <td>0.0</td>\n",
              "      <td>0.0</td>\n",
              "      <td>0.0</td>\n",
              "      <td>1.0</td>\n",
              "      <td>0.0</td>\n",
              "      <td>71.0</td>\n",
              "      <td>0.000000</td>\n",
              "      <td>0.0</td>\n",
              "      <td>0.0</td>\n",
              "      <td>0.000</td>\n",
              "      <td>0.000000</td>\n",
              "      <td>-0.070</td>\n",
              "      <td>2.870529e-09</td>\n",
              "      <td>246.0</td>\n",
              "      <td>8.215838</td>\n",
              "      <td>0.00000</td>\n",
              "      <td>0.0</td>\n",
              "      <td>0.0</td>\n",
              "      <td>0.0</td>\n",
              "      <td>662.2</td>\n",
              "      <td>5.069517</td>\n",
              "      <td>0.0</td>\n",
              "      <td>0.0</td>\n",
              "      <td>0.0</td>\n",
              "      <td>0.0</td>\n",
              "      <td>0.0</td>\n",
              "      <td>0.0</td>\n",
              "      <td>1.0</td>\n",
              "      <td>0.0</td>\n",
              "      <td>16.69370</td>\n",
              "      <td>0.008773</td>\n",
              "    </tr>\n",
              "    <tr>\n",
              "      <th>120837</th>\n",
              "      <td>36.9131</td>\n",
              "      <td>9.26657</td>\n",
              "      <td>892</td>\n",
              "      <td>67.2646</td>\n",
              "      <td>0.131030</td>\n",
              "      <td>752</td>\n",
              "      <td>79.7872</td>\n",
              "      <td>0</td>\n",
              "      <td>0.068</td>\n",
              "      <td>214.033</td>\n",
              "      <td>0</td>\n",
              "      <td>0</td>\n",
              "      <td>0.015875</td>\n",
              "      <td>366</td>\n",
              "      <td>0</td>\n",
              "      <td>0</td>\n",
              "      <td>1</td>\n",
              "      <td>71</td>\n",
              "      <td>0.0</td>\n",
              "      <td>0.00</td>\n",
              "      <td>-0.07</td>\n",
              "      <td>255</td>\n",
              "      <td>0.00000</td>\n",
              "      <td>0</td>\n",
              "      <td>655</td>\n",
              "      <td>0</td>\n",
              "      <td>0.0</td>\n",
              "      <td>0</td>\n",
              "      <td>1</td>\n",
              "      <td>16.6487</td>\n",
              "      <td>37.29236</td>\n",
              "      <td>0.252772</td>\n",
              "      <td>13.020932</td>\n",
              "      <td>7.029448</td>\n",
              "      <td>892.0</td>\n",
              "      <td>0.000000</td>\n",
              "      <td>67.26460</td>\n",
              "      <td>0.000000</td>\n",
              "      <td>0.131030</td>\n",
              "      <td>2.218010e-09</td>\n",
              "      <td>...</td>\n",
              "      <td>0.0</td>\n",
              "      <td>0.0</td>\n",
              "      <td>0.0</td>\n",
              "      <td>0.000002</td>\n",
              "      <td>0.015875</td>\n",
              "      <td>6.763975e-11</td>\n",
              "      <td>366.0</td>\n",
              "      <td>0.0</td>\n",
              "      <td>0.0</td>\n",
              "      <td>0.0</td>\n",
              "      <td>0.0</td>\n",
              "      <td>0.0</td>\n",
              "      <td>1.0</td>\n",
              "      <td>0.0</td>\n",
              "      <td>71.0</td>\n",
              "      <td>0.000000</td>\n",
              "      <td>0.0</td>\n",
              "      <td>0.0</td>\n",
              "      <td>0.000</td>\n",
              "      <td>0.000000</td>\n",
              "      <td>-0.070</td>\n",
              "      <td>2.870529e-09</td>\n",
              "      <td>249.0</td>\n",
              "      <td>8.215838</td>\n",
              "      <td>0.00000</td>\n",
              "      <td>0.0</td>\n",
              "      <td>0.0</td>\n",
              "      <td>0.0</td>\n",
              "      <td>659.8</td>\n",
              "      <td>5.069517</td>\n",
              "      <td>0.0</td>\n",
              "      <td>0.0</td>\n",
              "      <td>0.0</td>\n",
              "      <td>0.0</td>\n",
              "      <td>0.0</td>\n",
              "      <td>0.0</td>\n",
              "      <td>1.0</td>\n",
              "      <td>0.0</td>\n",
              "      <td>16.68276</td>\n",
              "      <td>0.020251</td>\n",
              "    </tr>\n",
              "    <tr>\n",
              "      <th>120838</th>\n",
              "      <td>36.6297</td>\n",
              "      <td>10.41710</td>\n",
              "      <td>892</td>\n",
              "      <td>67.2646</td>\n",
              "      <td>0.131030</td>\n",
              "      <td>752</td>\n",
              "      <td>79.7872</td>\n",
              "      <td>0</td>\n",
              "      <td>0.068</td>\n",
              "      <td>214.033</td>\n",
              "      <td>0</td>\n",
              "      <td>0</td>\n",
              "      <td>0.015875</td>\n",
              "      <td>366</td>\n",
              "      <td>0</td>\n",
              "      <td>0</td>\n",
              "      <td>1</td>\n",
              "      <td>71</td>\n",
              "      <td>0.0</td>\n",
              "      <td>0.00</td>\n",
              "      <td>-0.07</td>\n",
              "      <td>240</td>\n",
              "      <td>0.00000</td>\n",
              "      <td>0</td>\n",
              "      <td>657</td>\n",
              "      <td>0</td>\n",
              "      <td>0.0</td>\n",
              "      <td>0</td>\n",
              "      <td>1</td>\n",
              "      <td>16.6314</td>\n",
              "      <td>37.11586</td>\n",
              "      <td>0.350215</td>\n",
              "      <td>10.523472</td>\n",
              "      <td>4.346349</td>\n",
              "      <td>892.0</td>\n",
              "      <td>0.000000</td>\n",
              "      <td>67.26460</td>\n",
              "      <td>0.000000</td>\n",
              "      <td>0.131030</td>\n",
              "      <td>2.218010e-09</td>\n",
              "      <td>...</td>\n",
              "      <td>0.0</td>\n",
              "      <td>0.0</td>\n",
              "      <td>0.0</td>\n",
              "      <td>0.000002</td>\n",
              "      <td>0.015875</td>\n",
              "      <td>6.763975e-11</td>\n",
              "      <td>366.0</td>\n",
              "      <td>0.0</td>\n",
              "      <td>0.0</td>\n",
              "      <td>0.0</td>\n",
              "      <td>0.0</td>\n",
              "      <td>0.0</td>\n",
              "      <td>1.0</td>\n",
              "      <td>0.0</td>\n",
              "      <td>71.0</td>\n",
              "      <td>0.000000</td>\n",
              "      <td>0.0</td>\n",
              "      <td>0.0</td>\n",
              "      <td>0.000</td>\n",
              "      <td>0.000000</td>\n",
              "      <td>-0.070</td>\n",
              "      <td>2.870529e-09</td>\n",
              "      <td>249.0</td>\n",
              "      <td>8.215838</td>\n",
              "      <td>0.00000</td>\n",
              "      <td>0.0</td>\n",
              "      <td>0.0</td>\n",
              "      <td>0.0</td>\n",
              "      <td>657.6</td>\n",
              "      <td>2.190890</td>\n",
              "      <td>0.0</td>\n",
              "      <td>0.0</td>\n",
              "      <td>0.0</td>\n",
              "      <td>0.0</td>\n",
              "      <td>0.0</td>\n",
              "      <td>0.0</td>\n",
              "      <td>1.0</td>\n",
              "      <td>0.0</td>\n",
              "      <td>16.66978</td>\n",
              "      <td>0.028515</td>\n",
              "    </tr>\n",
              "    <tr>\n",
              "      <th>120839</th>\n",
              "      <td>36.6297</td>\n",
              "      <td>10.41710</td>\n",
              "      <td>892</td>\n",
              "      <td>67.2646</td>\n",
              "      <td>0.131030</td>\n",
              "      <td>752</td>\n",
              "      <td>79.7872</td>\n",
              "      <td>0</td>\n",
              "      <td>0.068</td>\n",
              "      <td>214.033</td>\n",
              "      <td>0</td>\n",
              "      <td>0</td>\n",
              "      <td>0.015875</td>\n",
              "      <td>366</td>\n",
              "      <td>0</td>\n",
              "      <td>0</td>\n",
              "      <td>1</td>\n",
              "      <td>71</td>\n",
              "      <td>0.0</td>\n",
              "      <td>0.00</td>\n",
              "      <td>-0.07</td>\n",
              "      <td>240</td>\n",
              "      <td>0.00000</td>\n",
              "      <td>0</td>\n",
              "      <td>657</td>\n",
              "      <td>0</td>\n",
              "      <td>0.0</td>\n",
              "      <td>0</td>\n",
              "      <td>1</td>\n",
              "      <td>16.6314</td>\n",
              "      <td>36.94352</td>\n",
              "      <td>0.330688</td>\n",
              "      <td>10.575512</td>\n",
              "      <td>4.342419</td>\n",
              "      <td>892.0</td>\n",
              "      <td>0.000000</td>\n",
              "      <td>67.26460</td>\n",
              "      <td>0.000000</td>\n",
              "      <td>0.131030</td>\n",
              "      <td>2.218010e-09</td>\n",
              "      <td>...</td>\n",
              "      <td>0.0</td>\n",
              "      <td>0.0</td>\n",
              "      <td>0.0</td>\n",
              "      <td>0.000002</td>\n",
              "      <td>0.015875</td>\n",
              "      <td>6.763975e-11</td>\n",
              "      <td>366.0</td>\n",
              "      <td>0.0</td>\n",
              "      <td>0.0</td>\n",
              "      <td>0.0</td>\n",
              "      <td>0.0</td>\n",
              "      <td>0.0</td>\n",
              "      <td>1.0</td>\n",
              "      <td>0.0</td>\n",
              "      <td>71.0</td>\n",
              "      <td>0.000000</td>\n",
              "      <td>0.0</td>\n",
              "      <td>0.0</td>\n",
              "      <td>0.000</td>\n",
              "      <td>0.000000</td>\n",
              "      <td>-0.070</td>\n",
              "      <td>2.870529e-09</td>\n",
              "      <td>249.0</td>\n",
              "      <td>8.215838</td>\n",
              "      <td>0.00000</td>\n",
              "      <td>0.0</td>\n",
              "      <td>0.0</td>\n",
              "      <td>0.0</td>\n",
              "      <td>656.8</td>\n",
              "      <td>1.095445</td>\n",
              "      <td>0.0</td>\n",
              "      <td>0.0</td>\n",
              "      <td>0.0</td>\n",
              "      <td>0.0</td>\n",
              "      <td>0.0</td>\n",
              "      <td>0.0</td>\n",
              "      <td>1.0</td>\n",
              "      <td>0.0</td>\n",
              "      <td>16.65610</td>\n",
              "      <td>0.026873</td>\n",
              "    </tr>\n",
              "  </tbody>\n",
              "</table>\n",
              "<p>120840 rows × 90 columns</p>\n",
              "</div>"
            ],
            "text/plain": [
              "             P1        P2    P3       P4  ...  mV10  sdV10      mV11     sdV11\n",
              "0       38.4294  10.94350  1000  60.0000  ...   0.0    0.0   0.00000  0.000000\n",
              "1       38.3609  15.32120  1000  60.0000  ...   0.0    0.0   0.00000  0.000000\n",
              "2       38.2342  11.51400  1000  60.0000  ...   0.0    0.0   0.00000  0.000000\n",
              "3       37.9304  12.26150  1000  60.0000  ...   0.0    0.0   0.00000  0.000000\n",
              "4       37.8085  12.36660  1000  60.0000  ...   4.0    0.0  16.16934  0.017762\n",
              "...         ...       ...   ...      ...  ...   ...    ...       ...       ...\n",
              "120835  37.3798  17.40260   892  67.2646  ...   1.0    0.0  16.69732  0.007396\n",
              "120836  37.1653   5.37419   892  67.2646  ...   1.0    0.0  16.69370  0.008773\n",
              "120837  36.9131   9.26657   892  67.2646  ...   1.0    0.0  16.68276  0.020251\n",
              "120838  36.6297  10.41710   892  67.2646  ...   1.0    0.0  16.66978  0.028515\n",
              "120839  36.6297  10.41710   892  67.2646  ...   1.0    0.0  16.65610  0.026873\n",
              "\n",
              "[120840 rows x 90 columns]"
            ]
          },
          "metadata": {
            "tags": []
          },
          "execution_count": 140
        }
      ]
    },
    {
      "cell_type": "code",
      "metadata": {
        "id": "MQhZFg8qBa06"
      },
      "source": [
        "from sklearn.metrics import f1_score\n"
      ],
      "execution_count": null,
      "outputs": []
    },
    {
      "cell_type": "code",
      "metadata": {
        "id": "BbAZtqkwBe1b",
        "colab": {
          "base_uri": "https://localhost:8080/",
          "height": 34
        },
        "outputId": "ea071a7e-7a48-427b-e49c-4584f6d775a9"
      },
      "source": [
        "rf_mstd.score(test_new, sol['Prediction'])"
      ],
      "execution_count": null,
      "outputs": [
        {
          "output_type": "execute_result",
          "data": {
            "text/plain": [
              "0.8185865607414763"
            ]
          },
          "metadata": {
            "tags": []
          },
          "execution_count": 142
        }
      ]
    },
    {
      "cell_type": "code",
      "metadata": {
        "id": "Xc1Riy6wBlJ9"
      },
      "source": [
        "randomfpred2 = rf_mstd.predict(test_new)"
      ],
      "execution_count": null,
      "outputs": []
    },
    {
      "cell_type": "code",
      "metadata": {
        "id": "Y1OWx1seBq29",
        "colab": {
          "base_uri": "https://localhost:8080/",
          "height": 50
        },
        "outputId": "c5743c90-aff0-4fba-f106-dc6c2f88b99f"
      },
      "source": [
        "confusion_matrix(sol['Prediction'], randomfpred2)"
      ],
      "execution_count": null,
      "outputs": [
        {
          "output_type": "execute_result",
          "data": {
            "text/plain": [
              "array([[16671, 13243],\n",
              "       [ 8679, 82247]])"
            ]
          },
          "metadata": {
            "tags": []
          },
          "execution_count": 144
        }
      ]
    },
    {
      "cell_type": "code",
      "metadata": {
        "id": "FGqT0jUXByUl",
        "colab": {
          "base_uri": "https://localhost:8080/",
          "height": 34
        },
        "outputId": "6750f8d0-a3c1-403d-fe2e-122ab8aeed9a"
      },
      "source": [
        "roc_auc_score(sol['Prediction'], randomfpred2)"
      ],
      "execution_count": null,
      "outputs": [
        {
          "output_type": "execute_result",
          "data": {
            "text/plain": [
              "0.7309231701730783"
            ]
          },
          "metadata": {
            "tags": []
          },
          "execution_count": 146
        }
      ]
    },
    {
      "cell_type": "code",
      "metadata": {
        "id": "sIhVcW66B5-c",
        "colab": {
          "base_uri": "https://localhost:8080/",
          "height": 34
        },
        "outputId": "a3942f58-649b-4304-d73b-bcf6ff8e7f41"
      },
      "source": [
        "f1_score(sol['Prediction'], randomfpred2)"
      ],
      "execution_count": null,
      "outputs": [
        {
          "output_type": "execute_result",
          "data": {
            "text/plain": [
              "0.8824027980430865"
            ]
          },
          "metadata": {
            "tags": []
          },
          "execution_count": 148
        }
      ]
    },
    {
      "cell_type": "code",
      "metadata": {
        "id": "6tteNf-WCACY",
        "colab": {
          "base_uri": "https://localhost:8080/",
          "height": 34
        },
        "outputId": "24f9e950-62a5-42d7-925c-91471733f29f"
      },
      "source": [
        "nn_mstd.score(test_new, sol['Prediction'])"
      ],
      "execution_count": null,
      "outputs": [
        {
          "output_type": "execute_result",
          "data": {
            "text/plain": [
              "0.7380172128434294"
            ]
          },
          "metadata": {
            "tags": []
          },
          "execution_count": 150
        }
      ]
    },
    {
      "cell_type": "code",
      "metadata": {
        "id": "pKPKy66cCGJ9"
      },
      "source": [
        "nnpred = nn_mstd.predict(test_new)"
      ],
      "execution_count": null,
      "outputs": []
    },
    {
      "cell_type": "code",
      "metadata": {
        "id": "dm7oL7SFCJfd",
        "colab": {
          "base_uri": "https://localhost:8080/",
          "height": 50
        },
        "outputId": "d818aeb1-22e5-48eb-bcd0-275f9e5ac5d6"
      },
      "source": [
        "confusion_matrix(sol['Prediction'], nnpred)"
      ],
      "execution_count": null,
      "outputs": [
        {
          "output_type": "execute_result",
          "data": {
            "text/plain": [
              "array([[16661, 13253],\n",
              "       [18405, 72521]])"
            ]
          },
          "metadata": {
            "tags": []
          },
          "execution_count": 152
        }
      ]
    },
    {
      "cell_type": "code",
      "metadata": {
        "id": "q5cfHs3ICNjh",
        "colab": {
          "base_uri": "https://localhost:8080/",
          "height": 34
        },
        "outputId": "726fdb6b-c818-405f-fab2-c881f769beba"
      },
      "source": [
        "roc_auc_score(sol['Prediction'], nnpred)"
      ],
      "execution_count": null,
      "outputs": [
        {
          "output_type": "execute_result",
          "data": {
            "text/plain": [
              "0.677272972202767"
            ]
          },
          "metadata": {
            "tags": []
          },
          "execution_count": 153
        }
      ]
    },
    {
      "cell_type": "code",
      "metadata": {
        "id": "rG3Z4aGfCTf_",
        "colab": {
          "base_uri": "https://localhost:8080/",
          "height": 34
        },
        "outputId": "c1d2252f-b052-45a2-8cef-9bc50a2515de"
      },
      "source": [
        "f1_score(sol['Prediction'], nnpred)"
      ],
      "execution_count": null,
      "outputs": [
        {
          "output_type": "execute_result",
          "data": {
            "text/plain": [
              "0.8208375778155065"
            ]
          },
          "metadata": {
            "tags": []
          },
          "execution_count": 154
        }
      ]
    },
    {
      "cell_type": "markdown",
      "metadata": {
        "id": "5P7vjqwICdFu"
      },
      "source": [
        "#ROC curve plotting\n"
      ]
    },
    {
      "cell_type": "code",
      "metadata": {
        "id": "w8iSMoelCYL1"
      },
      "source": [
        "from sklearn.metrics import roc_curve, auc\n",
        "\n",
        "# Compute ROC curve and ROC area for each class"
      ],
      "execution_count": null,
      "outputs": []
    },
    {
      "cell_type": "code",
      "metadata": {
        "id": "2xyrBrORCiqx"
      },
      "source": [
        "plot_1 = roc_curve(sol['Prediction'], randomfpred2)\n"
      ],
      "execution_count": null,
      "outputs": []
    },
    {
      "cell_type": "code",
      "metadata": {
        "id": "aklDFVp3Crul"
      },
      "source": [
        "#plot_1 = roc_curve(sol['Prediction'], randomfpred2)\n",
        "plot_2 = roc_curve(sol['Prediction'], nnpred)\n",
        "#plot_3 = roc_curve(sol['Prediction'], randomfpred)"
      ],
      "execution_count": null,
      "outputs": []
    },
    {
      "cell_type": "code",
      "metadata": {
        "id": "78zNlkWSCx0F"
      },
      "source": [
        "plot_3 = roc_curve(sol['Prediction'], randomfpred)"
      ],
      "execution_count": null,
      "outputs": []
    },
    {
      "cell_type": "code",
      "metadata": {
        "id": "o5q1H3fYC0jC",
        "colab": {
          "base_uri": "https://localhost:8080/",
          "height": 50
        },
        "outputId": "84e66073-bd36-45f8-8095-db0842a37c47"
      },
      "source": [
        "plt.figure()"
      ],
      "execution_count": null,
      "outputs": [
        {
          "output_type": "execute_result",
          "data": {
            "text/plain": [
              "<Figure size 432x288 with 0 Axes>"
            ]
          },
          "metadata": {
            "tags": []
          },
          "execution_count": 163
        },
        {
          "output_type": "display_data",
          "data": {
            "text/plain": [
              "<Figure size 432x288 with 0 Axes>"
            ]
          },
          "metadata": {
            "tags": []
          }
        }
      ]
    },
    {
      "cell_type": "code",
      "metadata": {
        "id": "tvRImBMEC7OB"
      },
      "source": [
        "lw = 2"
      ],
      "execution_count": null,
      "outputs": []
    },
    {
      "cell_type": "code",
      "metadata": {
        "id": "1iTrH5zvC-4V",
        "colab": {
          "base_uri": "https://localhost:8080/",
          "height": 295
        },
        "outputId": "adfd6384-df9e-48ac-e3e4-09e685561b9a"
      },
      "source": [
        "plt.plot(plot_1[0], plot_1[1], color='darkorange',\n",
        "         lw=lw, label='Random Forest ROC curve (area = {0:0.2f})'\n",
        "               ''.format(auc(plot_1[0], plot_1[1])))\n",
        "plt.plot(plot_2[0], plot_2[1], color='red',\n",
        "         lw=lw, label='Neural Network ROC curve (area = {0:0.2f})'\n",
        "               ''.format(auc(plot_2[0], plot_2[1])))\n",
        "plt.plot([0, 1], [0, 1], color='navy', lw=lw, linestyle='--')\n",
        "plt.xlim([0.0, 1.0])\n",
        "plt.ylim([0.0, 1.0])\n",
        "plt.xlabel('False Positive Rate')\n",
        "plt.ylabel('True Positive Rate')\n",
        "plt.title('Receiver operating characteristic')\n",
        "plt.legend(loc=\"lower right\")\n",
        "plt.show()"
      ],
      "execution_count": null,
      "outputs": [
        {
          "output_type": "display_data",
          "data": {
            "image/png": "[encoded data removed]",
            "text/plain": [
              "<Figure size 432x288 with 1 Axes>"
            ]
          },
          "metadata": {
            "tags": [],
            "needs_background": "light"
          }
        }
      ]
    }
  ]
}