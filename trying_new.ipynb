{
  "nbformat": 4,
  "nbformat_minor": 0,
  "metadata": {
    "colab": {
      "name": "trying new.ipynb",
      "provenance": [],
      "collapsed_sections": [],
      "toc_visible": true,
      "include_colab_link": true
    },
    "kernelspec": {
      "name": "python3",
      "display_name": "Python 3"
    }
  },
  "cells": [
    {
      "cell_type": "markdown",
      "metadata": {
        "id": "view-in-github",
        "colab_type": "text"
      },
      "source": [
        "<a href=\"https://colab.research.google.com/github/bindhu520/Safe-driving-Challenge-ML-PROECT-/blob/master/trying_new.ipynb\" target=\"_parent\"><img src=\"https://colab.research.google.com/assets/colab-badge.svg\" alt=\"Open In Colab\"/></a>"
      ]
    },
    {
      "cell_type": "code",
      "metadata": {
        "id": "yVBAvnVV5-ZF",
        "colab_type": "code",
        "colab": {}
      },
      "source": [
        "import pandas as pd\n",
        "import numpy as np\n",
        "import seaborn as sns\n",
        "import matplotlib.pyplot as plt\n",
        "import pandas.util.testing as tm"
      ],
      "execution_count": null,
      "outputs": []
    },
    {
      "cell_type": "code",
      "metadata": {
        "id": "1vhnVsOo6QrU",
        "colab_type": "code",
        "colab": {}
      },
      "source": [
        "data = pd.read_csv('/content/drive/My Drive/train.csv')"
      ],
      "execution_count": null,
      "outputs": []
    },
    {
      "cell_type": "code",
      "metadata": {
        "id": "Gv46AgAZ6YZV",
        "colab_type": "code",
        "colab": {
          "base_uri": "https://localhost:8080/",
          "height": 121
        },
        "outputId": "4a0ae14b-a0f8-491f-c052-6373f49be905"
      },
      "source": [
        "from google.colab import drive\n",
        "drive.mount('/content/drive')"
      ],
      "execution_count": null,
      "outputs": [
        {
          "output_type": "stream",
          "text": [
            "Go to this URL in a browser: https://accounts.google.com/o/oauth2/auth?client_id=947318989803-6bn6qk8qdgf4n4g3pfee6491hc0brc4i.apps.googleusercontent.com&redirect_uri=urn%3aietf%3awg%3aoauth%3a2.0%3aoob&response_type=code&scope=email%20https%3a%2f%2fwww.googleapis.com%2fauth%2fdocs.test%20https%3a%2f%2fwww.googleapis.com%2fauth%2fdrive%20https%3a%2f%2fwww.googleapis.com%2fauth%2fdrive.photos.readonly%20https%3a%2f%2fwww.googleapis.com%2fauth%2fpeopleapi.readonly\n",
            "\n",
            "Enter your authorization code:\n",
            "··········\n",
            "Mounted at /content/drive\n"
          ],
          "name": "stdout"
        }
      ]
    },
    {
      "cell_type": "code",
      "metadata": {
        "id": "b6AB0esI7vC3",
        "colab_type": "code",
        "colab": {
          "base_uri": "https://localhost:8080/",
          "height": 34
        },
        "outputId": "c81b2960-b023-4047-b47d-b711f3a6d647"
      },
      "source": [
        "data.shape\n"
      ],
      "execution_count": null,
      "outputs": [
        {
          "output_type": "execute_result",
          "data": {
            "text/plain": [
              "(604329, 33)"
            ]
          },
          "metadata": {
            "tags": []
          },
          "execution_count": 97
        }
      ]
    },
    {
      "cell_type": "code",
      "metadata": {
        "id": "MeabapwK73oP",
        "colab_type": "code",
        "colab": {}
      },
      "source": [
        "train_features, test_features, train_labels, test_labels=train_test_split(\n",
        "    data.drop(labels=['IsAlert'], axis=1),\n",
        "    data['IsAlert'],\n",
        "    test_size=0.2,\n",
        "    random_state=41)"
      ],
      "execution_count": null,
      "outputs": []
    },
    {
      "cell_type": "code",
      "metadata": {
        "id": "7DdRieHP8IYQ",
        "colab_type": "code",
        "colab": {}
      },
      "source": [
        "constant_filter = VarianceThreshold(threshold=0)"
      ],
      "execution_count": null,
      "outputs": []
    },
    {
      "cell_type": "code",
      "metadata": {
        "id": "1sPq8TEsCglr",
        "colab_type": "code",
        "colab": {
          "base_uri": "https://localhost:8080/",
          "height": 34
        },
        "outputId": "2b29b950-3f0d-4fad-fa8d-f65923c1291b"
      },
      "source": [
        "constant_filter.fit(train_features)"
      ],
      "execution_count": null,
      "outputs": [
        {
          "output_type": "execute_result",
          "data": {
            "text/plain": [
              "VarianceThreshold(threshold=0)"
            ]
          },
          "metadata": {
            "tags": []
          },
          "execution_count": 28
        }
      ]
    },
    {
      "cell_type": "code",
      "metadata": {
        "id": "184yXL9rClmk",
        "colab_type": "code",
        "colab": {
          "base_uri": "https://localhost:8080/",
          "height": 34
        },
        "outputId": "bb78fbf6-616c-4e45-aea8-e7bbef404cd4"
      },
      "source": [
        "len(train_features.columns[constant_filter.get_support()])"
      ],
      "execution_count": null,
      "outputs": [
        {
          "output_type": "execute_result",
          "data": {
            "text/plain": [
              "29"
            ]
          },
          "metadata": {
            "tags": []
          },
          "execution_count": 29
        }
      ]
    },
    {
      "cell_type": "code",
      "metadata": {
        "id": "78NHa86ACq_i",
        "colab_type": "code",
        "colab": {
          "base_uri": "https://localhost:8080/",
          "height": 34
        },
        "outputId": "a590c230-7104-4fd7-db65-632814ae704e"
      },
      "source": [
        "constant_columns = [column for column in train_features.columns\n",
        "                    if column not in train_features.columns[constant_filter.get_support()]]\n",
        "\n",
        "print(len(constant_columns))\n"
      ],
      "execution_count": null,
      "outputs": [
        {
          "output_type": "stream",
          "text": [
            "3\n"
          ],
          "name": "stdout"
        }
      ]
    },
    {
      "cell_type": "code",
      "metadata": {
        "id": "8LBbJG5zCyPR",
        "colab_type": "code",
        "colab": {
          "base_uri": "https://localhost:8080/",
          "height": 67
        },
        "outputId": "b75cd106-fa73-4fd3-fbf4-5c0ce68909ee"
      },
      "source": [
        "for column in constant_columns:\n",
        "    print(column)"
      ],
      "execution_count": null,
      "outputs": [
        {
          "output_type": "stream",
          "text": [
            "P8\n",
            "V7\n",
            "V9\n"
          ],
          "name": "stdout"
        }
      ]
    },
    {
      "cell_type": "code",
      "metadata": {
        "id": "QTlmOzA6C2wV",
        "colab_type": "code",
        "colab": {
          "base_uri": "https://localhost:8080/",
          "height": 34
        },
        "outputId": "35740fdd-6f98-475f-e009-f0f1655f056b"
      },
      "source": [
        "train_features = constant_filter.transform(train_features)\n",
        "test_features = constant_filter.transform(test_features)\n",
        "\n",
        "train_features.shape, test_features.shape"
      ],
      "execution_count": null,
      "outputs": [
        {
          "output_type": "execute_result",
          "data": {
            "text/plain": [
              "((483463, 29), (120866, 29))"
            ]
          },
          "metadata": {
            "tags": []
          },
          "execution_count": 32
        }
      ]
    },
    {
      "cell_type": "markdown",
      "metadata": {
        "id": "fhTYyW20JTu6",
        "colab_type": "text"
      },
      "source": [
        "Removing Quasi-Constant features"
      ]
    },
    {
      "cell_type": "code",
      "metadata": {
        "id": "YjQPnIo0JZsr",
        "colab_type": "code",
        "colab": {}
      },
      "source": [
        "import pandas as pd\n",
        "import numpy as np\n",
        "import seaborn as sns\n",
        "import matplotlib.pyplot as plt\n",
        "import pandas.util.testing as tm"
      ],
      "execution_count": null,
      "outputs": []
    },
    {
      "cell_type": "code",
      "metadata": {
        "id": "SugtFBeuJvv7",
        "colab_type": "code",
        "colab": {}
      },
      "source": [
        "data = pd.read_csv('/content/drive/My Drive/train.csv')"
      ],
      "execution_count": null,
      "outputs": []
    },
    {
      "cell_type": "code",
      "metadata": {
        "id": "5TlzFPpeJlLS",
        "colab_type": "code",
        "colab": {}
      },
      "source": [
        "train_features, test_features, train_labels, test_labels = train_test_split(\n",
        "    data.drop(labels=['IsAlert'], axis=1),\n",
        "    data['IsAlert'],\n",
        "    test_size=0.2,\n",
        "    random_state=41)"
      ],
      "execution_count": null,
      "outputs": []
    },
    {
      "cell_type": "code",
      "metadata": {
        "id": "FN3DUPycJ3WR",
        "colab_type": "code",
        "colab": {}
      },
      "source": [
        "constant_filter = VarianceThreshold(threshold=0)\n",
        "constant_filter.fit(train_features)\n",
        "\n",
        "len(train_features.columns[constant_filter.get_support()])\n",
        "\n",
        "constant_columns = [column for column in train_features.columns\n",
        "                    if column not in train_features.columns[constant_filter.get_support()]]\n",
        "\n",
        "train_features.drop(labels=constant_columns, axis=1, inplace=True)\n",
        "test_features.drop(labels=constant_columns, axis=1, inplace=True)"
      ],
      "execution_count": null,
      "outputs": []
    },
    {
      "cell_type": "code",
      "metadata": {
        "id": "fXcUEa60IrMi",
        "colab_type": "code",
        "colab": {}
      },
      "source": [
        "qconstant_filter = VarianceThreshold(threshold=0.01)"
      ],
      "execution_count": null,
      "outputs": []
    },
    {
      "cell_type": "code",
      "metadata": {
        "id": "JeVIcStMIs7D",
        "colab_type": "code",
        "colab": {
          "base_uri": "https://localhost:8080/",
          "height": 34
        },
        "outputId": "8f92035d-ddfc-4aaa-9018-ff6e10c10667"
      },
      "source": [
        "qconstant_filter.fit(train_features)"
      ],
      "execution_count": null,
      "outputs": [
        {
          "output_type": "execute_result",
          "data": {
            "text/plain": [
              "VarianceThreshold(threshold=0.01)"
            ]
          },
          "metadata": {
            "tags": []
          },
          "execution_count": 56
        }
      ]
    },
    {
      "cell_type": "code",
      "metadata": {
        "id": "UwsPDRTTKEfe",
        "colab_type": "code",
        "colab": {
          "base_uri": "https://localhost:8080/",
          "height": 34
        },
        "outputId": "21709dfa-53c6-4537-8b75-693b10558c60"
      },
      "source": [
        "len(train_features.columns[qconstant_filter.get_support()])"
      ],
      "execution_count": null,
      "outputs": [
        {
          "output_type": "execute_result",
          "data": {
            "text/plain": [
              "28"
            ]
          },
          "metadata": {
            "tags": []
          },
          "execution_count": 57
        }
      ]
    },
    {
      "cell_type": "code",
      "metadata": {
        "id": "edsy1jMCKG8b",
        "colab_type": "code",
        "colab": {
          "base_uri": "https://localhost:8080/",
          "height": 34
        },
        "outputId": "7c848f56-8c2d-410f-d7ce-a624b8cae587"
      },
      "source": [
        "qconstant_columns = [column for column in train_features.columns\n",
        "                    if column not in train_features.columns[qconstant_filter.get_support()]]\n",
        "\n",
        "print(len(qconstant_columns))"
      ],
      "execution_count": null,
      "outputs": [
        {
          "output_type": "stream",
          "text": [
            "1\n"
          ],
          "name": "stdout"
        }
      ]
    },
    {
      "cell_type": "code",
      "metadata": {
        "id": "4hWJKfcaKPmC",
        "colab_type": "code",
        "colab": {
          "base_uri": "https://localhost:8080/",
          "height": 34
        },
        "outputId": "87b4366f-47be-45b0-cad9-cc4e8a1de08f"
      },
      "source": [
        "for column in qconstant_columns:\n",
        "    print(column)"
      ],
      "execution_count": null,
      "outputs": [
        {
          "output_type": "stream",
          "text": [
            "E5\n"
          ],
          "name": "stdout"
        }
      ]
    },
    {
      "cell_type": "code",
      "metadata": {
        "id": "xdHgoJwMKTHw",
        "colab_type": "code",
        "colab": {
          "base_uri": "https://localhost:8080/",
          "height": 34
        },
        "outputId": "898d96ea-3dcd-46ce-c1c6-2e2aee0bc07e"
      },
      "source": [
        "train_features = qconstant_filter.transform(train_features)\n",
        "test_features = qconstant_filter.transform(test_features)\n",
        "\n",
        "train_features.shape, test_features.shape"
      ],
      "execution_count": null,
      "outputs": [
        {
          "output_type": "execute_result",
          "data": {
            "text/plain": [
              "((483463, 28), (120866, 28))"
            ]
          },
          "metadata": {
            "tags": []
          },
          "execution_count": 60
        }
      ]
    },
    {
      "cell_type": "code",
      "metadata": {
        "id": "Pg7beuRWKxEx",
        "colab_type": "code",
        "colab": {}
      },
      "source": [
        "import pandas as pd\n",
        "import numpy as np\n",
        "import seaborn as sns\n",
        "import matplotlib.pyplot as plt\n",
        "import pandas.util.testing as tm"
      ],
      "execution_count": null,
      "outputs": []
    },
    {
      "cell_type": "code",
      "metadata": {
        "id": "7iym9smxK4QB",
        "colab_type": "code",
        "colab": {}
      },
      "source": [
        "data = pd.read_csv('/content/drive/My Drive/train.csv')"
      ],
      "execution_count": null,
      "outputs": []
    },
    {
      "cell_type": "code",
      "metadata": {
        "id": "PNOh4xVKLDMY",
        "colab_type": "code",
        "colab": {}
      },
      "source": [
        "train_features, test_features, train_labels, test_labels = train_test_split(\n",
        "    data.drop(labels=['IsAlert'], axis=1),\n",
        "    data['IsAlert'],\n",
        "    test_size=0.2,\n",
        "    random_state=41)"
      ],
      "execution_count": null,
      "outputs": []
    },
    {
      "cell_type": "code",
      "metadata": {
        "id": "HiVT0QKNKZKF",
        "colab_type": "code",
        "colab": {
          "base_uri": "https://localhost:8080/",
          "height": 34
        },
        "outputId": "478508ee-f68c-46f9-fd99-ff3bd98f9281"
      },
      "source": [
        "train_features_T = train_features.T\n",
        "train_features_T.shape"
      ],
      "execution_count": null,
      "outputs": [
        {
          "output_type": "execute_result",
          "data": {
            "text/plain": [
              "(32, 483463)"
            ]
          },
          "metadata": {
            "tags": []
          },
          "execution_count": 67
        }
      ]
    },
    {
      "cell_type": "code",
      "metadata": {
        "id": "Xio-obtcLXJu",
        "colab_type": "code",
        "colab": {
          "base_uri": "https://localhost:8080/",
          "height": 34
        },
        "outputId": "faeffc6e-3cfc-481b-8e38-6cabb1ffa897"
      },
      "source": [
        "print(train_features_T.duplicated().sum())"
      ],
      "execution_count": null,
      "outputs": [
        {
          "output_type": "stream",
          "text": [
            "2\n"
          ],
          "name": "stdout"
        }
      ]
    },
    {
      "cell_type": "code",
      "metadata": {
        "id": "uxc307SPa_YT",
        "colab_type": "code",
        "colab": {}
      },
      "source": [
        "unique_features = train_features_T.drop_duplicates(keep='first').T"
      ],
      "execution_count": null,
      "outputs": []
    },
    {
      "cell_type": "code",
      "metadata": {
        "id": "51VJVGl3bLvc",
        "colab_type": "code",
        "colab": {
          "base_uri": "https://localhost:8080/",
          "height": 34
        },
        "outputId": "2f60a5e2-3813-4a59-c41e-5fadc3359e64"
      },
      "source": [
        "unique_features.shape"
      ],
      "execution_count": null,
      "outputs": [
        {
          "output_type": "execute_result",
          "data": {
            "text/plain": [
              "(483463, 30)"
            ]
          },
          "metadata": {
            "tags": []
          },
          "execution_count": 74
        }
      ]
    },
    {
      "cell_type": "code",
      "metadata": {
        "id": "t0barmopbSCJ",
        "colab_type": "code",
        "colab": {
          "base_uri": "https://localhost:8080/",
          "height": 34
        },
        "outputId": "447437ca-88e9-4d55-b492-db599e30b031"
      },
      "source": [
        "duplicated_features = [dup_col for dup_col in train_features.columns if dup_col not in unique_features.columns]\n",
        "duplicated_features"
      ],
      "execution_count": null,
      "outputs": [
        {
          "output_type": "execute_result",
          "data": {
            "text/plain": [
              "['V7', 'V9']"
            ]
          },
          "metadata": {
            "tags": []
          },
          "execution_count": 87
        }
      ]
    },
    {
      "cell_type": "code",
      "metadata": {
        "id": "DMk8vb77mF2z",
        "colab_type": "code",
        "colab": {}
      },
      "source": [
        "train_features.drop(labels=duplicated_features, axis=1, inplace=True)\n",
        "test_features.drop(labels=duplicated_features, axis=1, inplace=True)"
      ],
      "execution_count": null,
      "outputs": []
    },
    {
      "cell_type": "markdown",
      "metadata": {
        "id": "C4LFiQU7bWt4",
        "colab_type": "text"
      },
      "source": [
        "#Removing Correlated Features"
      ]
    },
    {
      "cell_type": "code",
      "metadata": {
        "id": "WYMG3xfPbakC",
        "colab_type": "code",
        "colab": {}
      },
      "source": [
        "#num_colums = ['int16', 'int32', 'int64', 'float16', 'float32', 'float64']\n",
        "#numerical_columns = list(data.select_dtypes(include=num_colums).columns)\n",
        "#data = data[numerical_columns]"
      ],
      "execution_count": null,
      "outputs": []
    },
    {
      "cell_type": "code",
      "metadata": {
        "id": "dRZqFWSVb5Kk",
        "colab_type": "code",
        "colab": {
          "base_uri": "https://localhost:8080/",
          "height": 34
        },
        "outputId": "c5330d21-eabc-4451-fed1-dd05963a8a9a"
      },
      "source": [
        "data.shape"
      ],
      "execution_count": null,
      "outputs": [
        {
          "output_type": "execute_result",
          "data": {
            "text/plain": [
              "(604329, 33)"
            ]
          },
          "metadata": {
            "tags": []
          },
          "execution_count": 88
        }
      ]
    },
    {
      "cell_type": "code",
      "metadata": {
        "id": "pnGjt2IMb59m",
        "colab_type": "code",
        "colab": {}
      },
      "source": [
        "train_features, test_features, train_labels, test_labels = train_test_split(\n",
        "    data.drop(labels=['TrialID', 'ObsNum', 'IsAlert'], axis=1),\n",
        "   data['IsAlert'],\n",
        "    test_size=0.2,\n",
        "    random_state=41)"
      ],
      "execution_count": null,
      "outputs": []
    },
    {
      "cell_type": "code",
      "metadata": {
        "id": "RQ3_1fk9cTQ0",
        "colab_type": "code",
        "colab": {}
      },
      "source": [
        "correlated_features = set()\n",
        "correlation_matrix = data.corr()"
      ],
      "execution_count": null,
      "outputs": []
    },
    {
      "cell_type": "code",
      "metadata": {
        "id": "RPZNyBx1crje",
        "colab_type": "code",
        "colab": {}
      },
      "source": [
        "for i in range(len(correlation_matrix .columns)):\n",
        "    for j in range(i):\n",
        "        if abs(correlation_matrix.iloc[i, j]) > 0.8:\n",
        "            colname = correlation_matrix.columns[i]\n",
        "            correlated_features.add(colname)"
      ],
      "execution_count": null,
      "outputs": []
    },
    {
      "cell_type": "code",
      "metadata": {
        "id": "m9YXGwJEc3PZ",
        "colab_type": "code",
        "colab": {
          "base_uri": "https://localhost:8080/",
          "height": 34
        },
        "outputId": "86012db5-e4d4-452c-8e47-dbf4fb77ad3b"
      },
      "source": [
        "len(correlated_features)"
      ],
      "execution_count": null,
      "outputs": [
        {
          "output_type": "execute_result",
          "data": {
            "text/plain": [
              "3"
            ]
          },
          "metadata": {
            "tags": []
          },
          "execution_count": 101
        }
      ]
    },
    {
      "cell_type": "code",
      "metadata": {
        "id": "0i41z_3Oc4Ob",
        "colab_type": "code",
        "colab": {
          "base_uri": "https://localhost:8080/",
          "height": 34
        },
        "outputId": "20d66b3c-59ce-48c4-e5fd-da209e189241"
      },
      "source": [
        "print(correlated_features)"
      ],
      "execution_count": null,
      "outputs": [
        {
          "output_type": "stream",
          "text": [
            "{'P4', 'V6', 'V10'}\n"
          ],
          "name": "stdout"
        }
      ]
    },
    {
      "cell_type": "code",
      "metadata": {
        "id": "Ye93ufzndCne",
        "colab_type": "code",
        "colab": {}
      },
      "source": [
        "train_features.drop(labels=correlated_features, axis=1, inplace=True)\n",
        "test_features.drop(labels=correlated_features, axis=1, inplace=True)"
      ],
      "execution_count": null,
      "outputs": []
    },
    {
      "cell_type": "code",
      "metadata": {
        "id": "MKnSrgxgln8B",
        "colab_type": "code",
        "colab": {
          "base_uri": "https://localhost:8080/",
          "height": 215
        },
        "outputId": "607f60dc-307f-423b-f582-5effcb6f4079"
      },
      "source": [
        "train_features.head(5)"
      ],
      "execution_count": null,
      "outputs": [
        {
          "output_type": "execute_result",
          "data": {
            "text/html": [
              "<div>\n",
              "<style scoped>\n",
              "    .dataframe tbody tr th:only-of-type {\n",
              "        vertical-align: middle;\n",
              "    }\n",
              "\n",
              "    .dataframe tbody tr th {\n",
              "        vertical-align: top;\n",
              "    }\n",
              "\n",
              "    .dataframe thead th {\n",
              "        text-align: right;\n",
              "    }\n",
              "</style>\n",
              "<table border=\"1\" class=\"dataframe\">\n",
              "  <thead>\n",
              "    <tr style=\"text-align: right;\">\n",
              "      <th></th>\n",
              "      <th>P1</th>\n",
              "      <th>P2</th>\n",
              "      <th>P3</th>\n",
              "      <th>P5</th>\n",
              "      <th>P6</th>\n",
              "      <th>P7</th>\n",
              "      <th>P8</th>\n",
              "      <th>E1</th>\n",
              "      <th>E2</th>\n",
              "      <th>E3</th>\n",
              "      <th>E4</th>\n",
              "      <th>E5</th>\n",
              "      <th>E6</th>\n",
              "      <th>E7</th>\n",
              "      <th>E8</th>\n",
              "      <th>E9</th>\n",
              "      <th>E10</th>\n",
              "      <th>E11</th>\n",
              "      <th>V1</th>\n",
              "      <th>V2</th>\n",
              "      <th>V3</th>\n",
              "      <th>V4</th>\n",
              "      <th>V5</th>\n",
              "      <th>V7</th>\n",
              "      <th>V8</th>\n",
              "      <th>V9</th>\n",
              "      <th>V11</th>\n",
              "    </tr>\n",
              "  </thead>\n",
              "  <tbody>\n",
              "    <tr>\n",
              "      <th>174321</th>\n",
              "      <td>28.7719</td>\n",
              "      <td>10.08910</td>\n",
              "      <td>700</td>\n",
              "      <td>0.285411</td>\n",
              "      <td>696</td>\n",
              "      <td>86.2069</td>\n",
              "      <td>0</td>\n",
              "      <td>0.020</td>\n",
              "      <td>233.468</td>\n",
              "      <td>0</td>\n",
              "      <td>0</td>\n",
              "      <td>0.016442</td>\n",
              "      <td>366</td>\n",
              "      <td>0</td>\n",
              "      <td>0</td>\n",
              "      <td>1</td>\n",
              "      <td>42</td>\n",
              "      <td>0.0</td>\n",
              "      <td>0.00</td>\n",
              "      <td>-0.665</td>\n",
              "      <td>240</td>\n",
              "      <td>36.00630</td>\n",
              "      <td>0</td>\n",
              "      <td>0</td>\n",
              "      <td>0.0</td>\n",
              "      <td>0</td>\n",
              "      <td>8.64828</td>\n",
              "    </tr>\n",
              "    <tr>\n",
              "      <th>93368</th>\n",
              "      <td>37.2242</td>\n",
              "      <td>10.73010</td>\n",
              "      <td>1720</td>\n",
              "      <td>0.092110</td>\n",
              "      <td>828</td>\n",
              "      <td>72.4638</td>\n",
              "      <td>0</td>\n",
              "      <td>0.000</td>\n",
              "      <td>0.000</td>\n",
              "      <td>0</td>\n",
              "      <td>6</td>\n",
              "      <td>0.016064</td>\n",
              "      <td>350</td>\n",
              "      <td>1</td>\n",
              "      <td>2</td>\n",
              "      <td>1</td>\n",
              "      <td>44</td>\n",
              "      <td>0.0</td>\n",
              "      <td>84.97</td>\n",
              "      <td>0.000</td>\n",
              "      <td>496</td>\n",
              "      <td>3.01875</td>\n",
              "      <td>0</td>\n",
              "      <td>0</td>\n",
              "      <td>20.2</td>\n",
              "      <td>0</td>\n",
              "      <td>7.78587</td>\n",
              "    </tr>\n",
              "    <tr>\n",
              "      <th>410042</th>\n",
              "      <td>28.1028</td>\n",
              "      <td>8.74506</td>\n",
              "      <td>984</td>\n",
              "      <td>0.096002</td>\n",
              "      <td>516</td>\n",
              "      <td>116.2790</td>\n",
              "      <td>0</td>\n",
              "      <td>0.000</td>\n",
              "      <td>0.000</td>\n",
              "      <td>0</td>\n",
              "      <td>46</td>\n",
              "      <td>0.019025</td>\n",
              "      <td>353</td>\n",
              "      <td>0</td>\n",
              "      <td>2</td>\n",
              "      <td>1</td>\n",
              "      <td>58</td>\n",
              "      <td>0.0</td>\n",
              "      <td>116.99</td>\n",
              "      <td>-0.455</td>\n",
              "      <td>1023</td>\n",
              "      <td>3.01875</td>\n",
              "      <td>1</td>\n",
              "      <td>0</td>\n",
              "      <td>22.8</td>\n",
              "      <td>0</td>\n",
              "      <td>5.98972</td>\n",
              "    </tr>\n",
              "    <tr>\n",
              "      <th>73945</th>\n",
              "      <td>38.3899</td>\n",
              "      <td>20.55920</td>\n",
              "      <td>904</td>\n",
              "      <td>0.084326</td>\n",
              "      <td>780</td>\n",
              "      <td>76.9231</td>\n",
              "      <td>0</td>\n",
              "      <td>25.905</td>\n",
              "      <td>135.982</td>\n",
              "      <td>0</td>\n",
              "      <td>4</td>\n",
              "      <td>0.016001</td>\n",
              "      <td>308</td>\n",
              "      <td>1</td>\n",
              "      <td>2</td>\n",
              "      <td>1</td>\n",
              "      <td>66</td>\n",
              "      <td>0.0</td>\n",
              "      <td>89.55</td>\n",
              "      <td>0.070</td>\n",
              "      <td>752</td>\n",
              "      <td>4.50625</td>\n",
              "      <td>0</td>\n",
              "      <td>0</td>\n",
              "      <td>21.0</td>\n",
              "      <td>0</td>\n",
              "      <td>9.56586</td>\n",
              "    </tr>\n",
              "    <tr>\n",
              "      <th>88069</th>\n",
              "      <td>37.1305</td>\n",
              "      <td>6.30975</td>\n",
              "      <td>1232</td>\n",
              "      <td>0.098597</td>\n",
              "      <td>752</td>\n",
              "      <td>79.7872</td>\n",
              "      <td>0</td>\n",
              "      <td>0.000</td>\n",
              "      <td>0.000</td>\n",
              "      <td>0</td>\n",
              "      <td>20</td>\n",
              "      <td>0.023939</td>\n",
              "      <td>395</td>\n",
              "      <td>2</td>\n",
              "      <td>2</td>\n",
              "      <td>1</td>\n",
              "      <td>51</td>\n",
              "      <td>0.0</td>\n",
              "      <td>0.00</td>\n",
              "      <td>-0.385</td>\n",
              "      <td>752</td>\n",
              "      <td>45.01870</td>\n",
              "      <td>1</td>\n",
              "      <td>0</td>\n",
              "      <td>0.0</td>\n",
              "      <td>0</td>\n",
              "      <td>10.21380</td>\n",
              "    </tr>\n",
              "  </tbody>\n",
              "</table>\n",
              "</div>"
            ],
            "text/plain": [
              "             P1        P2    P3        P5   P6  ...  V5  V7    V8  V9       V11\n",
              "174321  28.7719  10.08910   700  0.285411  696  ...   0   0   0.0   0   8.64828\n",
              "93368   37.2242  10.73010  1720  0.092110  828  ...   0   0  20.2   0   7.78587\n",
              "410042  28.1028   8.74506   984  0.096002  516  ...   1   0  22.8   0   5.98972\n",
              "73945   38.3899  20.55920   904  0.084326  780  ...   0   0  21.0   0   9.56586\n",
              "88069   37.1305   6.30975  1232  0.098597  752  ...   1   0   0.0   0  10.21380\n",
              "\n",
              "[5 rows x 27 columns]"
            ]
          },
          "metadata": {
            "tags": []
          },
          "execution_count": 107
        }
      ]
    },
    {
      "cell_type": "code",
      "metadata": {
        "id": "Aa-vszPUpC-C",
        "colab_type": "code",
        "colab": {}
      },
      "source": [
        "train_features.drop(labels=duplicated_features, axis=1, inplace=True)\n",
        "test_features.drop(labels=duplicated_features, axis=1, inplace=True)"
      ],
      "execution_count": null,
      "outputs": []
    },
    {
      "cell_type": "code",
      "metadata": {
        "id": "3Zf9h9d9pEfo",
        "colab_type": "code",
        "colab": {
          "base_uri": "https://localhost:8080/",
          "height": 34
        },
        "outputId": "17e09e7e-c158-42ef-a3fa-923af84a0970"
      },
      "source": [
        "train_features.shape"
      ],
      "execution_count": null,
      "outputs": [
        {
          "output_type": "execute_result",
          "data": {
            "text/plain": [
              "(483463, 25)"
            ]
          },
          "metadata": {
            "tags": []
          },
          "execution_count": 110
        }
      ]
    },
    {
      "cell_type": "markdown",
      "metadata": {
        "id": "OJ0XpKWeCBJI",
        "colab_type": "text"
      },
      "source": [
        "trying new"
      ]
    },
    {
      "cell_type": "code",
      "metadata": {
        "id": "qWGwjOj8CAEf",
        "colab_type": "code",
        "colab": {
          "base_uri": "https://localhost:8080/",
          "height": 70
        },
        "outputId": "8ef6f370-28a1-4925-920c-e73ebac86f04"
      },
      "source": [
        "import pandas as pd\n",
        "import matplotlib.pyplot as plt\n",
        "import seaborn as sns\n",
        "from sklearn.model_selection import train_test_split\n",
        "from sklearn.preprocessing import StandardScaler\n",
        "from sklearn.linear_model import LogisticRegression\n",
        "from sklearn.ensemble import RandomForestClassifier\n",
        "from sklearn.tree import DecisionTreeClassifier\n",
        "from sklearn.svm import SVC\n",
        "from sklearn.metrics import accuracy_score\n",
        "from sklearn.metrics import confusion_matrix\n",
        "from sklearn.metrics import f1_score\n",
        "import pandas.util.testing as tm"
      ],
      "execution_count": null,
      "outputs": [
        {
          "output_type": "stream",
          "text": [
            "/usr/local/lib/python3.6/dist-packages/statsmodels/tools/_testing.py:19: FutureWarning: pandas.util.testing is deprecated. Use the functions in the public API at pandas.testing instead.\n",
            "  import pandas.util.testing as tm\n"
          ],
          "name": "stderr"
        }
      ]
    },
    {
      "cell_type": "code",
      "metadata": {
        "id": "4YpwDcOTpLe5",
        "colab_type": "code",
        "colab": {
          "base_uri": "https://localhost:8080/",
          "height": 121
        },
        "outputId": "4ebdd5a6-187b-401f-ee37-a658b4f2e65a"
      },
      "source": [
        "from google.colab import drive\n",
        "drive.mount('/content/drive')"
      ],
      "execution_count": null,
      "outputs": [
        {
          "output_type": "stream",
          "text": [
            "Go to this URL in a browser: https://accounts.google.com/o/oauth2/auth?client_id=947318989803-6bn6qk8qdgf4n4g3pfee6491hc0brc4i.apps.googleusercontent.com&redirect_uri=urn%3aietf%3awg%3aoauth%3a2.0%3aoob&response_type=code&scope=email%20https%3a%2f%2fwww.googleapis.com%2fauth%2fdocs.test%20https%3a%2f%2fwww.googleapis.com%2fauth%2fdrive%20https%3a%2f%2fwww.googleapis.com%2fauth%2fdrive.photos.readonly%20https%3a%2f%2fwww.googleapis.com%2fauth%2fpeopleapi.readonly\n",
            "\n",
            "Enter your authorization code:\n",
            "··········\n",
            "Mounted at /content/drive\n"
          ],
          "name": "stdout"
        }
      ]
    },
    {
      "cell_type": "code",
      "metadata": {
        "id": "Uy7ZCyNHCtHY",
        "colab_type": "code",
        "colab": {}
      },
      "source": [
        "train = pd.read_csv('/content/drive/My Drive/train.csv')\n",
        "test=pd.read_csv('/content/drive/My Drive/test.csv')"
      ],
      "execution_count": null,
      "outputs": []
    },
    {
      "cell_type": "code",
      "metadata": {
        "id": "1BfYVz4SC5fB",
        "colab_type": "code",
        "colab": {
          "base_uri": "https://localhost:8080/",
          "height": 215
        },
        "outputId": "fb8e61ea-eade-4cec-f9cb-a66305c89cef"
      },
      "source": [
        "train.head(5)"
      ],
      "execution_count": null,
      "outputs": [
        {
          "output_type": "execute_result",
          "data": {
            "text/html": [
              "<div>\n",
              "<style scoped>\n",
              "    .dataframe tbody tr th:only-of-type {\n",
              "        vertical-align: middle;\n",
              "    }\n",
              "\n",
              "    .dataframe tbody tr th {\n",
              "        vertical-align: top;\n",
              "    }\n",
              "\n",
              "    .dataframe thead th {\n",
              "        text-align: right;\n",
              "    }\n",
              "</style>\n",
              "<table border=\"1\" class=\"dataframe\">\n",
              "  <thead>\n",
              "    <tr style=\"text-align: right;\">\n",
              "      <th></th>\n",
              "      <th>TrialID</th>\n",
              "      <th>ObsNum</th>\n",
              "      <th>IsAlert</th>\n",
              "      <th>P1</th>\n",
              "      <th>P2</th>\n",
              "      <th>P3</th>\n",
              "      <th>P4</th>\n",
              "      <th>P5</th>\n",
              "      <th>P6</th>\n",
              "      <th>P7</th>\n",
              "      <th>P8</th>\n",
              "      <th>E1</th>\n",
              "      <th>E2</th>\n",
              "      <th>E3</th>\n",
              "      <th>E4</th>\n",
              "      <th>E5</th>\n",
              "      <th>E6</th>\n",
              "      <th>E7</th>\n",
              "      <th>E8</th>\n",
              "      <th>E9</th>\n",
              "      <th>E10</th>\n",
              "      <th>E11</th>\n",
              "      <th>V1</th>\n",
              "      <th>V2</th>\n",
              "      <th>V3</th>\n",
              "      <th>V4</th>\n",
              "      <th>V5</th>\n",
              "      <th>V6</th>\n",
              "      <th>V7</th>\n",
              "      <th>V8</th>\n",
              "      <th>V9</th>\n",
              "      <th>V10</th>\n",
              "      <th>V11</th>\n",
              "    </tr>\n",
              "  </thead>\n",
              "  <tbody>\n",
              "    <tr>\n",
              "      <th>0</th>\n",
              "      <td>0</td>\n",
              "      <td>0</td>\n",
              "      <td>0</td>\n",
              "      <td>34.7406</td>\n",
              "      <td>9.84593</td>\n",
              "      <td>1400</td>\n",
              "      <td>42.8571</td>\n",
              "      <td>0.290601</td>\n",
              "      <td>572</td>\n",
              "      <td>104.895</td>\n",
              "      <td>0</td>\n",
              "      <td>0.0</td>\n",
              "      <td>0.0</td>\n",
              "      <td>1</td>\n",
              "      <td>-20</td>\n",
              "      <td>0.015875</td>\n",
              "      <td>324</td>\n",
              "      <td>1</td>\n",
              "      <td>1</td>\n",
              "      <td>1</td>\n",
              "      <td>57</td>\n",
              "      <td>0.0</td>\n",
              "      <td>101.96</td>\n",
              "      <td>0.175</td>\n",
              "      <td>752</td>\n",
              "      <td>5.99375</td>\n",
              "      <td>0</td>\n",
              "      <td>2005</td>\n",
              "      <td>0</td>\n",
              "      <td>13.4</td>\n",
              "      <td>0</td>\n",
              "      <td>4</td>\n",
              "      <td>14.8004</td>\n",
              "    </tr>\n",
              "    <tr>\n",
              "      <th>1</th>\n",
              "      <td>0</td>\n",
              "      <td>1</td>\n",
              "      <td>0</td>\n",
              "      <td>34.4215</td>\n",
              "      <td>13.41120</td>\n",
              "      <td>1400</td>\n",
              "      <td>42.8571</td>\n",
              "      <td>0.290601</td>\n",
              "      <td>572</td>\n",
              "      <td>104.895</td>\n",
              "      <td>0</td>\n",
              "      <td>0.0</td>\n",
              "      <td>0.0</td>\n",
              "      <td>1</td>\n",
              "      <td>-20</td>\n",
              "      <td>0.015875</td>\n",
              "      <td>324</td>\n",
              "      <td>1</td>\n",
              "      <td>1</td>\n",
              "      <td>1</td>\n",
              "      <td>57</td>\n",
              "      <td>0.0</td>\n",
              "      <td>101.98</td>\n",
              "      <td>0.455</td>\n",
              "      <td>752</td>\n",
              "      <td>5.99375</td>\n",
              "      <td>0</td>\n",
              "      <td>2007</td>\n",
              "      <td>0</td>\n",
              "      <td>13.4</td>\n",
              "      <td>0</td>\n",
              "      <td>4</td>\n",
              "      <td>14.7729</td>\n",
              "    </tr>\n",
              "    <tr>\n",
              "      <th>2</th>\n",
              "      <td>0</td>\n",
              "      <td>2</td>\n",
              "      <td>0</td>\n",
              "      <td>34.3447</td>\n",
              "      <td>15.18520</td>\n",
              "      <td>1400</td>\n",
              "      <td>42.8571</td>\n",
              "      <td>0.290601</td>\n",
              "      <td>576</td>\n",
              "      <td>104.167</td>\n",
              "      <td>0</td>\n",
              "      <td>0.0</td>\n",
              "      <td>0.0</td>\n",
              "      <td>1</td>\n",
              "      <td>-20</td>\n",
              "      <td>0.015875</td>\n",
              "      <td>324</td>\n",
              "      <td>1</td>\n",
              "      <td>1</td>\n",
              "      <td>1</td>\n",
              "      <td>57</td>\n",
              "      <td>0.0</td>\n",
              "      <td>101.97</td>\n",
              "      <td>0.280</td>\n",
              "      <td>752</td>\n",
              "      <td>5.99375</td>\n",
              "      <td>0</td>\n",
              "      <td>2011</td>\n",
              "      <td>0</td>\n",
              "      <td>13.4</td>\n",
              "      <td>0</td>\n",
              "      <td>4</td>\n",
              "      <td>14.7736</td>\n",
              "    </tr>\n",
              "    <tr>\n",
              "      <th>3</th>\n",
              "      <td>0</td>\n",
              "      <td>3</td>\n",
              "      <td>0</td>\n",
              "      <td>34.3421</td>\n",
              "      <td>8.84696</td>\n",
              "      <td>1400</td>\n",
              "      <td>42.8571</td>\n",
              "      <td>0.290601</td>\n",
              "      <td>576</td>\n",
              "      <td>104.167</td>\n",
              "      <td>0</td>\n",
              "      <td>0.0</td>\n",
              "      <td>0.0</td>\n",
              "      <td>1</td>\n",
              "      <td>-20</td>\n",
              "      <td>0.015875</td>\n",
              "      <td>324</td>\n",
              "      <td>1</td>\n",
              "      <td>1</td>\n",
              "      <td>1</td>\n",
              "      <td>57</td>\n",
              "      <td>0.0</td>\n",
              "      <td>101.99</td>\n",
              "      <td>0.070</td>\n",
              "      <td>752</td>\n",
              "      <td>5.99375</td>\n",
              "      <td>0</td>\n",
              "      <td>2015</td>\n",
              "      <td>0</td>\n",
              "      <td>13.4</td>\n",
              "      <td>0</td>\n",
              "      <td>4</td>\n",
              "      <td>14.7667</td>\n",
              "    </tr>\n",
              "    <tr>\n",
              "      <th>4</th>\n",
              "      <td>0</td>\n",
              "      <td>4</td>\n",
              "      <td>0</td>\n",
              "      <td>34.3322</td>\n",
              "      <td>14.69940</td>\n",
              "      <td>1400</td>\n",
              "      <td>42.8571</td>\n",
              "      <td>0.290601</td>\n",
              "      <td>576</td>\n",
              "      <td>104.167</td>\n",
              "      <td>0</td>\n",
              "      <td>0.0</td>\n",
              "      <td>0.0</td>\n",
              "      <td>1</td>\n",
              "      <td>-20</td>\n",
              "      <td>0.015875</td>\n",
              "      <td>324</td>\n",
              "      <td>1</td>\n",
              "      <td>1</td>\n",
              "      <td>1</td>\n",
              "      <td>57</td>\n",
              "      <td>0.0</td>\n",
              "      <td>102.07</td>\n",
              "      <td>0.175</td>\n",
              "      <td>752</td>\n",
              "      <td>5.99375</td>\n",
              "      <td>0</td>\n",
              "      <td>2017</td>\n",
              "      <td>0</td>\n",
              "      <td>13.4</td>\n",
              "      <td>0</td>\n",
              "      <td>4</td>\n",
              "      <td>14.7757</td>\n",
              "    </tr>\n",
              "  </tbody>\n",
              "</table>\n",
              "</div>"
            ],
            "text/plain": [
              "   TrialID  ObsNum  IsAlert       P1        P2  ...  V7    V8  V9  V10      V11\n",
              "0        0       0        0  34.7406   9.84593  ...   0  13.4   0    4  14.8004\n",
              "1        0       1        0  34.4215  13.41120  ...   0  13.4   0    4  14.7729\n",
              "2        0       2        0  34.3447  15.18520  ...   0  13.4   0    4  14.7736\n",
              "3        0       3        0  34.3421   8.84696  ...   0  13.4   0    4  14.7667\n",
              "4        0       4        0  34.3322  14.69940  ...   0  13.4   0    4  14.7757\n",
              "\n",
              "[5 rows x 33 columns]"
            ]
          },
          "metadata": {
            "tags": []
          },
          "execution_count": 4
        }
      ]
    },
    {
      "cell_type": "code",
      "metadata": {
        "id": "Rd4GzCKRC_QW",
        "colab_type": "code",
        "colab": {
          "base_uri": "https://localhost:8080/",
          "height": 304
        },
        "outputId": "b14bdedb-f090-4b72-e769-ce384c4cb81f"
      },
      "source": [
        "train.describe()"
      ],
      "execution_count": null,
      "outputs": [
        {
          "output_type": "execute_result",
          "data": {
            "text/html": [
              "<div>\n",
              "<style scoped>\n",
              "    .dataframe tbody tr th:only-of-type {\n",
              "        vertical-align: middle;\n",
              "    }\n",
              "\n",
              "    .dataframe tbody tr th {\n",
              "        vertical-align: top;\n",
              "    }\n",
              "\n",
              "    .dataframe thead th {\n",
              "        text-align: right;\n",
              "    }\n",
              "</style>\n",
              "<table border=\"1\" class=\"dataframe\">\n",
              "  <thead>\n",
              "    <tr style=\"text-align: right;\">\n",
              "      <th></th>\n",
              "      <th>TrialID</th>\n",
              "      <th>ObsNum</th>\n",
              "      <th>IsAlert</th>\n",
              "      <th>P1</th>\n",
              "      <th>P2</th>\n",
              "      <th>P3</th>\n",
              "      <th>P4</th>\n",
              "      <th>P5</th>\n",
              "      <th>P6</th>\n",
              "      <th>P7</th>\n",
              "      <th>P8</th>\n",
              "      <th>E1</th>\n",
              "      <th>E2</th>\n",
              "      <th>E3</th>\n",
              "      <th>E4</th>\n",
              "      <th>E5</th>\n",
              "      <th>E6</th>\n",
              "      <th>E7</th>\n",
              "      <th>E8</th>\n",
              "      <th>E9</th>\n",
              "      <th>E10</th>\n",
              "      <th>E11</th>\n",
              "      <th>V1</th>\n",
              "      <th>V2</th>\n",
              "      <th>V3</th>\n",
              "      <th>V4</th>\n",
              "      <th>V5</th>\n",
              "      <th>V6</th>\n",
              "      <th>V7</th>\n",
              "      <th>V8</th>\n",
              "      <th>V9</th>\n",
              "      <th>V10</th>\n",
              "      <th>V11</th>\n",
              "    </tr>\n",
              "  </thead>\n",
              "  <tbody>\n",
              "    <tr>\n",
              "      <th>count</th>\n",
              "      <td>604329.000000</td>\n",
              "      <td>604329.000000</td>\n",
              "      <td>604329.000000</td>\n",
              "      <td>604329.000000</td>\n",
              "      <td>604329.000000</td>\n",
              "      <td>604329.000000</td>\n",
              "      <td>604329.000000</td>\n",
              "      <td>604329.000000</td>\n",
              "      <td>604329.000000</td>\n",
              "      <td>604329.000000</td>\n",
              "      <td>604329.0</td>\n",
              "      <td>604329.000000</td>\n",
              "      <td>604329.000000</td>\n",
              "      <td>604329.000000</td>\n",
              "      <td>604329.000000</td>\n",
              "      <td>604329.000000</td>\n",
              "      <td>604329.000000</td>\n",
              "      <td>604329.000000</td>\n",
              "      <td>604329.000000</td>\n",
              "      <td>604329.000000</td>\n",
              "      <td>604329.000000</td>\n",
              "      <td>604329.000000</td>\n",
              "      <td>604329.000000</td>\n",
              "      <td>604329.000000</td>\n",
              "      <td>604329.000000</td>\n",
              "      <td>604329.000000</td>\n",
              "      <td>604329.000000</td>\n",
              "      <td>604329.000000</td>\n",
              "      <td>604329.0</td>\n",
              "      <td>604329.000000</td>\n",
              "      <td>604329.0</td>\n",
              "      <td>604329.000000</td>\n",
              "      <td>604329.000000</td>\n",
              "    </tr>\n",
              "    <tr>\n",
              "      <th>mean</th>\n",
              "      <td>250.167657</td>\n",
              "      <td>603.841765</td>\n",
              "      <td>0.578799</td>\n",
              "      <td>35.449020</td>\n",
              "      <td>11.996525</td>\n",
              "      <td>1026.671035</td>\n",
              "      <td>64.061965</td>\n",
              "      <td>0.178923</td>\n",
              "      <td>845.384610</td>\n",
              "      <td>77.887628</td>\n",
              "      <td>0.0</td>\n",
              "      <td>10.512332</td>\n",
              "      <td>102.790045</td>\n",
              "      <td>0.290565</td>\n",
              "      <td>-4.230136</td>\n",
              "      <td>0.016262</td>\n",
              "      <td>358.674738</td>\n",
              "      <td>1.757296</td>\n",
              "      <td>1.383058</td>\n",
              "      <td>0.876787</td>\n",
              "      <td>63.311256</td>\n",
              "      <td>1.315265</td>\n",
              "      <td>76.965412</td>\n",
              "      <td>-0.037710</td>\n",
              "      <td>573.786433</td>\n",
              "      <td>19.961030</td>\n",
              "      <td>0.179814</td>\n",
              "      <td>1715.688383</td>\n",
              "      <td>0.0</td>\n",
              "      <td>12.710354</td>\n",
              "      <td>0.0</td>\n",
              "      <td>3.312257</td>\n",
              "      <td>11.668277</td>\n",
              "    </tr>\n",
              "    <tr>\n",
              "      <th>std</th>\n",
              "      <td>145.446164</td>\n",
              "      <td>348.931601</td>\n",
              "      <td>0.493752</td>\n",
              "      <td>7.484629</td>\n",
              "      <td>3.760292</td>\n",
              "      <td>309.277877</td>\n",
              "      <td>19.755950</td>\n",
              "      <td>0.372309</td>\n",
              "      <td>2505.335141</td>\n",
              "      <td>18.577930</td>\n",
              "      <td>0.0</td>\n",
              "      <td>14.049071</td>\n",
              "      <td>127.258629</td>\n",
              "      <td>1.006162</td>\n",
              "      <td>35.508596</td>\n",
              "      <td>0.002304</td>\n",
              "      <td>27.399973</td>\n",
              "      <td>2.854852</td>\n",
              "      <td>1.608807</td>\n",
              "      <td>0.328681</td>\n",
              "      <td>18.891029</td>\n",
              "      <td>5.247204</td>\n",
              "      <td>44.387031</td>\n",
              "      <td>0.403896</td>\n",
              "      <td>298.412888</td>\n",
              "      <td>63.269456</td>\n",
              "      <td>0.384033</td>\n",
              "      <td>618.176470</td>\n",
              "      <td>0.0</td>\n",
              "      <td>11.532085</td>\n",
              "      <td>0.0</td>\n",
              "      <td>1.243586</td>\n",
              "      <td>9.934423</td>\n",
              "    </tr>\n",
              "    <tr>\n",
              "      <th>min</th>\n",
              "      <td>0.000000</td>\n",
              "      <td>0.000000</td>\n",
              "      <td>0.000000</td>\n",
              "      <td>-22.481200</td>\n",
              "      <td>-45.629200</td>\n",
              "      <td>504.000000</td>\n",
              "      <td>23.885300</td>\n",
              "      <td>0.038920</td>\n",
              "      <td>128.000000</td>\n",
              "      <td>0.262224</td>\n",
              "      <td>0.0</td>\n",
              "      <td>0.000000</td>\n",
              "      <td>0.000000</td>\n",
              "      <td>0.000000</td>\n",
              "      <td>-250.000000</td>\n",
              "      <td>0.008000</td>\n",
              "      <td>260.000000</td>\n",
              "      <td>0.000000</td>\n",
              "      <td>0.000000</td>\n",
              "      <td>0.000000</td>\n",
              "      <td>0.000000</td>\n",
              "      <td>0.000000</td>\n",
              "      <td>0.000000</td>\n",
              "      <td>-4.795000</td>\n",
              "      <td>240.000000</td>\n",
              "      <td>0.000000</td>\n",
              "      <td>0.000000</td>\n",
              "      <td>0.000000</td>\n",
              "      <td>0.0</td>\n",
              "      <td>0.000000</td>\n",
              "      <td>0.0</td>\n",
              "      <td>1.000000</td>\n",
              "      <td>1.676730</td>\n",
              "    </tr>\n",
              "    <tr>\n",
              "      <th>25%</th>\n",
              "      <td>125.000000</td>\n",
              "      <td>302.000000</td>\n",
              "      <td>0.000000</td>\n",
              "      <td>31.758100</td>\n",
              "      <td>9.903540</td>\n",
              "      <td>792.000000</td>\n",
              "      <td>49.180300</td>\n",
              "      <td>0.092110</td>\n",
              "      <td>668.000000</td>\n",
              "      <td>66.666700</td>\n",
              "      <td>0.0</td>\n",
              "      <td>0.000000</td>\n",
              "      <td>0.000000</td>\n",
              "      <td>0.000000</td>\n",
              "      <td>-8.000000</td>\n",
              "      <td>0.015686</td>\n",
              "      <td>348.000000</td>\n",
              "      <td>0.000000</td>\n",
              "      <td>0.000000</td>\n",
              "      <td>1.000000</td>\n",
              "      <td>52.000000</td>\n",
              "      <td>0.000000</td>\n",
              "      <td>41.930000</td>\n",
              "      <td>-0.175000</td>\n",
              "      <td>255.000000</td>\n",
              "      <td>1.487500</td>\n",
              "      <td>0.000000</td>\n",
              "      <td>1259.000000</td>\n",
              "      <td>0.0</td>\n",
              "      <td>0.000000</td>\n",
              "      <td>0.0</td>\n",
              "      <td>3.000000</td>\n",
              "      <td>7.947680</td>\n",
              "    </tr>\n",
              "    <tr>\n",
              "      <th>50%</th>\n",
              "      <td>250.000000</td>\n",
              "      <td>604.000000</td>\n",
              "      <td>1.000000</td>\n",
              "      <td>34.145100</td>\n",
              "      <td>11.400400</td>\n",
              "      <td>1000.000000</td>\n",
              "      <td>60.000000</td>\n",
              "      <td>0.105083</td>\n",
              "      <td>800.000000</td>\n",
              "      <td>75.000000</td>\n",
              "      <td>0.0</td>\n",
              "      <td>0.000000</td>\n",
              "      <td>0.000000</td>\n",
              "      <td>0.000000</td>\n",
              "      <td>0.000000</td>\n",
              "      <td>0.016001</td>\n",
              "      <td>365.000000</td>\n",
              "      <td>1.000000</td>\n",
              "      <td>1.000000</td>\n",
              "      <td>1.000000</td>\n",
              "      <td>67.000000</td>\n",
              "      <td>0.000000</td>\n",
              "      <td>100.400000</td>\n",
              "      <td>0.000000</td>\n",
              "      <td>511.000000</td>\n",
              "      <td>3.018750</td>\n",
              "      <td>0.000000</td>\n",
              "      <td>1994.000000</td>\n",
              "      <td>0.0</td>\n",
              "      <td>12.800000</td>\n",
              "      <td>0.0</td>\n",
              "      <td>4.000000</td>\n",
              "      <td>10.772600</td>\n",
              "    </tr>\n",
              "    <tr>\n",
              "      <th>75%</th>\n",
              "      <td>374.000000</td>\n",
              "      <td>906.000000</td>\n",
              "      <td>1.000000</td>\n",
              "      <td>37.311900</td>\n",
              "      <td>13.644200</td>\n",
              "      <td>1220.000000</td>\n",
              "      <td>75.757600</td>\n",
              "      <td>0.138814</td>\n",
              "      <td>900.000000</td>\n",
              "      <td>89.820400</td>\n",
              "      <td>0.0</td>\n",
              "      <td>28.240000</td>\n",
              "      <td>211.584000</td>\n",
              "      <td>0.000000</td>\n",
              "      <td>6.000000</td>\n",
              "      <td>0.016694</td>\n",
              "      <td>367.000000</td>\n",
              "      <td>2.000000</td>\n",
              "      <td>2.000000</td>\n",
              "      <td>1.000000</td>\n",
              "      <td>73.000000</td>\n",
              "      <td>0.000000</td>\n",
              "      <td>108.500000</td>\n",
              "      <td>0.070000</td>\n",
              "      <td>767.000000</td>\n",
              "      <td>7.481250</td>\n",
              "      <td>0.000000</td>\n",
              "      <td>2146.000000</td>\n",
              "      <td>0.0</td>\n",
              "      <td>21.900000</td>\n",
              "      <td>0.0</td>\n",
              "      <td>4.000000</td>\n",
              "      <td>15.270900</td>\n",
              "    </tr>\n",
              "    <tr>\n",
              "      <th>max</th>\n",
              "      <td>510.000000</td>\n",
              "      <td>1210.000000</td>\n",
              "      <td>1.000000</td>\n",
              "      <td>101.351000</td>\n",
              "      <td>71.173700</td>\n",
              "      <td>2512.000000</td>\n",
              "      <td>119.048000</td>\n",
              "      <td>27.202200</td>\n",
              "      <td>228812.000000</td>\n",
              "      <td>468.750000</td>\n",
              "      <td>0.0</td>\n",
              "      <td>243.991000</td>\n",
              "      <td>359.995000</td>\n",
              "      <td>4.000000</td>\n",
              "      <td>260.000000</td>\n",
              "      <td>0.023939</td>\n",
              "      <td>513.000000</td>\n",
              "      <td>25.000000</td>\n",
              "      <td>9.000000</td>\n",
              "      <td>1.000000</td>\n",
              "      <td>127.000000</td>\n",
              "      <td>52.400000</td>\n",
              "      <td>129.700000</td>\n",
              "      <td>3.990000</td>\n",
              "      <td>1023.000000</td>\n",
              "      <td>484.488000</td>\n",
              "      <td>1.000000</td>\n",
              "      <td>4892.000000</td>\n",
              "      <td>0.0</td>\n",
              "      <td>82.100000</td>\n",
              "      <td>0.0</td>\n",
              "      <td>7.000000</td>\n",
              "      <td>262.534000</td>\n",
              "    </tr>\n",
              "  </tbody>\n",
              "</table>\n",
              "</div>"
            ],
            "text/plain": [
              "             TrialID         ObsNum  ...            V10            V11\n",
              "count  604329.000000  604329.000000  ...  604329.000000  604329.000000\n",
              "mean      250.167657     603.841765  ...       3.312257      11.668277\n",
              "std       145.446164     348.931601  ...       1.243586       9.934423\n",
              "min         0.000000       0.000000  ...       1.000000       1.676730\n",
              "25%       125.000000     302.000000  ...       3.000000       7.947680\n",
              "50%       250.000000     604.000000  ...       4.000000      10.772600\n",
              "75%       374.000000     906.000000  ...       4.000000      15.270900\n",
              "max       510.000000    1210.000000  ...       7.000000     262.534000\n",
              "\n",
              "[8 rows x 33 columns]"
            ]
          },
          "metadata": {
            "tags": []
          },
          "execution_count": 5
        }
      ]
    },
    {
      "cell_type": "code",
      "metadata": {
        "id": "iHetYKdcDPwj",
        "colab_type": "code",
        "colab": {
          "base_uri": "https://localhost:8080/",
          "height": 588
        },
        "outputId": "2dafc583-576c-4ce1-d327-6e4f0fa3db16"
      },
      "source": [
        "train.isnull().sum()"
      ],
      "execution_count": null,
      "outputs": [
        {
          "output_type": "execute_result",
          "data": {
            "text/plain": [
              "TrialID    0\n",
              "ObsNum     0\n",
              "IsAlert    0\n",
              "P1         0\n",
              "P2         0\n",
              "P3         0\n",
              "P4         0\n",
              "P5         0\n",
              "P6         0\n",
              "P7         0\n",
              "P8         0\n",
              "E1         0\n",
              "E2         0\n",
              "E3         0\n",
              "E4         0\n",
              "E5         0\n",
              "E6         0\n",
              "E7         0\n",
              "E8         0\n",
              "E9         0\n",
              "E10        0\n",
              "E11        0\n",
              "V1         0\n",
              "V2         0\n",
              "V3         0\n",
              "V4         0\n",
              "V5         0\n",
              "V6         0\n",
              "V7         0\n",
              "V8         0\n",
              "V9         0\n",
              "V10        0\n",
              "V11        0\n",
              "dtype: int64"
            ]
          },
          "metadata": {
            "tags": []
          },
          "execution_count": 6
        }
      ]
    },
    {
      "cell_type": "code",
      "metadata": {
        "id": "65cXuopODVl0",
        "colab_type": "code",
        "colab": {
          "base_uri": "https://localhost:8080/",
          "height": 689
        },
        "outputId": "c38e013e-5e22-43b3-e944-551e86777758"
      },
      "source": [
        "train.info()"
      ],
      "execution_count": null,
      "outputs": [
        {
          "output_type": "stream",
          "text": [
            "<class 'pandas.core.frame.DataFrame'>\n",
            "RangeIndex: 604329 entries, 0 to 604328\n",
            "Data columns (total 33 columns):\n",
            " #   Column   Non-Null Count   Dtype  \n",
            "---  ------   --------------   -----  \n",
            " 0   TrialID  604329 non-null  int64  \n",
            " 1   ObsNum   604329 non-null  int64  \n",
            " 2   IsAlert  604329 non-null  int64  \n",
            " 3   P1       604329 non-null  float64\n",
            " 4   P2       604329 non-null  float64\n",
            " 5   P3       604329 non-null  int64  \n",
            " 6   P4       604329 non-null  float64\n",
            " 7   P5       604329 non-null  float64\n",
            " 8   P6       604329 non-null  int64  \n",
            " 9   P7       604329 non-null  float64\n",
            " 10  P8       604329 non-null  int64  \n",
            " 11  E1       604329 non-null  float64\n",
            " 12  E2       604329 non-null  float64\n",
            " 13  E3       604329 non-null  int64  \n",
            " 14  E4       604329 non-null  int64  \n",
            " 15  E5       604329 non-null  float64\n",
            " 16  E6       604329 non-null  int64  \n",
            " 17  E7       604329 non-null  int64  \n",
            " 18  E8       604329 non-null  int64  \n",
            " 19  E9       604329 non-null  int64  \n",
            " 20  E10      604329 non-null  int64  \n",
            " 21  E11      604329 non-null  float64\n",
            " 22  V1       604329 non-null  float64\n",
            " 23  V2       604329 non-null  float64\n",
            " 24  V3       604329 non-null  int64  \n",
            " 25  V4       604329 non-null  float64\n",
            " 26  V5       604329 non-null  int64  \n",
            " 27  V6       604329 non-null  int64  \n",
            " 28  V7       604329 non-null  int64  \n",
            " 29  V8       604329 non-null  float64\n",
            " 30  V9       604329 non-null  int64  \n",
            " 31  V10      604329 non-null  int64  \n",
            " 32  V11      604329 non-null  float64\n",
            "dtypes: float64(14), int64(19)\n",
            "memory usage: 152.2 MB\n"
          ],
          "name": "stdout"
        }
      ]
    },
    {
      "cell_type": "code",
      "metadata": {
        "id": "it3s7Wp8DbM8",
        "colab_type": "code",
        "colab": {
          "base_uri": "https://localhost:8080/",
          "height": 1000
        },
        "outputId": "ebf80a90-dcc9-45a0-d0b1-68638f70f093"
      },
      "source": [
        "num_column=train.select_dtypes(include=['int64','float64']).columns\n",
        "plt.figure(figsize=(8,22))\n",
        "i=1\n",
        "for c in num_column:\n",
        "    plt.subplot(11,3,i)\n",
        "    sns.distplot(train[c])\n",
        "    i+=1\n",
        "    \n",
        "plt.tight_layout()\n",
        "plt.show()"
      ],
      "execution_count": null,
      "outputs": [
        {
          "output_type": "stream",
          "text": [
            "/usr/local/lib/python3.6/dist-packages/seaborn/distributions.py:283: UserWarning: Data must have variance to compute a kernel density estimate.\n",
            "  warnings.warn(msg, UserWarning)\n",
            "/usr/local/lib/python3.6/dist-packages/seaborn/distributions.py:283: UserWarning: Data must have variance to compute a kernel density estimate.\n",
            "  warnings.warn(msg, UserWarning)\n",
            "/usr/local/lib/python3.6/dist-packages/seaborn/distributions.py:283: UserWarning: Data must have variance to compute a kernel density estimate.\n",
            "  warnings.warn(msg, UserWarning)\n"
          ],
          "name": "stderr"
        },
        {
          "output_type": "display_data",
          "data": {
            "image/png": "[encoded data removed]",
            "text/plain": [
              "<Figure size 576x1584 with 33 Axes>"
            ]
          },
          "metadata": {
            "tags": [],
            "needs_background": "light"
          }
        }
      ]
    },
    {
      "cell_type": "code",
      "metadata": {
        "id": "YXxXahVjDm0g",
        "colab_type": "code",
        "colab": {}
      },
      "source": [
        "train=train.drop(['P8','V7','V9'],axis=1)"
      ],
      "execution_count": null,
      "outputs": []
    },
    {
      "cell_type": "code",
      "metadata": {
        "id": "S_WUET83DuYp",
        "colab_type": "code",
        "colab": {
          "base_uri": "https://localhost:8080/",
          "height": 84
        },
        "outputId": "3e96051c-6f7c-45eb-8c71-1f308f81dd3a"
      },
      "source": [
        "train.columns"
      ],
      "execution_count": null,
      "outputs": [
        {
          "output_type": "execute_result",
          "data": {
            "text/plain": [
              "Index(['TrialID', 'ObsNum', 'IsAlert', 'P1', 'P2', 'P3', 'P4', 'P5', 'P6',\n",
              "       'P7', 'E1', 'E2', 'E3', 'E4', 'E5', 'E6', 'E7', 'E8', 'E9', 'E10',\n",
              "       'E11', 'V1', 'V2', 'V3', 'V4', 'V5', 'V6', 'V8', 'V10', 'V11'],\n",
              "      dtype='object')"
            ]
          },
          "metadata": {
            "tags": []
          },
          "execution_count": 10
        }
      ]
    },
    {
      "cell_type": "code",
      "metadata": {
        "id": "l1ycvYWED2Oz",
        "colab_type": "code",
        "colab": {
          "base_uri": "https://localhost:8080/",
          "height": 955
        },
        "outputId": "65400365-3608-403c-8e90-8fa6d743da42"
      },
      "source": [
        "corr_features = set()\n",
        "correlation=train.corr()\n",
        "correlation"
      ],
      "execution_count": null,
      "outputs": [
        {
          "output_type": "execute_result",
          "data": {
            "text/html": [
              "<div>\n",
              "<style scoped>\n",
              "    .dataframe tbody tr th:only-of-type {\n",
              "        vertical-align: middle;\n",
              "    }\n",
              "\n",
              "    .dataframe tbody tr th {\n",
              "        vertical-align: top;\n",
              "    }\n",
              "\n",
              "    .dataframe thead th {\n",
              "        text-align: right;\n",
              "    }\n",
              "</style>\n",
              "<table border=\"1\" class=\"dataframe\">\n",
              "  <thead>\n",
              "    <tr style=\"text-align: right;\">\n",
              "      <th></th>\n",
              "      <th>TrialID</th>\n",
              "      <th>ObsNum</th>\n",
              "      <th>IsAlert</th>\n",
              "      <th>P1</th>\n",
              "      <th>P2</th>\n",
              "      <th>P3</th>\n",
              "      <th>P4</th>\n",
              "      <th>P5</th>\n",
              "      <th>P6</th>\n",
              "      <th>P7</th>\n",
              "      <th>E1</th>\n",
              "      <th>E2</th>\n",
              "      <th>E3</th>\n",
              "      <th>E4</th>\n",
              "      <th>E5</th>\n",
              "      <th>E6</th>\n",
              "      <th>E7</th>\n",
              "      <th>E8</th>\n",
              "      <th>E9</th>\n",
              "      <th>E10</th>\n",
              "      <th>E11</th>\n",
              "      <th>V1</th>\n",
              "      <th>V2</th>\n",
              "      <th>V3</th>\n",
              "      <th>V4</th>\n",
              "      <th>V5</th>\n",
              "      <th>V6</th>\n",
              "      <th>V8</th>\n",
              "      <th>V10</th>\n",
              "      <th>V11</th>\n",
              "    </tr>\n",
              "  </thead>\n",
              "  <tbody>\n",
              "    <tr>\n",
              "      <th>TrialID</th>\n",
              "      <td>1.000000</td>\n",
              "      <td>-0.000162</td>\n",
              "      <td>-0.145816</td>\n",
              "      <td>0.016772</td>\n",
              "      <td>-0.004473</td>\n",
              "      <td>0.000369</td>\n",
              "      <td>0.001880</td>\n",
              "      <td>0.022632</td>\n",
              "      <td>0.005377</td>\n",
              "      <td>0.111903</td>\n",
              "      <td>-0.061881</td>\n",
              "      <td>0.015610</td>\n",
              "      <td>-0.087071</td>\n",
              "      <td>-0.050151</td>\n",
              "      <td>0.234524</td>\n",
              "      <td>-0.034418</td>\n",
              "      <td>-0.116919</td>\n",
              "      <td>-0.095434</td>\n",
              "      <td>0.116988</td>\n",
              "      <td>-0.100521</td>\n",
              "      <td>0.073676</td>\n",
              "      <td>-0.117728</td>\n",
              "      <td>0.065063</td>\n",
              "      <td>0.001900</td>\n",
              "      <td>-0.074320</td>\n",
              "      <td>0.123721</td>\n",
              "      <td>-0.097389</td>\n",
              "      <td>-0.047593</td>\n",
              "      <td>-0.093818</td>\n",
              "      <td>0.078887</td>\n",
              "    </tr>\n",
              "    <tr>\n",
              "      <th>ObsNum</th>\n",
              "      <td>-0.000162</td>\n",
              "      <td>1.000000</td>\n",
              "      <td>-0.005143</td>\n",
              "      <td>0.018324</td>\n",
              "      <td>-0.001764</td>\n",
              "      <td>0.002199</td>\n",
              "      <td>-0.001191</td>\n",
              "      <td>0.005568</td>\n",
              "      <td>-0.015791</td>\n",
              "      <td>0.003498</td>\n",
              "      <td>-0.000122</td>\n",
              "      <td>-0.003558</td>\n",
              "      <td>0.002931</td>\n",
              "      <td>-0.004580</td>\n",
              "      <td>0.010314</td>\n",
              "      <td>-0.003838</td>\n",
              "      <td>0.002005</td>\n",
              "      <td>0.009400</td>\n",
              "      <td>-0.002779</td>\n",
              "      <td>-0.008684</td>\n",
              "      <td>0.004978</td>\n",
              "      <td>0.004242</td>\n",
              "      <td>0.019009</td>\n",
              "      <td>0.007753</td>\n",
              "      <td>-0.000480</td>\n",
              "      <td>-0.006284</td>\n",
              "      <td>0.003935</td>\n",
              "      <td>0.008191</td>\n",
              "      <td>0.005145</td>\n",
              "      <td>-0.011465</td>\n",
              "    </tr>\n",
              "    <tr>\n",
              "      <th>IsAlert</th>\n",
              "      <td>-0.145816</td>\n",
              "      <td>-0.005143</td>\n",
              "      <td>1.000000</td>\n",
              "      <td>0.018361</td>\n",
              "      <td>0.014383</td>\n",
              "      <td>0.005168</td>\n",
              "      <td>-0.008177</td>\n",
              "      <td>0.038160</td>\n",
              "      <td>-0.000400</td>\n",
              "      <td>0.189796</td>\n",
              "      <td>-0.160830</td>\n",
              "      <td>-0.105495</td>\n",
              "      <td>0.157973</td>\n",
              "      <td>0.047992</td>\n",
              "      <td>-0.067453</td>\n",
              "      <td>-0.189198</td>\n",
              "      <td>-0.329722</td>\n",
              "      <td>-0.283440</td>\n",
              "      <td>0.380353</td>\n",
              "      <td>-0.067051</td>\n",
              "      <td>0.079002</td>\n",
              "      <td>-0.269967</td>\n",
              "      <td>-0.050740</td>\n",
              "      <td>-0.062000</td>\n",
              "      <td>0.097022</td>\n",
              "      <td>0.055429</td>\n",
              "      <td>-0.244150</td>\n",
              "      <td>-0.165550</td>\n",
              "      <td>-0.259607</td>\n",
              "      <td>0.155722</td>\n",
              "    </tr>\n",
              "    <tr>\n",
              "      <th>P1</th>\n",
              "      <td>0.016772</td>\n",
              "      <td>0.018324</td>\n",
              "      <td>0.018361</td>\n",
              "      <td>1.000000</td>\n",
              "      <td>-0.006674</td>\n",
              "      <td>-0.010317</td>\n",
              "      <td>0.011704</td>\n",
              "      <td>0.010911</td>\n",
              "      <td>0.045429</td>\n",
              "      <td>0.027461</td>\n",
              "      <td>-0.015436</td>\n",
              "      <td>-0.009356</td>\n",
              "      <td>0.024131</td>\n",
              "      <td>-0.010574</td>\n",
              "      <td>-0.006564</td>\n",
              "      <td>-0.004635</td>\n",
              "      <td>-0.013194</td>\n",
              "      <td>-0.010918</td>\n",
              "      <td>0.004688</td>\n",
              "      <td>0.004549</td>\n",
              "      <td>0.015882</td>\n",
              "      <td>-0.025763</td>\n",
              "      <td>-0.021118</td>\n",
              "      <td>0.002551</td>\n",
              "      <td>0.021404</td>\n",
              "      <td>0.051348</td>\n",
              "      <td>-0.019792</td>\n",
              "      <td>-0.029747</td>\n",
              "      <td>-0.004563</td>\n",
              "      <td>0.344636</td>\n",
              "    </tr>\n",
              "    <tr>\n",
              "      <th>P2</th>\n",
              "      <td>-0.004473</td>\n",
              "      <td>-0.001764</td>\n",
              "      <td>0.014383</td>\n",
              "      <td>-0.006674</td>\n",
              "      <td>1.000000</td>\n",
              "      <td>-0.002539</td>\n",
              "      <td>0.002132</td>\n",
              "      <td>0.008390</td>\n",
              "      <td>-0.022003</td>\n",
              "      <td>0.052171</td>\n",
              "      <td>-0.012045</td>\n",
              "      <td>-0.019121</td>\n",
              "      <td>0.062076</td>\n",
              "      <td>0.003529</td>\n",
              "      <td>-0.005140</td>\n",
              "      <td>-0.006843</td>\n",
              "      <td>-0.002058</td>\n",
              "      <td>0.002920</td>\n",
              "      <td>0.002266</td>\n",
              "      <td>0.014589</td>\n",
              "      <td>0.001857</td>\n",
              "      <td>0.011310</td>\n",
              "      <td>0.001779</td>\n",
              "      <td>0.002272</td>\n",
              "      <td>-0.006038</td>\n",
              "      <td>-0.023902</td>\n",
              "      <td>0.010608</td>\n",
              "      <td>0.008257</td>\n",
              "      <td>0.001946</td>\n",
              "      <td>-0.034248</td>\n",
              "    </tr>\n",
              "    <tr>\n",
              "      <th>P3</th>\n",
              "      <td>0.000369</td>\n",
              "      <td>0.002199</td>\n",
              "      <td>0.005168</td>\n",
              "      <td>-0.010317</td>\n",
              "      <td>-0.002539</td>\n",
              "      <td>1.000000</td>\n",
              "      <td>-0.944435</td>\n",
              "      <td>0.035129</td>\n",
              "      <td>0.012444</td>\n",
              "      <td>-0.006097</td>\n",
              "      <td>0.005795</td>\n",
              "      <td>0.013007</td>\n",
              "      <td>-0.016437</td>\n",
              "      <td>0.000515</td>\n",
              "      <td>0.004496</td>\n",
              "      <td>-0.004508</td>\n",
              "      <td>-0.014086</td>\n",
              "      <td>-0.014135</td>\n",
              "      <td>0.018113</td>\n",
              "      <td>-0.013289</td>\n",
              "      <td>0.007423</td>\n",
              "      <td>-0.011347</td>\n",
              "      <td>0.008651</td>\n",
              "      <td>-0.006380</td>\n",
              "      <td>0.013045</td>\n",
              "      <td>0.001312</td>\n",
              "      <td>-0.010245</td>\n",
              "      <td>-0.007963</td>\n",
              "      <td>-0.009630</td>\n",
              "      <td>-0.009808</td>\n",
              "    </tr>\n",
              "    <tr>\n",
              "      <th>P4</th>\n",
              "      <td>0.001880</td>\n",
              "      <td>-0.001191</td>\n",
              "      <td>-0.008177</td>\n",
              "      <td>0.011704</td>\n",
              "      <td>0.002132</td>\n",
              "      <td>-0.944435</td>\n",
              "      <td>1.000000</td>\n",
              "      <td>-0.032897</td>\n",
              "      <td>-0.010627</td>\n",
              "      <td>0.007323</td>\n",
              "      <td>-0.004870</td>\n",
              "      <td>-0.010749</td>\n",
              "      <td>0.010696</td>\n",
              "      <td>0.001580</td>\n",
              "      <td>-0.003086</td>\n",
              "      <td>0.004230</td>\n",
              "      <td>0.013755</td>\n",
              "      <td>0.012959</td>\n",
              "      <td>-0.016615</td>\n",
              "      <td>0.010501</td>\n",
              "      <td>-0.005681</td>\n",
              "      <td>0.010061</td>\n",
              "      <td>-0.006926</td>\n",
              "      <td>0.008049</td>\n",
              "      <td>-0.010905</td>\n",
              "      <td>0.001705</td>\n",
              "      <td>0.008348</td>\n",
              "      <td>0.005379</td>\n",
              "      <td>0.008906</td>\n",
              "      <td>0.009841</td>\n",
              "    </tr>\n",
              "    <tr>\n",
              "      <th>P5</th>\n",
              "      <td>0.022632</td>\n",
              "      <td>0.005568</td>\n",
              "      <td>0.038160</td>\n",
              "      <td>0.010911</td>\n",
              "      <td>0.008390</td>\n",
              "      <td>0.035129</td>\n",
              "      <td>-0.032897</td>\n",
              "      <td>1.000000</td>\n",
              "      <td>0.002314</td>\n",
              "      <td>-0.023628</td>\n",
              "      <td>-0.062955</td>\n",
              "      <td>-0.033420</td>\n",
              "      <td>0.069444</td>\n",
              "      <td>-0.002757</td>\n",
              "      <td>-0.020218</td>\n",
              "      <td>-0.006387</td>\n",
              "      <td>-0.032576</td>\n",
              "      <td>-0.048551</td>\n",
              "      <td>0.005177</td>\n",
              "      <td>-0.074753</td>\n",
              "      <td>0.028216</td>\n",
              "      <td>-0.054428</td>\n",
              "      <td>0.026232</td>\n",
              "      <td>0.005371</td>\n",
              "      <td>0.070290</td>\n",
              "      <td>-0.016671</td>\n",
              "      <td>-0.046353</td>\n",
              "      <td>-0.023359</td>\n",
              "      <td>-0.022193</td>\n",
              "      <td>-0.004897</td>\n",
              "    </tr>\n",
              "    <tr>\n",
              "      <th>P6</th>\n",
              "      <td>0.005377</td>\n",
              "      <td>-0.015791</td>\n",
              "      <td>-0.000400</td>\n",
              "      <td>0.045429</td>\n",
              "      <td>-0.022003</td>\n",
              "      <td>0.012444</td>\n",
              "      <td>-0.010627</td>\n",
              "      <td>0.002314</td>\n",
              "      <td>1.000000</td>\n",
              "      <td>-0.125580</td>\n",
              "      <td>-0.006273</td>\n",
              "      <td>0.006025</td>\n",
              "      <td>-0.025157</td>\n",
              "      <td>-0.001288</td>\n",
              "      <td>-0.007514</td>\n",
              "      <td>0.011529</td>\n",
              "      <td>-0.006923</td>\n",
              "      <td>-0.008941</td>\n",
              "      <td>-0.005549</td>\n",
              "      <td>-0.034470</td>\n",
              "      <td>-0.008939</td>\n",
              "      <td>-0.024449</td>\n",
              "      <td>-0.010418</td>\n",
              "      <td>-0.004996</td>\n",
              "      <td>0.019121</td>\n",
              "      <td>0.029222</td>\n",
              "      <td>-0.025728</td>\n",
              "      <td>-0.016850</td>\n",
              "      <td>-0.002163</td>\n",
              "      <td>0.012783</td>\n",
              "    </tr>\n",
              "    <tr>\n",
              "      <th>P7</th>\n",
              "      <td>0.111903</td>\n",
              "      <td>0.003498</td>\n",
              "      <td>0.189796</td>\n",
              "      <td>0.027461</td>\n",
              "      <td>0.052171</td>\n",
              "      <td>-0.006097</td>\n",
              "      <td>0.007323</td>\n",
              "      <td>-0.023628</td>\n",
              "      <td>-0.125580</td>\n",
              "      <td>1.000000</td>\n",
              "      <td>-0.087373</td>\n",
              "      <td>-0.091327</td>\n",
              "      <td>0.294528</td>\n",
              "      <td>0.026627</td>\n",
              "      <td>0.051338</td>\n",
              "      <td>-0.105148</td>\n",
              "      <td>-0.042634</td>\n",
              "      <td>0.022973</td>\n",
              "      <td>0.045725</td>\n",
              "      <td>0.109924</td>\n",
              "      <td>0.084846</td>\n",
              "      <td>-0.043512</td>\n",
              "      <td>0.025850</td>\n",
              "      <td>0.007986</td>\n",
              "      <td>0.037711</td>\n",
              "      <td>0.024499</td>\n",
              "      <td>-0.020696</td>\n",
              "      <td>-0.008450</td>\n",
              "      <td>-0.041814</td>\n",
              "      <td>0.019360</td>\n",
              "    </tr>\n",
              "    <tr>\n",
              "      <th>E1</th>\n",
              "      <td>-0.061881</td>\n",
              "      <td>-0.000122</td>\n",
              "      <td>-0.160830</td>\n",
              "      <td>-0.015436</td>\n",
              "      <td>-0.012045</td>\n",
              "      <td>0.005795</td>\n",
              "      <td>-0.004870</td>\n",
              "      <td>-0.062955</td>\n",
              "      <td>-0.006273</td>\n",
              "      <td>-0.087373</td>\n",
              "      <td>1.000000</td>\n",
              "      <td>0.725684</td>\n",
              "      <td>-0.210994</td>\n",
              "      <td>-0.001312</td>\n",
              "      <td>0.046620</td>\n",
              "      <td>0.011380</td>\n",
              "      <td>0.114083</td>\n",
              "      <td>0.092611</td>\n",
              "      <td>-0.066801</td>\n",
              "      <td>0.176868</td>\n",
              "      <td>-0.088023</td>\n",
              "      <td>0.430603</td>\n",
              "      <td>0.068999</td>\n",
              "      <td>0.045605</td>\n",
              "      <td>-0.185484</td>\n",
              "      <td>-0.114477</td>\n",
              "      <td>0.399214</td>\n",
              "      <td>0.227876</td>\n",
              "      <td>0.382013</td>\n",
              "      <td>-0.070397</td>\n",
              "    </tr>\n",
              "    <tr>\n",
              "      <th>E2</th>\n",
              "      <td>0.015610</td>\n",
              "      <td>-0.003558</td>\n",
              "      <td>-0.105495</td>\n",
              "      <td>-0.009356</td>\n",
              "      <td>-0.019121</td>\n",
              "      <td>0.013007</td>\n",
              "      <td>-0.010749</td>\n",
              "      <td>-0.033420</td>\n",
              "      <td>0.006025</td>\n",
              "      <td>-0.091327</td>\n",
              "      <td>0.725684</td>\n",
              "      <td>1.000000</td>\n",
              "      <td>-0.230564</td>\n",
              "      <td>-0.003982</td>\n",
              "      <td>0.041188</td>\n",
              "      <td>0.044847</td>\n",
              "      <td>0.040890</td>\n",
              "      <td>0.011876</td>\n",
              "      <td>-0.003062</td>\n",
              "      <td>-0.001179</td>\n",
              "      <td>-0.052130</td>\n",
              "      <td>0.094731</td>\n",
              "      <td>0.029370</td>\n",
              "      <td>-0.003652</td>\n",
              "      <td>-0.060586</td>\n",
              "      <td>0.001465</td>\n",
              "      <td>0.083946</td>\n",
              "      <td>0.044731</td>\n",
              "      <td>0.081133</td>\n",
              "      <td>-0.061395</td>\n",
              "    </tr>\n",
              "    <tr>\n",
              "      <th>E3</th>\n",
              "      <td>-0.087071</td>\n",
              "      <td>0.002931</td>\n",
              "      <td>0.157973</td>\n",
              "      <td>0.024131</td>\n",
              "      <td>0.062076</td>\n",
              "      <td>-0.016437</td>\n",
              "      <td>0.010696</td>\n",
              "      <td>0.069444</td>\n",
              "      <td>-0.025157</td>\n",
              "      <td>0.294528</td>\n",
              "      <td>-0.210994</td>\n",
              "      <td>-0.230564</td>\n",
              "      <td>1.000000</td>\n",
              "      <td>0.016046</td>\n",
              "      <td>-0.121065</td>\n",
              "      <td>-0.165577</td>\n",
              "      <td>-0.075357</td>\n",
              "      <td>0.000226</td>\n",
              "      <td>0.016521</td>\n",
              "      <td>0.035559</td>\n",
              "      <td>0.011117</td>\n",
              "      <td>0.015578</td>\n",
              "      <td>-0.046786</td>\n",
              "      <td>0.048736</td>\n",
              "      <td>0.140578</td>\n",
              "      <td>-0.079563</td>\n",
              "      <td>0.006129</td>\n",
              "      <td>0.012401</td>\n",
              "      <td>0.042666</td>\n",
              "      <td>0.115566</td>\n",
              "    </tr>\n",
              "    <tr>\n",
              "      <th>E4</th>\n",
              "      <td>-0.050151</td>\n",
              "      <td>-0.004580</td>\n",
              "      <td>0.047992</td>\n",
              "      <td>-0.010574</td>\n",
              "      <td>0.003529</td>\n",
              "      <td>0.000515</td>\n",
              "      <td>0.001580</td>\n",
              "      <td>-0.002757</td>\n",
              "      <td>-0.001288</td>\n",
              "      <td>0.026627</td>\n",
              "      <td>-0.001312</td>\n",
              "      <td>-0.003982</td>\n",
              "      <td>0.016046</td>\n",
              "      <td>1.000000</td>\n",
              "      <td>0.118974</td>\n",
              "      <td>0.060057</td>\n",
              "      <td>-0.202970</td>\n",
              "      <td>-0.119815</td>\n",
              "      <td>0.156194</td>\n",
              "      <td>0.013668</td>\n",
              "      <td>-0.015727</td>\n",
              "      <td>0.002181</td>\n",
              "      <td>-0.002248</td>\n",
              "      <td>-0.007556</td>\n",
              "      <td>0.009405</td>\n",
              "      <td>-0.006332</td>\n",
              "      <td>-0.004937</td>\n",
              "      <td>-0.014779</td>\n",
              "      <td>0.000264</td>\n",
              "      <td>-0.003311</td>\n",
              "    </tr>\n",
              "    <tr>\n",
              "      <th>E5</th>\n",
              "      <td>0.234524</td>\n",
              "      <td>0.010314</td>\n",
              "      <td>-0.067453</td>\n",
              "      <td>-0.006564</td>\n",
              "      <td>-0.005140</td>\n",
              "      <td>0.004496</td>\n",
              "      <td>-0.003086</td>\n",
              "      <td>-0.020218</td>\n",
              "      <td>-0.007514</td>\n",
              "      <td>0.051338</td>\n",
              "      <td>0.046620</td>\n",
              "      <td>0.041188</td>\n",
              "      <td>-0.121065</td>\n",
              "      <td>0.118974</td>\n",
              "      <td>1.000000</td>\n",
              "      <td>0.014476</td>\n",
              "      <td>-0.035202</td>\n",
              "      <td>0.021078</td>\n",
              "      <td>0.057401</td>\n",
              "      <td>0.037778</td>\n",
              "      <td>0.039560</td>\n",
              "      <td>0.079413</td>\n",
              "      <td>0.025036</td>\n",
              "      <td>-0.016252</td>\n",
              "      <td>-0.152005</td>\n",
              "      <td>-0.033109</td>\n",
              "      <td>0.078383</td>\n",
              "      <td>0.057884</td>\n",
              "      <td>0.083841</td>\n",
              "      <td>-0.004646</td>\n",
              "    </tr>\n",
              "    <tr>\n",
              "      <th>E6</th>\n",
              "      <td>-0.034418</td>\n",
              "      <td>-0.003838</td>\n",
              "      <td>-0.189198</td>\n",
              "      <td>-0.004635</td>\n",
              "      <td>-0.006843</td>\n",
              "      <td>-0.004508</td>\n",
              "      <td>0.004230</td>\n",
              "      <td>-0.006387</td>\n",
              "      <td>0.011529</td>\n",
              "      <td>-0.105148</td>\n",
              "      <td>0.011380</td>\n",
              "      <td>0.044847</td>\n",
              "      <td>-0.165577</td>\n",
              "      <td>0.060057</td>\n",
              "      <td>0.014476</td>\n",
              "      <td>1.000000</td>\n",
              "      <td>0.248943</td>\n",
              "      <td>0.098840</td>\n",
              "      <td>-0.170502</td>\n",
              "      <td>0.011477</td>\n",
              "      <td>0.001127</td>\n",
              "      <td>-0.049803</td>\n",
              "      <td>-0.037068</td>\n",
              "      <td>-0.005844</td>\n",
              "      <td>0.086723</td>\n",
              "      <td>0.013194</td>\n",
              "      <td>-0.043660</td>\n",
              "      <td>-0.031359</td>\n",
              "      <td>-0.046781</td>\n",
              "      <td>-0.009406</td>\n",
              "    </tr>\n",
              "    <tr>\n",
              "      <th>E7</th>\n",
              "      <td>-0.116919</td>\n",
              "      <td>0.002005</td>\n",
              "      <td>-0.329722</td>\n",
              "      <td>-0.013194</td>\n",
              "      <td>-0.002058</td>\n",
              "      <td>-0.014086</td>\n",
              "      <td>0.013755</td>\n",
              "      <td>-0.032576</td>\n",
              "      <td>-0.006923</td>\n",
              "      <td>-0.042634</td>\n",
              "      <td>0.114083</td>\n",
              "      <td>0.040890</td>\n",
              "      <td>-0.075357</td>\n",
              "      <td>-0.202970</td>\n",
              "      <td>-0.035202</td>\n",
              "      <td>0.248943</td>\n",
              "      <td>1.000000</td>\n",
              "      <td>0.635992</td>\n",
              "      <td>-0.744275</td>\n",
              "      <td>0.312870</td>\n",
              "      <td>-0.031910</td>\n",
              "      <td>0.188332</td>\n",
              "      <td>0.020010</td>\n",
              "      <td>0.023965</td>\n",
              "      <td>-0.048397</td>\n",
              "      <td>-0.058715</td>\n",
              "      <td>0.186425</td>\n",
              "      <td>0.128932</td>\n",
              "      <td>0.157692</td>\n",
              "      <td>-0.004873</td>\n",
              "    </tr>\n",
              "    <tr>\n",
              "      <th>E8</th>\n",
              "      <td>-0.095434</td>\n",
              "      <td>0.009400</td>\n",
              "      <td>-0.283440</td>\n",
              "      <td>-0.010918</td>\n",
              "      <td>0.002920</td>\n",
              "      <td>-0.014135</td>\n",
              "      <td>0.012959</td>\n",
              "      <td>-0.048551</td>\n",
              "      <td>-0.008941</td>\n",
              "      <td>0.022973</td>\n",
              "      <td>0.092611</td>\n",
              "      <td>0.011876</td>\n",
              "      <td>0.000226</td>\n",
              "      <td>-0.119815</td>\n",
              "      <td>0.021078</td>\n",
              "      <td>0.098840</td>\n",
              "      <td>0.635992</td>\n",
              "      <td>1.000000</td>\n",
              "      <td>-0.594516</td>\n",
              "      <td>0.311184</td>\n",
              "      <td>-0.016692</td>\n",
              "      <td>0.202976</td>\n",
              "      <td>0.036510</td>\n",
              "      <td>0.025184</td>\n",
              "      <td>-0.074523</td>\n",
              "      <td>-0.077849</td>\n",
              "      <td>0.194538</td>\n",
              "      <td>0.126790</td>\n",
              "      <td>0.179493</td>\n",
              "      <td>-0.008762</td>\n",
              "    </tr>\n",
              "    <tr>\n",
              "      <th>E9</th>\n",
              "      <td>0.116988</td>\n",
              "      <td>-0.002779</td>\n",
              "      <td>0.380353</td>\n",
              "      <td>0.004688</td>\n",
              "      <td>0.002266</td>\n",
              "      <td>0.018113</td>\n",
              "      <td>-0.016615</td>\n",
              "      <td>0.005177</td>\n",
              "      <td>-0.005549</td>\n",
              "      <td>0.045725</td>\n",
              "      <td>-0.066801</td>\n",
              "      <td>-0.003062</td>\n",
              "      <td>0.016521</td>\n",
              "      <td>0.156194</td>\n",
              "      <td>0.057401</td>\n",
              "      <td>-0.170502</td>\n",
              "      <td>-0.744275</td>\n",
              "      <td>-0.594516</td>\n",
              "      <td>1.000000</td>\n",
              "      <td>-0.313360</td>\n",
              "      <td>0.031089</td>\n",
              "      <td>-0.129286</td>\n",
              "      <td>-0.009856</td>\n",
              "      <td>-0.021323</td>\n",
              "      <td>0.013255</td>\n",
              "      <td>0.063281</td>\n",
              "      <td>-0.128772</td>\n",
              "      <td>-0.093210</td>\n",
              "      <td>-0.111997</td>\n",
              "      <td>-0.019344</td>\n",
              "    </tr>\n",
              "    <tr>\n",
              "      <th>E10</th>\n",
              "      <td>-0.100521</td>\n",
              "      <td>-0.008684</td>\n",
              "      <td>-0.067051</td>\n",
              "      <td>0.004549</td>\n",
              "      <td>0.014589</td>\n",
              "      <td>-0.013289</td>\n",
              "      <td>0.010501</td>\n",
              "      <td>-0.074753</td>\n",
              "      <td>-0.034470</td>\n",
              "      <td>0.109924</td>\n",
              "      <td>0.176868</td>\n",
              "      <td>-0.001179</td>\n",
              "      <td>0.035559</td>\n",
              "      <td>0.013668</td>\n",
              "      <td>0.037778</td>\n",
              "      <td>0.011477</td>\n",
              "      <td>0.312870</td>\n",
              "      <td>0.311184</td>\n",
              "      <td>-0.313360</td>\n",
              "      <td>1.000000</td>\n",
              "      <td>-0.031277</td>\n",
              "      <td>0.376850</td>\n",
              "      <td>0.075143</td>\n",
              "      <td>0.014493</td>\n",
              "      <td>-0.292688</td>\n",
              "      <td>-0.188536</td>\n",
              "      <td>0.364547</td>\n",
              "      <td>0.225304</td>\n",
              "      <td>0.328938</td>\n",
              "      <td>0.068841</td>\n",
              "    </tr>\n",
              "    <tr>\n",
              "      <th>E11</th>\n",
              "      <td>0.073676</td>\n",
              "      <td>0.004978</td>\n",
              "      <td>0.079002</td>\n",
              "      <td>0.015882</td>\n",
              "      <td>0.001857</td>\n",
              "      <td>0.007423</td>\n",
              "      <td>-0.005681</td>\n",
              "      <td>0.028216</td>\n",
              "      <td>-0.008939</td>\n",
              "      <td>0.084846</td>\n",
              "      <td>-0.088023</td>\n",
              "      <td>-0.052130</td>\n",
              "      <td>0.011117</td>\n",
              "      <td>-0.015727</td>\n",
              "      <td>0.039560</td>\n",
              "      <td>0.001127</td>\n",
              "      <td>-0.031910</td>\n",
              "      <td>-0.016692</td>\n",
              "      <td>0.031089</td>\n",
              "      <td>-0.031277</td>\n",
              "      <td>1.000000</td>\n",
              "      <td>-0.273714</td>\n",
              "      <td>-0.009588</td>\n",
              "      <td>0.023545</td>\n",
              "      <td>0.056647</td>\n",
              "      <td>0.109642</td>\n",
              "      <td>-0.331563</td>\n",
              "      <td>-0.276242</td>\n",
              "      <td>-0.154770</td>\n",
              "      <td>0.023469</td>\n",
              "    </tr>\n",
              "    <tr>\n",
              "      <th>V1</th>\n",
              "      <td>-0.117728</td>\n",
              "      <td>0.004242</td>\n",
              "      <td>-0.269967</td>\n",
              "      <td>-0.025763</td>\n",
              "      <td>0.011310</td>\n",
              "      <td>-0.011347</td>\n",
              "      <td>0.010061</td>\n",
              "      <td>-0.054428</td>\n",
              "      <td>-0.024449</td>\n",
              "      <td>-0.043512</td>\n",
              "      <td>0.430603</td>\n",
              "      <td>0.094731</td>\n",
              "      <td>0.015578</td>\n",
              "      <td>0.002181</td>\n",
              "      <td>0.079413</td>\n",
              "      <td>-0.049803</td>\n",
              "      <td>0.188332</td>\n",
              "      <td>0.202976</td>\n",
              "      <td>-0.129286</td>\n",
              "      <td>0.376850</td>\n",
              "      <td>-0.273714</td>\n",
              "      <td>1.000000</td>\n",
              "      <td>0.173796</td>\n",
              "      <td>0.113710</td>\n",
              "      <td>-0.435652</td>\n",
              "      <td>-0.309047</td>\n",
              "      <td>0.937334</td>\n",
              "      <td>0.572335</td>\n",
              "      <td>0.910776</td>\n",
              "      <td>-0.095577</td>\n",
              "    </tr>\n",
              "    <tr>\n",
              "      <th>V2</th>\n",
              "      <td>0.065063</td>\n",
              "      <td>0.019009</td>\n",
              "      <td>-0.050740</td>\n",
              "      <td>-0.021118</td>\n",
              "      <td>0.001779</td>\n",
              "      <td>0.008651</td>\n",
              "      <td>-0.006926</td>\n",
              "      <td>0.026232</td>\n",
              "      <td>-0.010418</td>\n",
              "      <td>0.025850</td>\n",
              "      <td>0.068999</td>\n",
              "      <td>0.029370</td>\n",
              "      <td>-0.046786</td>\n",
              "      <td>-0.002248</td>\n",
              "      <td>0.025036</td>\n",
              "      <td>-0.037068</td>\n",
              "      <td>0.020010</td>\n",
              "      <td>0.036510</td>\n",
              "      <td>-0.009856</td>\n",
              "      <td>0.075143</td>\n",
              "      <td>-0.009588</td>\n",
              "      <td>0.173796</td>\n",
              "      <td>1.000000</td>\n",
              "      <td>-0.029865</td>\n",
              "      <td>-0.164682</td>\n",
              "      <td>-0.406453</td>\n",
              "      <td>0.179933</td>\n",
              "      <td>0.107099</td>\n",
              "      <td>0.153246</td>\n",
              "      <td>-0.043922</td>\n",
              "    </tr>\n",
              "    <tr>\n",
              "      <th>V3</th>\n",
              "      <td>0.001900</td>\n",
              "      <td>0.007753</td>\n",
              "      <td>-0.062000</td>\n",
              "      <td>0.002551</td>\n",
              "      <td>0.002272</td>\n",
              "      <td>-0.006380</td>\n",
              "      <td>0.008049</td>\n",
              "      <td>0.005371</td>\n",
              "      <td>-0.004996</td>\n",
              "      <td>0.007986</td>\n",
              "      <td>0.045605</td>\n",
              "      <td>-0.003652</td>\n",
              "      <td>0.048736</td>\n",
              "      <td>-0.007556</td>\n",
              "      <td>-0.016252</td>\n",
              "      <td>-0.005844</td>\n",
              "      <td>0.023965</td>\n",
              "      <td>0.025184</td>\n",
              "      <td>-0.021323</td>\n",
              "      <td>0.014493</td>\n",
              "      <td>0.023545</td>\n",
              "      <td>0.113710</td>\n",
              "      <td>-0.029865</td>\n",
              "      <td>1.000000</td>\n",
              "      <td>0.094807</td>\n",
              "      <td>0.034938</td>\n",
              "      <td>0.110503</td>\n",
              "      <td>0.078252</td>\n",
              "      <td>0.128663</td>\n",
              "      <td>-0.000325</td>\n",
              "    </tr>\n",
              "    <tr>\n",
              "      <th>V4</th>\n",
              "      <td>-0.074320</td>\n",
              "      <td>-0.000480</td>\n",
              "      <td>0.097022</td>\n",
              "      <td>0.021404</td>\n",
              "      <td>-0.006038</td>\n",
              "      <td>0.013045</td>\n",
              "      <td>-0.010905</td>\n",
              "      <td>0.070290</td>\n",
              "      <td>0.019121</td>\n",
              "      <td>0.037711</td>\n",
              "      <td>-0.185484</td>\n",
              "      <td>-0.060586</td>\n",
              "      <td>0.140578</td>\n",
              "      <td>0.009405</td>\n",
              "      <td>-0.152005</td>\n",
              "      <td>0.086723</td>\n",
              "      <td>-0.048397</td>\n",
              "      <td>-0.074523</td>\n",
              "      <td>0.013255</td>\n",
              "      <td>-0.292688</td>\n",
              "      <td>0.056647</td>\n",
              "      <td>-0.435652</td>\n",
              "      <td>-0.164682</td>\n",
              "      <td>0.094807</td>\n",
              "      <td>1.000000</td>\n",
              "      <td>0.087289</td>\n",
              "      <td>-0.405763</td>\n",
              "      <td>-0.250265</td>\n",
              "      <td>-0.386108</td>\n",
              "      <td>0.081574</td>\n",
              "    </tr>\n",
              "    <tr>\n",
              "      <th>V5</th>\n",
              "      <td>0.123721</td>\n",
              "      <td>-0.006284</td>\n",
              "      <td>0.055429</td>\n",
              "      <td>0.051348</td>\n",
              "      <td>-0.023902</td>\n",
              "      <td>0.001312</td>\n",
              "      <td>0.001705</td>\n",
              "      <td>-0.016671</td>\n",
              "      <td>0.029222</td>\n",
              "      <td>0.024499</td>\n",
              "      <td>-0.114477</td>\n",
              "      <td>0.001465</td>\n",
              "      <td>-0.079563</td>\n",
              "      <td>-0.006332</td>\n",
              "      <td>-0.033109</td>\n",
              "      <td>0.013194</td>\n",
              "      <td>-0.058715</td>\n",
              "      <td>-0.077849</td>\n",
              "      <td>0.063281</td>\n",
              "      <td>-0.188536</td>\n",
              "      <td>0.109642</td>\n",
              "      <td>-0.309047</td>\n",
              "      <td>-0.406453</td>\n",
              "      <td>0.034938</td>\n",
              "      <td>0.087289</td>\n",
              "      <td>1.000000</td>\n",
              "      <td>-0.276837</td>\n",
              "      <td>-0.162438</td>\n",
              "      <td>-0.244230</td>\n",
              "      <td>0.033800</td>\n",
              "    </tr>\n",
              "    <tr>\n",
              "      <th>V6</th>\n",
              "      <td>-0.097389</td>\n",
              "      <td>0.003935</td>\n",
              "      <td>-0.244150</td>\n",
              "      <td>-0.019792</td>\n",
              "      <td>0.010608</td>\n",
              "      <td>-0.010245</td>\n",
              "      <td>0.008348</td>\n",
              "      <td>-0.046353</td>\n",
              "      <td>-0.025728</td>\n",
              "      <td>-0.020696</td>\n",
              "      <td>0.399214</td>\n",
              "      <td>0.083946</td>\n",
              "      <td>0.006129</td>\n",
              "      <td>-0.004937</td>\n",
              "      <td>0.078383</td>\n",
              "      <td>-0.043660</td>\n",
              "      <td>0.186425</td>\n",
              "      <td>0.194538</td>\n",
              "      <td>-0.128772</td>\n",
              "      <td>0.364547</td>\n",
              "      <td>-0.331563</td>\n",
              "      <td>0.937334</td>\n",
              "      <td>0.179933</td>\n",
              "      <td>0.110503</td>\n",
              "      <td>-0.405763</td>\n",
              "      <td>-0.276837</td>\n",
              "      <td>1.000000</td>\n",
              "      <td>0.658544</td>\n",
              "      <td>0.822076</td>\n",
              "      <td>-0.089677</td>\n",
              "    </tr>\n",
              "    <tr>\n",
              "      <th>V8</th>\n",
              "      <td>-0.047593</td>\n",
              "      <td>0.008191</td>\n",
              "      <td>-0.165550</td>\n",
              "      <td>-0.029747</td>\n",
              "      <td>0.008257</td>\n",
              "      <td>-0.007963</td>\n",
              "      <td>0.005379</td>\n",
              "      <td>-0.023359</td>\n",
              "      <td>-0.016850</td>\n",
              "      <td>-0.008450</td>\n",
              "      <td>0.227876</td>\n",
              "      <td>0.044731</td>\n",
              "      <td>0.012401</td>\n",
              "      <td>-0.014779</td>\n",
              "      <td>0.057884</td>\n",
              "      <td>-0.031359</td>\n",
              "      <td>0.128932</td>\n",
              "      <td>0.126790</td>\n",
              "      <td>-0.093210</td>\n",
              "      <td>0.225304</td>\n",
              "      <td>-0.276242</td>\n",
              "      <td>0.572335</td>\n",
              "      <td>0.107099</td>\n",
              "      <td>0.078252</td>\n",
              "      <td>-0.250265</td>\n",
              "      <td>-0.162438</td>\n",
              "      <td>0.658544</td>\n",
              "      <td>1.000000</td>\n",
              "      <td>0.513956</td>\n",
              "      <td>-0.056313</td>\n",
              "    </tr>\n",
              "    <tr>\n",
              "      <th>V10</th>\n",
              "      <td>-0.093818</td>\n",
              "      <td>0.005145</td>\n",
              "      <td>-0.259607</td>\n",
              "      <td>-0.004563</td>\n",
              "      <td>0.001946</td>\n",
              "      <td>-0.009630</td>\n",
              "      <td>0.008906</td>\n",
              "      <td>-0.022193</td>\n",
              "      <td>-0.002163</td>\n",
              "      <td>-0.041814</td>\n",
              "      <td>0.382013</td>\n",
              "      <td>0.081133</td>\n",
              "      <td>0.042666</td>\n",
              "      <td>0.000264</td>\n",
              "      <td>0.083841</td>\n",
              "      <td>-0.046781</td>\n",
              "      <td>0.157692</td>\n",
              "      <td>0.179493</td>\n",
              "      <td>-0.111997</td>\n",
              "      <td>0.328938</td>\n",
              "      <td>-0.154770</td>\n",
              "      <td>0.910776</td>\n",
              "      <td>0.153246</td>\n",
              "      <td>0.128663</td>\n",
              "      <td>-0.386108</td>\n",
              "      <td>-0.244230</td>\n",
              "      <td>0.822076</td>\n",
              "      <td>0.513956</td>\n",
              "      <td>1.000000</td>\n",
              "      <td>-0.055327</td>\n",
              "    </tr>\n",
              "    <tr>\n",
              "      <th>V11</th>\n",
              "      <td>0.078887</td>\n",
              "      <td>-0.011465</td>\n",
              "      <td>0.155722</td>\n",
              "      <td>0.344636</td>\n",
              "      <td>-0.034248</td>\n",
              "      <td>-0.009808</td>\n",
              "      <td>0.009841</td>\n",
              "      <td>-0.004897</td>\n",
              "      <td>0.012783</td>\n",
              "      <td>0.019360</td>\n",
              "      <td>-0.070397</td>\n",
              "      <td>-0.061395</td>\n",
              "      <td>0.115566</td>\n",
              "      <td>-0.003311</td>\n",
              "      <td>-0.004646</td>\n",
              "      <td>-0.009406</td>\n",
              "      <td>-0.004873</td>\n",
              "      <td>-0.008762</td>\n",
              "      <td>-0.019344</td>\n",
              "      <td>0.068841</td>\n",
              "      <td>0.023469</td>\n",
              "      <td>-0.095577</td>\n",
              "      <td>-0.043922</td>\n",
              "      <td>-0.000325</td>\n",
              "      <td>0.081574</td>\n",
              "      <td>0.033800</td>\n",
              "      <td>-0.089677</td>\n",
              "      <td>-0.056313</td>\n",
              "      <td>-0.055327</td>\n",
              "      <td>1.000000</td>\n",
              "    </tr>\n",
              "  </tbody>\n",
              "</table>\n",
              "</div>"
            ],
            "text/plain": [
              "          TrialID    ObsNum   IsAlert  ...        V8       V10       V11\n",
              "TrialID  1.000000 -0.000162 -0.145816  ... -0.047593 -0.093818  0.078887\n",
              "ObsNum  -0.000162  1.000000 -0.005143  ...  0.008191  0.005145 -0.011465\n",
              "IsAlert -0.145816 -0.005143  1.000000  ... -0.165550 -0.259607  0.155722\n",
              "P1       0.016772  0.018324  0.018361  ... -0.029747 -0.004563  0.344636\n",
              "P2      -0.004473 -0.001764  0.014383  ...  0.008257  0.001946 -0.034248\n",
              "P3       0.000369  0.002199  0.005168  ... -0.007963 -0.009630 -0.009808\n",
              "P4       0.001880 -0.001191 -0.008177  ...  0.005379  0.008906  0.009841\n",
              "P5       0.022632  0.005568  0.038160  ... -0.023359 -0.022193 -0.004897\n",
              "P6       0.005377 -0.015791 -0.000400  ... -0.016850 -0.002163  0.012783\n",
              "P7       0.111903  0.003498  0.189796  ... -0.008450 -0.041814  0.019360\n",
              "E1      -0.061881 -0.000122 -0.160830  ...  0.227876  0.382013 -0.070397\n",
              "E2       0.015610 -0.003558 -0.105495  ...  0.044731  0.081133 -0.061395\n",
              "E3      -0.087071  0.002931  0.157973  ...  0.012401  0.042666  0.115566\n",
              "E4      -0.050151 -0.004580  0.047992  ... -0.014779  0.000264 -0.003311\n",
              "E5       0.234524  0.010314 -0.067453  ...  0.057884  0.083841 -0.004646\n",
              "E6      -0.034418 -0.003838 -0.189198  ... -0.031359 -0.046781 -0.009406\n",
              "E7      -0.116919  0.002005 -0.329722  ...  0.128932  0.157692 -0.004873\n",
              "E8      -0.095434  0.009400 -0.283440  ...  0.126790  0.179493 -0.008762\n",
              "E9       0.116988 -0.002779  0.380353  ... -0.093210 -0.111997 -0.019344\n",
              "E10     -0.100521 -0.008684 -0.067051  ...  0.225304  0.328938  0.068841\n",
              "E11      0.073676  0.004978  0.079002  ... -0.276242 -0.154770  0.023469\n",
              "V1      -0.117728  0.004242 -0.269967  ...  0.572335  0.910776 -0.095577\n",
              "V2       0.065063  0.019009 -0.050740  ...  0.107099  0.153246 -0.043922\n",
              "V3       0.001900  0.007753 -0.062000  ...  0.078252  0.128663 -0.000325\n",
              "V4      -0.074320 -0.000480  0.097022  ... -0.250265 -0.386108  0.081574\n",
              "V5       0.123721 -0.006284  0.055429  ... -0.162438 -0.244230  0.033800\n",
              "V6      -0.097389  0.003935 -0.244150  ...  0.658544  0.822076 -0.089677\n",
              "V8      -0.047593  0.008191 -0.165550  ...  1.000000  0.513956 -0.056313\n",
              "V10     -0.093818  0.005145 -0.259607  ...  0.513956  1.000000 -0.055327\n",
              "V11      0.078887 -0.011465  0.155722  ... -0.056313 -0.055327  1.000000\n",
              "\n",
              "[30 rows x 30 columns]"
            ]
          },
          "metadata": {
            "tags": []
          },
          "execution_count": 11
        }
      ]
    },
    {
      "cell_type": "code",
      "metadata": {
        "id": "0gn_veQOD8j4",
        "colab_type": "code",
        "colab": {
          "base_uri": "https://localhost:8080/",
          "height": 754
        },
        "outputId": "dad7fc66-b7f4-4a1e-9707-eaffbb87a2da"
      },
      "source": [
        "plt.figure(figsize=(12,12))\n",
        "sns.heatmap(correlation,linewidths=0.2,cmap=\"YlGnBu\")"
      ],
      "execution_count": null,
      "outputs": [
        {
          "output_type": "execute_result",
          "data": {
            "text/plain": [
              "<matplotlib.axes._subplots.AxesSubplot at 0x7fc8b41f22e8>"
            ]
          },
          "metadata": {
            "tags": []
          },
          "execution_count": 12
        },
        {
          "output_type": "display_data",
          "data": {
            "image/png": "[encoded data removed]",
            "text/plain": [
              "<Figure size 864x864 with 2 Axes>"
            ]
          },
          "metadata": {
            "tags": [],
            "needs_background": "light"
          }
        }
      ]
    },
    {
      "cell_type": "code",
      "metadata": {
        "id": "5JgfIEqCFnbo",
        "colab_type": "code",
        "colab": {}
      },
      "source": [
        "for i in range(len(correlation.columns)):\n",
        "    for j in range(i):\n",
        "        if abs(correlation.iloc[i, j]) > 0.8:\n",
        "            colname = correlation.columns[i]\n",
        "            corr_features.add(colname)"
      ],
      "execution_count": null,
      "outputs": []
    },
    {
      "cell_type": "code",
      "metadata": {
        "id": "UQpMfHqcF-13",
        "colab_type": "code",
        "colab": {}
      },
      "source": [
        "train.drop(labels=corr_features, axis=1, inplace=True)\n",
        "test.drop(labels=corr_features, axis=1, inplace=True)"
      ],
      "execution_count": null,
      "outputs": []
    },
    {
      "cell_type": "code",
      "metadata": {
        "id": "BsdJ_n3QGFav",
        "colab_type": "code",
        "colab": {
          "base_uri": "https://localhost:8080/",
          "height": 34
        },
        "outputId": "a41f277c-9810-4ad5-a924-481828370ebe"
      },
      "source": [
        "corr_features"
      ],
      "execution_count": null,
      "outputs": [
        {
          "output_type": "execute_result",
          "data": {
            "text/plain": [
              "{'P4', 'V10', 'V6'}"
            ]
          },
          "metadata": {
            "tags": []
          },
          "execution_count": 15
        }
      ]
    },
    {
      "cell_type": "code",
      "metadata": {
        "id": "FAWHV094GWCi",
        "colab_type": "code",
        "colab": {
          "base_uri": "https://localhost:8080/",
          "height": 84
        },
        "outputId": "4327db22-0e4a-4e77-f7c2-b80940305efe"
      },
      "source": [
        "train.columns"
      ],
      "execution_count": null,
      "outputs": [
        {
          "output_type": "execute_result",
          "data": {
            "text/plain": [
              "Index(['TrialID', 'ObsNum', 'IsAlert', 'P1', 'P2', 'P3', 'P5', 'P6', 'P7',\n",
              "       'E1', 'E2', 'E3', 'E4', 'E5', 'E6', 'E7', 'E8', 'E9', 'E10', 'E11',\n",
              "       'V1', 'V2', 'V3', 'V4', 'V5', 'V8', 'V11'],\n",
              "      dtype='object')"
            ]
          },
          "metadata": {
            "tags": []
          },
          "execution_count": 16
        }
      ]
    },
    {
      "cell_type": "code",
      "metadata": {
        "id": "0YlgrsABMp-P",
        "colab_type": "code",
        "colab": {}
      },
      "source": [
        "clf_CV = LogisticRegressionCV(cv=10, random_state=0, solver = 'liblinear') # Model Setting\n",
        "clf_CV.fit(trai, new_df.IsAlert) # Model Fitting"
      ],
      "execution_count": null,
      "outputs": []
    },
    {
      "cell_type": "code",
      "metadata": {
        "id": "4rtJmjNkMN8r",
        "colab_type": "code",
        "colab": {
          "base_uri": "https://localhost:8080/",
          "height": 212
        },
        "outputId": "031bd402-e984-4fed-b273-1ceb11a549f2"
      },
      "source": [
        "skf = StratifiedKFold(n_splits=10)\n",
        "params = {}\n",
        "nb = GaussianNB()\n",
        "gs = GridSearchCV(nb, cv=skf, param_grid=params, return_train_score=True)"
      ],
      "execution_count": null,
      "outputs": [
        {
          "output_type": "error",
          "ename": "NameError",
          "evalue": "ignored",
          "traceback": [
            "\u001b[0;31m---------------------------------------------------------------------------\u001b[0m",
            "\u001b[0;31mNameError\u001b[0m                                 Traceback (most recent call last)",
            "\u001b[0;32m<ipython-input-17-76ee18f214d8>\u001b[0m in \u001b[0;36m<module>\u001b[0;34m()\u001b[0m\n\u001b[0;32m----> 1\u001b[0;31m \u001b[0mskf\u001b[0m \u001b[0;34m=\u001b[0m \u001b[0mStratifiedKFold\u001b[0m\u001b[0;34m(\u001b[0m\u001b[0mn_splits\u001b[0m\u001b[0;34m=\u001b[0m\u001b[0;36m10\u001b[0m\u001b[0;34m)\u001b[0m\u001b[0;34m\u001b[0m\u001b[0;34m\u001b[0m\u001b[0m\n\u001b[0m\u001b[1;32m      2\u001b[0m \u001b[0mparams\u001b[0m \u001b[0;34m=\u001b[0m \u001b[0;34m{\u001b[0m\u001b[0;34m}\u001b[0m\u001b[0;34m\u001b[0m\u001b[0;34m\u001b[0m\u001b[0m\n\u001b[1;32m      3\u001b[0m \u001b[0mnb\u001b[0m \u001b[0;34m=\u001b[0m \u001b[0mGaussianNB\u001b[0m\u001b[0;34m(\u001b[0m\u001b[0;34m)\u001b[0m\u001b[0;34m\u001b[0m\u001b[0;34m\u001b[0m\u001b[0m\n\u001b[1;32m      4\u001b[0m \u001b[0mgs\u001b[0m \u001b[0;34m=\u001b[0m \u001b[0mGridSearchCV\u001b[0m\u001b[0;34m(\u001b[0m\u001b[0mnb\u001b[0m\u001b[0;34m,\u001b[0m \u001b[0mcv\u001b[0m\u001b[0;34m=\u001b[0m\u001b[0mskf\u001b[0m\u001b[0;34m,\u001b[0m \u001b[0mparam_grid\u001b[0m\u001b[0;34m=\u001b[0m\u001b[0mparams\u001b[0m\u001b[0;34m,\u001b[0m \u001b[0mreturn_train_score\u001b[0m\u001b[0;34m=\u001b[0m\u001b[0;32mTrue\u001b[0m\u001b[0;34m)\u001b[0m\u001b[0;34m\u001b[0m\u001b[0;34m\u001b[0m\u001b[0m\n",
            "\u001b[0;31mNameError\u001b[0m: name 'StratifiedKFold' is not defined"
          ]
        }
      ]
    }
  ]
}