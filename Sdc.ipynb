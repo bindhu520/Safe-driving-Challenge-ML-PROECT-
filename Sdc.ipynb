{
  "nbformat": 4,
  "nbformat_minor": 0,
  "metadata": {
    "colab": {
      "name": "Sdc.ipynb",
      "provenance": [],
      "collapsed_sections": [
        "eCtBw9HwEeRT",
        "pb9mpI5CGGD0",
        "Nvbpy6kmGNyh"
      ],
      "mount_file_id": "1Q1JBjNi5juRPSFoI99mX0XSnaRYUUtQ0",
      "authorship_tag": "ABX9TyMB4FzrQp6XrBuhD4sKr2EI",
      "include_colab_link": true
    },
    "kernelspec": {
      "name": "python3",
      "display_name": "Python 3"
    },
    "accelerator": "GPU"
  },
  "cells": [
    {
      "cell_type": "markdown",
      "metadata": {
        "id": "view-in-github",
        "colab_type": "text"
      },
      "source": [
        "<a href=\"https://colab.research.google.com/github/bindhu520/Safe-driving-Challenge-ML-PROECT-/blob/master/Sdc.ipynb\" target=\"_parent\"><img src=\"https://colab.research.google.com/assets/colab-badge.svg\" alt=\"Open In Colab\"/></a>"
      ]
    },
    {
      "cell_type": "code",
      "metadata": {
        "id": "Te5Ct3hUB5OQ",
        "colab_type": "code",
        "colab": {}
      },
      "source": [
        "from google.colab import files"
      ],
      "execution_count": 0,
      "outputs": []
    },
    {
      "cell_type": "markdown",
      "metadata": {
        "id": "in3lCWfhA2rI",
        "colab_type": "text"
      },
      "source": [
        "# Library Import"
      ]
    },
    {
      "cell_type": "code",
      "metadata": {
        "id": "jsEta6ATAcuI",
        "colab_type": "code",
        "colab": {}
      },
      "source": [
        "import pandas as pd\n",
        "import numpy as np\n",
        "import matplotlib.pyplot as plt\n",
        "from sklearn.decomposition import PCA\n",
        "from sklearn import preprocessing\n",
        "from sklearn.linear_model import LogisticRegressionCV\n",
        "from sklearn.naive_bayes import GaussianNB\n",
        "from sklearn.ensemble import RandomForestClassifier\n",
        "from sklearn.metrics import confusion_matrix\n",
        "from sklearn.metrics import roc_auc_score\n",
        "\n",
        "from sklearn.svm import LinearSVC \n",
        "from sklearn.svm import NuSVC\n",
        "\n",
        "from sklearn.model_selection import GridSearchCV, StratifiedKFold, train_test_split"
      ],
      "execution_count": 0,
      "outputs": []
    },
    {
      "cell_type": "markdown",
      "metadata": {
        "id": "yoQBxfVlfodn",
        "colab_type": "text"
      },
      "source": [
        "#DATA IMPORTS"
      ]
    },
    {
      "cell_type": "code",
      "metadata": {
        "id": "jI6rT5SWfeae",
        "colab_type": "code",
        "colab": {}
      },
      "source": [
        "train = pd.read_csv('/content/drive/My Drive/Project_12/Dataset/train.csv')\n",
        "test = pd.read_csv('/content/drive/My Drive/Project_12/Dataset/test.csv')\n",
        "exp = pd.read_csv('/content/drive/My Drive/Project_12/Dataset/example_submission.csv')"
      ],
      "execution_count": 0,
      "outputs": []
    },
    {
      "cell_type": "code",
      "metadata": {
        "id": "aPNA1rT_5riw",
        "colab_type": "code",
        "colab": {}
      },
      "source": [
        "len(train)"
      ],
      "execution_count": 0,
      "outputs": []
    },
    {
      "cell_type": "markdown",
      "metadata": {
        "id": "me4_PYvvBKmx",
        "colab_type": "text"
      },
      "source": [
        "# Data preprocessing"
      ]
    },
    {
      "cell_type": "code",
      "metadata": {
        "id": "FusB9pDo15ac",
        "colab_type": "code",
        "colab": {}
      },
      "source": [
        "new_df = pd.DataFrame()\n",
        "noalert = train.index[train['IsAlert'] == 0]\n",
        "turnnoalert = train.iloc[noalert-1 & train['IsAlert'] == 1] \n",
        "for i in turnnoalert.index:\n",
        "    new_df = new_df.append(train[i-5:i+6])   \n",
        "new_df = new_df.drop_duplicates()\n",
        "sum(new_df.isna())"
      ],
      "execution_count": 0,
      "outputs": []
    },
    {
      "cell_type": "code",
      "metadata": {
        "id": "dHcnQELtBNUg",
        "colab_type": "code",
        "colab": {}
      },
      "source": [
        "pcadata = new_df.drop(columns = ['TrialID', 'ObsNum', 'IsAlert']) # Drop unneccessary columns\n",
        "X_scaled = preprocessing.scale(pcadata) \n",
        "pcadata.info()"
      ],
      "execution_count": 0,
      "outputs": []
    },
    {
      "cell_type": "code",
      "metadata": {
        "id": "ahMZzodd5oA-",
        "colab_type": "code",
        "colab": {}
      },
      "source": [
        "pcadata.info()"
      ],
      "execution_count": 0,
      "outputs": []
    },
    {
      "cell_type": "code",
      "metadata": {
        "id": "xbcOZYtH5kSN",
        "colab_type": "code",
        "colab": {}
      },
      "source": [
        "pca=PCA() \n",
        "pca.fit(X_scaled)\n"
      ],
      "execution_count": 0,
      "outputs": []
    },
    {
      "cell_type": "code",
      "metadata": {
        "id": "thSGSeYO5i5y",
        "colab_type": "code",
        "colab": {}
      },
      "source": [
        "X_pca=pca.transform(X_scaled) \n",
        "print (\"shape of X_pca\", X_pca.shape)\n",
        "y = pca.explained_variance_ratio_\n",
        "\n",
        "x = np.array([i for i in range(1, len(y)+1)])\n",
        "\n",
        "plt.plot(x, y, 'r-x')"
      ],
      "execution_count": 0,
      "outputs": []
    },
    {
      "cell_type": "markdown",
      "metadata": {
        "id": "7YcCgPbHD8jG",
        "colab_type": "text"
      },
      "source": [
        "# Filter principle components"
      ]
    },
    {
      "cell_type": "code",
      "metadata": {
        "id": "1XFgM71-5eF2",
        "colab_type": "code",
        "colab": {}
      },
      "source": [
        "sum(pca.explained_variance_ratio_[:14])\n",
        "X_pca = X_pca[:,:14] \n",
        "X_pca.shape \n",
        "\n",
        "X_pca \n",
        "new_df.IsAlert"
      ],
      "execution_count": 0,
      "outputs": []
    },
    {
      "cell_type": "code",
      "metadata": {
        "id": "WUo4OSIkpoT7",
        "colab_type": "code",
        "colab": {}
      },
      "source": [
        "skf = StratifiedKFold(n_splits=10)\n",
        "params = {}\n",
        "nb = GaussianNB()\n",
        "gs = GridSearchCV(nb, cv=skf, param_grid=params, return_train_score=True)\n",
        "\n",
        "x_train, x_test, y_train, y_test = train_test_split(X_pca, new_df.IsAlert, random_state = 42)"
      ],
      "execution_count": 0,
      "outputs": []
    },
    {
      "cell_type": "code",
      "metadata": {
        "id": "LkjaCOLhwJzQ",
        "colab_type": "code",
        "colab": {}
      },
      "source": [
        "nusvc = NuSVC(gamma = 'scale')\n",
        "nusvcgridsearch = GridSearchCV(nusvc, cv = skf, param_grid = params, return_train_score = True)\n",
        "nusvcgridsearch.fit(x_train, y_train)"
      ],
      "execution_count": 0,
      "outputs": []
    },
    {
      "cell_type": "code",
      "metadata": {
        "id": "IPO6HtmQ5ZXg",
        "colab_type": "code",
        "colab": {}
      },
      "source": [
        "nusvcgridsearch.cv_results_"
      ],
      "execution_count": 0,
      "outputs": []
    },
    {
      "cell_type": "code",
      "metadata": {
        "id": "loltqCnNwMl3",
        "colab_type": "code",
        "colab": {}
      },
      "source": [
        "nusvc_predict = nusvcgridsearch.predict(X_pca)\n",
        "confusion_matrix(new_df.IsAlert, nusvc_predict)"
      ],
      "execution_count": 0,
      "outputs": []
    },
    {
      "cell_type": "code",
      "metadata": {
        "id": "GD9F_VCywMW6",
        "colab_type": "code",
        "colab": {}
      },
      "source": [
        "roc_auc_score(new_df.IsAlert, nusvc_predict)"
      ],
      "execution_count": 0,
      "outputs": []
    },
    {
      "cell_type": "code",
      "metadata": {
        "id": "PC47b4vwwSo0",
        "colab_type": "code",
        "colab": {}
      },
      "source": [
        "from sklearn.svm import SVR\n",
        "from sklearn.svm import SVC"
      ],
      "execution_count": 0,
      "outputs": []
    },
    {
      "cell_type": "markdown",
      "metadata": {
        "id": "eCtBw9HwEeRT",
        "colab_type": "text"
      },
      "source": [
        "# epsilon - SVR\n"
      ]
    },
    {
      "cell_type": "code",
      "metadata": {
        "id": "9ktAyCoGwiOi",
        "colab_type": "code",
        "colab": {}
      },
      "source": [
        "svr = SVR(gamma='scale', C=1.0, epsilon=0.2)\n",
        "svrgridsearch = GridSearchCV(svr, cv = skf, param_grid = params, return_train_score = True)\n",
        "svrgridsearch.fit(x_train, y_train)"
      ],
      "execution_count": 0,
      "outputs": []
    },
    {
      "cell_type": "code",
      "metadata": {
        "id": "si55s8uqwiIM",
        "colab_type": "code",
        "colab": {}
      },
      "source": [
        "svrgridsearch.cv_results_"
      ],
      "execution_count": 0,
      "outputs": []
    },
    {
      "cell_type": "code",
      "metadata": {
        "id": "QRhtZGvjEkcw",
        "colab_type": "code",
        "colab": {}
      },
      "source": [
        "svrgridsearch.score(X_pca, new_df.IsAlert)"
      ],
      "execution_count": 0,
      "outputs": []
    },
    {
      "cell_type": "code",
      "metadata": {
        "id": "90-TzIQyEkZl",
        "colab_type": "code",
        "colab": {}
      },
      "source": [
        "svr_predict = svrgridsearch.predict(X_pca)\n",
        "\n",
        "confusion_matrix(new_df.IsAlert, svr_predict)"
      ],
      "execution_count": 0,
      "outputs": []
    },
    {
      "cell_type": "code",
      "metadata": {
        "id": "v9mnhfPiEkWF",
        "colab_type": "code",
        "colab": {}
      },
      "source": [
        "roc_auc_score(new_df.IsAlert, svr_predict)"
      ],
      "execution_count": 0,
      "outputs": []
    },
    {
      "cell_type": "code",
      "metadata": {
        "id": "4_Jr9mo1EkTF",
        "colab_type": "code",
        "colab": {}
      },
      "source": [
        "# C - SVC\n",
        "svc = SVC(gamma='auto')\n",
        "svcgridsearch = GridSearchCV(svc, cv = skf, param_grid = params, return_train_score = True)\n",
        "svcgridsearch.fit(x_train, y_train)"
      ],
      "execution_count": 0,
      "outputs": []
    },
    {
      "cell_type": "code",
      "metadata": {
        "id": "Qx4Fs4YoEkRW",
        "colab_type": "code",
        "colab": {}
      },
      "source": [
        "svcgridsearch.cv_results_"
      ],
      "execution_count": 0,
      "outputs": []
    },
    {
      "cell_type": "code",
      "metadata": {
        "id": "UBAS34ZsEkPk",
        "colab_type": "code",
        "colab": {}
      },
      "source": [
        "svcgridsearch.score(X_pca, new_df.IsAlert)"
      ],
      "execution_count": 0,
      "outputs": []
    },
    {
      "cell_type": "code",
      "metadata": {
        "id": "T8mDrMUlEkLx",
        "colab_type": "code",
        "colab": {}
      },
      "source": [
        "svc_predict = svcgridsearch.predict(X_pca)\n",
        "confusion_matrix(new_df.IsAlert, svc_predict)"
      ],
      "execution_count": 0,
      "outputs": []
    },
    {
      "cell_type": "code",
      "metadata": {
        "id": "IL2alqiWEkJk",
        "colab_type": "code",
        "colab": {}
      },
      "source": [
        "roc_auc_score(new_df.IsAlert, svc_predict)\n"
      ],
      "execution_count": 0,
      "outputs": []
    },
    {
      "cell_type": "code",
      "metadata": {
        "id": "VBm7Twi3EkGe",
        "colab_type": "code",
        "colab": {}
      },
      "source": [
        "from sklearn.neural_network import MLPClassifier\n",
        "\n",
        "nn1 = MLPClassifier(solver='adam', alpha=1e-5,activation = 'logistic',hidden_layer_sizes=(14, 14, 12, 10, 5), random_state=1)\n",
        "nngridsearch = GridSearchCV(nn1, cv = skf, param_grid = params, return_train_score = True)"
      ],
      "execution_count": 0,
      "outputs": []
    },
    {
      "cell_type": "code",
      "metadata": {
        "id": "Jd6GOneyFIGs",
        "colab_type": "code",
        "colab": {}
      },
      "source": [
        "nngridsearch.fit(x_train, y_train)"
      ],
      "execution_count": 0,
      "outputs": []
    },
    {
      "cell_type": "code",
      "metadata": {
        "id": "6zEQ-5bBFIE6",
        "colab_type": "code",
        "colab": {}
      },
      "source": [
        "nngridsearch.cv_results_"
      ],
      "execution_count": 0,
      "outputs": []
    },
    {
      "cell_type": "code",
      "metadata": {
        "id": "AeSeUqPPFIC4",
        "colab_type": "code",
        "colab": {}
      },
      "source": [
        "nngridsearch.score(X_pca, new_df.IsAlert)"
      ],
      "execution_count": 0,
      "outputs": []
    },
    {
      "cell_type": "code",
      "metadata": {
        "id": "oM85wwLnFH9n",
        "colab_type": "code",
        "colab": {}
      },
      "source": [
        "nn_predict = nngridsearch.predict(X_pca)\n",
        "\n",
        "confusion_matrix(new_df.IsAlert, nn_predict)"
      ],
      "execution_count": 0,
      "outputs": []
    },
    {
      "cell_type": "code",
      "metadata": {
        "id": "Sq-x9UuRFH0i",
        "colab_type": "code",
        "colab": {}
      },
      "source": [
        "roc_auc_score(new_df.IsAlert, nn_predict)"
      ],
      "execution_count": 0,
      "outputs": []
    },
    {
      "cell_type": "markdown",
      "metadata": {
        "id": "OOc3EvqdFuKo",
        "colab_type": "text"
      },
      "source": [
        "Model 2"
      ]
    },
    {
      "cell_type": "markdown",
      "metadata": {
        "id": "uAEXkcUuFxLV",
        "colab_type": "text"
      },
      "source": [
        "Use rolling means and std of each attribute as new features\n"
      ]
    },
    {
      "cell_type": "code",
      "metadata": {
        "id": "IWuD0vu9FHwb",
        "colab_type": "code",
        "colab": {}
      },
      "source": [
        "#train_2 = train[train['TrialID'] <= 1]\n",
        "train_new = pd.DataFrame() # New df\n",
        "#train_new\n",
        "for i in range(0, max(train.TrialID)+1): # Within each trial\n",
        "    temp_data = train[train['TrialID'] == i] # Create a temporary df for each trial\n",
        "    for j in list(train)[3:]: # For all the attributes of each trial\n",
        "#        print (train_2[train_2['TrialID'] == i][j])\n",
        "        temp_data['m{}'.format(j)] = train[train['TrialID'] == i][j].rolling(window = 5).mean() # Create the Rolling mean\n",
        "        temp_data['sd{}'.format(j)] = train[train['TrialID'] == i][j].rolling(window = 5).std() # Create the Rolling Std\n",
        "    train_new = train_new.append(temp_data)"
      ],
      "execution_count": 0,
      "outputs": []
    },
    {
      "cell_type": "code",
      "metadata": {
        "id": "VRz5Qg8JFy2j",
        "colab_type": "code",
        "colab": {}
      },
      "source": [
        "train_new = train_new.fillna(0) # Missing Value"
      ],
      "execution_count": 0,
      "outputs": []
    },
    {
      "cell_type": "markdown",
      "metadata": {
        "id": "pb9mpI5CGGD0",
        "colab_type": "text"
      },
      "source": [
        "# Data partition\n"
      ]
    },
    {
      "cell_type": "code",
      "metadata": {
        "id": "4eW85KllFyxV",
        "colab_type": "code",
        "colab": {}
      },
      "source": [
        "train_new = train_new.drop(columns = ['TrialID', 'ObsNum', 'IsAlert']) # Drop unneccessary columns\n",
        "\n",
        "X_train, X_test, y_train, y_test = train_test_split(train_new, train.IsAlert, test_size = 0.2, random_state = 23)"
      ],
      "execution_count": 0,
      "outputs": []
    },
    {
      "cell_type": "code",
      "metadata": {
        "id": "HROmHrSrFyub",
        "colab_type": "code",
        "colab": {}
      },
      "source": [
        "train_new"
      ],
      "execution_count": 0,
      "outputs": []
    },
    {
      "cell_type": "markdown",
      "metadata": {
        "id": "Nvbpy6kmGNyh",
        "colab_type": "text"
      },
      "source": [
        "# Random Forest"
      ]
    },
    {
      "cell_type": "code",
      "metadata": {
        "id": "V79hvDEdFytT",
        "colab_type": "code",
        "colab": {}
      },
      "source": [
        "from sklearn.ensemble import RandomForestClassifier\n",
        "\n",
        "forest = RandomForestClassifier(n_estimators = 50, random_state = 42)\n",
        "forest.fit(X_train, y_train)"
      ],
      "execution_count": 0,
      "outputs": []
    },
    {
      "cell_type": "markdown",
      "metadata": {
        "id": "5kqstSUiGXgI",
        "colab_type": "text"
      },
      "source": [
        "# Accuracy"
      ]
    },
    {
      "cell_type": "code",
      "metadata": {
        "id": "w32UIHAkFyru",
        "colab_type": "code",
        "colab": {}
      },
      "source": [
        "forest.score(X_test, y_test)"
      ],
      "execution_count": 0,
      "outputs": []
    },
    {
      "cell_type": "code",
      "metadata": {
        "id": "lwQahzrVFym1",
        "colab_type": "code",
        "colab": {}
      },
      "source": [
        "for_predict = forest.predict(X_test)\n"
      ],
      "execution_count": 0,
      "outputs": []
    },
    {
      "cell_type": "code",
      "metadata": {
        "id": "ePhdkWRkFykH",
        "colab_type": "code",
        "colab": {}
      },
      "source": [
        "# Confusion Matrix\n",
        "confusion_matrix(y_test, for_predict)"
      ],
      "execution_count": 0,
      "outputs": []
    },
    {
      "cell_type": "code",
      "metadata": {
        "id": "sWktGtPHFyip",
        "colab_type": "code",
        "colab": {}
      },
      "source": [
        "#AUC score\n",
        "roc_auc_score(y_test, for_predict)\n"
      ],
      "execution_count": 0,
      "outputs": []
    },
    {
      "cell_type": "code",
      "metadata": {
        "id": "BIqW1QOFFyfI",
        "colab_type": "code",
        "colab": {}
      },
      "source": [
        "from sklearn.linear_model import LogisticRegression\n"
      ],
      "execution_count": 0,
      "outputs": []
    },
    {
      "cell_type": "code",
      "metadata": {
        "id": "ffL8j0a_FydM",
        "colab_type": "code",
        "colab": {}
      },
      "source": [
        "logr = LogisticRegression(random_state=0, solver='saga').fit(X_train, y_train)\n"
      ],
      "execution_count": 0,
      "outputs": []
    },
    {
      "cell_type": "code",
      "metadata": {
        "id": "gMi7Kk6TFyYa",
        "colab_type": "code",
        "colab": {}
      },
      "source": [
        "logr.score(X_test, y_test)\n"
      ],
      "execution_count": 0,
      "outputs": []
    },
    {
      "cell_type": "code",
      "metadata": {
        "id": "V_HuAFguHV7I",
        "colab_type": "code",
        "colab": {}
      },
      "source": [
        "logr_pred = logr.predict(X_test)"
      ],
      "execution_count": 0,
      "outputs": []
    },
    {
      "cell_type": "code",
      "metadata": {
        "id": "UB-CloVkHV3b",
        "colab_type": "code",
        "colab": {}
      },
      "source": [
        "confusion_matrix(y_test, logr_pred)"
      ],
      "execution_count": 0,
      "outputs": []
    },
    {
      "cell_type": "code",
      "metadata": {
        "id": "aqNZeJtOHV1g",
        "colab_type": "code",
        "colab": {}
      },
      "source": [
        "roc_auc_score(y_test, logr_pred)"
      ],
      "execution_count": 0,
      "outputs": []
    },
    {
      "cell_type": "markdown",
      "metadata": {
        "id": "qWkGn_MiHiEW",
        "colab_type": "text"
      },
      "source": [
        "Naïve Bayes\n",
        "\n"
      ]
    },
    {
      "cell_type": "code",
      "metadata": {
        "id": "jmx2OtxeHVzg",
        "colab_type": "code",
        "colab": {}
      },
      "source": [
        "from sklearn.naive_bayes import GaussianNB"
      ],
      "execution_count": 0,
      "outputs": []
    },
    {
      "cell_type": "code",
      "metadata": {
        "id": "BY_o3troHVv0",
        "colab_type": "code",
        "colab": {}
      },
      "source": [
        "nb2 = GaussianNB()\n",
        "nb2.fit(X_train, y_train)"
      ],
      "execution_count": 0,
      "outputs": []
    },
    {
      "cell_type": "code",
      "metadata": {
        "id": "YX0gRy1WHVtJ",
        "colab_type": "code",
        "colab": {}
      },
      "source": [
        "nb2.score(X_test, y_test)"
      ],
      "execution_count": 0,
      "outputs": []
    },
    {
      "cell_type": "code",
      "metadata": {
        "id": "gzn9-8LmHVq2",
        "colab_type": "code",
        "colab": {}
      },
      "source": [
        "nb2_pred = nb2.predict(X_test)"
      ],
      "execution_count": 0,
      "outputs": []
    },
    {
      "cell_type": "code",
      "metadata": {
        "id": "2D0FTJy10OH0",
        "colab_type": "code",
        "colab": {}
      },
      "source": [
        "confusion_matrix(y_test, nb2_pred)"
      ],
      "execution_count": 0,
      "outputs": []
    },
    {
      "cell_type": "code",
      "metadata": {
        "id": "id_3DZ6jJIdh",
        "colab_type": "code",
        "colab": {}
      },
      "source": [
        "roc_auc_score(y_test, nb2_pred)"
      ],
      "execution_count": 0,
      "outputs": []
    },
    {
      "cell_type": "markdown",
      "metadata": {
        "id": "MtIXKUVw0U1W",
        "colab_type": "text"
      },
      "source": [
        "Nu-SVC"
      ]
    },
    {
      "cell_type": "code",
      "metadata": {
        "id": "IKiOg8zGJIVt",
        "colab_type": "code",
        "colab": {}
      },
      "source": [
        "nusvc2 = NuSVC(gamma = 'scale')"
      ],
      "execution_count": 0,
      "outputs": []
    },
    {
      "cell_type": "code",
      "metadata": {
        "id": "XK8kZsMuJISd",
        "colab_type": "code",
        "colab": {}
      },
      "source": [
        "nusvc2.fit(X_train, y_train)"
      ],
      "execution_count": 0,
      "outputs": []
    },
    {
      "cell_type": "code",
      "metadata": {
        "id": "7hLqNNCTJIQG",
        "colab_type": "code",
        "colab": {}
      },
      "source": [
        "nusvc2.score(X_test, y_test)"
      ],
      "execution_count": 0,
      "outputs": []
    },
    {
      "cell_type": "code",
      "metadata": {
        "id": "Hr1nsawsJIEM",
        "colab_type": "code",
        "colab": {}
      },
      "source": [
        "nusvc2_pred = nusvc2.predict(X_test)"
      ],
      "execution_count": 0,
      "outputs": []
    },
    {
      "cell_type": "code",
      "metadata": {
        "id": "6KF84T__Ko-v",
        "colab_type": "code",
        "colab": {}
      },
      "source": [
        "confusion_matrix(y_test, nusvc2_pred)"
      ],
      "execution_count": 0,
      "outputs": []
    },
    {
      "cell_type": "code",
      "metadata": {
        "id": "7l1supuCKo6M",
        "colab_type": "code",
        "colab": {}
      },
      "source": [
        "roc_auc_score(y_test, nb2_pred)"
      ],
      "execution_count": 0,
      "outputs": []
    },
    {
      "cell_type": "markdown",
      "metadata": {
        "id": "qsb24oBm0gd8",
        "colab_type": "text"
      },
      "source": [
        "Linear-SVC"
      ]
    },
    {
      "cell_type": "code",
      "metadata": {
        "id": "AwzcYHBXKotx",
        "colab_type": "code",
        "colab": {}
      },
      "source": [
        "from sklearn.svm import LinearSVC\n",
        "lisvc2 = LinearSVC(random_state=42, tol=1e-5)"
      ],
      "execution_count": 0,
      "outputs": []
    },
    {
      "cell_type": "code",
      "metadata": {
        "id": "zbAS2pxFKoh_",
        "colab_type": "code",
        "colab": {}
      },
      "source": [
        "lisvc2.fit(X_train, y_train)"
      ],
      "execution_count": 0,
      "outputs": []
    },
    {
      "cell_type": "code",
      "metadata": {
        "id": "8vquBRVK0tzP",
        "colab_type": "code",
        "colab": {}
      },
      "source": [
        "lisvc2.score(X_test, y_test)"
      ],
      "execution_count": 0,
      "outputs": []
    },
    {
      "cell_type": "code",
      "metadata": {
        "id": "NoRQsAX20tx0",
        "colab_type": "code",
        "colab": {}
      },
      "source": [
        "lisvc2_pred = lisvc2.predict(X_test)"
      ],
      "execution_count": 0,
      "outputs": []
    },
    {
      "cell_type": "code",
      "metadata": {
        "id": "JC7v79Vv0twe",
        "colab_type": "code",
        "colab": {}
      },
      "source": [
        "confusion_matrix(y_test, lisvc2_pred)"
      ],
      "execution_count": 0,
      "outputs": []
    },
    {
      "cell_type": "code",
      "metadata": {
        "id": "aooBEKWy0trQ",
        "colab_type": "code",
        "colab": {}
      },
      "source": [
        "roc_auc_score(y_test, lisvc2_pred)"
      ],
      "execution_count": 0,
      "outputs": []
    },
    {
      "cell_type": "markdown",
      "metadata": {
        "id": "jdUHu5IS02_N",
        "colab_type": "text"
      },
      "source": [
        "C-SVC"
      ]
    },
    {
      "cell_type": "code",
      "metadata": {
        "id": "yE5eX1Sa0tpZ",
        "colab_type": "code",
        "colab": {}
      },
      "source": [
        "from sklearn.svm import SVC \n",
        "\n",
        "svc2 = SVC(gamma='auto')"
      ],
      "execution_count": 0,
      "outputs": []
    },
    {
      "cell_type": "code",
      "metadata": {
        "id": "WUmznUjE0th3",
        "colab_type": "code",
        "colab": {}
      },
      "source": [
        "svc2.fit(X_train, y_train)"
      ],
      "execution_count": 0,
      "outputs": []
    },
    {
      "cell_type": "code",
      "metadata": {
        "id": "lxrnyB-l0tfY",
        "colab_type": "code",
        "colab": {}
      },
      "source": [
        "svc2_pred = svc2.predict(X_test)"
      ],
      "execution_count": 0,
      "outputs": []
    },
    {
      "cell_type": "code",
      "metadata": {
        "id": "SA5aFsPn0tax",
        "colab_type": "code",
        "colab": {}
      },
      "source": [
        "svc2.score(X_test, y_test)"
      ],
      "execution_count": 0,
      "outputs": []
    },
    {
      "cell_type": "code",
      "metadata": {
        "id": "Z6uIBZo10tZf",
        "colab_type": "code",
        "colab": {}
      },
      "source": [
        "confusion_matrix(y_test, svc2_pred)"
      ],
      "execution_count": 0,
      "outputs": []
    },
    {
      "cell_type": "code",
      "metadata": {
        "id": "Gv37qFG40tYJ",
        "colab_type": "code",
        "colab": {}
      },
      "source": [
        "roc_auc_score(y_test, svc2_pred)"
      ],
      "execution_count": 0,
      "outputs": []
    },
    {
      "cell_type": "markdown",
      "metadata": {
        "id": "XrfB21tT1Lrw",
        "colab_type": "text"
      },
      "source": [
        "Neural Network\n",
        "\n",
        "With four hidden layers 90 - 70 - 50 - 30"
      ]
    },
    {
      "cell_type": "code",
      "metadata": {
        "id": "oUT13j-s0tVi",
        "colab_type": "code",
        "colab": {}
      },
      "source": [
        "from sklearn.neural_network import MLPClassifier"
      ],
      "execution_count": 0,
      "outputs": []
    },
    {
      "cell_type": "code",
      "metadata": {
        "id": "dyqoXRHm0tPK",
        "colab_type": "code",
        "colab": {}
      },
      "source": [
        "nn2 = MLPClassifier(solver='adam', alpha=1e-5,activation = 'logistic',hidden_layer_sizes=(90, 70, 50, 30), random_state=1)\n",
        "nn2.fit(X_train, y_train)"
      ],
      "execution_count": 0,
      "outputs": []
    },
    {
      "cell_type": "code",
      "metadata": {
        "id": "6rxFr3Gy0tMk",
        "colab_type": "code",
        "colab": {}
      },
      "source": [
        "nn2_predict = nn2.predict(X_test)\n"
      ],
      "execution_count": 0,
      "outputs": []
    },
    {
      "cell_type": "code",
      "metadata": {
        "id": "uWwlWvGS1ayg",
        "colab_type": "code",
        "colab": {}
      },
      "source": [
        "nn2.score(X_test, y_test)"
      ],
      "execution_count": 0,
      "outputs": []
    },
    {
      "cell_type": "code",
      "metadata": {
        "id": "QHv0_-Um1cGn",
        "colab_type": "code",
        "colab": {}
      },
      "source": [
        "confusion_matrix(y_test, nn2_predict)"
      ],
      "execution_count": 0,
      "outputs": []
    },
    {
      "cell_type": "code",
      "metadata": {
        "id": "aTIJhgPe1cB_",
        "colab_type": "code",
        "colab": {}
      },
      "source": [
        "roc_auc_score(y_test, nn2_predict)"
      ],
      "execution_count": 0,
      "outputs": []
    },
    {
      "cell_type": "markdown",
      "metadata": {
        "id": "QzEz94V-1jDy",
        "colab_type": "text"
      },
      "source": [
        "Model & Data exportation"
      ]
    },
    {
      "cell_type": "code",
      "metadata": {
        "id": "qCuZH0va1b_e",
        "colab_type": "code",
        "colab": {}
      },
      "source": [
        "train_new['IsAlert'] = train['IsAlert']"
      ],
      "execution_count": 0,
      "outputs": []
    },
    {
      "cell_type": "code",
      "metadata": {
        "id": "EGpwwKRF1b9X",
        "colab_type": "code",
        "colab": {}
      },
      "source": [
        "from joblib import dump, load"
      ],
      "execution_count": 0,
      "outputs": []
    },
    {
      "cell_type": "code",
      "metadata": {
        "id": "W__mZp5E1b45",
        "colab_type": "code",
        "colab": {}
      },
      "source": [
        "from google.colab import drive"
      ],
      "execution_count": 0,
      "outputs": []
    },
    {
      "cell_type": "code",
      "metadata": {
        "id": "6BGpo4wW1b2p",
        "colab_type": "code",
        "colab": {}
      },
      "source": [
        "drive.mount('/content/gdrive', force_remount=True)\n",
        "root_dir = \"/content/gdrive/My Drive/\""
      ],
      "execution_count": 0,
      "outputs": []
    },
    {
      "cell_type": "code",
      "metadata": {
        "id": "yNoZ62nn2P5N",
        "colab_type": "code",
        "colab": {}
      },
      "source": [
        "base_dir = root_dir + 'fastai-v3/'"
      ],
      "execution_count": 0,
      "outputs": []
    },
    {
      "cell_type": "code",
      "metadata": {
        "id": "n6vSodT82P0Q",
        "colab_type": "code",
        "colab": {}
      },
      "source": [
        "from pathlib import Path\n",
        "path = Path(base_dir + 'data/bears')\n",
        "dest = path/'featuretrain.csv'\n",
        "dest.mkdir(parents=True, exist_ok=True)"
      ],
      "execution_count": 0,
      "outputs": []
    },
    {
      "cell_type": "code",
      "metadata": {
        "id": "yUug0suZ2PyE",
        "colab_type": "code",
        "colab": {}
      },
      "source": [
        "train_new.to_csv('featuredtrain.csv') # Dataset exportation"
      ],
      "execution_count": 0,
      "outputs": []
    },
    {
      "cell_type": "code",
      "metadata": {
        "id": "8_V9tawW2tPJ",
        "colab_type": "code",
        "colab": {}
      },
      "source": [
        "dump(forest, 'mstdforest.joblib') # Model exportation\n",
        "dump(nn2, 'mstdnn.joblib')"
      ],
      "execution_count": 0,
      "outputs": []
    },
    {
      "cell_type": "code",
      "metadata": {
        "id": "RZ4UvsAy2tLh",
        "colab_type": "code",
        "colab": {}
      },
      "source": [
        "t_sc = preprocessing.scale(train_new) \n",
        "pca_2=PCA() \n",
        "pca_2.fit(t_sc) "
      ],
      "execution_count": 0,
      "outputs": []
    },
    {
      "cell_type": "code",
      "metadata": {
        "id": "6XfIM3k-22T3",
        "colab_type": "code",
        "colab": {}
      },
      "source": [
        "t_pca=pca_2.transform(t_sc)"
      ],
      "execution_count": 0,
      "outputs": []
    },
    {
      "cell_type": "code",
      "metadata": {
        "id": "umAbdVZc22My",
        "colab_type": "code",
        "colab": {}
      },
      "source": [
        "y = pca_2.explained_variance_ratio_\n",
        "\n",
        "x = np.array([i for i in range(1, len(y)+1)])\n",
        "\n",
        "plt.plot(x, y, 'r-x')"
      ],
      "execution_count": 0,
      "outputs": []
    },
    {
      "cell_type": "code",
      "metadata": {
        "id": "EJFxCLmW217e",
        "colab_type": "code",
        "colab": {}
      },
      "source": [
        "sum(pca_2.explained_variance_ratio_[:30])"
      ],
      "execution_count": 0,
      "outputs": []
    },
    {
      "cell_type": "code",
      "metadata": {
        "id": "RfgbIRxh3PlS",
        "colab_type": "code",
        "colab": {}
      },
      "source": [
        "t_pca = t_pca[:,:14]\n",
        "t_pca.shape"
      ],
      "execution_count": 0,
      "outputs": []
    }
  ]
}