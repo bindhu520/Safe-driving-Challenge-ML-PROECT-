{
  "nbformat": 4,
  "nbformat_minor": 0,
  "metadata": {
    "colab": {
      "name": "SDC(ML).ipynb",
      "provenance": [],
      "include_colab_link": true
    },
    "kernelspec": {
      "name": "python3",
      "display_name": "Python 3"
    }
  },
  "cells": [
    {
      "cell_type": "markdown",
      "metadata": {
        "id": "view-in-github",
        "colab_type": "text"
      },
      "source": [
        "<a href=\"https://colab.research.google.com/github/bindhu520/Safe-driving-Challenge-ML-PROECT-/blob/master/SDC(ML).ipynb\" target=\"_parent\"><img src=\"https://colab.research.google.com/assets/colab-badge.svg\" alt=\"Open In Colab\"/></a>"
      ]
    },
    {
      "cell_type": "code",
      "metadata": {
        "id": "JO_PE5KPrYPv",
        "colab_type": "code",
        "colab": {}
      },
      "source": [
        "import pandas as pd\n",
        "import numpy as np\n",
        "import matplotlib.pyplot as plt\n",
        "from sklearn.decomposition import PCA\n",
        "from sklearn import preprocessing\n",
        "from sklearn.linear_model import LogisticRegressionCV\n",
        "from sklearn.naive_bayes import GaussianNB\n",
        "from sklearn.ensemble import RandomForestClassifier\n",
        "from sklearn.metrics import confusion_matrix\n",
        "from sklearn.metrics import roc_auc_score\n",
        "\n",
        "from sklearn.svm import LinearSVC # Linear Support Vector Classigication\n",
        "from sklearn.svm import NuSVC\n",
        "\n",
        "from sklearn.model_selection import GridSearchCV, StratifiedKFold, train_test_split"
      ],
      "execution_count": 0,
      "outputs": []
    },
    {
      "cell_type": "code",
      "metadata": {
        "id": "4wbOBzmysEdQ",
        "colab_type": "code",
        "colab": {}
      },
      "source": [
        "train = pd.read_csv('/content/drive/My Drive/train.csv')\n",
        "test = pd.read_csv('/content/drive/My Drive/test.csv')\n",
        "#sol = pd.read_csv('/content/drive/My Drive/fastai-v3/data/bears/featuretrain.csv')\n",
        "exp = pd.read_csv('/content/drive/My Drive/example_submission.csv')"
      ],
      "execution_count": 0,
      "outputs": []
    },
    {
      "cell_type": "code",
      "metadata": {
        "id": "k-gzxNVdtpbI",
        "colab_type": "code",
        "outputId": "9ad945c8-2580-4a67-da2d-a4cac9ee3db8",
        "colab": {
          "base_uri": "https://localhost:8080/",
          "height": 1000
        }
      },
      "source": [
        "train.info()\n",
        "test.info()\n",
        "train.head()"
      ],
      "execution_count": 0,
      "outputs": [
        {
          "output_type": "stream",
          "text": [
            "<class 'pandas.core.frame.DataFrame'>\n",
            "RangeIndex: 604329 entries, 0 to 604328\n",
            "Data columns (total 33 columns):\n",
            " #   Column   Non-Null Count   Dtype  \n",
            "---  ------   --------------   -----  \n",
            " 0   TrialID  604329 non-null  int64  \n",
            " 1   ObsNum   604329 non-null  int64  \n",
            " 2   IsAlert  604329 non-null  int64  \n",
            " 3   P1       604329 non-null  float64\n",
            " 4   P2       604329 non-null  float64\n",
            " 5   P3       604329 non-null  int64  \n",
            " 6   P4       604329 non-null  float64\n",
            " 7   P5       604329 non-null  float64\n",
            " 8   P6       604329 non-null  int64  \n",
            " 9   P7       604329 non-null  float64\n",
            " 10  P8       604329 non-null  int64  \n",
            " 11  E1       604329 non-null  float64\n",
            " 12  E2       604329 non-null  float64\n",
            " 13  E3       604329 non-null  int64  \n",
            " 14  E4       604329 non-null  int64  \n",
            " 15  E5       604329 non-null  float64\n",
            " 16  E6       604329 non-null  int64  \n",
            " 17  E7       604329 non-null  int64  \n",
            " 18  E8       604329 non-null  int64  \n",
            " 19  E9       604329 non-null  int64  \n",
            " 20  E10      604329 non-null  int64  \n",
            " 21  E11      604329 non-null  float64\n",
            " 22  V1       604329 non-null  float64\n",
            " 23  V2       604329 non-null  float64\n",
            " 24  V3       604329 non-null  int64  \n",
            " 25  V4       604329 non-null  float64\n",
            " 26  V5       604329 non-null  int64  \n",
            " 27  V6       604329 non-null  int64  \n",
            " 28  V7       604329 non-null  int64  \n",
            " 29  V8       604329 non-null  float64\n",
            " 30  V9       604329 non-null  int64  \n",
            " 31  V10      604329 non-null  int64  \n",
            " 32  V11      604329 non-null  float64\n",
            "dtypes: float64(14), int64(19)\n",
            "memory usage: 152.2 MB\n",
            "<class 'pandas.core.frame.DataFrame'>\n",
            "RangeIndex: 120840 entries, 0 to 120839\n",
            "Data columns (total 33 columns):\n",
            " #   Column   Non-Null Count   Dtype  \n",
            "---  ------   --------------   -----  \n",
            " 0   TrialID  120840 non-null  int64  \n",
            " 1   ObsNum   120840 non-null  int64  \n",
            " 2   IsAlert  120840 non-null  object \n",
            " 3   P1       120840 non-null  float64\n",
            " 4   P2       120840 non-null  float64\n",
            " 5   P3       120840 non-null  int64  \n",
            " 6   P4       120840 non-null  float64\n",
            " 7   P5       120840 non-null  float64\n",
            " 8   P6       120840 non-null  int64  \n",
            " 9   P7       120840 non-null  float64\n",
            " 10  P8       120840 non-null  int64  \n",
            " 11  E1       120840 non-null  float64\n",
            " 12  E2       120840 non-null  float64\n",
            " 13  E3       120840 non-null  int64  \n",
            " 14  E4       120840 non-null  int64  \n",
            " 15  E5       120840 non-null  float64\n",
            " 16  E6       120840 non-null  int64  \n",
            " 17  E7       120840 non-null  int64  \n",
            " 18  E8       120840 non-null  int64  \n",
            " 19  E9       120840 non-null  int64  \n",
            " 20  E10      120840 non-null  int64  \n",
            " 21  E11      120840 non-null  float64\n",
            " 22  V1       120840 non-null  float64\n",
            " 23  V2       120840 non-null  float64\n",
            " 24  V3       120840 non-null  int64  \n",
            " 25  V4       120840 non-null  float64\n",
            " 26  V5       120840 non-null  int64  \n",
            " 27  V6       120840 non-null  int64  \n",
            " 28  V7       120840 non-null  int64  \n",
            " 29  V8       120840 non-null  float64\n",
            " 30  V9       120840 non-null  int64  \n",
            " 31  V10      120840 non-null  int64  \n",
            " 32  V11      120840 non-null  float64\n",
            "dtypes: float64(14), int64(18), object(1)\n",
            "memory usage: 30.4+ MB\n"
          ],
          "name": "stdout"
        },
        {
          "output_type": "execute_result",
          "data": {
            "text/html": [
              "<div>\n",
              "<style scoped>\n",
              "    .dataframe tbody tr th:only-of-type {\n",
              "        vertical-align: middle;\n",
              "    }\n",
              "\n",
              "    .dataframe tbody tr th {\n",
              "        vertical-align: top;\n",
              "    }\n",
              "\n",
              "    .dataframe thead th {\n",
              "        text-align: right;\n",
              "    }\n",
              "</style>\n",
              "<table border=\"1\" class=\"dataframe\">\n",
              "  <thead>\n",
              "    <tr style=\"text-align: right;\">\n",
              "      <th></th>\n",
              "      <th>TrialID</th>\n",
              "      <th>ObsNum</th>\n",
              "      <th>IsAlert</th>\n",
              "      <th>P1</th>\n",
              "      <th>P2</th>\n",
              "      <th>P3</th>\n",
              "      <th>P4</th>\n",
              "      <th>P5</th>\n",
              "      <th>P6</th>\n",
              "      <th>P7</th>\n",
              "      <th>P8</th>\n",
              "      <th>E1</th>\n",
              "      <th>E2</th>\n",
              "      <th>E3</th>\n",
              "      <th>E4</th>\n",
              "      <th>E5</th>\n",
              "      <th>E6</th>\n",
              "      <th>E7</th>\n",
              "      <th>E8</th>\n",
              "      <th>E9</th>\n",
              "      <th>E10</th>\n",
              "      <th>E11</th>\n",
              "      <th>V1</th>\n",
              "      <th>V2</th>\n",
              "      <th>V3</th>\n",
              "      <th>V4</th>\n",
              "      <th>V5</th>\n",
              "      <th>V6</th>\n",
              "      <th>V7</th>\n",
              "      <th>V8</th>\n",
              "      <th>V9</th>\n",
              "      <th>V10</th>\n",
              "      <th>V11</th>\n",
              "    </tr>\n",
              "  </thead>\n",
              "  <tbody>\n",
              "    <tr>\n",
              "      <th>0</th>\n",
              "      <td>0</td>\n",
              "      <td>0</td>\n",
              "      <td>0</td>\n",
              "      <td>34.7406</td>\n",
              "      <td>9.84593</td>\n",
              "      <td>1400</td>\n",
              "      <td>42.8571</td>\n",
              "      <td>0.290601</td>\n",
              "      <td>572</td>\n",
              "      <td>104.895</td>\n",
              "      <td>0</td>\n",
              "      <td>0.0</td>\n",
              "      <td>0.0</td>\n",
              "      <td>1</td>\n",
              "      <td>-20</td>\n",
              "      <td>0.015875</td>\n",
              "      <td>324</td>\n",
              "      <td>1</td>\n",
              "      <td>1</td>\n",
              "      <td>1</td>\n",
              "      <td>57</td>\n",
              "      <td>0.0</td>\n",
              "      <td>101.96</td>\n",
              "      <td>0.175</td>\n",
              "      <td>752</td>\n",
              "      <td>5.99375</td>\n",
              "      <td>0</td>\n",
              "      <td>2005</td>\n",
              "      <td>0</td>\n",
              "      <td>13.4</td>\n",
              "      <td>0</td>\n",
              "      <td>4</td>\n",
              "      <td>14.8004</td>\n",
              "    </tr>\n",
              "    <tr>\n",
              "      <th>1</th>\n",
              "      <td>0</td>\n",
              "      <td>1</td>\n",
              "      <td>0</td>\n",
              "      <td>34.4215</td>\n",
              "      <td>13.41120</td>\n",
              "      <td>1400</td>\n",
              "      <td>42.8571</td>\n",
              "      <td>0.290601</td>\n",
              "      <td>572</td>\n",
              "      <td>104.895</td>\n",
              "      <td>0</td>\n",
              "      <td>0.0</td>\n",
              "      <td>0.0</td>\n",
              "      <td>1</td>\n",
              "      <td>-20</td>\n",
              "      <td>0.015875</td>\n",
              "      <td>324</td>\n",
              "      <td>1</td>\n",
              "      <td>1</td>\n",
              "      <td>1</td>\n",
              "      <td>57</td>\n",
              "      <td>0.0</td>\n",
              "      <td>101.98</td>\n",
              "      <td>0.455</td>\n",
              "      <td>752</td>\n",
              "      <td>5.99375</td>\n",
              "      <td>0</td>\n",
              "      <td>2007</td>\n",
              "      <td>0</td>\n",
              "      <td>13.4</td>\n",
              "      <td>0</td>\n",
              "      <td>4</td>\n",
              "      <td>14.7729</td>\n",
              "    </tr>\n",
              "    <tr>\n",
              "      <th>2</th>\n",
              "      <td>0</td>\n",
              "      <td>2</td>\n",
              "      <td>0</td>\n",
              "      <td>34.3447</td>\n",
              "      <td>15.18520</td>\n",
              "      <td>1400</td>\n",
              "      <td>42.8571</td>\n",
              "      <td>0.290601</td>\n",
              "      <td>576</td>\n",
              "      <td>104.167</td>\n",
              "      <td>0</td>\n",
              "      <td>0.0</td>\n",
              "      <td>0.0</td>\n",
              "      <td>1</td>\n",
              "      <td>-20</td>\n",
              "      <td>0.015875</td>\n",
              "      <td>324</td>\n",
              "      <td>1</td>\n",
              "      <td>1</td>\n",
              "      <td>1</td>\n",
              "      <td>57</td>\n",
              "      <td>0.0</td>\n",
              "      <td>101.97</td>\n",
              "      <td>0.280</td>\n",
              "      <td>752</td>\n",
              "      <td>5.99375</td>\n",
              "      <td>0</td>\n",
              "      <td>2011</td>\n",
              "      <td>0</td>\n",
              "      <td>13.4</td>\n",
              "      <td>0</td>\n",
              "      <td>4</td>\n",
              "      <td>14.7736</td>\n",
              "    </tr>\n",
              "    <tr>\n",
              "      <th>3</th>\n",
              "      <td>0</td>\n",
              "      <td>3</td>\n",
              "      <td>0</td>\n",
              "      <td>34.3421</td>\n",
              "      <td>8.84696</td>\n",
              "      <td>1400</td>\n",
              "      <td>42.8571</td>\n",
              "      <td>0.290601</td>\n",
              "      <td>576</td>\n",
              "      <td>104.167</td>\n",
              "      <td>0</td>\n",
              "      <td>0.0</td>\n",
              "      <td>0.0</td>\n",
              "      <td>1</td>\n",
              "      <td>-20</td>\n",
              "      <td>0.015875</td>\n",
              "      <td>324</td>\n",
              "      <td>1</td>\n",
              "      <td>1</td>\n",
              "      <td>1</td>\n",
              "      <td>57</td>\n",
              "      <td>0.0</td>\n",
              "      <td>101.99</td>\n",
              "      <td>0.070</td>\n",
              "      <td>752</td>\n",
              "      <td>5.99375</td>\n",
              "      <td>0</td>\n",
              "      <td>2015</td>\n",
              "      <td>0</td>\n",
              "      <td>13.4</td>\n",
              "      <td>0</td>\n",
              "      <td>4</td>\n",
              "      <td>14.7667</td>\n",
              "    </tr>\n",
              "    <tr>\n",
              "      <th>4</th>\n",
              "      <td>0</td>\n",
              "      <td>4</td>\n",
              "      <td>0</td>\n",
              "      <td>34.3322</td>\n",
              "      <td>14.69940</td>\n",
              "      <td>1400</td>\n",
              "      <td>42.8571</td>\n",
              "      <td>0.290601</td>\n",
              "      <td>576</td>\n",
              "      <td>104.167</td>\n",
              "      <td>0</td>\n",
              "      <td>0.0</td>\n",
              "      <td>0.0</td>\n",
              "      <td>1</td>\n",
              "      <td>-20</td>\n",
              "      <td>0.015875</td>\n",
              "      <td>324</td>\n",
              "      <td>1</td>\n",
              "      <td>1</td>\n",
              "      <td>1</td>\n",
              "      <td>57</td>\n",
              "      <td>0.0</td>\n",
              "      <td>102.07</td>\n",
              "      <td>0.175</td>\n",
              "      <td>752</td>\n",
              "      <td>5.99375</td>\n",
              "      <td>0</td>\n",
              "      <td>2017</td>\n",
              "      <td>0</td>\n",
              "      <td>13.4</td>\n",
              "      <td>0</td>\n",
              "      <td>4</td>\n",
              "      <td>14.7757</td>\n",
              "    </tr>\n",
              "  </tbody>\n",
              "</table>\n",
              "</div>"
            ],
            "text/plain": [
              "   TrialID  ObsNum  IsAlert       P1        P2  ...  V7    V8  V9  V10      V11\n",
              "0        0       0        0  34.7406   9.84593  ...   0  13.4   0    4  14.8004\n",
              "1        0       1        0  34.4215  13.41120  ...   0  13.4   0    4  14.7729\n",
              "2        0       2        0  34.3447  15.18520  ...   0  13.4   0    4  14.7736\n",
              "3        0       3        0  34.3421   8.84696  ...   0  13.4   0    4  14.7667\n",
              "4        0       4        0  34.3322  14.69940  ...   0  13.4   0    4  14.7757\n",
              "\n",
              "[5 rows x 33 columns]"
            ]
          },
          "metadata": {
            "tags": []
          },
          "execution_count": 16
        }
      ]
    },
    {
      "cell_type": "code",
      "metadata": {
        "id": "xJ-_hTKftuGK",
        "colab_type": "code",
        "outputId": "2f340fed-2b91-4e9b-d499-b67decaa5bf9",
        "colab": {
          "base_uri": "https://localhost:8080/",
          "height": 34
        }
      },
      "source": [
        "sum(train['IsAlert'] == 0)"
      ],
      "execution_count": 0,
      "outputs": [
        {
          "output_type": "execute_result",
          "data": {
            "text/plain": [
              "254544"
            ]
          },
          "metadata": {
            "tags": []
          },
          "execution_count": 17
        }
      ]
    },
    {
      "cell_type": "markdown",
      "metadata": {
        "id": "1GCPOpPct1Mw",
        "colab_type": "text"
      },
      "source": [
        "First Model\n",
        "\n"
      ]
    },
    {
      "cell_type": "markdown",
      "metadata": {
        "id": "__V3mWqWt-G7",
        "colab_type": "text"
      },
      "source": [
        "Data preprocessing"
      ]
    },
    {
      "cell_type": "code",
      "metadata": {
        "id": "WyIhl9Mtt9xD",
        "colab_type": "code",
        "colab": {}
      },
      "source": [
        "new_df = pd.DataFrame() "
      ],
      "execution_count": 0,
      "outputs": []
    },
    {
      "cell_type": "code",
      "metadata": {
        "id": "jN4hRMGct5cv",
        "colab_type": "code",
        "outputId": "7753f10d-70ea-48cf-e607-995043720fa2",
        "colab": {
          "base_uri": "https://localhost:8080/",
          "height": 50
        }
      },
      "source": [
        "noalert = train.index[train['IsAlert'] == 0]\n",
        "turnnoalert = train.iloc[noalert-1][train['IsAlert'] == 1]"
      ],
      "execution_count": 0,
      "outputs": [
        {
          "output_type": "stream",
          "text": [
            "/usr/local/lib/python3.6/dist-packages/ipykernel_launcher.py:2: UserWarning: Boolean Series key will be reindexed to match DataFrame index.\n",
            "  \n"
          ],
          "name": "stderr"
        }
      ]
    },
    {
      "cell_type": "code",
      "metadata": {
        "id": "EMtXaP53uJpB",
        "colab_type": "code",
        "colab": {}
      },
      "source": [
        "for i in turnnoalert.index: # Return 500ms before and after the moment\n",
        "    new_df = new_df.append(train[i-5:i+6])"
      ],
      "execution_count": 0,
      "outputs": []
    },
    {
      "cell_type": "code",
      "metadata": {
        "id": "OQkpSJL_ue1Z",
        "colab_type": "code",
        "colab": {}
      },
      "source": [
        "new_df = new_df.drop_duplicates() "
      ],
      "execution_count": 0,
      "outputs": []
    },
    {
      "cell_type": "code",
      "metadata": {
        "id": "o2uUsJUuug9f",
        "colab_type": "code",
        "outputId": "47e8abf5-2f60-429b-84c4-9ae4c74be332",
        "colab": {
          "base_uri": "https://localhost:8080/",
          "height": 422
        }
      },
      "source": [
        "new_df"
      ],
      "execution_count": 0,
      "outputs": [
        {
          "output_type": "execute_result",
          "data": {
            "text/html": [
              "<div>\n",
              "<style scoped>\n",
              "    .dataframe tbody tr th:only-of-type {\n",
              "        vertical-align: middle;\n",
              "    }\n",
              "\n",
              "    .dataframe tbody tr th {\n",
              "        vertical-align: top;\n",
              "    }\n",
              "\n",
              "    .dataframe thead th {\n",
              "        text-align: right;\n",
              "    }\n",
              "</style>\n",
              "<table border=\"1\" class=\"dataframe\">\n",
              "  <thead>\n",
              "    <tr style=\"text-align: right;\">\n",
              "      <th></th>\n",
              "      <th>TrialID</th>\n",
              "      <th>ObsNum</th>\n",
              "      <th>IsAlert</th>\n",
              "      <th>P1</th>\n",
              "      <th>P2</th>\n",
              "      <th>P3</th>\n",
              "      <th>P4</th>\n",
              "      <th>P5</th>\n",
              "      <th>P6</th>\n",
              "      <th>P7</th>\n",
              "      <th>P8</th>\n",
              "      <th>E1</th>\n",
              "      <th>E2</th>\n",
              "      <th>E3</th>\n",
              "      <th>E4</th>\n",
              "      <th>E5</th>\n",
              "      <th>E6</th>\n",
              "      <th>E7</th>\n",
              "      <th>E8</th>\n",
              "      <th>E9</th>\n",
              "      <th>E10</th>\n",
              "      <th>E11</th>\n",
              "      <th>V1</th>\n",
              "      <th>V2</th>\n",
              "      <th>V3</th>\n",
              "      <th>V4</th>\n",
              "      <th>V5</th>\n",
              "      <th>V6</th>\n",
              "      <th>V7</th>\n",
              "      <th>V8</th>\n",
              "      <th>V9</th>\n",
              "      <th>V10</th>\n",
              "      <th>V11</th>\n",
              "    </tr>\n",
              "  </thead>\n",
              "  <tbody>\n",
              "    <tr>\n",
              "      <th>604323</th>\n",
              "      <td>510</td>\n",
              "      <td>1193</td>\n",
              "      <td>1</td>\n",
              "      <td>32.0303</td>\n",
              "      <td>7.68265</td>\n",
              "      <td>800</td>\n",
              "      <td>75.0000</td>\n",
              "      <td>0.081731</td>\n",
              "      <td>680</td>\n",
              "      <td>88.2353</td>\n",
              "      <td>0</td>\n",
              "      <td>17.807</td>\n",
              "      <td>222.11</td>\n",
              "      <td>0</td>\n",
              "      <td>0</td>\n",
              "      <td>0.016379</td>\n",
              "      <td>323</td>\n",
              "      <td>2</td>\n",
              "      <td>2</td>\n",
              "      <td>1</td>\n",
              "      <td>64</td>\n",
              "      <td>0.0</td>\n",
              "      <td>91.40</td>\n",
              "      <td>0.175</td>\n",
              "      <td>240</td>\n",
              "      <td>3.01875</td>\n",
              "      <td>0</td>\n",
              "      <td>1792</td>\n",
              "      <td>0</td>\n",
              "      <td>29.9</td>\n",
              "      <td>0</td>\n",
              "      <td>4</td>\n",
              "      <td>15.8303</td>\n",
              "    </tr>\n",
              "    <tr>\n",
              "      <th>604324</th>\n",
              "      <td>510</td>\n",
              "      <td>1194</td>\n",
              "      <td>1</td>\n",
              "      <td>32.0051</td>\n",
              "      <td>10.13240</td>\n",
              "      <td>800</td>\n",
              "      <td>75.0000</td>\n",
              "      <td>0.081731</td>\n",
              "      <td>680</td>\n",
              "      <td>88.2353</td>\n",
              "      <td>0</td>\n",
              "      <td>17.807</td>\n",
              "      <td>222.11</td>\n",
              "      <td>0</td>\n",
              "      <td>0</td>\n",
              "      <td>0.016379</td>\n",
              "      <td>322</td>\n",
              "      <td>2</td>\n",
              "      <td>2</td>\n",
              "      <td>1</td>\n",
              "      <td>64</td>\n",
              "      <td>0.0</td>\n",
              "      <td>91.51</td>\n",
              "      <td>0.280</td>\n",
              "      <td>240</td>\n",
              "      <td>3.01875</td>\n",
              "      <td>0</td>\n",
              "      <td>1801</td>\n",
              "      <td>0</td>\n",
              "      <td>30.4</td>\n",
              "      <td>0</td>\n",
              "      <td>4</td>\n",
              "      <td>15.8113</td>\n",
              "    </tr>\n",
              "    <tr>\n",
              "      <th>604325</th>\n",
              "      <td>510</td>\n",
              "      <td>1195</td>\n",
              "      <td>1</td>\n",
              "      <td>32.0393</td>\n",
              "      <td>12.45040</td>\n",
              "      <td>800</td>\n",
              "      <td>75.0000</td>\n",
              "      <td>0.081731</td>\n",
              "      <td>680</td>\n",
              "      <td>88.2353</td>\n",
              "      <td>0</td>\n",
              "      <td>17.807</td>\n",
              "      <td>222.11</td>\n",
              "      <td>0</td>\n",
              "      <td>0</td>\n",
              "      <td>0.016379</td>\n",
              "      <td>322</td>\n",
              "      <td>2</td>\n",
              "      <td>2</td>\n",
              "      <td>1</td>\n",
              "      <td>64</td>\n",
              "      <td>0.0</td>\n",
              "      <td>91.51</td>\n",
              "      <td>0.280</td>\n",
              "      <td>240</td>\n",
              "      <td>3.01875</td>\n",
              "      <td>0</td>\n",
              "      <td>1801</td>\n",
              "      <td>0</td>\n",
              "      <td>30.4</td>\n",
              "      <td>0</td>\n",
              "      <td>4</td>\n",
              "      <td>15.8018</td>\n",
              "    </tr>\n",
              "    <tr>\n",
              "      <th>604326</th>\n",
              "      <td>510</td>\n",
              "      <td>1196</td>\n",
              "      <td>1</td>\n",
              "      <td>32.0762</td>\n",
              "      <td>10.06180</td>\n",
              "      <td>800</td>\n",
              "      <td>75.0000</td>\n",
              "      <td>0.081731</td>\n",
              "      <td>680</td>\n",
              "      <td>88.2353</td>\n",
              "      <td>0</td>\n",
              "      <td>17.807</td>\n",
              "      <td>222.11</td>\n",
              "      <td>0</td>\n",
              "      <td>0</td>\n",
              "      <td>0.016379</td>\n",
              "      <td>322</td>\n",
              "      <td>2</td>\n",
              "      <td>2</td>\n",
              "      <td>1</td>\n",
              "      <td>64</td>\n",
              "      <td>0.0</td>\n",
              "      <td>91.56</td>\n",
              "      <td>0.175</td>\n",
              "      <td>240</td>\n",
              "      <td>3.01875</td>\n",
              "      <td>0</td>\n",
              "      <td>1800</td>\n",
              "      <td>0</td>\n",
              "      <td>31.3</td>\n",
              "      <td>0</td>\n",
              "      <td>4</td>\n",
              "      <td>15.8120</td>\n",
              "    </tr>\n",
              "    <tr>\n",
              "      <th>604327</th>\n",
              "      <td>510</td>\n",
              "      <td>1197</td>\n",
              "      <td>1</td>\n",
              "      <td>32.1154</td>\n",
              "      <td>17.84500</td>\n",
              "      <td>800</td>\n",
              "      <td>75.0000</td>\n",
              "      <td>0.081731</td>\n",
              "      <td>680</td>\n",
              "      <td>88.2353</td>\n",
              "      <td>0</td>\n",
              "      <td>17.807</td>\n",
              "      <td>222.11</td>\n",
              "      <td>0</td>\n",
              "      <td>0</td>\n",
              "      <td>0.016379</td>\n",
              "      <td>322</td>\n",
              "      <td>2</td>\n",
              "      <td>2</td>\n",
              "      <td>1</td>\n",
              "      <td>64</td>\n",
              "      <td>0.0</td>\n",
              "      <td>91.56</td>\n",
              "      <td>0.175</td>\n",
              "      <td>240</td>\n",
              "      <td>3.01875</td>\n",
              "      <td>0</td>\n",
              "      <td>1800</td>\n",
              "      <td>0</td>\n",
              "      <td>31.3</td>\n",
              "      <td>0</td>\n",
              "      <td>4</td>\n",
              "      <td>15.8270</td>\n",
              "    </tr>\n",
              "    <tr>\n",
              "      <th>...</th>\n",
              "      <td>...</td>\n",
              "      <td>...</td>\n",
              "      <td>...</td>\n",
              "      <td>...</td>\n",
              "      <td>...</td>\n",
              "      <td>...</td>\n",
              "      <td>...</td>\n",
              "      <td>...</td>\n",
              "      <td>...</td>\n",
              "      <td>...</td>\n",
              "      <td>...</td>\n",
              "      <td>...</td>\n",
              "      <td>...</td>\n",
              "      <td>...</td>\n",
              "      <td>...</td>\n",
              "      <td>...</td>\n",
              "      <td>...</td>\n",
              "      <td>...</td>\n",
              "      <td>...</td>\n",
              "      <td>...</td>\n",
              "      <td>...</td>\n",
              "      <td>...</td>\n",
              "      <td>...</td>\n",
              "      <td>...</td>\n",
              "      <td>...</td>\n",
              "      <td>...</td>\n",
              "      <td>...</td>\n",
              "      <td>...</td>\n",
              "      <td>...</td>\n",
              "      <td>...</td>\n",
              "      <td>...</td>\n",
              "      <td>...</td>\n",
              "      <td>...</td>\n",
              "    </tr>\n",
              "    <tr>\n",
              "      <th>604314</th>\n",
              "      <td>510</td>\n",
              "      <td>1184</td>\n",
              "      <td>0</td>\n",
              "      <td>31.9667</td>\n",
              "      <td>9.17322</td>\n",
              "      <td>688</td>\n",
              "      <td>87.2093</td>\n",
              "      <td>0.089515</td>\n",
              "      <td>684</td>\n",
              "      <td>87.7193</td>\n",
              "      <td>0</td>\n",
              "      <td>17.807</td>\n",
              "      <td>222.11</td>\n",
              "      <td>0</td>\n",
              "      <td>0</td>\n",
              "      <td>0.016379</td>\n",
              "      <td>327</td>\n",
              "      <td>2</td>\n",
              "      <td>2</td>\n",
              "      <td>1</td>\n",
              "      <td>64</td>\n",
              "      <td>0.0</td>\n",
              "      <td>90.94</td>\n",
              "      <td>0.175</td>\n",
              "      <td>240</td>\n",
              "      <td>3.01875</td>\n",
              "      <td>0</td>\n",
              "      <td>1780</td>\n",
              "      <td>0</td>\n",
              "      <td>29.5</td>\n",
              "      <td>0</td>\n",
              "      <td>4</td>\n",
              "      <td>15.8482</td>\n",
              "    </tr>\n",
              "    <tr>\n",
              "      <th>604315</th>\n",
              "      <td>510</td>\n",
              "      <td>1185</td>\n",
              "      <td>0</td>\n",
              "      <td>31.9291</td>\n",
              "      <td>15.50140</td>\n",
              "      <td>688</td>\n",
              "      <td>87.2093</td>\n",
              "      <td>0.089515</td>\n",
              "      <td>684</td>\n",
              "      <td>87.7193</td>\n",
              "      <td>0</td>\n",
              "      <td>17.807</td>\n",
              "      <td>222.11</td>\n",
              "      <td>0</td>\n",
              "      <td>0</td>\n",
              "      <td>0.016379</td>\n",
              "      <td>327</td>\n",
              "      <td>2</td>\n",
              "      <td>2</td>\n",
              "      <td>1</td>\n",
              "      <td>64</td>\n",
              "      <td>0.0</td>\n",
              "      <td>90.91</td>\n",
              "      <td>0.175</td>\n",
              "      <td>240</td>\n",
              "      <td>3.01875</td>\n",
              "      <td>0</td>\n",
              "      <td>1777</td>\n",
              "      <td>0</td>\n",
              "      <td>29.5</td>\n",
              "      <td>0</td>\n",
              "      <td>4</td>\n",
              "      <td>15.8472</td>\n",
              "    </tr>\n",
              "    <tr>\n",
              "      <th>604316</th>\n",
              "      <td>510</td>\n",
              "      <td>1186</td>\n",
              "      <td>0</td>\n",
              "      <td>31.9820</td>\n",
              "      <td>8.30669</td>\n",
              "      <td>688</td>\n",
              "      <td>87.2093</td>\n",
              "      <td>0.089515</td>\n",
              "      <td>684</td>\n",
              "      <td>87.7193</td>\n",
              "      <td>0</td>\n",
              "      <td>17.807</td>\n",
              "      <td>222.11</td>\n",
              "      <td>0</td>\n",
              "      <td>0</td>\n",
              "      <td>0.016379</td>\n",
              "      <td>327</td>\n",
              "      <td>2</td>\n",
              "      <td>2</td>\n",
              "      <td>1</td>\n",
              "      <td>64</td>\n",
              "      <td>0.0</td>\n",
              "      <td>91.00</td>\n",
              "      <td>0.280</td>\n",
              "      <td>240</td>\n",
              "      <td>3.01875</td>\n",
              "      <td>0</td>\n",
              "      <td>1795</td>\n",
              "      <td>0</td>\n",
              "      <td>29.5</td>\n",
              "      <td>0</td>\n",
              "      <td>4</td>\n",
              "      <td>15.8759</td>\n",
              "    </tr>\n",
              "    <tr>\n",
              "      <th>604317</th>\n",
              "      <td>510</td>\n",
              "      <td>1187</td>\n",
              "      <td>0</td>\n",
              "      <td>31.9516</td>\n",
              "      <td>9.91952</td>\n",
              "      <td>688</td>\n",
              "      <td>87.2093</td>\n",
              "      <td>0.089515</td>\n",
              "      <td>684</td>\n",
              "      <td>87.7193</td>\n",
              "      <td>0</td>\n",
              "      <td>17.807</td>\n",
              "      <td>222.11</td>\n",
              "      <td>0</td>\n",
              "      <td>0</td>\n",
              "      <td>0.016379</td>\n",
              "      <td>327</td>\n",
              "      <td>2</td>\n",
              "      <td>2</td>\n",
              "      <td>1</td>\n",
              "      <td>64</td>\n",
              "      <td>0.0</td>\n",
              "      <td>91.01</td>\n",
              "      <td>0.175</td>\n",
              "      <td>240</td>\n",
              "      <td>3.01875</td>\n",
              "      <td>0</td>\n",
              "      <td>1784</td>\n",
              "      <td>0</td>\n",
              "      <td>29.5</td>\n",
              "      <td>0</td>\n",
              "      <td>4</td>\n",
              "      <td>15.8589</td>\n",
              "    </tr>\n",
              "    <tr>\n",
              "      <th>604318</th>\n",
              "      <td>510</td>\n",
              "      <td>1188</td>\n",
              "      <td>1</td>\n",
              "      <td>31.9446</td>\n",
              "      <td>12.47740</td>\n",
              "      <td>688</td>\n",
              "      <td>87.2093</td>\n",
              "      <td>0.089515</td>\n",
              "      <td>684</td>\n",
              "      <td>87.7193</td>\n",
              "      <td>0</td>\n",
              "      <td>17.807</td>\n",
              "      <td>222.11</td>\n",
              "      <td>0</td>\n",
              "      <td>0</td>\n",
              "      <td>0.016379</td>\n",
              "      <td>323</td>\n",
              "      <td>2</td>\n",
              "      <td>2</td>\n",
              "      <td>1</td>\n",
              "      <td>64</td>\n",
              "      <td>0.0</td>\n",
              "      <td>91.23</td>\n",
              "      <td>0.175</td>\n",
              "      <td>240</td>\n",
              "      <td>3.01875</td>\n",
              "      <td>0</td>\n",
              "      <td>1801</td>\n",
              "      <td>0</td>\n",
              "      <td>29.5</td>\n",
              "      <td>0</td>\n",
              "      <td>4</td>\n",
              "      <td>15.8365</td>\n",
              "    </tr>\n",
              "  </tbody>\n",
              "</table>\n",
              "<p>37421 rows × 33 columns</p>\n",
              "</div>"
            ],
            "text/plain": [
              "        TrialID  ObsNum  IsAlert       P1        P2  ...  V7    V8  V9  V10      V11\n",
              "604323      510    1193        1  32.0303   7.68265  ...   0  29.9   0    4  15.8303\n",
              "604324      510    1194        1  32.0051  10.13240  ...   0  30.4   0    4  15.8113\n",
              "604325      510    1195        1  32.0393  12.45040  ...   0  30.4   0    4  15.8018\n",
              "604326      510    1196        1  32.0762  10.06180  ...   0  31.3   0    4  15.8120\n",
              "604327      510    1197        1  32.1154  17.84500  ...   0  31.3   0    4  15.8270\n",
              "...         ...     ...      ...      ...       ...  ...  ..   ...  ..  ...      ...\n",
              "604314      510    1184        0  31.9667   9.17322  ...   0  29.5   0    4  15.8482\n",
              "604315      510    1185        0  31.9291  15.50140  ...   0  29.5   0    4  15.8472\n",
              "604316      510    1186        0  31.9820   8.30669  ...   0  29.5   0    4  15.8759\n",
              "604317      510    1187        0  31.9516   9.91952  ...   0  29.5   0    4  15.8589\n",
              "604318      510    1188        1  31.9446  12.47740  ...   0  29.5   0    4  15.8365\n",
              "\n",
              "[37421 rows x 33 columns]"
            ]
          },
          "metadata": {
            "tags": []
          },
          "execution_count": 22
        }
      ]
    },
    {
      "cell_type": "markdown",
      "metadata": {
        "id": "1xFqR5J1vNj6",
        "colab_type": "text"
      },
      "source": [
        "\n",
        "# Feature Engineering\n"
      ]
    },
    {
      "cell_type": "code",
      "metadata": {
        "id": "IbfADG7FvJXJ",
        "colab_type": "code",
        "colab": {}
      },
      "source": [
        "pcadata = new_df.drop(columns = ['TrialID', 'ObsNum', 'IsAlert']) # Drop unneccessary columns\n"
      ],
      "execution_count": 0,
      "outputs": []
    },
    {
      "cell_type": "markdown",
      "metadata": {
        "id": "8SRCkI1tvbTp",
        "colab_type": "text"
      },
      "source": [
        "# Standarization"
      ]
    },
    {
      "cell_type": "code",
      "metadata": {
        "id": "JxCXj0ShvYCO",
        "colab_type": "code",
        "outputId": "cce551ac-f2a5-449c-97e1-e97f0c126d86",
        "colab": {
          "base_uri": "https://localhost:8080/",
          "height": 638
        }
      },
      "source": [
        "X_scaled = preprocessing.scale(pcadata) \n",
        "pcadata.info()\n"
      ],
      "execution_count": 0,
      "outputs": [
        {
          "output_type": "stream",
          "text": [
            "<class 'pandas.core.frame.DataFrame'>\n",
            "Int64Index: 37421 entries, 604323 to 604318\n",
            "Data columns (total 30 columns):\n",
            " #   Column  Non-Null Count  Dtype  \n",
            "---  ------  --------------  -----  \n",
            " 0   P1      37421 non-null  float64\n",
            " 1   P2      37421 non-null  float64\n",
            " 2   P3      37421 non-null  int64  \n",
            " 3   P4      37421 non-null  float64\n",
            " 4   P5      37421 non-null  float64\n",
            " 5   P6      37421 non-null  int64  \n",
            " 6   P7      37421 non-null  float64\n",
            " 7   P8      37421 non-null  int64  \n",
            " 8   E1      37421 non-null  float64\n",
            " 9   E2      37421 non-null  float64\n",
            " 10  E3      37421 non-null  int64  \n",
            " 11  E4      37421 non-null  int64  \n",
            " 12  E5      37421 non-null  float64\n",
            " 13  E6      37421 non-null  int64  \n",
            " 14  E7      37421 non-null  int64  \n",
            " 15  E8      37421 non-null  int64  \n",
            " 16  E9      37421 non-null  int64  \n",
            " 17  E10     37421 non-null  int64  \n",
            " 18  E11     37421 non-null  float64\n",
            " 19  V1      37421 non-null  float64\n",
            " 20  V2      37421 non-null  float64\n",
            " 21  V3      37421 non-null  int64  \n",
            " 22  V4      37421 non-null  float64\n",
            " 23  V5      37421 non-null  int64  \n",
            " 24  V6      37421 non-null  int64  \n",
            " 25  V7      37421 non-null  int64  \n",
            " 26  V8      37421 non-null  float64\n",
            " 27  V9      37421 non-null  int64  \n",
            " 28  V10     37421 non-null  int64  \n",
            " 29  V11     37421 non-null  float64\n",
            "dtypes: float64(14), int64(16)\n",
            "memory usage: 8.9 MB\n"
          ],
          "name": "stdout"
        }
      ]
    },
    {
      "cell_type": "markdown",
      "metadata": {
        "id": "YxM8Bvd5vlCA",
        "colab_type": "text"
      },
      "source": [
        "# Principle Component Analysis"
      ]
    },
    {
      "cell_type": "code",
      "metadata": {
        "id": "i25PG97VvhUA",
        "colab_type": "code",
        "colab": {}
      },
      "source": [
        "pca=PCA() \n",
        "pca.fit(X_scaled) \n",
        "X_pca=pca.transform(X_scaled) "
      ],
      "execution_count": 0,
      "outputs": []
    },
    {
      "cell_type": "code",
      "metadata": {
        "id": "yRcGawc2vq7h",
        "colab_type": "code",
        "outputId": "24b83ef1-e87e-415e-b217-2abe8339005a",
        "colab": {
          "base_uri": "https://localhost:8080/",
          "height": 34
        }
      },
      "source": [
        "#let's check the shape of X_pca array\n",
        "print (\"shape of X_pca\", X_pca.shape)"
      ],
      "execution_count": 0,
      "outputs": [
        {
          "output_type": "stream",
          "text": [
            "shape of X_pca (37421, 30)\n"
          ],
          "name": "stdout"
        }
      ]
    },
    {
      "cell_type": "code",
      "metadata": {
        "id": "jQaPILkvvy_I",
        "colab_type": "code",
        "outputId": "9efb0284-f4e2-4f1e-eb68-b26ceb32172d",
        "colab": {
          "base_uri": "https://localhost:8080/",
          "height": 285
        }
      },
      "source": [
        "#%%\n",
        "# Scree Plot\n",
        "y = pca.explained_variance_ratio_\n",
        "\n",
        "x = np.array([i for i in range(1, len(y)+1)])\n",
        "\n",
        "plt.plot(x, y, 'r-x')"
      ],
      "execution_count": 0,
      "outputs": [
        {
          "output_type": "execute_result",
          "data": {
            "text/plain": [
              "[<matplotlib.lines.Line2D at 0x7f68bfb57c18>]"
            ]
          },
          "metadata": {
            "tags": []
          },
          "execution_count": 27
        },
        {
          "output_type": "display_data",
          "data": {
            "image/png": "[encoded data removed]",
            "text/plain": [
              "<Figure size 432x288 with 1 Axes>"
            ]
          },
          "metadata": {
            "tags": [],
            "needs_background": "light"
          }
        }
      ]
    },
    {
      "cell_type": "code",
      "metadata": {
        "id": "Ue3HlW2gv569",
        "colab_type": "code",
        "outputId": "9344391e-defa-4c8e-e4bf-790eaaff9e56",
        "colab": {
          "base_uri": "https://localhost:8080/",
          "height": 34
        }
      },
      "source": [
        "# Filter principle components\n",
        "sum(pca.explained_variance_ratio_[:14])\n",
        "X_pca = X_pca[:,:14] # Slice the first 14 features\n",
        "X_pca.shape "
      ],
      "execution_count": 0,
      "outputs": [
        {
          "output_type": "execute_result",
          "data": {
            "text/plain": [
              "(37421, 14)"
            ]
          },
          "metadata": {
            "tags": []
          },
          "execution_count": 28
        }
      ]
    },
    {
      "cell_type": "code",
      "metadata": {
        "id": "ZepWA5REv-6f",
        "colab_type": "code",
        "outputId": "057257ce-38c5-409b-9fb2-e10ff9d6211c",
        "colab": {
          "base_uri": "https://localhost:8080/",
          "height": 218
        }
      },
      "source": [
        "X_pca # Training features\n",
        "new_df.IsAlert # Target features"
      ],
      "execution_count": 0,
      "outputs": [
        {
          "output_type": "execute_result",
          "data": {
            "text/plain": [
              "604323    1\n",
              "604324    1\n",
              "604325    1\n",
              "604326    1\n",
              "604327    1\n",
              "         ..\n",
              "604314    0\n",
              "604315    0\n",
              "604316    0\n",
              "604317    0\n",
              "604318    1\n",
              "Name: IsAlert, Length: 37421, dtype: int64"
            ]
          },
          "metadata": {
            "tags": []
          },
          "execution_count": 29
        }
      ]
    },
    {
      "cell_type": "markdown",
      "metadata": {
        "id": "vicps3YIwE0e",
        "colab_type": "text"
      },
      "source": [
        "Modeling"
      ]
    },
    {
      "cell_type": "code",
      "metadata": {
        "id": "vrMg6d2jwBJH",
        "colab_type": "code",
        "outputId": "8617ed73-123f-48dc-830b-1b42a5047084",
        "colab": {
          "base_uri": "https://localhost:8080/",
          "height": 101
        }
      },
      "source": [
        "# Logistic Regression Cross Validation\n",
        "clf_CV = LogisticRegressionCV(cv=10, random_state=0, solver = 'liblinear') # Model Setting\n",
        "clf_CV.fit(X_pca, new_df.IsAlert) # Model Fitting"
      ],
      "execution_count": 0,
      "outputs": [
        {
          "output_type": "execute_result",
          "data": {
            "text/plain": [
              "LogisticRegressionCV(Cs=10, class_weight=None, cv=10, dual=False,\n",
              "                     fit_intercept=True, intercept_scaling=1.0, l1_ratios=None,\n",
              "                     max_iter=100, multi_class='auto', n_jobs=None,\n",
              "                     penalty='l2', random_state=0, refit=True, scoring=None,\n",
              "                     solver='liblinear', tol=0.0001, verbose=0)"
            ]
          },
          "metadata": {
            "tags": []
          },
          "execution_count": 30
        }
      ]
    },
    {
      "cell_type": "code",
      "metadata": {
        "id": "ZE8FJmzkwQqP",
        "colab_type": "code",
        "outputId": "cb414f8f-917f-4fff-eca5-94d99b8b338a",
        "colab": {
          "base_uri": "https://localhost:8080/",
          "height": 34
        }
      },
      "source": [
        "# Evalution\n",
        "\n",
        "clf_CV.score(X_pca, new_df.IsAlert) \n"
      ],
      "execution_count": 0,
      "outputs": [
        {
          "output_type": "execute_result",
          "data": {
            "text/plain": [
              "0.6460276315437856"
            ]
          },
          "metadata": {
            "tags": []
          },
          "execution_count": 31
        }
      ]
    },
    {
      "cell_type": "code",
      "metadata": {
        "id": "7iqMsHNwwWSL",
        "colab_type": "code",
        "outputId": "456787ac-5c5f-4b1a-dafe-978dcf88072a",
        "colab": {
          "base_uri": "https://localhost:8080/",
          "height": 34
        }
      },
      "source": [
        "# Confustion matrix evaluation\n",
        "\n",
        "clf_cv_pred = clf_CV.predict(X_pca)\n",
        "len(clf_cv_pred == 1)\n",
        "#sum(clf_cv_pred == 0)"
      ],
      "execution_count": 0,
      "outputs": [
        {
          "output_type": "execute_result",
          "data": {
            "text/plain": [
              "37421"
            ]
          },
          "metadata": {
            "tags": []
          },
          "execution_count": 33
        }
      ]
    },
    {
      "cell_type": "code",
      "metadata": {
        "id": "PZogenMawfNl",
        "colab_type": "code",
        "outputId": "1c314fd2-0eba-4c85-854d-b38afbe03d0d",
        "colab": {
          "base_uri": "https://localhost:8080/",
          "height": 34
        }
      },
      "source": [
        "sum(clf_cv_pred == 0)"
      ],
      "execution_count": 0,
      "outputs": [
        {
          "output_type": "execute_result",
          "data": {
            "text/plain": [
              "5276"
            ]
          },
          "metadata": {
            "tags": []
          },
          "execution_count": 34
        }
      ]
    },
    {
      "cell_type": "code",
      "metadata": {
        "id": "aRKSK_NIwmF-",
        "colab_type": "code",
        "outputId": "b2fb8ba7-2a47-4e2a-cd93-fabf9521637d",
        "colab": {
          "base_uri": "https://localhost:8080/",
          "height": 34
        }
      },
      "source": [
        "confusion_matrix(new_df.IsAlert, clf_cv_pred)\n",
        "sum(new_df.IsAlert == 1)\n"
      ],
      "execution_count": 0,
      "outputs": [
        {
          "output_type": "execute_result",
          "data": {
            "text/plain": [
              "21319"
            ]
          },
          "metadata": {
            "tags": []
          },
          "execution_count": 35
        }
      ]
    },
    {
      "cell_type": "code",
      "metadata": {
        "id": "0DfErzcpwrJy",
        "colab_type": "code",
        "outputId": "2cec45f9-2f75-4358-ada9-ff65e3e8b5ad",
        "colab": {
          "base_uri": "https://localhost:8080/",
          "height": 34
        }
      },
      "source": [
        "roc_auc_score(new_df.IsAlert, clf_cv_pred)\n"
      ],
      "execution_count": 0,
      "outputs": [
        {
          "output_type": "execute_result",
          "data": {
            "text/plain": [
              "0.5978791659850288"
            ]
          },
          "metadata": {
            "tags": []
          },
          "execution_count": 36
        }
      ]
    },
    {
      "cell_type": "markdown",
      "metadata": {
        "id": "xV24BvhWwvsq",
        "colab_type": "text"
      },
      "source": [
        "Try Another Models"
      ]
    },
    {
      "cell_type": "code",
      "metadata": {
        "id": "YU72rE2swybx",
        "colab_type": "code",
        "colab": {}
      },
      "source": [
        "# Cross Validated Naive Bayes Model\n",
        "skf = StratifiedKFold(n_splits=10)\n",
        "params = {}\n",
        "nb = GaussianNB()\n",
        "gs = GridSearchCV(nb, cv=skf, param_grid=params, return_train_score=True)\n"
      ],
      "execution_count": 0,
      "outputs": []
    },
    {
      "cell_type": "code",
      "metadata": {
        "id": "udeK8vpXw6ff",
        "colab_type": "code",
        "colab": {}
      },
      "source": [
        "x_train, x_test, y_train, y_test = train_test_split(X_pca, new_df.IsAlert, random_state = 42)\n"
      ],
      "execution_count": 0,
      "outputs": []
    },
    {
      "cell_type": "code",
      "metadata": {
        "id": "ucQdkXK7w_B-",
        "colab_type": "code",
        "colab": {}
      },
      "source": [
        "gs.fit(x_train, y_train)\n",
        "gs.cv_results_\n",
        "gs.score(X_pca, new_df.IsAlert)\n",
        "gs_predict = gs.predict(X_pca)"
      ],
      "execution_count": 0,
      "outputs": []
    },
    {
      "cell_type": "code",
      "metadata": {
        "id": "lCJZpz4cxBL_",
        "colab_type": "code",
        "outputId": "36e4a48e-8e25-43a5-ea51-efca327427db",
        "colab": {
          "base_uri": "https://localhost:8080/",
          "height": 50
        }
      },
      "source": [
        "confusion_matrix(new_df.IsAlert, gs_predict)\n"
      ],
      "execution_count": 0,
      "outputs": [
        {
          "output_type": "execute_result",
          "data": {
            "text/plain": [
              "array([[ 4026, 12076],\n",
              "       [ 2181, 19138]])"
            ]
          },
          "metadata": {
            "tags": []
          },
          "execution_count": 40
        }
      ]
    },
    {
      "cell_type": "code",
      "metadata": {
        "id": "nb_hbHpqxH1c",
        "colab_type": "code",
        "outputId": "0901f521-8cae-4279-f189-622b81a3bf13",
        "colab": {
          "base_uri": "https://localhost:8080/",
          "height": 34
        }
      },
      "source": [
        "roc_auc_score(new_df.IsAlert, gs_predict)\n",
        "#nb.fit(x_train, y_train)\n",
        "#nb.score(x_test, y_test)"
      ],
      "execution_count": 0,
      "outputs": [
        {
          "output_type": "execute_result",
          "data": {
            "text/plain": [
              "0.5738639710706295"
            ]
          },
          "metadata": {
            "tags": []
          },
          "execution_count": 41
        }
      ]
    },
    {
      "cell_type": "code",
      "metadata": {
        "id": "MInr7BY9xMWF",
        "colab_type": "code",
        "colab": {}
      },
      "source": [
        "# Cross Validated  Random Forest\n",
        "grid_forest = RandomForestClassifier(random_state = 42)\n",
        "hyperparams = [{'n_estimators':[5, 10 ,50]}]\n",
        "grid_search = GridSearchCV(grid_forest, hyperparams, cv = 10, scoring = 'neg_mean_squared_error')\n"
      ],
      "execution_count": 0,
      "outputs": []
    },
    {
      "cell_type": "code",
      "metadata": {
        "id": "Zjqk8MqQxOUc",
        "colab_type": "code",
        "outputId": "7999f831-ee0a-433a-9d6d-c4fa24d482aa",
        "colab": {
          "base_uri": "https://localhost:8080/",
          "height": 336
        }
      },
      "source": [
        "grid_search.fit(x_train, y_train)\n"
      ],
      "execution_count": 0,
      "outputs": [
        {
          "output_type": "execute_result",
          "data": {
            "text/plain": [
              "GridSearchCV(cv=10, error_score=nan,\n",
              "             estimator=RandomForestClassifier(bootstrap=True, ccp_alpha=0.0,\n",
              "                                              class_weight=None,\n",
              "                                              criterion='gini', max_depth=None,\n",
              "                                              max_features='auto',\n",
              "                                              max_leaf_nodes=None,\n",
              "                                              max_samples=None,\n",
              "                                              min_impurity_decrease=0.0,\n",
              "                                              min_impurity_split=None,\n",
              "                                              min_samples_leaf=1,\n",
              "                                              min_samples_split=2,\n",
              "                                              min_weight_fraction_leaf=0.0,\n",
              "                                              n_estimators=100, n_jobs=None,\n",
              "                                              oob_score=False, random_state=42,\n",
              "                                              verbose=0, warm_start=False),\n",
              "             iid='deprecated', n_jobs=None,\n",
              "             param_grid=[{'n_estimators': [5, 10, 50]}],\n",
              "             pre_dispatch='2*n_jobs', refit=True, return_train_score=False,\n",
              "             scoring='neg_mean_squared_error', verbose=0)"
            ]
          },
          "metadata": {
            "tags": []
          },
          "execution_count": 43
        }
      ]
    },
    {
      "cell_type": "code",
      "metadata": {
        "id": "6guzpGANxsW9",
        "colab_type": "code",
        "colab": {}
      },
      "source": [
        "selected_model = grid_search.best_estimator_"
      ],
      "execution_count": 0,
      "outputs": []
    },
    {
      "cell_type": "code",
      "metadata": {
        "id": "BQOOflKnxzsO",
        "colab_type": "code",
        "outputId": "0f00c572-fb57-44d9-873e-9620fbaea35f",
        "colab": {
          "base_uri": "https://localhost:8080/",
          "height": 50
        }
      },
      "source": [
        "print ('Grid winner', selected_model.score(x_test, y_test))\n",
        "selected_model.score(X_pca, new_df.IsAlert)"
      ],
      "execution_count": 0,
      "outputs": [
        {
          "output_type": "stream",
          "text": [
            "Grid winner 0.7658187259512612\n"
          ],
          "name": "stdout"
        },
        {
          "output_type": "execute_result",
          "data": {
            "text/plain": [
              "0.9414499879746666"
            ]
          },
          "metadata": {
            "tags": []
          },
          "execution_count": 45
        }
      ]
    },
    {
      "cell_type": "code",
      "metadata": {
        "id": "38AU2lpAx7yh",
        "colab_type": "code",
        "outputId": "9c2ad1a7-d12f-44c0-a321-03d283d99ce5",
        "colab": {
          "base_uri": "https://localhost:8080/",
          "height": 50
        }
      },
      "source": [
        "randomfpred = grid_search.predict(X_pca)\n",
        "confusion_matrix(new_df.IsAlert, randomfpred)"
      ],
      "execution_count": 0,
      "outputs": [
        {
          "output_type": "execute_result",
          "data": {
            "text/plain": [
              "array([[14535,  1567],\n",
              "       [  624, 20695]])"
            ]
          },
          "metadata": {
            "tags": []
          },
          "execution_count": 47
        }
      ]
    },
    {
      "cell_type": "code",
      "metadata": {
        "id": "TlL1My5ryDFR",
        "colab_type": "code",
        "outputId": "fd572a5b-841b-4f66-8119-d05228ce255e",
        "colab": {
          "base_uri": "https://localhost:8080/",
          "height": 34
        }
      },
      "source": [
        "roc_auc_score(new_df.IsAlert, randomfpred)"
      ],
      "execution_count": 0,
      "outputs": [
        {
          "output_type": "execute_result",
          "data": {
            "text/plain": [
              "0.9367066154890232"
            ]
          },
          "metadata": {
            "tags": []
          },
          "execution_count": 48
        }
      ]
    },
    {
      "cell_type": "code",
      "metadata": {
        "id": "-cM7kxsCyJpy",
        "colab_type": "code",
        "colab": {}
      },
      "source": [
        "import pickle\n",
        "from joblib import dump, load\n"
      ],
      "execution_count": 0,
      "outputs": []
    },
    {
      "cell_type": "code",
      "metadata": {
        "id": "HKnD8zkmyLaf",
        "colab_type": "code",
        "colab": {}
      },
      "source": [
        "dump(grid_search, 'randomforest.joblib')\n",
        "rf_2 = load('randomforest.joblib') \n",
        "rf_2.best_estimator_.score(X_pca, new_df.IsAlert)\n",
        "randomfpred_2 = rf_2.predict(X_pca)"
      ],
      "execution_count": 0,
      "outputs": []
    },
    {
      "cell_type": "code",
      "metadata": {
        "id": "3H4goo5UyQ4I",
        "colab_type": "code",
        "outputId": "2c6ccbfb-443f-48a0-f7b8-3b6016fb01a8",
        "colab": {
          "base_uri": "https://localhost:8080/",
          "height": 34
        }
      },
      "source": [
        "confusion_matrix(new_df.IsAlert, randomfpred_2)\n",
        "roc_auc_score(new_df.IsAlert, randomfpred_2)"
      ],
      "execution_count": 0,
      "outputs": [
        {
          "output_type": "execute_result",
          "data": {
            "text/plain": [
              "0.9367066154890232"
            ]
          },
          "metadata": {
            "tags": []
          },
          "execution_count": 51
        }
      ]
    },
    {
      "cell_type": "markdown",
      "metadata": {
        "id": "Fqx9qjWRybj-",
        "colab_type": "text"
      },
      "source": [
        "# Support Vector Machine & Neural Network"
      ]
    },
    {
      "cell_type": "code",
      "metadata": {
        "id": "CTa7312ByWGh",
        "colab_type": "code",
        "outputId": "c604cb50-a5a5-4a6c-ad7e-ed9bdb8a338a",
        "colab": {
          "base_uri": "https://localhost:8080/",
          "height": 574
        }
      },
      "source": [
        "lisvc = LinearSVC(random_state=42, tol=1e-5)\n",
        "svcgridsearch = GridSearchCV(lisvc, cv = skf, param_grid = params, return_train_score = True)\n",
        "svcgridsearch.fit(x_train, y_train) # Failed to convergence\n"
      ],
      "execution_count": 0,
      "outputs": [
        {
          "output_type": "stream",
          "text": [
            "/usr/local/lib/python3.6/dist-packages/sklearn/svm/_base.py:947: ConvergenceWarning: Liblinear failed to converge, increase the number of iterations.\n",
            "  \"the number of iterations.\", ConvergenceWarning)\n",
            "/usr/local/lib/python3.6/dist-packages/sklearn/svm/_base.py:947: ConvergenceWarning: Liblinear failed to converge, increase the number of iterations.\n",
            "  \"the number of iterations.\", ConvergenceWarning)\n",
            "/usr/local/lib/python3.6/dist-packages/sklearn/svm/_base.py:947: ConvergenceWarning: Liblinear failed to converge, increase the number of iterations.\n",
            "  \"the number of iterations.\", ConvergenceWarning)\n",
            "/usr/local/lib/python3.6/dist-packages/sklearn/svm/_base.py:947: ConvergenceWarning: Liblinear failed to converge, increase the number of iterations.\n",
            "  \"the number of iterations.\", ConvergenceWarning)\n",
            "/usr/local/lib/python3.6/dist-packages/sklearn/svm/_base.py:947: ConvergenceWarning: Liblinear failed to converge, increase the number of iterations.\n",
            "  \"the number of iterations.\", ConvergenceWarning)\n",
            "/usr/local/lib/python3.6/dist-packages/sklearn/svm/_base.py:947: ConvergenceWarning: Liblinear failed to converge, increase the number of iterations.\n",
            "  \"the number of iterations.\", ConvergenceWarning)\n",
            "/usr/local/lib/python3.6/dist-packages/sklearn/svm/_base.py:947: ConvergenceWarning: Liblinear failed to converge, increase the number of iterations.\n",
            "  \"the number of iterations.\", ConvergenceWarning)\n",
            "/usr/local/lib/python3.6/dist-packages/sklearn/svm/_base.py:947: ConvergenceWarning: Liblinear failed to converge, increase the number of iterations.\n",
            "  \"the number of iterations.\", ConvergenceWarning)\n",
            "/usr/local/lib/python3.6/dist-packages/sklearn/svm/_base.py:947: ConvergenceWarning: Liblinear failed to converge, increase the number of iterations.\n",
            "  \"the number of iterations.\", ConvergenceWarning)\n",
            "/usr/local/lib/python3.6/dist-packages/sklearn/svm/_base.py:947: ConvergenceWarning: Liblinear failed to converge, increase the number of iterations.\n",
            "  \"the number of iterations.\", ConvergenceWarning)\n",
            "/usr/local/lib/python3.6/dist-packages/sklearn/svm/_base.py:947: ConvergenceWarning: Liblinear failed to converge, increase the number of iterations.\n",
            "  \"the number of iterations.\", ConvergenceWarning)\n"
          ],
          "name": "stderr"
        },
        {
          "output_type": "execute_result",
          "data": {
            "text/plain": [
              "GridSearchCV(cv=StratifiedKFold(n_splits=10, random_state=None, shuffle=False),\n",
              "             error_score=nan,\n",
              "             estimator=LinearSVC(C=1.0, class_weight=None, dual=True,\n",
              "                                 fit_intercept=True, intercept_scaling=1,\n",
              "                                 loss='squared_hinge', max_iter=1000,\n",
              "                                 multi_class='ovr', penalty='l2',\n",
              "                                 random_state=42, tol=1e-05, verbose=0),\n",
              "             iid='deprecated', n_jobs=None, param_grid={},\n",
              "             pre_dispatch='2*n_jobs', refit=True, return_train_score=True,\n",
              "             scoring=None, verbose=0)"
            ]
          },
          "metadata": {
            "tags": []
          },
          "execution_count": 52
        }
      ]
    },
    {
      "cell_type": "code",
      "metadata": {
        "id": "uZ52cDL4yrSD",
        "colab_type": "code",
        "colab": {}
      },
      "source": [
        "svcgridsearch.cv_results_\n",
        "svcgridsearch.score(X_pca, new_df.IsAlert)\n",
        "lisvc_predict = svcgridsearch.predict(X_pca)\n"
      ],
      "execution_count": 0,
      "outputs": []
    },
    {
      "cell_type": "code",
      "metadata": {
        "id": "dQ6OXg-VyvmU",
        "colab_type": "code",
        "outputId": "6afe0549-598b-4da5-cd95-8a3fc8dcf33b",
        "colab": {
          "base_uri": "https://localhost:8080/",
          "height": 50
        }
      },
      "source": [
        "confusion_matrix(new_df.IsAlert, lisvc_predict)"
      ],
      "execution_count": 0,
      "outputs": [
        {
          "output_type": "execute_result",
          "data": {
            "text/plain": [
              "array([[ 4008, 12094],\n",
              "       [ 1216, 20103]])"
            ]
          },
          "metadata": {
            "tags": []
          },
          "execution_count": 54
        }
      ]
    },
    {
      "cell_type": "code",
      "metadata": {
        "id": "omyMhAxXyzbD",
        "colab_type": "code",
        "outputId": "db334995-b81e-4750-9aeb-e3c0a709421c",
        "colab": {
          "base_uri": "https://localhost:8080/",
          "height": 34
        }
      },
      "source": [
        "roc_auc_score(new_df.IsAlert, lisvc_predict)"
      ],
      "execution_count": 0,
      "outputs": [
        {
          "output_type": "execute_result",
          "data": {
            "text/plain": [
              "0.595937427932066"
            ]
          },
          "metadata": {
            "tags": []
          },
          "execution_count": 55
        }
      ]
    },
    {
      "cell_type": "code",
      "metadata": {
        "id": "iXnSU1mc7dLL",
        "colab_type": "code",
        "colab": {}
      },
      "source": [
        "#accuracy 64.43%"
      ],
      "execution_count": 0,
      "outputs": []
    },
    {
      "cell_type": "markdown",
      "metadata": {
        "id": "-bmb9YOozFfK",
        "colab_type": "text"
      },
      "source": [
        "# Epsilon - Support Vecto Regression"
      ]
    },
    {
      "cell_type": "code",
      "metadata": {
        "id": "Kj7cE2rozHgK",
        "colab_type": "code",
        "colab": {}
      },
      "source": [
        "from sklearn.svm import SVR"
      ],
      "execution_count": 0,
      "outputs": []
    },
    {
      "cell_type": "code",
      "metadata": {
        "id": "2Fkzf0tGzOFe",
        "colab_type": "code",
        "colab": {}
      },
      "source": [
        "svr = SVR(gamma='scale', C=1.0, epsilon=0.2)"
      ],
      "execution_count": 0,
      "outputs": []
    },
    {
      "cell_type": "code",
      "metadata": {
        "id": "gOVpXqoJzR1c",
        "colab_type": "code",
        "outputId": "2a060e16-3943-4941-b94c-155d76f99d8c",
        "colab": {
          "base_uri": "https://localhost:8080/",
          "height": 168
        }
      },
      "source": [
        "svrgridsearch = GridSearchCV(svr, cv = skf, param_grid = params, return_train_score = True)\n",
        "svrgridsearch.fit(x_train, y_train) "
      ],
      "execution_count": 0,
      "outputs": [
        {
          "output_type": "execute_result",
          "data": {
            "text/plain": [
              "GridSearchCV(cv=StratifiedKFold(n_splits=10, random_state=None, shuffle=False),\n",
              "             error_score=nan,\n",
              "             estimator=SVR(C=1.0, cache_size=200, coef0=0.0, degree=3,\n",
              "                           epsilon=0.2, gamma='scale', kernel='rbf',\n",
              "                           max_iter=-1, shrinking=True, tol=0.001,\n",
              "                           verbose=False),\n",
              "             iid='deprecated', n_jobs=None, param_grid={},\n",
              "             pre_dispatch='2*n_jobs', refit=True, return_train_score=True,\n",
              "             scoring=None, verbose=0)"
            ]
          },
          "metadata": {
            "tags": []
          },
          "execution_count": 59
        }
      ]
    },
    {
      "cell_type": "code",
      "metadata": {
        "id": "wrG9rF-zz1_v",
        "colab_type": "code",
        "colab": {}
      },
      "source": [
        "svrgridsearch.cv_results_\n",
        "svrgridsearch.score(X_pca, new_df.IsAlert)\n",
        "svr_predict = svrgridsearch.predict(X_pca)"
      ],
      "execution_count": 0,
      "outputs": []
    },
    {
      "cell_type": "code",
      "metadata": {
        "id": "olXsmwZX47lk",
        "colab_type": "code",
        "outputId": "c5a8376c-13a1-4f1c-9108-756dad7d1cac",
        "colab": {
          "base_uri": "https://localhost:8080/",
          "height": 50
        }
      },
      "source": [
        "svr_predict\n"
      ],
      "execution_count": 0,
      "outputs": [
        {
          "output_type": "execute_result",
          "data": {
            "text/plain": [
              "array([0.76921565, 0.7748565 , 0.78159718, ..., 0.7642754 , 0.77192306,\n",
              "       0.7838266 ])"
            ]
          },
          "metadata": {
            "tags": []
          },
          "execution_count": 63
        }
      ]
    },
    {
      "cell_type": "code",
      "metadata": {
        "id": "WXjSIG9Z6C2r",
        "colab_type": "code",
        "outputId": "1b066ca8-e7ab-4910-9330-a845492ee200",
        "colab": {
          "base_uri": "https://localhost:8080/",
          "height": 34
        }
      },
      "source": [
        "roc_auc_score(new_df.IsAlert, svr_predict)"
      ],
      "execution_count": 0,
      "outputs": [
        {
          "output_type": "execute_result",
          "data": {
            "text/plain": [
              "0.7192060139804022"
            ]
          },
          "metadata": {
            "tags": []
          },
          "execution_count": 64
        }
      ]
    },
    {
      "cell_type": "markdown",
      "metadata": {
        "id": "amv0tcuK6HkR",
        "colab_type": "text"
      },
      "source": [
        "# C - Support Vector Regression"
      ]
    },
    {
      "cell_type": "code",
      "metadata": {
        "id": "Uc4MckUR6JB6",
        "colab_type": "code",
        "colab": {}
      },
      "source": [
        "from sklearn.svm import SVC "
      ],
      "execution_count": 0,
      "outputs": []
    },
    {
      "cell_type": "code",
      "metadata": {
        "id": "6G30XBSq6M0D",
        "colab_type": "code",
        "outputId": "efdf6a77-8218-4aa0-ba51-bb1cc8418e54",
        "colab": {
          "base_uri": "https://localhost:8080/",
          "height": 202
        }
      },
      "source": [
        "svc = SVC(gamma='auto')\n",
        "svcgridsearch = GridSearchCV(svc, cv = skf, param_grid = params, return_train_score = True)\n",
        "svcgridsearch.fit(x_train, y_train) "
      ],
      "execution_count": 0,
      "outputs": [
        {
          "output_type": "execute_result",
          "data": {
            "text/plain": [
              "GridSearchCV(cv=StratifiedKFold(n_splits=10, random_state=None, shuffle=False),\n",
              "             error_score=nan,\n",
              "             estimator=SVC(C=1.0, break_ties=False, cache_size=200,\n",
              "                           class_weight=None, coef0=0.0,\n",
              "                           decision_function_shape='ovr', degree=3,\n",
              "                           gamma='auto', kernel='rbf', max_iter=-1,\n",
              "                           probability=False, random_state=None, shrinking=True,\n",
              "                           tol=0.001, verbose=False),\n",
              "             iid='deprecated', n_jobs=None, param_grid={},\n",
              "             pre_dispatch='2*n_jobs', refit=True, return_train_score=True,\n",
              "             scoring=None, verbose=0)"
            ]
          },
          "metadata": {
            "tags": []
          },
          "execution_count": 66
        }
      ]
    },
    {
      "cell_type": "code",
      "metadata": {
        "id": "GwWcAbAaBtm6",
        "colab_type": "code",
        "colab": {}
      },
      "source": [
        "svcgridsearch.cv_results_\n",
        "svcgridsearch.score(X_pca, new_df.IsAlert)\n",
        "svc_predict = svcgridsearch.predict(X_pca)"
      ],
      "execution_count": 0,
      "outputs": []
    },
    {
      "cell_type": "code",
      "metadata": {
        "id": "1NC8Sq_kGizC",
        "colab_type": "code",
        "outputId": "f65c003c-b552-40ff-d804-9286d8593236",
        "colab": {
          "base_uri": "https://localhost:8080/",
          "height": 50
        }
      },
      "source": [
        "confusion_matrix(new_df.IsAlert, svc_predict)"
      ],
      "execution_count": 0,
      "outputs": [
        {
          "output_type": "execute_result",
          "data": {
            "text/plain": [
              "array([[ 4358, 11744],\n",
              "       [  398, 20921]])"
            ]
          },
          "metadata": {
            "tags": []
          },
          "execution_count": 68
        }
      ]
    },
    {
      "cell_type": "code",
      "metadata": {
        "id": "Aj6fAQk5Gnlb",
        "colab_type": "code",
        "outputId": "28cc565d-aa39-4b26-d216-4d222f915d53",
        "colab": {
          "base_uri": "https://localhost:8080/",
          "height": 34
        }
      },
      "source": [
        "roc_auc_score(new_df.IsAlert, svc_predict)"
      ],
      "execution_count": 0,
      "outputs": [
        {
          "output_type": "execute_result",
          "data": {
            "text/plain": [
              "0.6259904078244471"
            ]
          },
          "metadata": {
            "tags": []
          },
          "execution_count": 69
        }
      ]
    },
    {
      "cell_type": "markdown",
      "metadata": {
        "id": "Lg62j9WzGuiL",
        "colab_type": "text"
      },
      "source": [
        "# Neural Network"
      ]
    },
    {
      "cell_type": "code",
      "metadata": {
        "id": "2NMV748MGrp_",
        "colab_type": "code",
        "colab": {}
      },
      "source": [
        "from sklearn.neural_network import MLPClassifier"
      ],
      "execution_count": 0,
      "outputs": []
    },
    {
      "cell_type": "code",
      "metadata": {
        "id": "pPwhlHQ_G0xs",
        "colab_type": "code",
        "outputId": "a84f6669-4f1e-4d42-e6f8-3ec82be56c71",
        "colab": {
          "base_uri": "https://localhost:8080/",
          "height": 1000
        }
      },
      "source": [
        "nn1 = MLPClassifier(solver='lbfgs', alpha=1e-5,hidden_layer_sizes=(5, 2), random_state=1)\n",
        "nngridsearch = GridSearchCV(nn1, cv = skf, param_grid = params, return_train_score = True)\n",
        "nngridsearch.fit(x_train, y_train) \n"
      ],
      "execution_count": 0,
      "outputs": [
        {
          "output_type": "stream",
          "text": [
            "/usr/local/lib/python3.6/dist-packages/sklearn/neural_network/_multilayer_perceptron.py:470: ConvergenceWarning: lbfgs failed to converge (status=1):\n",
            "STOP: TOTAL NO. of ITERATIONS REACHED LIMIT.\n",
            "\n",
            "Increase the number of iterations (max_iter) or scale the data as shown in:\n",
            "    https://scikit-learn.org/stable/modules/preprocessing.html\n",
            "  self.n_iter_ = _check_optimize_result(\"lbfgs\", opt_res, self.max_iter)\n",
            "/usr/local/lib/python3.6/dist-packages/sklearn/neural_network/_multilayer_perceptron.py:470: ConvergenceWarning: lbfgs failed to converge (status=1):\n",
            "STOP: TOTAL NO. of ITERATIONS REACHED LIMIT.\n",
            "\n",
            "Increase the number of iterations (max_iter) or scale the data as shown in:\n",
            "    https://scikit-learn.org/stable/modules/preprocessing.html\n",
            "  self.n_iter_ = _check_optimize_result(\"lbfgs\", opt_res, self.max_iter)\n",
            "/usr/local/lib/python3.6/dist-packages/sklearn/neural_network/_multilayer_perceptron.py:470: ConvergenceWarning: lbfgs failed to converge (status=1):\n",
            "STOP: TOTAL NO. of ITERATIONS REACHED LIMIT.\n",
            "\n",
            "Increase the number of iterations (max_iter) or scale the data as shown in:\n",
            "    https://scikit-learn.org/stable/modules/preprocessing.html\n",
            "  self.n_iter_ = _check_optimize_result(\"lbfgs\", opt_res, self.max_iter)\n",
            "/usr/local/lib/python3.6/dist-packages/sklearn/neural_network/_multilayer_perceptron.py:470: ConvergenceWarning: lbfgs failed to converge (status=1):\n",
            "STOP: TOTAL NO. of ITERATIONS REACHED LIMIT.\n",
            "\n",
            "Increase the number of iterations (max_iter) or scale the data as shown in:\n",
            "    https://scikit-learn.org/stable/modules/preprocessing.html\n",
            "  self.n_iter_ = _check_optimize_result(\"lbfgs\", opt_res, self.max_iter)\n",
            "/usr/local/lib/python3.6/dist-packages/sklearn/neural_network/_multilayer_perceptron.py:470: ConvergenceWarning: lbfgs failed to converge (status=1):\n",
            "STOP: TOTAL NO. of ITERATIONS REACHED LIMIT.\n",
            "\n",
            "Increase the number of iterations (max_iter) or scale the data as shown in:\n",
            "    https://scikit-learn.org/stable/modules/preprocessing.html\n",
            "  self.n_iter_ = _check_optimize_result(\"lbfgs\", opt_res, self.max_iter)\n",
            "/usr/local/lib/python3.6/dist-packages/sklearn/neural_network/_multilayer_perceptron.py:470: ConvergenceWarning: lbfgs failed to converge (status=1):\n",
            "STOP: TOTAL NO. of ITERATIONS REACHED LIMIT.\n",
            "\n",
            "Increase the number of iterations (max_iter) or scale the data as shown in:\n",
            "    https://scikit-learn.org/stable/modules/preprocessing.html\n",
            "  self.n_iter_ = _check_optimize_result(\"lbfgs\", opt_res, self.max_iter)\n",
            "/usr/local/lib/python3.6/dist-packages/sklearn/neural_network/_multilayer_perceptron.py:470: ConvergenceWarning: lbfgs failed to converge (status=1):\n",
            "STOP: TOTAL NO. of ITERATIONS REACHED LIMIT.\n",
            "\n",
            "Increase the number of iterations (max_iter) or scale the data as shown in:\n",
            "    https://scikit-learn.org/stable/modules/preprocessing.html\n",
            "  self.n_iter_ = _check_optimize_result(\"lbfgs\", opt_res, self.max_iter)\n",
            "/usr/local/lib/python3.6/dist-packages/sklearn/neural_network/_multilayer_perceptron.py:470: ConvergenceWarning: lbfgs failed to converge (status=1):\n",
            "STOP: TOTAL NO. of ITERATIONS REACHED LIMIT.\n",
            "\n",
            "Increase the number of iterations (max_iter) or scale the data as shown in:\n",
            "    https://scikit-learn.org/stable/modules/preprocessing.html\n",
            "  self.n_iter_ = _check_optimize_result(\"lbfgs\", opt_res, self.max_iter)\n",
            "/usr/local/lib/python3.6/dist-packages/sklearn/neural_network/_multilayer_perceptron.py:470: ConvergenceWarning: lbfgs failed to converge (status=1):\n",
            "STOP: TOTAL NO. of ITERATIONS REACHED LIMIT.\n",
            "\n",
            "Increase the number of iterations (max_iter) or scale the data as shown in:\n",
            "    https://scikit-learn.org/stable/modules/preprocessing.html\n",
            "  self.n_iter_ = _check_optimize_result(\"lbfgs\", opt_res, self.max_iter)\n",
            "/usr/local/lib/python3.6/dist-packages/sklearn/neural_network/_multilayer_perceptron.py:470: ConvergenceWarning: lbfgs failed to converge (status=1):\n",
            "STOP: TOTAL NO. of ITERATIONS REACHED LIMIT.\n",
            "\n",
            "Increase the number of iterations (max_iter) or scale the data as shown in:\n",
            "    https://scikit-learn.org/stable/modules/preprocessing.html\n",
            "  self.n_iter_ = _check_optimize_result(\"lbfgs\", opt_res, self.max_iter)\n",
            "/usr/local/lib/python3.6/dist-packages/sklearn/neural_network/_multilayer_perceptron.py:470: ConvergenceWarning: lbfgs failed to converge (status=1):\n",
            "STOP: TOTAL NO. of ITERATIONS REACHED LIMIT.\n",
            "\n",
            "Increase the number of iterations (max_iter) or scale the data as shown in:\n",
            "    https://scikit-learn.org/stable/modules/preprocessing.html\n",
            "  self.n_iter_ = _check_optimize_result(\"lbfgs\", opt_res, self.max_iter)\n"
          ],
          "name": "stderr"
        },
        {
          "output_type": "execute_result",
          "data": {
            "text/plain": [
              "GridSearchCV(cv=StratifiedKFold(n_splits=10, random_state=None, shuffle=False),\n",
              "             error_score=nan,\n",
              "             estimator=MLPClassifier(activation='relu', alpha=1e-05,\n",
              "                                     batch_size='auto', beta_1=0.9,\n",
              "                                     beta_2=0.999, early_stopping=False,\n",
              "                                     epsilon=1e-08, hidden_layer_sizes=(5, 2),\n",
              "                                     learning_rate='constant',\n",
              "                                     learning_rate_init=0.001, max_fun=15000,\n",
              "                                     max_iter=200, momentum=0.9,\n",
              "                                     n_iter_no_change=10,\n",
              "                                     nesterovs_momentum=True, power_t=0.5,\n",
              "                                     random_state=1, shuffle=True,\n",
              "                                     solver='lbfgs', tol=0.0001,\n",
              "                                     validation_fraction=0.1, verbose=False,\n",
              "                                     warm_start=False),\n",
              "             iid='deprecated', n_jobs=None, param_grid={},\n",
              "             pre_dispatch='2*n_jobs', refit=True, return_train_score=True,\n",
              "             scoring=None, verbose=0)"
            ]
          },
          "metadata": {
            "tags": []
          },
          "execution_count": 71
        }
      ]
    },
    {
      "cell_type": "code",
      "metadata": {
        "id": "EqbmOFVvHEkq",
        "colab_type": "code",
        "colab": {}
      },
      "source": [
        "nngridsearch.cv_results_\n",
        "nngridsearch.score(X_pca, new_df.IsAlert)\n",
        "nn_predict = nngridsearch.predict(X_pca)\n"
      ],
      "execution_count": 0,
      "outputs": []
    },
    {
      "cell_type": "code",
      "metadata": {
        "id": "F1LR0cUxHJpD",
        "colab_type": "code",
        "outputId": "49336c9f-2e76-49f8-a2ca-00c198b005cb",
        "colab": {
          "base_uri": "https://localhost:8080/",
          "height": 50
        }
      },
      "source": [
        "confusion_matrix(new_df.IsAlert, nn_predict)"
      ],
      "execution_count": 0,
      "outputs": [
        {
          "output_type": "execute_result",
          "data": {
            "text/plain": [
              "array([[ 4205, 11897],\n",
              "       [ 1205, 20114]])"
            ]
          },
          "metadata": {
            "tags": []
          },
          "execution_count": 73
        }
      ]
    },
    {
      "cell_type": "code",
      "metadata": {
        "id": "Mm5szRSuHOAd",
        "colab_type": "code",
        "outputId": "0a0b2fec-5ab6-465c-affb-d71e68d49c99",
        "colab": {
          "base_uri": "https://localhost:8080/",
          "height": 34
        }
      },
      "source": [
        "roc_auc_score(new_df.IsAlert, nn_predict)"
      ],
      "execution_count": 0,
      "outputs": [
        {
          "output_type": "execute_result",
          "data": {
            "text/plain": [
              "0.6023126662815139"
            ]
          },
          "metadata": {
            "tags": []
          },
          "execution_count": 74
        }
      ]
    }
  ]
}